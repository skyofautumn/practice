{
 "cells": [
  {
   "cell_type": "markdown",
   "id": "30a07864",
   "metadata": {},
   "source": [
    "# 1장 폐암 수술 환자의 생존율 예측하기"
   ]
  },
  {
   "cell_type": "code",
   "execution_count": 12,
   "id": "dd6e2dc4",
   "metadata": {},
   "outputs": [],
   "source": [
    "#딥러닝을 구동하는데 필요한 케라스 함수 호출\n",
    "from tensorflow.keras.models import Sequential\n",
    "from tensorflow.keras.layers import Dense"
   ]
  },
  {
   "cell_type": "code",
   "execution_count": 13,
   "id": "46fcddd3",
   "metadata": {},
   "outputs": [],
   "source": [
    "#필요한 라이브러리 불러오기\n",
    "import numpy as np\n",
    "import tensorflow as tf"
   ]
  },
  {
   "cell_type": "code",
   "execution_count": 14,
   "id": "d0209be8",
   "metadata": {},
   "outputs": [],
   "source": [
    "#실행할때마다 같은 결과를 출력하기 위해 설정하는 부분(seed값 설정)\n",
    "np.random.seed(3)\n",
    "tf.random.set_seed(3)"
   ]
  },
  {
   "cell_type": "code",
   "execution_count": 15,
   "id": "e3f8f3b9",
   "metadata": {},
   "outputs": [],
   "source": [
    "#준비된 수술 환자 데이터 불러왹\n",
    "Data_set = np.loadtxt('../data/ThoraricSurgery.csv', delimiter=\",\")"
   ]
  },
  {
   "cell_type": "code",
   "execution_count": 16,
   "id": "fc6af3c9",
   "metadata": {},
   "outputs": [],
   "source": [
    "#환자의 기록과 수술 결과를 X와 Y로 구분하여 저장\n",
    "X = Data_set[:,0:17] #속성데이터셋 생성(attribute)\n",
    "Y = Data_set[:,17] #class 데이터셋 Y는 18번째 항목(사망인지 생존인지)"
   ]
  },
  {
   "cell_type": "markdown",
   "id": "82f97cb4",
   "metadata": {},
   "source": [
    "1)인공신경망 모델을 만듦<br>\n",
    "model = Sequential()<br>\n",
    "2)멤버 함수 add()를 이용해 인공지능 계층 추가<br>\n",
    "**model.add(Dense(30,input_dim=17,activation='relu'))**<br>\n",
    "3)만든 모델을 어떻게 학습할지 파라밑로 지정하고 컴파일 합니다.<br>\n",
    "4)모델을 주어진 데이터로 학습<br>\n",
    "model.fit"
   ]
  },
  {
   "cell_type": "code",
   "execution_count": 17,
   "id": "640e4882",
   "metadata": {},
   "outputs": [],
   "source": [
    "#딥러닝 구조를 결정(모델을 설정하고 실행)\n",
    "model = Sequential()\n",
    "model.add(Dense(30, input_dim=17, activation='relu')) \n",
    "#Dense밀도:출력뉴런수 30개, input_dim(속성값)입력노드가 17개, relu함수\n",
    "model.add(Dense(1, activation='sigmoid')) #sigmoid함수, 마지막 1개로 출력\n",
    "#왜1일까? 사망인지 생존인지 정답은 하나이기 때문이다."
   ]
  },
  {
   "cell_type": "markdown",
   "id": "a93c7132",
   "metadata": {},
   "source": [
    "* 두개의 층을 쌓아 올림"
   ]
  },
  {
   "cell_type": "markdown",
   "id": "98ad5202",
   "metadata": {},
   "source": [
    "#### 활성함수\n",
    "* relu:은닉 층으로 학습\n",
    "    * 'relu' 는 은닉층으로 역전파를 통해 좋은 성능이 나오기 때문에 마지막 층이 아니고서야 거의 relu 를 이용한다.\n",
    "* sigmond:yes or no 와 같은 이진 분류 문제\n",
    "* softmax:확률 값을 이용해 다양한 클래스를 분류하기 위한 문데"
   ]
  },
  {
   "cell_type": "code",
   "execution_count": 18,
   "id": "3cb4319c",
   "metadata": {},
   "outputs": [
    {
     "name": "stdout",
     "output_type": "stream",
     "text": [
      "Epoch 1/100\n",
      "47/47 [==============================] - 0s 548us/step - loss: 0.1485 - accuracy: 0.8426\n",
      "Epoch 2/100\n",
      "47/47 [==============================] - 0s 565us/step - loss: 0.1402 - accuracy: 0.8511\n",
      "Epoch 3/100\n",
      "47/47 [==============================] - 0s 565us/step - loss: 0.1433 - accuracy: 0.8489\n",
      "Epoch 4/100\n",
      "47/47 [==============================] - 0s 562us/step - loss: 0.1395 - accuracy: 0.8511\n",
      "Epoch 5/100\n",
      "47/47 [==============================] - 0s 543us/step - loss: 0.1386 - accuracy: 0.8468\n",
      "Epoch 6/100\n",
      "47/47 [==============================] - 0s 565us/step - loss: 0.1407 - accuracy: 0.8511\n",
      "Epoch 7/100\n",
      "47/47 [==============================] - 0s 587us/step - loss: 0.1336 - accuracy: 0.8489\n",
      "Epoch 8/100\n",
      "47/47 [==============================] - 0s 567us/step - loss: 0.1384 - accuracy: 0.8511\n",
      "Epoch 9/100\n",
      "47/47 [==============================] - 0s 565us/step - loss: 0.1376 - accuracy: 0.8383\n",
      "Epoch 10/100\n",
      "47/47 [==============================] - 0s 543us/step - loss: 0.1438 - accuracy: 0.8447\n",
      "Epoch 11/100\n",
      "47/47 [==============================] - 0s 564us/step - loss: 0.1409 - accuracy: 0.8511\n",
      "Epoch 12/100\n",
      "47/47 [==============================] - 0s 522us/step - loss: 0.1369 - accuracy: 0.8489\n",
      "Epoch 13/100\n",
      "47/47 [==============================] - 0s 565us/step - loss: 0.1359 - accuracy: 0.8511\n",
      "Epoch 14/100\n",
      "47/47 [==============================] - 0s 543us/step - loss: 0.1371 - accuracy: 0.8489\n",
      "Epoch 15/100\n",
      "47/47 [==============================] - 0s 541us/step - loss: 0.1282 - accuracy: 0.8468\n",
      "Epoch 16/100\n",
      "47/47 [==============================] - 0s 565us/step - loss: 0.1339 - accuracy: 0.8468\n",
      "Epoch 17/100\n",
      "47/47 [==============================] - 0s 565us/step - loss: 0.1451 - accuracy: 0.8511\n",
      "Epoch 18/100\n",
      "47/47 [==============================] - 0s 566us/step - loss: 0.1421 - accuracy: 0.8489\n",
      "Epoch 19/100\n",
      "47/47 [==============================] - 0s 543us/step - loss: 0.1372 - accuracy: 0.8511\n",
      "Epoch 20/100\n",
      "47/47 [==============================] - 0s 609us/step - loss: 0.1298 - accuracy: 0.8489\n",
      "Epoch 21/100\n",
      "47/47 [==============================] - 0s 613us/step - loss: 0.1346 - accuracy: 0.8511\n",
      "Epoch 22/100\n",
      "47/47 [==============================] - 0s 545us/step - loss: 0.1430 - accuracy: 0.8511\n",
      "Epoch 23/100\n",
      "47/47 [==============================] - 0s 565us/step - loss: 0.1389 - accuracy: 0.8511\n",
      "Epoch 24/100\n",
      "47/47 [==============================] - 0s 587us/step - loss: 0.1289 - accuracy: 0.8511\n",
      "Epoch 25/100\n",
      "47/47 [==============================] - 0s 587us/step - loss: 0.1290 - accuracy: 0.8532\n",
      "Epoch 26/100\n",
      "47/47 [==============================] - 0s 1ms/step - loss: 0.1338 - accuracy: 0.8468\n",
      "Epoch 27/100\n",
      "47/47 [==============================] - 0s 565us/step - loss: 0.1352 - accuracy: 0.8489\n",
      "Epoch 28/100\n",
      "47/47 [==============================] - 0s 587us/step - loss: 0.1385 - accuracy: 0.8511\n",
      "Epoch 29/100\n",
      "47/47 [==============================] - 0s 522us/step - loss: 0.1357 - accuracy: 0.8532\n",
      "Epoch 30/100\n",
      "47/47 [==============================] - 0s 543us/step - loss: 0.1418 - accuracy: 0.8511\n",
      "Epoch 31/100\n",
      "47/47 [==============================] - 0s 587us/step - loss: 0.1352 - accuracy: 0.8511\n",
      "Epoch 32/100\n",
      "47/47 [==============================] - 0s 544us/step - loss: 0.1290 - accuracy: 0.8489\n",
      "Epoch 33/100\n",
      "47/47 [==============================] - 0s 565us/step - loss: 0.1299 - accuracy: 0.8553\n",
      "Epoch 34/100\n",
      "47/47 [==============================] - 0s 565us/step - loss: 0.1282 - accuracy: 0.8511\n",
      "Epoch 35/100\n",
      "47/47 [==============================] - 0s 580us/step - loss: 0.1412 - accuracy: 0.8489\n",
      "Epoch 36/100\n",
      "47/47 [==============================] - 0s 543us/step - loss: 0.1399 - accuracy: 0.8489\n",
      "Epoch 37/100\n",
      "47/47 [==============================] - 0s 565us/step - loss: 0.1403 - accuracy: 0.8489\n",
      "Epoch 38/100\n",
      "47/47 [==============================] - 0s 543us/step - loss: 0.1350 - accuracy: 0.8511\n",
      "Epoch 39/100\n",
      "47/47 [==============================] - 0s 543us/step - loss: 0.1326 - accuracy: 0.8489\n",
      "Epoch 40/100\n",
      "47/47 [==============================] - 0s 522us/step - loss: 0.1329 - accuracy: 0.8532\n",
      "Epoch 41/100\n",
      "47/47 [==============================] - 0s 565us/step - loss: 0.1252 - accuracy: 0.8511\n",
      "Epoch 42/100\n",
      "47/47 [==============================] - 0s 565us/step - loss: 0.1425 - accuracy: 0.8532\n",
      "Epoch 43/100\n",
      "47/47 [==============================] - 0s 609us/step - loss: 0.1396 - accuracy: 0.8511\n",
      "Epoch 44/100\n",
      "47/47 [==============================] - 0s 565us/step - loss: 0.1388 - accuracy: 0.8511\n",
      "Epoch 45/100\n",
      "47/47 [==============================] - 0s 544us/step - loss: 0.1374 - accuracy: 0.8532\n",
      "Epoch 46/100\n",
      "47/47 [==============================] - 0s 544us/step - loss: 0.1379 - accuracy: 0.8553\n",
      "Epoch 47/100\n",
      "47/47 [==============================] - 0s 565us/step - loss: 0.1308 - accuracy: 0.8532\n",
      "Epoch 48/100\n",
      "47/47 [==============================] - 0s 543us/step - loss: 0.1289 - accuracy: 0.8468\n",
      "Epoch 49/100\n",
      "47/47 [==============================] - 0s 543us/step - loss: 0.1330 - accuracy: 0.8511\n",
      "Epoch 50/100\n",
      "47/47 [==============================] - 0s 543us/step - loss: 0.1319 - accuracy: 0.8532\n",
      "Epoch 51/100\n",
      "47/47 [==============================] - 0s 543us/step - loss: 0.1300 - accuracy: 0.8553\n",
      "Epoch 52/100\n",
      "47/47 [==============================] - 0s 544us/step - loss: 0.1276 - accuracy: 0.8553\n",
      "Epoch 53/100\n",
      "47/47 [==============================] - 0s 544us/step - loss: 0.1252 - accuracy: 0.8553\n",
      "Epoch 54/100\n",
      "47/47 [==============================] - 0s 543us/step - loss: 0.1313 - accuracy: 0.8511\n",
      "Epoch 55/100\n",
      "47/47 [==============================] - 0s 543us/step - loss: 0.1257 - accuracy: 0.8532\n",
      "Epoch 56/100\n",
      "47/47 [==============================] - 0s 543us/step - loss: 0.1238 - accuracy: 0.8532\n",
      "Epoch 57/100\n",
      "47/47 [==============================] - 0s 543us/step - loss: 0.1258 - accuracy: 0.8489\n",
      "Epoch 58/100\n",
      "47/47 [==============================] - 0s 522us/step - loss: 0.1404 - accuracy: 0.8447\n",
      "Epoch 59/100\n",
      "47/47 [==============================] - 0s 522us/step - loss: 0.1397 - accuracy: 0.8511\n",
      "Epoch 60/100\n",
      "47/47 [==============================] - 0s 544us/step - loss: 0.1347 - accuracy: 0.8532\n",
      "Epoch 61/100\n",
      "47/47 [==============================] - 0s 543us/step - loss: 0.1351 - accuracy: 0.8574\n",
      "Epoch 62/100\n",
      "47/47 [==============================] - 0s 543us/step - loss: 0.1286 - accuracy: 0.8553\n",
      "Epoch 63/100\n",
      "47/47 [==============================] - 0s 543us/step - loss: 0.1304 - accuracy: 0.8511\n",
      "Epoch 64/100\n",
      "47/47 [==============================] - 0s 696us/step - loss: 0.1228 - accuracy: 0.8532\n",
      "Epoch 65/100\n",
      "47/47 [==============================] - 0s 543us/step - loss: 0.1224 - accuracy: 0.8574\n",
      "Epoch 66/100\n",
      "47/47 [==============================] - 0s 587us/step - loss: 0.1264 - accuracy: 0.8511\n",
      "Epoch 67/100\n",
      "47/47 [==============================] - 0s 522us/step - loss: 0.1205 - accuracy: 0.8532\n",
      "Epoch 68/100\n",
      "47/47 [==============================] - 0s 543us/step - loss: 0.1215 - accuracy: 0.8532\n",
      "Epoch 69/100\n",
      "47/47 [==============================] - 0s 543us/step - loss: 0.1316 - accuracy: 0.8447\n",
      "Epoch 70/100\n",
      "47/47 [==============================] - 0s 543us/step - loss: 0.1339 - accuracy: 0.8553\n",
      "Epoch 71/100\n",
      "47/47 [==============================] - 0s 565us/step - loss: 0.1264 - accuracy: 0.8532\n",
      "Epoch 72/100\n",
      "47/47 [==============================] - 0s 609us/step - loss: 0.1253 - accuracy: 0.8468\n",
      "Epoch 73/100\n",
      "47/47 [==============================] - 0s 522us/step - loss: 0.1354 - accuracy: 0.8532\n",
      "Epoch 74/100\n",
      "47/47 [==============================] - 0s 565us/step - loss: 0.1320 - accuracy: 0.8617\n",
      "Epoch 75/100\n",
      "47/47 [==============================] - 0s 543us/step - loss: 0.1289 - accuracy: 0.8553\n",
      "Epoch 76/100\n",
      "47/47 [==============================] - 0s 543us/step - loss: 0.1376 - accuracy: 0.8532\n",
      "Epoch 77/100\n",
      "47/47 [==============================] - 0s 543us/step - loss: 0.1297 - accuracy: 0.8553\n",
      "Epoch 78/100\n",
      "47/47 [==============================] - 0s 543us/step - loss: 0.1231 - accuracy: 0.8574\n",
      "Epoch 79/100\n",
      "47/47 [==============================] - 0s 522us/step - loss: 0.1198 - accuracy: 0.8574\n",
      "Epoch 80/100\n",
      "47/47 [==============================] - 0s 674us/step - loss: 0.1254 - accuracy: 0.8489\n",
      "Epoch 81/100\n"
     ]
    },
    {
     "name": "stdout",
     "output_type": "stream",
     "text": [
      "47/47 [==============================] - 0s 565us/step - loss: 0.1289 - accuracy: 0.8574\n",
      "Epoch 82/100\n",
      "47/47 [==============================] - 0s 652us/step - loss: 0.1235 - accuracy: 0.8574\n",
      "Epoch 83/100\n",
      "47/47 [==============================] - 0s 631us/step - loss: 0.1256 - accuracy: 0.8617\n",
      "Epoch 84/100\n",
      "47/47 [==============================] - 0s 522us/step - loss: 0.1340 - accuracy: 0.8362\n",
      "Epoch 85/100\n",
      "47/47 [==============================] - 0s 652us/step - loss: 0.1374 - accuracy: 0.8511\n",
      "Epoch 86/100\n",
      "47/47 [==============================] - 0s 566us/step - loss: 0.1351 - accuracy: 0.8511\n",
      "Epoch 87/100\n",
      "47/47 [==============================] - 0s 543us/step - loss: 0.1231 - accuracy: 0.8660\n",
      "Epoch 88/100\n",
      "47/47 [==============================] - 0s 543us/step - loss: 0.1256 - accuracy: 0.8553\n",
      "Epoch 89/100\n",
      "47/47 [==============================] - 0s 544us/step - loss: 0.1332 - accuracy: 0.8553\n",
      "Epoch 90/100\n",
      "47/47 [==============================] - 0s 522us/step - loss: 0.1262 - accuracy: 0.8660\n",
      "Epoch 91/100\n",
      "47/47 [==============================] - 0s 543us/step - loss: 0.1214 - accuracy: 0.8638\n",
      "Epoch 92/100\n",
      "47/47 [==============================] - 0s 522us/step - loss: 0.1263 - accuracy: 0.8553\n",
      "Epoch 93/100\n",
      "47/47 [==============================] - 0s 522us/step - loss: 0.1202 - accuracy: 0.8596\n",
      "Epoch 94/100\n",
      "47/47 [==============================] - 0s 544us/step - loss: 0.1233 - accuracy: 0.8574\n",
      "Epoch 95/100\n",
      "47/47 [==============================] - 0s 543us/step - loss: 0.1237 - accuracy: 0.8617\n",
      "Epoch 96/100\n",
      "47/47 [==============================] - 0s 559us/step - loss: 0.1298 - accuracy: 0.8532\n",
      "Epoch 97/100\n",
      "47/47 [==============================] - 0s 543us/step - loss: 0.1237 - accuracy: 0.8574\n",
      "Epoch 98/100\n",
      "47/47 [==============================] - 0s 543us/step - loss: 0.1314 - accuracy: 0.8468\n",
      "Epoch 99/100\n",
      "47/47 [==============================] - 0s 522us/step - loss: 0.1326 - accuracy: 0.8596\n",
      "Epoch 100/100\n",
      "47/47 [==============================] - 0s 522us/step - loss: 0.1187 - accuracy: 0.8681\n"
     ]
    },
    {
     "data": {
      "text/plain": [
       "<keras.callbacks.History at 0x1c9fbfcb430>"
      ]
     },
     "execution_count": 18,
     "metadata": {},
     "output_type": "execute_result"
    }
   ],
   "source": [
    "#딥러닝 실행\n",
    "model.compile(loss='mean_squared_error', optimizer='adam', #optimizer:최적화\n",
    "             metrics=['accuracy']) #매트릭스는 accuracy정확도를 쓰겠다.\n",
    "model.fit(X, Y, epochs=100, batch_size=10) #100번중에 첫번째 돌고, 두번째 돌고..\n",
    "#batch_size=10:10개씩 나눠서 해주세요"
   ]
  },
  {
   "cell_type": "markdown",
   "id": "0858c996",
   "metadata": {},
   "source": [
    "* epoch : 학습반복 회수<br>\n",
    "* batch_size : 몇개의 샘플로 갱신할 것인지"
   ]
  },
  {
   "cell_type": "code",
   "execution_count": null,
   "id": "c1ed2bcc",
   "metadata": {},
   "outputs": [],
   "source": []
  }
 ],
 "metadata": {
  "kernelspec": {
   "display_name": "Python 3 (ipykernel)",
   "language": "python",
   "name": "python3"
  },
  "language_info": {
   "codemirror_mode": {
    "name": "ipython",
    "version": 3
   },
   "file_extension": ".py",
   "mimetype": "text/x-python",
   "name": "python",
   "nbconvert_exporter": "python",
   "pygments_lexer": "ipython3",
   "version": "3.9.7"
  }
 },
 "nbformat": 4,
 "nbformat_minor": 5
}
