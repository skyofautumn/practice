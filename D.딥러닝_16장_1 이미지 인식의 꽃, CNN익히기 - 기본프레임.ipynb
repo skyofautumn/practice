{
 "cells": [
  {
   "cell_type": "markdown",
   "id": "2441d798",
   "metadata": {},
   "source": [
    "# 16장. 이미지 인식의 꽃, CNN 익히기"
   ]
  },
  {
   "cell_type": "code",
   "execution_count": 15,
   "id": "417948f5",
   "metadata": {},
   "outputs": [],
   "source": [
    "from tensorflow.keras.datasets import mnist\n",
    "from tensorflow.keras.utils import to_categorical\n",
    "from tensorflow.keras.models import Sequential\n",
    "from tensorflow.keras.layers import Dense\n",
    "from tensorflow.keras.callbacks import ModelCheckpoint,EarlyStopping\n",
    "import matplotlib.pyplot as plt\n",
    "import numpy as np\n",
    "import pandas as pd\n",
    "import sys\n",
    "import os\n",
    "import tensorflow as tf\n",
    "\n",
    "seed=0\n",
    "np.random.seed(seed)\n",
    "tf.random.set_seed(3)\n",
    "\n",
    "#MNIST데이터셋 불러오기\n",
    "(X_train, Y_train), (X_test, Y_test) = mnist.load_data()\n",
    "\n",
    "#정규화\n",
    "X_train = X_train.reshape(X_train.shape[0], 784).astype('float32')/255\n",
    "X_test = X_test.reshape(X_test.shape[0], 784).astype('float32')/255\n",
    "\n",
    "Y_train = to_categorical(Y_train,10) #10(0~9까지있으니 클래스의 갯수10)\n",
    "Y_test = to_categorical(Y_test, 10)"
   ]
  },
  {
   "cell_type": "code",
   "execution_count": 16,
   "id": "28255ba6",
   "metadata": {},
   "outputs": [
    {
     "name": "stdout",
     "output_type": "stream",
     "text": [
      "Model: \"sequential_3\"\n",
      "_________________________________________________________________\n",
      " Layer (type)                Output Shape              Param #   \n",
      "=================================================================\n",
      " dense_6 (Dense)             (None, 512)               401920    \n",
      "                                                                 \n",
      " dense_7 (Dense)             (None, 10)                5130      \n",
      "                                                                 \n",
      "=================================================================\n",
      "Total params: 407,050\n",
      "Trainable params: 407,050\n",
      "Non-trainable params: 0\n",
      "_________________________________________________________________\n"
     ]
    }
   ],
   "source": [
    "#모델 프레임 설정\n",
    "model = Sequential()\n",
    "model.add(Dense(512, input_dim=784, activation='relu'))\n",
    "model.add(Dense(10, activation='softmax'))\n",
    "\n",
    "model.summary()\n",
    "#모델 실행 환경 설정\n",
    "model.compile(loss='categorical_crossentropy',  #범주형 교차 엔트로피(10개중 하나여서)\n",
    "             optimizer='adam',\n",
    "             metrics=['accuracy'])\n",
    "#loss 두개일때는 바이너리씀. 3개이상일때 categorical_crossentropy"
   ]
  },
  {
   "cell_type": "code",
   "execution_count": 17,
   "id": "d5d2c21c",
   "metadata": {},
   "outputs": [],
   "source": [
    "#모델 저장 폴더 설정\n",
    "MODEL_DIR = './model/'\n",
    "if not os.path.exists(MODEL_DIR):\n",
    "    os.mkdir(MODEL_DIR)  #만일 MODEL_DIR가 없으면 현재 폴더에 만들어주세요\n",
    "    \n",
    "#모델 저장조건(베스트모델 저장, 성능좋을때만 기록해 달라.)\n",
    "modelpath=\"./model/{epoch:02d}-{val_loss:.4f}.hdf5\"\n",
    "checkpointer = ModelCheckpoint(filepath=modelpath, monitor='val_loss',\n",
    "                              verbose=1, save_best_only = True)\n",
    "#몇번 돌렸을때 val_loss가 얼마인지 다 저장됨.\n",
    "#epoch02d 는 2자리(40,50 등), 확장자는 hdf5\n",
    "\n",
    "\n",
    "early_stopping_callback = EarlyStopping(monitor='val_loss',patience=10)"
   ]
  },
  {
   "cell_type": "code",
   "execution_count": 18,
   "id": "24f030ee",
   "metadata": {},
   "outputs": [
    {
     "name": "stdout",
     "output_type": "stream",
     "text": [
      "\n",
      "Epoch 1: val_loss improved from inf to 0.14746, saving model to ./model\\01-0.1475.hdf5\n",
      "\n",
      "Epoch 2: val_loss improved from 0.14746 to 0.10219, saving model to ./model\\02-0.1022.hdf5\n",
      "\n",
      "Epoch 3: val_loss improved from 0.10219 to 0.08872, saving model to ./model\\03-0.0887.hdf5\n",
      "\n",
      "Epoch 4: val_loss improved from 0.08872 to 0.07861, saving model to ./model\\04-0.0786.hdf5\n",
      "\n",
      "Epoch 5: val_loss improved from 0.07861 to 0.07326, saving model to ./model\\05-0.0733.hdf5\n",
      "\n",
      "Epoch 6: val_loss improved from 0.07326 to 0.06730, saving model to ./model\\06-0.0673.hdf5\n",
      "\n",
      "Epoch 7: val_loss improved from 0.06730 to 0.06538, saving model to ./model\\07-0.0654.hdf5\n",
      "\n",
      "Epoch 8: val_loss improved from 0.06538 to 0.06217, saving model to ./model\\08-0.0622.hdf5\n",
      "\n",
      "Epoch 9: val_loss did not improve from 0.06217\n",
      "\n",
      "Epoch 10: val_loss did not improve from 0.06217\n",
      "\n",
      "Epoch 11: val_loss did not improve from 0.06217\n",
      "\n",
      "Epoch 12: val_loss did not improve from 0.06217\n",
      "\n",
      "Epoch 13: val_loss improved from 0.06217 to 0.06013, saving model to ./model\\13-0.0601.hdf5\n",
      "\n",
      "Epoch 14: val_loss did not improve from 0.06013\n",
      "\n",
      "Epoch 15: val_loss did not improve from 0.06013\n",
      "\n",
      "Epoch 16: val_loss did not improve from 0.06013\n",
      "\n",
      "Epoch 17: val_loss did not improve from 0.06013\n",
      "\n",
      "Epoch 18: val_loss did not improve from 0.06013\n",
      "\n",
      "Epoch 19: val_loss did not improve from 0.06013\n",
      "\n",
      "Epoch 20: val_loss did not improve from 0.06013\n",
      "\n",
      "Epoch 21: val_loss did not improve from 0.06013\n",
      "\n",
      "Epoch 22: val_loss did not improve from 0.06013\n",
      "\n",
      "Epoch 23: val_loss did not improve from 0.06013\n",
      "313/313 [==============================] - 1s 2ms/step - loss: 0.0670 - accuracy: 0.9839\n",
      "\n",
      " Test Accuracy: 0.9839\n"
     ]
    },
    {
     "data": {
      "image/png": "[encoded data removed]",
      "text/plain": [
       "<Figure size 432x288 with 1 Axes>"
      ]
     },
     "metadata": {
      "needs_background": "light"
     },
     "output_type": "display_data"
    }
   ],
   "source": [
    "#모델의 실행\n",
    "history = model.fit(X_train, Y_train, validation_data=(X_test, Y_test), epochs=30, \n",
    "                    batch_size=200, verbose=0, callbacks=[early_stopping_callback,checkpointer])\n",
    "\n",
    "print(\"\\n Test Accuracy: %.4f\" % (model.evaluate(X_test, Y_test)[1]))\n",
    "\n",
    "#테스트 셋의 오차\n",
    "y_vloss = history.history['val_loss']\n",
    "\n",
    "#학습셋의 오차\n",
    "y_loss = history.history['loss']\n",
    "\n",
    "#그래프로 표현\n",
    "x_len = np.arange(len(y_loss))\n",
    "plt.plot(x_len, y_vloss, marker='.', c='red', label='Testset_loss')\n",
    "plt.plot(x_len, y_loss, marker='.', c='blue', label='Trainset_loss')\n",
    "\n",
    "#그래프에 그리드를 주고 레이블 표시\n",
    "plt.legend(loc='upper right')\n",
    "plt.grid()\n",
    "plt.xlabel('epoch')\n",
    "plt.ylabel('loss')\n",
    "plt.show()"
   ]
  },
  {
   "cell_type": "markdown",
   "id": "a205f050",
   "metadata": {},
   "source": [
    "* 과적합 되기전 멈춤"
   ]
  },
  {
   "cell_type": "code",
   "execution_count": null,
   "id": "9fcee5cc",
   "metadata": {},
   "outputs": [],
   "source": []
  },
  {
   "cell_type": "code",
   "execution_count": null,
   "id": "48ff7961",
   "metadata": {},
   "outputs": [],
   "source": []
  },
  {
   "cell_type": "code",
   "execution_count": null,
   "id": "4924a6a4",
   "metadata": {},
   "outputs": [],
   "source": []
  },
  {
   "cell_type": "code",
   "execution_count": null,
   "id": "24a13111",
   "metadata": {},
   "outputs": [],
   "source": []
  },
  {
   "cell_type": "code",
   "execution_count": null,
   "id": "d05e8801",
   "metadata": {},
   "outputs": [],
   "source": []
  },
  {
   "cell_type": "code",
   "execution_count": null,
   "id": "aa042da7",
   "metadata": {},
   "outputs": [],
   "source": []
  },
  {
   "cell_type": "code",
   "execution_count": null,
   "id": "6be13ea0",
   "metadata": {},
   "outputs": [],
   "source": []
  },
  {
   "cell_type": "code",
   "execution_count": null,
   "id": "6b99a3b1",
   "metadata": {},
   "outputs": [],
   "source": []
  }
 ],
 "metadata": {
  "kernelspec": {
   "display_name": "Python 3 (ipykernel)",
   "language": "python",
   "name": "python3"
  },
  "language_info": {
   "codemirror_mode": {
    "name": "ipython",
    "version": 3
   },
   "file_extension": ".py",
   "mimetype": "text/x-python",
   "name": "python",
   "nbconvert_exporter": "python",
   "pygments_lexer": "ipython3",
   "version": "3.9.7"
  }
 },
 "nbformat": 4,
 "nbformat_minor": 5
}
