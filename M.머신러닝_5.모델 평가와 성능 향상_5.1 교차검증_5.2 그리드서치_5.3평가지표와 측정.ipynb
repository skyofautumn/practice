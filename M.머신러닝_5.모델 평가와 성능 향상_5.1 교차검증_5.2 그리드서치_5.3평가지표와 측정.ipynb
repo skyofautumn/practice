{
 "cells": [
  {
   "cell_type": "markdown",
   "id": "7e6f7001",
   "metadata": {},
   "source": [
    "# 5. 모델 평가와 성능향상"
   ]
  },
  {
   "cell_type": "markdown",
   "id": "57bd7bdd",
   "metadata": {},
   "source": [
    "* 교차검증,그리드탐색,평가지표<br>\n",
    "* 모델평가과정<br>\n",
    "훈련,테스트테스터분리 train_test_split -> 학습 fit -> 평가 score<br>"
   ]
  },
  {
   "cell_type": "code",
   "execution_count": 2,
   "id": "9520642a",
   "metadata": {},
   "outputs": [],
   "source": [
    "import matplotlib.pyplot as plt\n",
    "%matplotlib inline\n",
    "\n",
    "import warnings\n",
    "warnings.filterwarnings(action = 'ignore')\n",
    "\n",
    "from matplotlib import font_manager, rc # 한글처리 위해서\n",
    "plt.rcParams['axes.unicode_minus'] = False #마이너스(-)기호 깨지는거 방지\n",
    "\n",
    "f_path = \"c:/Windows/Fonts/malgun.ttf\" # 한글처리 위해서\n",
    "font_name = font_manager.FontProperties(fname=f_path).get_name()\n",
    "rc('font', family=font_name)"
   ]
  },
  {
   "cell_type": "code",
   "execution_count": 5,
   "id": "ab25e666",
   "metadata": {},
   "outputs": [
    {
     "name": "stdout",
     "output_type": "stream",
     "text": [
      "테스트 세트 점수 :0.88\n"
     ]
    }
   ],
   "source": [
    "from sklearn.datasets import make_blobs\n",
    "from sklearn.linear_model import LogisticRegression\n",
    "from sklearn.model_selection import train_test_split\n",
    "\n",
    "X,y = make_blobs(random_state=0)\n",
    "X_train, X_test, y_train, y_test = train_test_split(X, y, random_state=0)\n",
    "logreg = LogisticRegression().fit(X_train, y_train)\n",
    "\n",
    "print(\"테스트 세트 점수 :{:.2f}\". format(logreg.score(X_test, y_test)))"
   ]
  },
  {
   "cell_type": "markdown",
   "id": "8e73b40e",
   "metadata": {},
   "source": [
    "#### 데이터를 훈련 세트와 테스트 세트로 나누는 이유\n",
    "* 새로운 데이터에 모델이 얼마나 잘 일반화되는지 측정\n",
    "* 모델이 훈련 세트에 잘 맞는 것보다, 학습 과정에 없던 데이터에 대해 예측을 얼마나 잘 하느냐가 중요"
   ]
  },
  {
   "cell_type": "markdown",
   "id": "6692e3d9",
   "metadata": {},
   "source": [
    "### 5.1 교차 검증(Cross Validation) - 더 좋은 성능평가 위한 평가방법"
   ]
  },
  {
   "cell_type": "markdown",
   "id": "5b260a9c",
   "metadata": {},
   "source": [
    "* 평가방법 확장해보려 한다.\n",
    "* 교차검증 : 일반화 성능을 측정하기 위해 훈련세트 테스터 세트 나눈것보다 더 안정적이고 뛰어난 통계적 평가방법\n",
    "데이터 여러번 나누고 여러모델 학습\n",
    "* 종류 : k-겹 교차검증, 계층별 k-겹 교차검증(k는 보통 5나 10사용),임의 분할 교차검증, 그룹별 교차검증\n",
    "* Sklearn에서 cross_val_score함수 및 KFold,StratifiedKFold, GroupKFold 클래스등 제공"
   ]
  },
  {
   "cell_type": "code",
   "execution_count": 7,
   "id": "f4208a86",
   "metadata": {},
   "outputs": [
    {
     "data": {
      "image/png": "[encoded data removed]",
      "text/plain": [
       "<Figure size 864x144 with 1 Axes>"
      ]
     },
     "metadata": {
      "needs_background": "light"
     },
     "output_type": "display_data"
    }
   ],
   "source": [
    "import mglearn\n",
    "mglearn.plots.plot_cross_validation()"
   ]
  },
  {
   "cell_type": "code",
   "execution_count": 12,
   "id": "75b6784e",
   "metadata": {},
   "outputs": [
    {
     "name": "stdout",
     "output_type": "stream",
     "text": [
      "교차 검증 점수: [0.96666667 1.         0.93333333 0.96666667 1.        ]\n"
     ]
    }
   ],
   "source": [
    "# CV = 5인 교차 검증(기본) - CV를 안주면 기본값 5겹으로 됨.\n",
    "from sklearn.model_selection import cross_val_score\n",
    "from sklearn.datasets import load_iris\n",
    "from sklearn.linear_model import LogisticRegression\n",
    "\n",
    "iris = load_iris()\n",
    "logreg = LogisticRegression(max_iter=1000)\n",
    "\n",
    "#모델, 훈련 데이터, 타깃레이블\n",
    "scores = cross_val_score(logreg, iris.data, iris.target)\n",
    "print(\"교차 검증 점수:\", scores) #기본값이 5니깐 5개 나옴(정확도)"
   ]
  },
  {
   "cell_type": "code",
   "execution_count": 14,
   "id": "1fecdcec",
   "metadata": {},
   "outputs": [
    {
     "name": "stdout",
     "output_type": "stream",
     "text": [
      "교차 검증 점수: [1.         0.93333333 1.         1.         0.93333333 0.93333333\n",
      " 0.93333333 1.         1.         1.        ]\n"
     ]
    }
   ],
   "source": [
    "#cv = 5 인 교차검증 ==> 폴드 수는 cv 매개변수를 사용해서 변경 10겹\n",
    "scores = cross_val_score(logreg, iris.data, iris.target, cv=10)\n",
    "print(\"교차 검증 점수:\", scores) #cv=10 이니 10개 정확도 값 나옴."
   ]
  },
  {
   "cell_type": "code",
   "execution_count": 17,
   "id": "bfeabc6c",
   "metadata": {},
   "outputs": [
    {
     "name": "stdout",
     "output_type": "stream",
     "text": [
      "교차 검증 평균 점수:0.97\n"
     ]
    }
   ],
   "source": [
    "print(\"교차 검증 평균 점수:{:.2f}\".format(scores.mean())) "
   ]
  },
  {
   "cell_type": "markdown",
   "id": "a4466197",
   "metadata": {},
   "source": [
    "* 훈련세트 테스트세트 75% 25%나눌때보다 교차검증쓰니 성능 좋아짐.(88%->97%)"
   ]
  },
  {
   "cell_type": "markdown",
   "id": "46eca0bc",
   "metadata": {},
   "source": [
    "### 5.1.2 교차 검증의 장점"
   ]
  },
  {
   "cell_type": "markdown",
   "id": "336237ec",
   "metadata": {},
   "source": [
    "* 장점<br>\n",
    "테스트 세트에는 모델별로 각 샘플이 정확하게 한번씩 들어가므로 모델의 일반화 성능을 보장한다.<br>\n",
    "데이터를 여러겹으로 나누면 모델이 훈련 데이터에 얼마나 민감한지 알수 있다.<br>\n",
    "분할을 한번 했을때 보다 데이터를 더 효과적으로 사용할수 있다.\n",
    "\n",
    "* 단점<br>\n",
    "연산 비용이 늘어남-하드웨어가 좋아져야 하고, 시간이 많이 걸림<br>\n",
    "모델을 k 개 만들어야 하므로 하나의 모델보다 k배 느림<br>"
   ]
  },
  {
   "cell_type": "code",
   "execution_count": 22,
   "id": "ff6d9bee",
   "metadata": {},
   "outputs": [
    {
     "name": "stdout",
     "output_type": "stream",
     "text": [
      "iris 레이블:\n",
      " [0 0 0 0 0 0 0 0 0 0 0 0 0 0 0 0 0 0 0 0 0 0 0 0 0 0 0 0 0 0 0 0 0 0 0 0 0\n",
      " 0 0 0 0 0 0 0 0 0 0 0 0 0 1 1 1 1 1 1 1 1 1 1 1 1 1 1 1 1 1 1 1 1 1 1 1 1\n",
      " 1 1 1 1 1 1 1 1 1 1 1 1 1 1 1 1 1 1 1 1 1 1 1 1 1 1 2 2 2 2 2 2 2 2 2 2 2\n",
      " 2 2 2 2 2 2 2 2 2 2 2 2 2 2 2 2 2 2 2 2 2 2 2 2 2 2 2 2 2 2 2 2 2 2 2 2 2\n",
      " 2 2]\n"
     ]
    }
   ],
   "source": [
    "from sklearn.datasets import load_iris\n",
    "iris = load_iris()\n",
    "print(\"iris 레이블:\\n\", iris.target)"
   ]
  },
  {
   "cell_type": "markdown",
   "id": "d63e951d",
   "metadata": {},
   "source": [
    "### 5.1.3 계층별 k-겹 교차검증 "
   ]
  },
  {
   "cell_type": "markdown",
   "id": "93a8b9e4",
   "metadata": {},
   "source": [
    "* 1/3은 클래스 0, 1/3은 클래스 1, 1/3은 클래스 2\n",
    "* 첫번째 폴드는 클래스 0만가지고 있으므로 정확도는 0\n",
    "* 두번째, 세번째도 가은 방법으로 정확도는 0"
   ]
  },
  {
   "cell_type": "code",
   "execution_count": 20,
   "id": "224d2609",
   "metadata": {},
   "outputs": [
    {
     "data": {
      "image/png": "[encoded data removed]",
      "text/plain": [
       "<Figure size 864x360 with 2 Axes>"
      ]
     },
     "metadata": {
      "needs_background": "light"
     },
     "output_type": "display_data"
    }
   ],
   "source": [
    "mglearn.plots.plot_stratified_cross_validation()"
   ]
  },
  {
   "cell_type": "markdown",
   "id": "32438cec",
   "metadata": {},
   "source": [
    "* 출력 클래스 비율이 일정하지 않으면 제대로 학습되지 않음<br>이런 문제 해결하기 위해 k_겹 보완하는 계층별 k-겹 교차검증 방식(standard cross-validation/Stratified Cross-validation:아이리스0인 데이터에서 cv값으로 나눠서 평가)"
   ]
  },
  {
   "cell_type": "markdown",
   "id": "86d829ca",
   "metadata": {},
   "source": [
    "##### 분류기의 일반화 성능을 측정할때 k-겹 교차검증보다 더 안정적인 계층별 K-겹 교차 검증을 사용하는 것이 좋다.\n",
    "\n",
    "### 1) 교차검증 상세 옵션\n",
    "* scikit-learn에서는 cv매개변수에 교차 검증 분할기 cross-validation splitter를 전달함으로써 데이터 분할할때 ㅓㄷ 세밀하게 제어할수 있다. (cv=kfold)\n",
    "* 대부분의 경우 회귀에서는 k-겹 교차검증, 분류에서는 게층별 k-겹 교차검증의 기본값이 잘 작동\n",
    "* model_selection에서 KFold분할기를 임포트 하고 원하는 폴드 수를 넣어 객체를 생성해야 함"
   ]
  },
  {
   "cell_type": "code",
   "execution_count": 25,
   "id": "986d2c73",
   "metadata": {},
   "outputs": [],
   "source": [
    "from sklearn.model_selection import KFold\n",
    "kfold = KFold(n_splits=5) #KFold객체생성"
   ]
  },
  {
   "cell_type": "code",
   "execution_count": 27,
   "id": "94a8efad",
   "metadata": {},
   "outputs": [
    {
     "name": "stdout",
     "output_type": "stream",
     "text": [
      "교차검증점수 :\n",
      " [1.         1.         0.86666667 0.93333333 0.83333333]\n"
     ]
    }
   ],
   "source": [
    "print(\"교차검증점수 :\\n\", cross_val_score(logreg,iris.data,iris.target, cv=kfold))"
   ]
  },
  {
   "cell_type": "code",
   "execution_count": 28,
   "id": "aefe1189",
   "metadata": {},
   "outputs": [
    {
     "name": "stdout",
     "output_type": "stream",
     "text": [
      "교차검증점수 :\n",
      " [0. 0. 0.]\n"
     ]
    }
   ],
   "source": [
    "kfold = KFold(n_splits=3) #계층별 k-겹 교차검즈에서 cv를 3겹으로 하겠습니다.\n",
    "print(\"교차검증점수 :\\n\", cross_val_score(logreg,iris.data,iris.target, cv=kfold))"
   ]
  },
  {
   "cell_type": "markdown",
   "id": "bc6a20e1",
   "metadata": {},
   "source": [
    "* n_splits=3일때 각 폴드는 iris 데이터셋의 클래스 중 하나에 대응하므로 아무것도 학습 할수 가 없다. \n",
    "* 데이터를 섞어서 샘플의 순서를 랜덤 (KFold의 shuffle 매개변수를 True)"
   ]
  },
  {
   "cell_type": "code",
   "execution_count": 30,
   "id": "6c7cc305",
   "metadata": {},
   "outputs": [
    {
     "name": "stdout",
     "output_type": "stream",
     "text": [
      "교차검증점수 :\n",
      " [0.98 0.96 0.96]\n"
     ]
    }
   ],
   "source": [
    "kfold = KFold(n_splits=3, shuffle=True, random_state=0) \n",
    "#suffle=True:데이터 섞어서 샘플 순서 랜덤,random_state를 고정 똑같은 작업 재현\n",
    "#random_state안넣으면 실행할때마다 결과가 바뀜\n",
    "print(\"교차검증점수 :\\n\", cross_val_score(logreg,iris.data,iris.target, cv=kfold))"
   ]
  },
  {
   "cell_type": "markdown",
   "id": "ff8f9168",
   "metadata": {},
   "source": [
    "* 일반화 성능을 높이기 위한 과정 "
   ]
  },
  {
   "cell_type": "code",
   "execution_count": 31,
   "id": "e3465f9f",
   "metadata": {},
   "outputs": [
    {
     "name": "stdout",
     "output_type": "stream",
     "text": [
      "n.splits=3, cross validation score[0.98 0.96 0.96]\n",
      "n.splits=5, cross validation score[1.         0.83333333 1.         1.         0.93333333]\n"
     ]
    }
   ],
   "source": [
    "for n in [3,5]:\n",
    "    kfold = KFold(n_splits=n, shuffle=True, random_state=0)\n",
    "    scores = cross_val_score(logreg, iris.data, iris.target, cv=kfold)\n",
    "    print('n.splits={}, cross validation score{}'.format(n,scores))"
   ]
  },
  {
   "cell_type": "markdown",
   "id": "df8529c7",
   "metadata": {},
   "source": [
    "### 2) LOOCV"
   ]
  },
  {
   "cell_type": "markdown",
   "id": "fca5a643",
   "metadata": {},
   "source": [
    "* 테스트 폴드에 단 하나의 샘플만 포함하는 k-겹 교차검증\n",
    "* 테스트 폴드에 단 하나의 샘플만 포함\n",
    "* 데이터셋이 클때는 시간이 매우 오래 걸리지만, 작은 데이터셋에서는 좋은 결과를 만들어냄"
   ]
  },
  {
   "cell_type": "code",
   "execution_count": 32,
   "id": "eed3c1b7",
   "metadata": {},
   "outputs": [
    {
     "name": "stdout",
     "output_type": "stream",
     "text": [
      "iris.data.shape \n",
      "(150, 4)\n",
      "교차 검증 분활 횟수: 150\n",
      "평균 정확도:0.97\n"
     ]
    }
   ],
   "source": [
    "from sklearn.model_selection import LeaveOneOut\n",
    "loo = LeaveOneOut()\n",
    "scores = cross_val_score(logreg, iris.data, iris.target, cv=loo)\n",
    "print('iris.data.shape \\n{}'.format(iris.data.shape))\n",
    "print('교차 검증 분활 횟수:', len(scores))\n",
    "print('평균 정확도:{:.2f}'.format(scores.mean()))"
   ]
  },
  {
   "cell_type": "markdown",
   "id": "0a88896f",
   "metadata": {},
   "source": [
    "### 3) 임의 분할 교차 검증\n",
    "* Train_size만큼의 데이터로 훈련 세트를 만들고 test-size만큼의 테스터로 테스트 세트를 n_splits만큼 만들도록 분할\n",
    "* Sklearn에서는 ShuffleSplit클래스 제공\n",
    "* 10개의 데이터셋으로 나누고 5개는 훈련세트, 2개는 ㅌ테스트 세트로 4번 반복하는 사례"
   ]
  },
  {
   "cell_type": "code",
   "execution_count": 33,
   "id": "5c50524b",
   "metadata": {},
   "outputs": [
    {
     "data": {
      "image/png": "[encoded data removed]",
      "text/plain": [
       "<Figure size 720x144 with 1 Axes>"
      ]
     },
     "metadata": {
      "needs_background": "light"
     },
     "output_type": "display_data"
    }
   ],
   "source": [
    "mglearn.plots.plot_shuffle_split()"
   ]
  },
  {
   "cell_type": "markdown",
   "id": "9a89380d",
   "metadata": {},
   "source": [
    "* 훈련데이터 테스트데이터만 나누는것 보다 <br>\n",
    "한번 더 나눠서 훈련데이터,검증셋(Valid Data-훈련데이터 푼거를 검증셋에서 확인),테스트 데이터로 하면 정확하지 않을까?"
   ]
  },
  {
   "cell_type": "markdown",
   "id": "18c3f12c",
   "metadata": {},
   "source": [
    "#### 데이터셋의 50%는 훈련세트, 50%는 테스트 세트로 10번 반복 분할\n",
    "* train_size, test_size가 정수이면 세트 개수이며 실수이면 비율을 나타냄"
   ]
  },
  {
   "cell_type": "code",
   "execution_count": 35,
   "id": "2ea30f83",
   "metadata": {},
   "outputs": [
    {
     "name": "stdout",
     "output_type": "stream",
     "text": [
      "교차 검증 점수:\n",
      " [0.97333333 0.98666667 0.94666667 0.97333333 0.94666667 0.98666667\n",
      " 0.94666667 0.96       0.96       0.92      ]\n"
     ]
    }
   ],
   "source": [
    "from sklearn.model_selection import ShuffleSplit\n",
    "#ShuffleSplit 객체 생성\n",
    "shuffle_split = ShuffleSplit(test_size=.5, train_size=.5, n_splits=10)\n",
    "scores = cross_val_score(logreg, iris.data, iris.target, cv=shuffle_split)\n",
    "print('교차 검증 점수:\\n', scores)"
   ]
  },
  {
   "cell_type": "markdown",
   "id": "590c5dcd",
   "metadata": {},
   "source": [
    "* Train_size와 test_size의 합이 전체 데이터셋과 다르게 하여 일부만 사용하는 이러한 부분 샘플링(subsamplig)은 대규모 데이터셋으로 작업할때 도움이 됨."
   ]
  },
  {
   "cell_type": "markdown",
   "id": "e5cd0210",
   "metadata": {},
   "source": [
    "### 4) 그룹별 교차 검증"
   ]
  },
  {
   "cell_type": "markdown",
   "id": "ef3050a9",
   "metadata": {},
   "source": [
    "* 훈련 세트와 테스트 세트를 만들때 분리되지 않아야 할 그룹을 지정하는 교차검증"
   ]
  },
  {
   "cell_type": "code",
   "execution_count": 36,
   "id": "933bee9d",
   "metadata": {},
   "outputs": [
    {
     "data": {
      "image/png": "[encoded data removed]",
      "text/plain": [
       "<Figure size 720x144 with 1 Axes>"
      ]
     },
     "metadata": {
      "needs_background": "light"
     },
     "output_type": "display_data"
    }
   ],
   "source": [
    "mglearn.plots.plot_group_kfold()"
   ]
  },
  {
   "cell_type": "markdown",
   "id": "d3d1c975",
   "metadata": {},
   "source": [
    "* 참고 자료 : http://scikit-learn.org/stable/modules/cross_validation.html"
   ]
  },
  {
   "cell_type": "markdown",
   "id": "98444b8a",
   "metadata": {},
   "source": [
    "## 5.2 그리드 서치"
   ]
  },
  {
   "cell_type": "markdown",
   "id": "cd59d82f",
   "metadata": {},
   "source": [
    "* 매개변수를 튜닝하여 일반화 성능 높이기\n",
    "* 관심 있는 매개변수들을 대상으로 가능한 모든 조합 시도해 보는 것\n",
    "* RBF 커널 SVM 사례 커널의 폭에 해당하는 gamma와 규제 매개변수 C에 0.001, 0.001, 0.01, 1, 10, 100값을 적용 (p.337)\n",
    "* 어떤 값이 좋은지 찾아줌"
   ]
  },
  {
   "cell_type": "markdown",
   "id": "208d2181",
   "metadata": {},
   "source": [
    "### 5.2.1 간단한 그리드 서치"
   ]
  },
  {
   "cell_type": "markdown",
   "id": "9ed37a04",
   "metadata": {},
   "source": [
    "#### 붓꽃 데이터셋을 이용한 그리드 서치\n",
    "* 두 매개변수 조합에 대해 분류기 학습 및 평가하는 그리드 서치\n",
    "* 하이퍼 파라미터 튜닝"
   ]
  },
  {
   "cell_type": "code",
   "execution_count": 41,
   "id": "1df239f9",
   "metadata": {},
   "outputs": [
    {
     "name": "stdout",
     "output_type": "stream",
     "text": [
      "훈련 세트의 크기:112   테스트 세트의 크기:38\n",
      "최고 점수 :0.974\n",
      "최적 파라미터: {'C': 100, 'gamma': 0.001}\n"
     ]
    }
   ],
   "source": [
    "# 간단한 그리드 서치 구현\n",
    "from sklearn.svm import SVC\n",
    "X_train, X_test, y_train, y_test = train_test_split(iris.data, iris.target, random_state=0)\n",
    "\n",
    "print('훈련 세트의 크기:{}   테스트 세트의 크기:{}'.format(X_train.shape[0], X_test.shape[0]))\n",
    "\n",
    "best_score = 0\n",
    "for gamma in [0.001, 0.01, 0.1, 1, 10, 100]:\n",
    "    for C in [0.001, 0.01, 0.1, 1, 10, 100]:\n",
    "        #매개변수와 각 조합에 대해 SVC를 훈련시킵니다.\n",
    "        svm = SVC(gamma=gamma, C=C)\n",
    "        svm.fit(X_train, y_train)\n",
    "        score = svm.score(X_test, y_test)\n",
    "        #점수가 더 좋으면 매개변수와 함꼐 기록합니다.\n",
    "        if score > best_score:\n",
    "            best_score = score\n",
    "            best_parameters = {'C':C, 'gamma':gamma}\n",
    "            \n",
    "print('최고 점수 :{:.3f}'.format(best_score))\n",
    "print('최적 파라미터:', best_parameters)"
   ]
  },
  {
   "cell_type": "markdown",
   "id": "b8d63396",
   "metadata": {},
   "source": [
    "* C를 100으로 주고 gamma값을 0.001로 주는 것이 가장 좋은 값이구나 하고 하이퍼파라미터 튜닝할때 쓰는 코드\n",
    "* 이결과를 보면 이 데이터셋에서 모델 정확도가 97.4%\n",
    "* 이 정확도는 새로운 데이터까지 이어지지 않을수 있다.\n",
    "* 매개변수를 조정하기 위해 테스트 세트를 이미 사용하여서 평가를 하려면 독립된 테스트 세트가 필요하다"
   ]
  },
  {
   "cell_type": "markdown",
   "id": "21e31586",
   "metadata": {},
   "source": [
    "### 5.2.2 매개변수 과대적합과 검증세트"
   ]
  },
  {
   "cell_type": "markdown",
   "id": "9807995e",
   "metadata": {},
   "source": [
    "#### 매개변수 과대적합과 검증 세트\n",
    "* 매개변수 조정시 사용한 검증 세트 대신 모델 평가를 위한 테스트 세트 필요\n",
    "* 데이터를 세개의 세트로 구분할필요가 있음 훈련세트, 매개변수 조정을 위한 검증세트, 모델 평가를 위한 테스트 세트"
   ]
  },
  {
   "cell_type": "code",
   "execution_count": 42,
   "id": "3666f772",
   "metadata": {},
   "outputs": [
    {
     "data": {
      "image/png": "[encoded data removed]",
      "text/plain": [
       "<Figure size 1080x72 with 1 Axes>"
      ]
     },
     "metadata": {
      "needs_background": "light"
     },
     "output_type": "display_data"
    }
   ],
   "source": [
    "mglearn.plots.plot_threefold_split()"
   ]
  },
  {
   "cell_type": "markdown",
   "id": "948816df",
   "metadata": {},
   "source": [
    "train_test_split을 이용한 iris데이터의 grid search\n",
    "* 매개변수 검증 세트 사용\n",
    "* 데이터 훈련, 검증, 테스트 세트로 분할"
   ]
  },
  {
   "cell_type": "code",
   "execution_count": 53,
   "id": "5a37455b",
   "metadata": {},
   "outputs": [
    {
     "name": "stdout",
     "output_type": "stream",
     "text": [
      "훈련 세트의 크기: 84   검증 세트의 크기: 28   테스트 세트의 크기: 38\n",
      "\n",
      "검증 세트에서 최고 점수: 0.96\n",
      "최적 파라미터:  {'C': 10, 'gamma': 0.001}\n",
      "최적 파라미터에서 테스트 세트 점수: 0.92\n",
      "평균 정확도:0.92\n"
     ]
    }
   ],
   "source": [
    "from sklearn.svm import SVC\n",
    "#데이터를 훈련+검증 세트 그리고 테스트 세트로 분할\n",
    "X_trainval, X_test, y_trainval, y_test = train_test_split(\n",
    "iris.data, iris.target, random_state=0)\n",
    "#훈련+검증 세트를 훈련 세트와 검증 세트로 분할\n",
    "X_train, X_valid, y_train, y_valid = train_test_split(\n",
    "X_trainval, y_trainval, random_state=1)\n",
    "print(\"훈련 세트의 크기: {}   검증 세트의 크기: {}   테스트 세트의 크기:\"\n",
    "      \" {}\\n\".format(X_train.shape[0], X_valid.shape[0], X_test.shape[0]))\n",
    "\n",
    "best_score = 0\n",
    "for gamma in [0.001, 0.01, 0.1, 1, 10, 100]:\n",
    "    for C in [0.001, 0.01, 0.1, 1, 10, 100]:\n",
    "        # 매개변수의 각 조합에 대해 SVC를 훈련시킵니다\n",
    "        svm = SVC(gamma=gamma, C=C)\n",
    "        svm.fit(X_train, y_train)\n",
    "        # 검증 세트로 SVC를 평가합니다\n",
    "        score = svm.score(X_valid, y_valid)\n",
    "        # 점수가 더 높으면 매개변수와 함께 기록합니다\n",
    "        if score > best_score:\n",
    "            best_score = score\n",
    "            best_parameters = {'C': C, 'gamma': gamma}\n",
    "svm = SVC(**best_parameters)\n",
    "svm.fit(X_trainval, y_trainval)\n",
    "test_score = svm.score(X_test, y_test)\n",
    "\n",
    "print(\"검증 세트에서 최고 점수: {:.2f}\".format(best_score))\n",
    "print(\"최적 파라미터: \", best_parameters)\n",
    "print(\"최적 파라미터에서 테스트 세트 점수: {:.2f}\".format(test_score))\n",
    "print('평균 정확도:{:.2f}'.format(test_score.mean()))"
   ]
  },
  {
   "cell_type": "code",
   "execution_count": 49,
   "id": "31bf64ac",
   "metadata": {},
   "outputs": [
    {
     "data": {
      "image/png": "[encoded data removed]",
      "text/plain": [
       "<Figure size 720x216 with 1 Axes>"
      ]
     },
     "metadata": {
      "needs_background": "light"
     },
     "output_type": "display_data"
    }
   ],
   "source": [
    "## 교차 검증을 위한 그리드 서치\n",
    "# 교차 검증의 정확도 평균이 가장 높은 값 선택\n",
    "mglearn.plots.plot_cross_val_selection()"
   ]
  },
  {
   "cell_type": "markdown",
   "id": "7e994cb6",
   "metadata": {},
   "source": [
    "* 교차검증 정확도가 가장 높은 곳 찾는다."
   ]
  },
  {
   "cell_type": "code",
   "execution_count": 51,
   "id": "79c2056d",
   "metadata": {},
   "outputs": [
    {
     "data": {
      "image/png": "[encoded data removed]",
      "text/plain": [
       "<Figure size 700x210 with 1 Axes>"
      ]
     },
     "metadata": {
      "needs_background": "light"
     },
     "output_type": "display_data"
    }
   ],
   "source": [
    "# 전체 모델 학습 및 평가 과정\n",
    "mglearn.plots.plot_grid_search_overview()"
   ]
  },
  {
   "cell_type": "code",
   "execution_count": null,
   "id": "e869bf9d",
   "metadata": {},
   "outputs": [],
   "source": [
    "#위에 것을 이미 구현되어있는 GridSearchCV를 부르면 되\n",
    "from sklearn.model_selection import GridSearchCV\n",
    "from sklearn.svm import SVC"
   ]
  },
  {
   "cell_type": "markdown",
   "id": "a6eca41c",
   "metadata": {},
   "source": [
    "## 5.3 평가지표와 측정"
   ]
  },
  {
   "cell_type": "markdown",
   "id": "d1229fe8",
   "metadata": {},
   "source": [
    "### 5.3.1 최종 목표를 기억하라"
   ]
  },
  {
   "cell_type": "markdown",
   "id": "513db195",
   "metadata": {},
   "source": [
    "### 5.3.2 이진 분류의 평가지표"
   ]
  },
  {
   "cell_type": "markdown",
   "id": "15498415",
   "metadata": {},
   "source": [
    "### 1) 에러의 종류\n",
    "거짓 음성(암인 사람에게 당신은 건강합니다.- 생명에 좌우 치명적)은 최대한 피해야 하며 <br>\n",
    "거짓 양성(건강한 사람한테 당신은 암입니다 라고 함 - 비용추가)은 중요도가 낮음<br>\n",
    "사람의 생명과 직결되는 것은 평가지표가 달라야 한다. 더 정확해야 한다.\n",
    "* 거짓 음성은 반드시 피해야 한다.(false negative)"
   ]
  },
  {
   "cell_type": "markdown",
   "id": "94c786cc",
   "metadata": {},
   "source": [
    "### 2) 불균형 데이터셋\n",
    "두 종류의 오류(거짓 야성과 거짓 음성) 중 하나가 다른 것보다 훨씬 많을때 더 중요\n",
    "99%정확도로 예측하는 분류기를 만들었다고 가정하면 정화도가 높아도 불균형 클래스 고려하지 못하면 잘못된 모델이다.<br>\n",
    "머신러닝 모델을 만들지 않고서도 무조건 클릭아님으로 예측하면 그 정확도는 99%가 될수 있다.그러니 이럴때 평가지표가 좀 틀려야 한다.\n"
   ]
  },
  {
   "cell_type": "code",
   "execution_count": 55,
   "id": "f59ea67e",
   "metadata": {},
   "outputs": [],
   "source": [
    "#Digits 데이터셋을 사용해 숫자 9를 구분하는 9:1 데이터셋 생성\n",
    "from sklearn.datasets import load_digits\n",
    "\n",
    "digits = load_digits()\n",
    "y = digits.target == 9 \n",
    "\n",
    "X_train, X_test, y_train, y_test = train_test_split(\n",
    "digits.data, y, random_state=0)"
   ]
  },
  {
   "cell_type": "code",
   "execution_count": 59,
   "id": "95dcdcb3",
   "metadata": {},
   "outputs": [
    {
     "name": "stdout",
     "output_type": "stream",
     "text": [
      "예측된 레이블의 고유값: [False]\n",
      "테스트 점수 :0.90\n"
     ]
    }
   ],
   "source": [
    "import numpy as np\n",
    "#dummy분류기(DummyClassifier)는 가장 많은 target라벨(여기 9가 아님)을 예측값으로 내놓음\n",
    "#10개 숫자중에 아무거나 집어도 90프로가 나온다.\n",
    "from sklearn.dummy import DummyClassifier\n",
    "dummy_majority = DummyClassifier(strategy = 'most_frequent').fit(X_train, y_train)\n",
    "#most_frequent는 최빈값(가장 많이 나타나는)\n",
    "pred_most_frequent = dummy_majority.predict(X_test)\n",
    "print('예측된 레이블의 고유값:', np.unique(pred_most_frequent))\n",
    "print('테스트 점수 :{:.2f}'.format(dummy_majority.score(X_test, y_test)))"
   ]
  },
  {
   "cell_type": "markdown",
   "id": "f5e1e916",
   "metadata": {},
   "source": [
    "* DummyClassifier로 다수 (9아님)을 예측\n",
    "* 거의 아무것도 학습하지 않아도 90% 정확도"
   ]
  },
  {
   "cell_type": "code",
   "execution_count": 62,
   "id": "dba22a9a",
   "metadata": {},
   "outputs": [
    {
     "name": "stdout",
     "output_type": "stream",
     "text": [
      "테스트 점수 : 0.92\n"
     ]
    }
   ],
   "source": [
    "#DicisionTreeClassifier로 예측 - 크게 성능이 나아지지않음\n",
    "from sklearn.tree import DecisionTreeClassifier\n",
    "tree = DecisionTreeClassifier(max_depth=2).fit(X_train, y_train)\n",
    "#max_depth 깊이 2까지 리프로드 2개까지\n",
    "pred_tree = tree.predict(X_test)\n",
    "print('테스트 점수 : {:.2f}'.format(tree.score(X_test, y_test)))"
   ]
  },
  {
   "cell_type": "code",
   "execution_count": 63,
   "id": "0c9040b4",
   "metadata": {},
   "outputs": [
    {
     "name": "stdout",
     "output_type": "stream",
     "text": [
      "dummy 점수 : 0.90\n",
      "logreg 점수 : 0.98\n"
     ]
    }
   ],
   "source": [
    "#무작위 예측 DummyClassifier와 LogisticRegression 비교\n",
    "from sklearn.linear_model import LogisticRegression\n",
    "dummy = DummyClassifier().fit(X_train, y_train) #strategy=stratified 무작위\n",
    "pred_dummy = dummy.predict(X_test)\n",
    "print('dummy 점수 : {:.2f}'.format(dummy.score(X_test, y_test)))\n",
    "\n",
    "logreg = LogisticRegression(C=0.1).fit(X_train, y_train)\n",
    "pred_logreg = logreg.predict(X_test)\n",
    "print('logreg 점수 : {:.2f}'.format(logreg.score(X_test, y_test)))"
   ]
  },
  {
   "cell_type": "markdown",
   "id": "85ebf7f8",
   "metadata": {},
   "source": [
    "* 무작위로 예측하는 DummyClassifier는 결과가 안 좋습니다. \n",
    "* 반면 LogisticRegression 은 매우 좋으나 DummyClassifier도 90%를 맞추었으므로 실제로 이 결과가 유용한지 판단하기가 매우 어렵습니다.\n",
    "\n",
    "* imbalanced datasets(발란스가 맞지않는 데이터)에서 예측 성능을 정량화하는 데 정확도는 적절한 측정 방법이 아니기 때문입니다.\n",
    "\n",
    "* 특히 pred_most_frequent와 pred_dummy처럼, 빈도나 무작위 기반 예측보다 얼마나 더 나은지 알려주는 평가지표가 필요합니다.\n",
    "\n",
    "* 모델을 평가하는 지표라면 이런 비상식적인 예측은 피할 수 있어야 합니다.\n"
   ]
  },
  {
   "cell_type": "markdown",
   "id": "ce2904ee",
   "metadata": {},
   "source": [
    "* 분류성능평가지표에는 정확도, 오차행렬, 정밀도, 재현율, F1스코어, ROC AUC가 있다.\n",
    "\n",
    "* 혼동 행렬(confusion Matrix) : 정확도 정밀도 <br>\n",
    "TP(true positive) -> 맞는 것을 올바르게 예측, TN(true negative) -> 틀린것을 올바르게 예측, FP(false positive)-> 틀린것을 맞다고 잘못 예측한것, FN(false negative) -> 맞는 것을 틀렸다고 잘못 예측한것           \n",
    "\n",
    "* 정확도 Accuracy<br>\n",
    "가장 많이 쓰는 것, 모든 tp를 전부 더하고 전체 갯수로 나눈것<br>\n",
    "모든 데이터에 대해 클래스 라벨을 얼마나 잘 맞췄는지 계산(y(정답)와 y_hat(예측값)<br>\n",
    "전체 - 맞춘것 = 정확도<br>\n",
    "전체에서 몇개 맞췄는가 만으로는 평가할수 없다. 발란스를 이루지 못한 것은 다른 측정도구가 있어야 한다.\n",
    "             \n",
    "* 정밀도 Precisicon : TP/(TP+FP)"
   ]
  },
  {
   "cell_type": "markdown",
   "id": "9ddfd060",
   "metadata": {},
   "source": [
    "### 3) 혼동행렬(Confusion matrices) - 얼마나 혼동스러운지를 보여줌"
   ]
  },
  {
   "cell_type": "markdown",
   "id": "be0c808c",
   "metadata": {},
   "source": [
    "### 정확도"
   ]
  },
  {
   "cell_type": "markdown",
   "id": "ebc6d20c",
   "metadata": {},
   "source": [
    "#### 정확도와의 관계(맞계예측한 값/전체값) = 테스트점수"
   ]
  },
  {
   "cell_type": "code",
   "execution_count": 68,
   "id": "96d3b4bc",
   "metadata": {},
   "outputs": [
    {
     "data": {
      "text/plain": [
       "0.9844444444444445"
      ]
     },
     "execution_count": 68,
     "metadata": {},
     "output_type": "execute_result"
    }
   ],
   "source": [
    "#logreg점수 : 0.98\n",
    "(402+41)/450"
   ]
  },
  {
   "cell_type": "code",
   "execution_count": 65,
   "id": "3a96b126",
   "metadata": {},
   "outputs": [
    {
     "name": "stdout",
     "output_type": "stream",
     "text": [
      "오차 행렬:\n",
      " [[402   1]\n",
      " [  6  41]]\n"
     ]
    }
   ],
   "source": [
    "from sklearn.metrics import confusion_matrix\n",
    "\n",
    "confusion = confusion_matrix(y_test, pred_logreg)\n",
    "print('오차 행렬:\\n', confusion)"
   ]
  },
  {
   "cell_type": "code",
   "execution_count": 67,
   "id": "0d81aead",
   "metadata": {},
   "outputs": [
    {
     "data": {
      "image/png": "[encoded data removed]",
      "text/plain": [
       "<Figure size 576x576 with 1 Axes>"
      ]
     },
     "metadata": {
      "needs_background": "light"
     },
     "output_type": "display_data"
    }
   ],
   "source": [
    "import mglearn\n",
    "mglearn.plots.plot_confusion_matrix_illustration()"
   ]
  },
  {
   "cell_type": "code",
   "execution_count": 69,
   "id": "6c54d58f",
   "metadata": {},
   "outputs": [
    {
     "data": {
      "image/png": "[encoded data removed]",
      "text/plain": [
       "<Figure size 432x288 with 1 Axes>"
      ]
     },
     "metadata": {
      "needs_background": "light"
     },
     "output_type": "display_data"
    }
   ],
   "source": [
    "mglearn.plots.plot_binary_confusion_matrix()"
   ]
  },
  {
   "cell_type": "code",
   "execution_count": 70,
   "id": "27951b52",
   "metadata": {},
   "outputs": [
    {
     "name": "stdout",
     "output_type": "stream",
     "text": [
      "빈도 기반 더미 모델:\n",
      "[[403   0]\n",
      " [ 47   0]]\n",
      "\n",
      "무작위 더미 모델:\n",
      "[[403   0]\n",
      " [ 47   0]]\n",
      "\n",
      "결정 트리:\n",
      "[[390  13]\n",
      " [ 24  23]]\n",
      "\n",
      "로지스틱 회귀:\n",
      "[[402   1]\n",
      " [  6  41]]\n"
     ]
    }
   ],
   "source": [
    "print('빈도 기반 더미 모델:')\n",
    "print(confusion_matrix(y_test, pred_most_frequent))\n",
    "print('\\n무작위 더미 모델:')\n",
    "print(confusion_matrix(y_test, pred_dummy))\n",
    "print('\\n결정 트리:') #0.92 (390+23/450) \n",
    "print(confusion_matrix(y_test, pred_tree))\n",
    "print('\\n로지스틱 회귀:')\n",
    "print(confusion_matrix(y_test, pred_logreg))"
   ]
  },
  {
   "cell_type": "markdown",
   "id": "e636acdb",
   "metadata": {},
   "source": [
    "* confusion_matrix를 보면 pred_most_frequent에서 잘못된 것이 보입니다.\n",
    "* 항상 동일한 클래스를 예측하기 때문입니다.\n",
    "* 반면에 pred_dummy는 특히 FN과 FP보다 TP가 매우 적고, TP보다 FP가 매우 많습니다.\n",
    "* pred_logreg는 거의 모든 면에서pred_tree보다 낫습니다.\n",
    "* 이 행렬의 모든 면을 살펴보면 많은 정보를 얻을 수 있지만, 매우 수동적이며 정성적인 방법입니다.\n"
   ]
  },
  {
   "cell_type": "markdown",
   "id": "3ef35f4e",
   "metadata": {},
   "source": [
    "###### 정확도와의 관계\n",
    "\\begin{equation}\n",
    "\\text{정확도(accuracy)} = \\frac{\\text{TP} + \\text{TN}}{\\text{TP} + \\text{TN} + \\text{FP} + \\text{FN}}\n",
    "\\end{equation}\n"
   ]
  },
  {
   "cell_type": "markdown",
   "id": "73ff1bb5",
   "metadata": {},
   "source": [
    "###### 정밀도, 재현율, f-점수(F1 score)\n",
    "\\begin{equation}\n",
    "\\text{정밀도(precision)} = \\frac{\\text{TP}}{\\text{TP} + \\text{FP}}\n",
    "\\end{equation}\n",
    "* FP가 낮아져야 정밀도 올라간다."
   ]
  },
  {
   "cell_type": "markdown",
   "id": "026e6b96",
   "metadata": {},
   "source": [
    "\\begin{equation}\n",
    "\\text{재현율(recall)} = \\frac{\\text{TP}}{\\text{TP} + \\text{FN}}\n",
    "\\end{equation}\n",
    "* FN가 낮아져야 정밀도 올라간다."
   ]
  },
  {
   "cell_type": "markdown",
   "id": "9a101e55",
   "metadata": {},
   "source": [
    "\\begin{equation}\n",
    "\\text{F} = 2 \\cdot \\frac{\\text{정밀도} \\cdot \\text{재현율}}{\\text{정밀도} + \\text{재현율}}\n",
    "\\end{equation}\n"
   ]
  },
  {
   "cell_type": "markdown",
   "id": "7cbf7576",
   "metadata": {},
   "source": [
    "* 정밀도와 재현율의 조화 평균인 f-점수(f-score)또는 f-측정(f-mesure)\n",
    "* 어떤 모델이 좋은지 직관적으로 판단하는데는 정확도보다 f1-점수가 낫다.\n",
    "* f1-점수는 정확도보다 이해하거나 설명하기는 어렵다는게 단점이다."
   ]
  },
  {
   "cell_type": "markdown",
   "id": "5c1af409",
   "metadata": {},
   "source": [
    "* 데이터가 한쪽으로 치우칠때는 정규분포를 맞추고, accuracy정확도만으로는 볼수 없다. F1점수 사용하면 정확도 보다 나은 평가지표 가능"
   ]
  },
  {
   "cell_type": "markdown",
   "id": "341be598",
   "metadata": {},
   "source": [
    "### 오차행렬 (f1-score) 불균형데이터\n",
    "* 앞서 만든 네 모델의 F 점수 획득\n",
    "    * 정밀도와 재현율을 함께 고려하므로 불균형 데이터셋에는 정확도보다 나은 평가지표가 될수 있음."
   ]
  },
  {
   "cell_type": "code",
   "execution_count": 81,
   "id": "dc1f6352",
   "metadata": {},
   "outputs": [
    {
     "name": "stdout",
     "output_type": "stream",
     "text": [
      "빈도 기반 더미 모델의 f1 score:0.00\n",
      "트리 모델의 f1 score:0.55\n",
      "로지스틱 회귀 모델의 f1 score:0.92\n"
     ]
    }
   ],
   "source": [
    "from sklearn.metrics import f1_score\n",
    "print('빈도 기반 더미 모델의 f1 score:{:.2f}'.format(\n",
    "     f1_score(y_test, pred_most_frequent)))\n",
    "print('트리 모델의 f1 score:{:.2f}'.format(f1_score(y_test, pred_tree)))\n",
    "print('로지스틱 회귀 모델의 f1 score:{:.2f}'. format(\n",
    "f1_score(y_test, pred_logreg)))"
   ]
  },
  {
   "cell_type": "code",
   "execution_count": null,
   "id": "41af6373",
   "metadata": {},
   "outputs": [],
   "source": [
    "from IPython.display import Image\n",
    "Image('../data/decision_tree.png')"
   ]
  },
  {
   "cell_type": "markdown",
   "id": "8c4e7301",
   "metadata": {},
   "source": [
    "#### Classification_report함수\n",
    "* 정밀도, 재현율, f-점수 등을 모두 한꺼번에 출력"
   ]
  },
  {
   "cell_type": "code",
   "execution_count": 82,
   "id": "df738f8b",
   "metadata": {},
   "outputs": [
    {
     "name": "stdout",
     "output_type": "stream",
     "text": [
      "              precision    recall  f1-score   support\n",
      "\n",
      "         9아님       0.90      1.00      0.94       403\n",
      "           9       0.00      0.00      0.00        47\n",
      "\n",
      "    accuracy                           0.90       450\n",
      "   macro avg       0.45      0.50      0.47       450\n",
      "weighted avg       0.80      0.90      0.85       450\n",
      "\n"
     ]
    }
   ],
   "source": [
    "from sklearn.metrics import classification_report\n",
    "print(classification_report(y_test, pred_most_frequent, target_names=['9아님', '9']))"
   ]
  },
  {
   "cell_type": "code",
   "execution_count": 83,
   "id": "49925409",
   "metadata": {},
   "outputs": [
    {
     "name": "stdout",
     "output_type": "stream",
     "text": [
      "              precision    recall  f1-score   support\n",
      "\n",
      "         9아님       0.90      1.00      0.94       403\n",
      "           9       0.00      0.00      0.00        47\n",
      "\n",
      "    accuracy                           0.90       450\n",
      "   macro avg       0.45      0.50      0.47       450\n",
      "weighted avg       0.80      0.90      0.85       450\n",
      "\n"
     ]
    }
   ],
   "source": [
    "print(classification_report(y_test, pred_dummy, target_names=['9아님', '9']))"
   ]
  },
  {
   "cell_type": "code",
   "execution_count": 86,
   "id": "75dc2630",
   "metadata": {},
   "outputs": [
    {
     "name": "stdout",
     "output_type": "stream",
     "text": [
      "              precision    recall  f1-score   support\n",
      "\n",
      "         9아님       0.99      1.00      0.99       403\n",
      "           9       0.98      0.87      0.92        47\n",
      "\n",
      "    accuracy                           0.98       450\n",
      "   macro avg       0.98      0.93      0.96       450\n",
      "weighted avg       0.98      0.98      0.98       450\n",
      "\n"
     ]
    }
   ],
   "source": [
    "print(classification_report(y_test, pred_logreg, target_names=['9아님', '9']))"
   ]
  },
  {
   "cell_type": "markdown",
   "id": "30af0c2b",
   "metadata": {},
   "source": [
    "### 불확실성 함수 decision_function 함수 \n",
    "임계값에 대한 변화 증명"
   ]
  },
  {
   "cell_type": "markdown",
   "id": "5b6cdac9",
   "metadata": {},
   "source": [
    "### 정밀도-재현율 곡선( ROC와 AUC 곡선-의료분야에서 더 정확하게 하기위해)"
   ]
  },
  {
   "cell_type": "markdown",
   "id": "cb69d1ed",
   "metadata": {},
   "source": [
    "재현율:암진단, 금융사기 판별(실제 양성이네 데이터 예측을 ) FN을 낮춰야해\n",
    "    \n",
    "정밀도:스팸메일(실제 음성인데 데이터 예측을 양성으로 하는 경우) FP를 낮춰야해"
   ]
  },
  {
   "cell_type": "markdown",
   "id": "76ba8591",
   "metadata": {},
   "source": [
    "* 모델의 분류 작업을 결정하는 임계값을 박는 것은 해당 분류기의 정밀도와 재현율의 상충관계 조정하는일\n",
    "* sklear.metrics모듈에서 정밀도-재현율 곡선 제공(ROC-수신자조작특성곡선,AUC)\n",
    "* AUC는 1에 가까울수록 넓을수록 좋다."
   ]
  },
  {
   "cell_type": "markdown",
   "id": "e829916d",
   "metadata": {},
   "source": [
    "# 책 참고"
   ]
  },
  {
   "cell_type": "markdown",
   "id": "d466c988",
   "metadata": {},
   "source": [
    "* 비지니스 목적에 따라 데이터에 따라 평가지표가 달라진다."
   ]
  },
  {
   "cell_type": "code",
   "execution_count": null,
   "id": "e0bad2c6",
   "metadata": {},
   "outputs": [],
   "source": []
  }
 ],
 "metadata": {
  "kernelspec": {
   "display_name": "Python 3 (ipykernel)",
   "language": "python",
   "name": "python3"
  },
  "language_info": {
   "codemirror_mode": {
    "name": "ipython",
    "version": 3
   },
   "file_extension": ".py",
   "mimetype": "text/x-python",
   "name": "python",
   "nbconvert_exporter": "python",
   "pygments_lexer": "ipython3",
   "version": "3.9.7"
  }
 },
 "nbformat": 4,
 "nbformat_minor": 5
}
