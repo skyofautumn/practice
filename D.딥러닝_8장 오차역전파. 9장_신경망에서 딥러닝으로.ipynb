{
 "cells": [
  {
   "cell_type": "markdown",
   "id": "eecc9a4b",
   "metadata": {},
   "source": [
    "# 8장 오차역전파"
   ]
  },
  {
   "cell_type": "markdown",
   "id": "1041e2c1",
   "metadata": {},
   "source": [
    "### p.338"
   ]
  },
  {
   "cell_type": "code",
   "execution_count": null,
   "id": "707a9087",
   "metadata": {},
   "outputs": [],
   "source": []
  },
  {
   "cell_type": "markdown",
   "id": "dcbc0c39",
   "metadata": {},
   "source": [
    "# 9장 신경망에서 딥러닝으로 "
   ]
  },
  {
   "cell_type": "markdown",
   "id": "b2e359dc",
   "metadata": {},
   "source": [
    "#### 참조 : http://cs231n.github.io/neural-networks-3/\n",
    "#### 참조 :https://www.tensorflow.org/api_docs/python/tf/optimizers\n",
    "\n"
   ]
  },
  {
   "cell_type": "code",
   "execution_count": null,
   "id": "c5c46eff",
   "metadata": {},
   "outputs": [],
   "source": []
  }
 ],
 "metadata": {
  "kernelspec": {
   "display_name": "Python 3 (ipykernel)",
   "language": "python",
   "name": "python3"
  },
  "language_info": {
   "codemirror_mode": {
    "name": "ipython",
    "version": 3
   },
   "file_extension": ".py",
   "mimetype": "text/x-python",
   "name": "python",
   "nbconvert_exporter": "python",
   "pygments_lexer": "ipython3",
   "version": "3.9.7"
  }
 },
 "nbformat": 4,
 "nbformat_minor": 5
}
