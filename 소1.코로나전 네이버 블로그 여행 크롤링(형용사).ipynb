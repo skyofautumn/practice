{
 "cells": [
  {
   "cell_type": "markdown",
   "id": "ded1ed5e",
   "metadata": {},
   "source": [
    "## 코로나전 네이버 블로그 여행 크롤링 (형용사 추출)"
   ]
  },
  {
   "cell_type": "code",
   "execution_count": 14,
   "id": "6b9490b1",
   "metadata": {},
   "outputs": [],
   "source": [
    "import sys\n",
    "import os\n",
    "\n",
    "import pandas as pd\n",
    "import numpy as np\n",
    "\n",
    "from bs4 import BeautifulSoup\n",
    "from selenium import webdriver\n",
    "import time\n",
    "from tqdm import tqdm_notebook\n",
    "\n",
    "from konlpy.tag import Okt\n",
    "from collections import Counter"
   ]
  },
  {
   "cell_type": "code",
   "execution_count": 3,
   "id": "ecb2c355",
   "metadata": {},
   "outputs": [],
   "source": [
    "from wordcloud import WordCloud, STOPWORDS\n",
    "\n",
    "import numpy as np\n",
    "from PIL import Image"
   ]
  },
  {
   "cell_type": "code",
   "execution_count": 15,
   "id": "775ff7c8",
   "metadata": {},
   "outputs": [],
   "source": [
    "import matplotlib.pyplot as plt\n",
    "import platform\n",
    "\n",
    "path = \"c:/Windows/Fonts/malgun.ttf\"\n",
    "from matplotlib import font_manager,rc\n",
    "\n",
    "if platform.system() == 'Darwin':\n",
    "    rc('font', family='AppleGothic')\n",
    "elif platform.system() == 'Windows':\n",
    "    path = \"c:/Windows/Fonts/malgun.ttf\"\n",
    "    font_name = font_manager.FontProperties(fname=path).get_name()\n",
    "    rc('font', family=font_name)\n",
    "else:\n",
    "    print('Unknown system... sorry~~~~')\n",
    "\n",
    "%matplotlib inline"
   ]
  },
  {
   "cell_type": "code",
   "execution_count": 579,
   "id": "06829f08",
   "metadata": {},
   "outputs": [],
   "source": [
    "text = open('../data/21가평.txt', 'r', encoding='utf8')\n",
    "text1 = text.readlines()\n",
    "stopwords = set(STOPWORDS)"
   ]
  },
  {
   "cell_type": "code",
   "execution_count": 580,
   "id": "44c5dd0f",
   "metadata": {
    "scrolled": true
   },
   "outputs": [
    {
     "data": {
      "text/plain": [
       "['가평 여행 잣고을시장과 이마트 노브랜드 상생스토어\\n',\n",
       " '가평 가볼만한곳 아침고요수목원 가을 여행\\n',\n",
       " '경기도 가평 여행 아침고요푸른마을 잣나무숲 가평 놀거리 볼거리\\n',\n",
       " '가평 당일치기 여행 데이트코스 더스테이힐링파크 볼거리 가평...\\n',\n",
       " '국내여행 서울근교 나들이 가평 남이섬 여행\\n']"
      ]
     },
     "execution_count": 580,
     "metadata": {},
     "output_type": "execute_result"
    }
   ],
   "source": [
    "text1"
   ]
  },
  {
   "cell_type": "code",
   "execution_count": 581,
   "id": "9d19d3f9",
   "metadata": {},
   "outputs": [],
   "source": [
    "import nltk"
   ]
  },
  {
   "cell_type": "code",
   "execution_count": 582,
   "id": "fb0996f5",
   "metadata": {},
   "outputs": [],
   "source": [
    "ok_twitter = Okt()"
   ]
  },
  {
   "cell_type": "code",
   "execution_count": 583,
   "id": "dad367a0",
   "metadata": {
    "scrolled": false
   },
   "outputs": [
    {
     "name": "stdout",
     "output_type": "stream",
     "text": [
      "[('가평', 'Noun'), ('여행', 'Noun'), ('잣', 'Noun'), ('고', 'Josa'), ('을시', 'Noun'), ('장', 'Suffix'), ('과', 'Josa'), ('이마트', 'Noun'), ('노', 'Noun'), ('브랜드', 'Noun'), ('상생', 'Noun'), ('스토어', 'Noun'), ('\\n', 'Foreign')]\n",
      "------------------------------\n",
      "[('가평', 'Noun'), ('가볼만', 'Verb'), ('한', 'Determiner'), ('곳', 'Noun'), ('아침', 'Noun'), ('고요', 'Noun'), ('수목원', 'Noun'), ('가을', 'Noun'), ('여행', 'Noun'), ('\\n', 'Foreign')]\n",
      "------------------------------\n",
      "[('경기도', 'Noun'), ('가평', 'Noun'), ('여행', 'Noun'), ('아침', 'Noun'), ('고요', 'Noun'), ('푸른', 'Noun'), ('마을', 'Noun'), ('잣나무', 'Noun'), ('숲', 'Noun'), ('가평', 'Noun'), ('놀', 'Noun'), ('거리', 'Noun'), ('볼거리', 'Noun'), ('\\n', 'Foreign')]\n",
      "------------------------------\n",
      "[('가평', 'Noun'), ('당일치기', 'Noun'), ('여행', 'Noun'), ('데이트', 'Noun'), ('코스', 'Noun'), ('더', 'Noun'), ('스테이', 'Noun'), ('힐링', 'Noun'), ('파크', 'Noun'), ('볼거리', 'Noun'), ('가평', 'Noun'), ('...', 'Punctuation'), ('\\n', 'Foreign')]\n",
      "------------------------------\n",
      "[('국내', 'Noun'), ('여행', 'Noun'), ('서울', 'Noun'), ('근교', 'Noun'), ('나들이', 'Noun'), ('가평', 'Noun'), ('남이섬', 'Noun'), ('여행', 'Noun'), ('\\n', 'Foreign')]\n",
      "------------------------------\n"
     ]
    }
   ],
   "source": [
    "sentences_tag = []\n",
    "for sentence in text1:\n",
    "  morph = ok_twitter.pos(sentence)\n",
    "  sentences_tag.append(morph)\n",
    "  print(morph) # 분석된 1건 결과 확인\n",
    "  print('-' * 30)"
   ]
  },
  {
   "cell_type": "code",
   "execution_count": 584,
   "id": "dafb04ff",
   "metadata": {
    "scrolled": false
   },
   "outputs": [
    {
     "name": "stdout",
     "output_type": "stream",
     "text": [
      "['가평', '여행', '잣', '을시', '이마트', '노', '브랜드', '상생', '스토어', '가평', '곳', '아침', '고요', '수목원', '가을', '여행', '경기도', '가평', '여행', '아침', '고요', '푸른', '마을', '잣나무', '숲', '가평', '놀', '거리', '볼거리', '가평', '당일치기', '여행', '데이트', '코스', '더', '스테이', '힐링', '파크', '볼거리', '가평', '국내', '여행', '서울', '근교', '나들이', '가평', '남이섬', '여행']\n"
     ]
    }
   ],
   "source": [
    "bucket_list = []\n",
    "for my_sentence in sentences_tag:\n",
    "    for word, tag in my_sentence:\n",
    "        if tag in ['Adjective', 'Noun']:\n",
    "            bucket_list.append(word)\n",
    "\n",
    "print(bucket_list)"
   ]
  },
  {
   "cell_type": "code",
   "execution_count": 585,
   "id": "0a529a87",
   "metadata": {
    "scrolled": true
   },
   "outputs": [
    {
     "name": "stdout",
     "output_type": "stream",
     "text": [
      "Counter({'가평': 7, '여행': 6, '아침': 2, '고요': 2, '볼거리': 2, '잣': 1, '을시': 1, '이마트': 1, '노': 1, '브랜드': 1, '상생': 1, '스토어': 1, '곳': 1, '수목원': 1, '가을': 1, '경기도': 1, '푸른': 1, '마을': 1, '잣나무': 1, '숲': 1, '놀': 1, '거리': 1, '당일치기': 1, '데이트': 1, '코스': 1, '더': 1, '스테이': 1, '힐링': 1, '파크': 1, '국내': 1, '서울': 1, '근교': 1, '나들이': 1, '남이섬': 1})\n"
     ]
    }
   ],
   "source": [
    "from collections import Counter\n",
    "counts = Counter(bucket_list)\n",
    "print(counts)"
   ]
  },
  {
   "cell_type": "code",
   "execution_count": null,
   "id": "3cc7cb2d",
   "metadata": {},
   "outputs": [],
   "source": []
  },
  {
   "cell_type": "code",
   "execution_count": null,
   "id": "b80afbf6",
   "metadata": {},
   "outputs": [],
   "source": []
  },
  {
   "cell_type": "code",
   "execution_count": null,
   "id": "b206827b",
   "metadata": {},
   "outputs": [],
   "source": []
  },
  {
   "cell_type": "code",
   "execution_count": null,
   "id": "af4d3395",
   "metadata": {},
   "outputs": [],
   "source": []
  },
  {
   "cell_type": "code",
   "execution_count": null,
   "id": "383876d3",
   "metadata": {},
   "outputs": [],
   "source": []
  },
  {
   "cell_type": "code",
   "execution_count": null,
   "id": "c90e32fd",
   "metadata": {},
   "outputs": [],
   "source": []
  },
  {
   "cell_type": "code",
   "execution_count": null,
   "id": "27913225",
   "metadata": {},
   "outputs": [],
   "source": []
  },
  {
   "cell_type": "code",
   "execution_count": null,
   "id": "e45cfffb",
   "metadata": {},
   "outputs": [],
   "source": []
  },
  {
   "cell_type": "code",
   "execution_count": null,
   "id": "8fc38726",
   "metadata": {},
   "outputs": [],
   "source": []
  }
 ],
 "metadata": {
  "kernelspec": {
   "display_name": "Python 3 (ipykernel)",
   "language": "python",
   "name": "python3"
  },
  "language_info": {
   "codemirror_mode": {
    "name": "ipython",
    "version": 3
   },
   "file_extension": ".py",
   "mimetype": "text/x-python",
   "name": "python",
   "nbconvert_exporter": "python",
   "pygments_lexer": "ipython3",
   "version": "3.9.7"
  }
 },
 "nbformat": 4,
 "nbformat_minor": 5
}
