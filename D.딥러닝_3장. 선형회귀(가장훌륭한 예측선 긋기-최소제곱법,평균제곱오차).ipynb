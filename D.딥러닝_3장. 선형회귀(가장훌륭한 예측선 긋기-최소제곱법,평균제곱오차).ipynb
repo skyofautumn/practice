{
 "cells": [
  {
   "cell_type": "markdown",
   "id": "176aa3b9",
   "metadata": {},
   "source": [
    "# 3장. 가장 훌륭한 예측선 긋기 : 선형회귀"
   ]
  },
  {
   "cell_type": "markdown",
   "id": "f442950c",
   "metadata": {},
   "source": [
    "## 최소제곱법"
   ]
  },
  {
   "cell_type": "code",
   "execution_count": 21,
   "id": "712b1b69",
   "metadata": {},
   "outputs": [],
   "source": [
    "import numpy as np\n",
    "\n",
    "x = [2,4,6,8]\n",
    "y = [81,93,91,97] "
   ]
  },
  {
   "cell_type": "code",
   "execution_count": 22,
   "id": "1266d599",
   "metadata": {},
   "outputs": [
    {
     "name": "stdout",
     "output_type": "stream",
     "text": [
      "x의 평균값: 5.0\n",
      "y의 평균값: 90.5\n"
     ]
    }
   ],
   "source": [
    "mx = np.mean(x)\n",
    "my = np.mean(y)\n",
    "print(\"x의 평균값:\", mx)\n",
    "print(\"y의 평균값:\", my)"
   ]
  },
  {
   "cell_type": "code",
   "execution_count": 23,
   "id": "b9fa4e0e",
   "metadata": {},
   "outputs": [],
   "source": [
    "divisor = sum([(i-mx)**2 for i in x])"
   ]
  },
  {
   "cell_type": "code",
   "execution_count": 32,
   "id": "a8101a2e",
   "metadata": {},
   "outputs": [
    {
     "name": "stdout",
     "output_type": "stream",
     "text": [
      "분모: 20.0\n",
      "분자: 46.0\n"
     ]
    }
   ],
   "source": [
    "def top (x, mx, y, my):\n",
    "    d = 0\n",
    "    for i in range(len(X)):\n",
    "        d+= (x[i] - mx) * (y[i]-my)\n",
    "    return d\n",
    "dividend = top(x, mx, y, my)\n",
    "print(\"분모:\", divisor)\n",
    "print(\"분자:\", dividend)"
   ]
  },
  {
   "cell_type": "code",
   "execution_count": 33,
   "id": "7a00e98f",
   "metadata": {},
   "outputs": [],
   "source": [
    "a = dividend / divisor"
   ]
  },
  {
   "cell_type": "code",
   "execution_count": 34,
   "id": "4a4e1b54",
   "metadata": {},
   "outputs": [],
   "source": [
    "b = my - (mx*a)"
   ]
  },
  {
   "cell_type": "code",
   "execution_count": 35,
   "id": "3128b28b",
   "metadata": {},
   "outputs": [
    {
     "name": "stdout",
     "output_type": "stream",
     "text": [
      "기울기 a: 2.3\n",
      "y 절편 b: 79.0\n"
     ]
    }
   ],
   "source": [
    "print(\"기울기 a:\", a)\n",
    "print(\"y 절편 b:\", b)"
   ]
  },
  {
   "cell_type": "markdown",
   "id": "a8678299",
   "metadata": {},
   "source": [
    "### 총정리"
   ]
  },
  {
   "cell_type": "code",
   "execution_count": 31,
   "id": "c65f0c56",
   "metadata": {},
   "outputs": [
    {
     "name": "stdout",
     "output_type": "stream",
     "text": [
      "x의 평균값: 5.0\n",
      "y의 평균값: 90.5\n",
      "분모: 20.0\n",
      "분자: 46.0\n",
      "기울기 a: 2.3\n",
      "y 절편 b: 79.0\n"
     ]
    }
   ],
   "source": [
    "import numpy as np\n",
    "\n",
    "x = [2,4,6,8]\n",
    "y = [81,93,91,97]\n",
    "\n",
    "\n",
    "mx = np.mean(x)\n",
    "my = np.mean(y)\n",
    "print(\"x의 평균값:\", mx)\n",
    "print(\"y의 평균값:\", my)\n",
    "\n",
    "#기울기 공식의 분모\n",
    "divisor = sum([(i-mx)**2 for i in x])\n",
    "\n",
    "#기울기 공식의 분자\n",
    "def top (x, mx, y, my):\n",
    "    d = 0\n",
    "    for i in range(len(x)):\n",
    "        d+= (x[i] - mx) * (y[i]-my)\n",
    "    return d\n",
    "dividend = top(x, mx, y, my)\n",
    "print(\"분모:\", divisor)\n",
    "print(\"분자:\", dividend)\n",
    "\n",
    "#기울기a 와 y절편 b 구하기\n",
    "a = dividend / divisor\n",
    "b = my - (mx*a)\n",
    "\n",
    "print(\"기울기 a:\", a)\n",
    "print(\"y 절편 b:\", b)"
   ]
  },
  {
   "cell_type": "markdown",
   "id": "1809c0d6",
   "metadata": {},
   "source": [
    "* 예측값 구하기 위한 방정식 : y = 2.3X + 79"
   ]
  },
  {
   "cell_type": "markdown",
   "id": "f297f6fd",
   "metadata": {},
   "source": [
    "## 평균제곱오차"
   ]
  },
  {
   "cell_type": "code",
   "execution_count": 52,
   "id": "552b0eaf",
   "metadata": {},
   "outputs": [],
   "source": [
    "import numpy as np"
   ]
  },
  {
   "cell_type": "code",
   "execution_count": 53,
   "id": "d20bf417",
   "metadata": {},
   "outputs": [],
   "source": [
    "fake_a_b = [3,76] #y=3x+76"
   ]
  },
  {
   "cell_type": "code",
   "execution_count": 54,
   "id": "e209fc72",
   "metadata": {},
   "outputs": [],
   "source": [
    "data = [[2,81],[4,93],[6,91],[8,97]]\n",
    "x = [i[0] for i in data]\n",
    "y = [i[1] for i in data]"
   ]
  },
  {
   "cell_type": "code",
   "execution_count": 55,
   "id": "26914437",
   "metadata": {},
   "outputs": [],
   "source": [
    "def predict(x): \n",
    "    return fake_a_b[0]*x + fake_a_b[1]   "
   ]
  },
  {
   "cell_type": "code",
   "execution_count": 61,
   "id": "811cf25a",
   "metadata": {},
   "outputs": [],
   "source": [
    "def mse(y, y_hat):\n",
    "    return((y-y_hat)**2).mean()"
   ]
  },
  {
   "cell_type": "code",
   "execution_count": 66,
   "id": "2e4e1b3c",
   "metadata": {
    "scrolled": true
   },
   "outputs": [
    {
     "data": {
      "image/jpeg": "[encoded data removed]",
      "text/plain": [
       "<IPython.core.display.Image object>"
      ]
     },
     "execution_count": 66,
     "metadata": {},
     "output_type": "execute_result"
    }
   ],
   "source": [
    "from IPython.display import Image \n",
    "Image(\"../data/평균제곱오차.jpg\")"
   ]
  },
  {
   "cell_type": "code",
   "execution_count": 62,
   "id": "b86bcf24",
   "metadata": {},
   "outputs": [],
   "source": [
    "# MSE 함수를 각 y값에 대입하여 최종 값을 구하는 함수\n",
    "def mse_val(y, predict_result):\n",
    "    return mse(np.array(y), np.array(predict_result))"
   ]
  },
  {
   "cell_type": "code",
   "execution_count": 63,
   "id": "51be3f8a",
   "metadata": {},
   "outputs": [],
   "source": [
    "predict_result = []"
   ]
  },
  {
   "cell_type": "code",
   "execution_count": 64,
   "id": "ebe8eae1",
   "metadata": {},
   "outputs": [
    {
     "name": "stdout",
     "output_type": "stream",
     "text": [
      "공부시간=2, 실제점수=81, 예측점수=82\n",
      "공부시간=4, 실제점수=93, 예측점수=88\n",
      "공부시간=6, 실제점수=91, 예측점수=94\n",
      "공부시간=8, 실제점수=97, 예측점수=100\n"
     ]
    }
   ],
   "source": [
    "for i in range(len(x)):\n",
    "    predict_result.append(predict(x[i]))\n",
    "    print(\"공부시간=%.f, 실제점수=%.f, 예측점수=%.f\" % (x[i],y[i],predict(x[i])))"
   ]
  },
  {
   "cell_type": "code",
   "execution_count": 65,
   "id": "26fb7d15",
   "metadata": {
    "scrolled": true
   },
   "outputs": [
    {
     "name": "stdout",
     "output_type": "stream",
     "text": [
      "mse 최종값:11.0\n"
     ]
    }
   ],
   "source": [
    "print(\"mse 최종값:\" +str(mse_val(y, predict_result)))"
   ]
  },
  {
   "cell_type": "markdown",
   "id": "95587549",
   "metadata": {},
   "source": [
    "### 최종정리"
   ]
  },
  {
   "cell_type": "code",
   "execution_count": 69,
   "id": "0d33f0f5",
   "metadata": {},
   "outputs": [
    {
     "name": "stdout",
     "output_type": "stream",
     "text": [
      "공부시간=2, 실제점수=81, 예측점수=82\n",
      "공부시간=4, 실제점수=93, 예측점수=88\n",
      "공부시간=6, 실제점수=91, 예측점수=94\n",
      "공부시간=8, 실제점수=97, 예측점수=100\n",
      "mse 최종값:11.0\n"
     ]
    }
   ],
   "source": [
    "import numpy as np\n",
    "\n",
    "fake_a_b = [3,76]\n",
    "\n",
    "data = [[2,81],[4,93],[6,91],[8,97]]\n",
    "x = [i[0] for i in data]\n",
    "y = [i[1] for i in data]\n",
    "\n",
    "def predict(x): \n",
    "    return fake_a_b[0]*x + fake_a_b[1]\n",
    "\n",
    "def mse(y, y_hat):\n",
    "    return((y-y_hat)**2).mean()\n",
    "\n",
    "def mse_val(y, predict_result):\n",
    "    return mse(np.array(y), np.array(predict_result))\n",
    "\n",
    "\n",
    "predict_result = []\n",
    "\n",
    "#모든 x값을 한번씩 대입하여 predict_result 리스트완성\n",
    "for i in range(len(x)):\n",
    "    predict_result.append(predict(x[i]))\n",
    "    print(\"공부시간=%.f, 실제점수=%.f, 예측점수=%.f\" % (x[i],y[i],predict(x[i])))\n",
    "\n",
    "#최종 MSE 출력\n",
    "print(\"mse 최종값:\" +str(mse_val(y, predict_result)))"
   ]
  },
  {
   "cell_type": "markdown",
   "id": "4ed54851",
   "metadata": {},
   "source": [
    "* 이 오차를 줄이면서 새로운 선 긋기(a,b값 적절히 조정하면서 오차의 변화를 살펴보고, 그 오차가 최소화 되는 a,b값을 구해야 합니다. 오차를 줄이는 방법이 경사하강법이다.)\n",
    "* a=3, b=76, 오차:11.0"
   ]
  }
 ],
 "metadata": {
  "kernelspec": {
   "display_name": "Python 3 (ipykernel)",
   "language": "python",
   "name": "python3"
  },
  "language_info": {
   "codemirror_mode": {
    "name": "ipython",
    "version": 3
   },
   "file_extension": ".py",
   "mimetype": "text/x-python",
   "name": "python",
   "nbconvert_exporter": "python",
   "pygments_lexer": "ipython3",
   "version": "3.9.7"
  }
 },
 "nbformat": 4,
 "nbformat_minor": 5
}
