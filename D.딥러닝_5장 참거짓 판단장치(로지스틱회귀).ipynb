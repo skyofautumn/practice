{
 "cells": [
  {
   "cell_type": "markdown",
   "id": "328b5d90",
   "metadata": {},
   "source": [
    "# 5장. 참거짓 판단장치 : 로지스틱회귀"
   ]
  },
  {
   "cell_type": "markdown",
   "id": "ad0b1814",
   "metadata": {},
   "source": [
    "## 로지스틱회귀"
   ]
  },
  {
   "cell_type": "code",
   "execution_count": 2,
   "id": "442cc72b",
   "metadata": {},
   "outputs": [
    {
     "data": {
      "text/plain": [
       "(-0.1, 1.1)"
      ]
     },
     "execution_count": 2,
     "metadata": {},
     "output_type": "execute_result"
    },
    {
     "data": {
      "image/png": "[encoded data removed]",
      "text/plain": [
       "<Figure size 432x288 with 1 Axes>"
      ]
     },
     "metadata": {
      "needs_background": "light"
     },
     "output_type": "display_data"
    }
   ],
   "source": [
    "import numpy as np\n",
    "import pandas as pd\n",
    "import matplotlib.pyplot as plt\n",
    " \n",
    "\n",
    "#공부시간 x와 성적 y\n",
    "data = [[2,0], [4,0], [6,0], [8,0], [10,1], [12,1], [14,1]]\n",
    "\n",
    "x_data = [i[0] for i in data]\n",
    "y_data = [i[1] for i in data]\n",
    "\n",
    "plt.scatter(x_data, y_data)\n",
    "plt.xlim(0,15)\n",
    "plt.ylim(-.1, 1.1)"
   ]
  },
  {
   "cell_type": "code",
   "execution_count": 12,
   "id": "48a145bd",
   "metadata": {},
   "outputs": [
    {
     "name": "stdout",
     "output_type": "stream",
     "text": [
      "epoch=0, 기울기=-0.0500, 절편=-0.0250\n",
      "epoch=0, 기울기=-0.1388, 절편=-0.0472\n",
      "epoch=0, 기울기=-0.2268, 절편=-0.0619\n",
      "epoch=0, 기울기=-0.2799, 절편=-0.0685\n",
      "epoch=0, 기울기=0.1932, 절편=-0.0212\n",
      "epoch=0, 기울기=0.2480, 절편=-0.0166\n",
      "epoch=0, 기울기=0.2694, 절편=-0.0151\n",
      "epoch=1000, 기울기=1.4152, 절편=-11.7488\n",
      "epoch=1000, 기울기=1.4148, 절편=-11.7489\n",
      "epoch=1000, 기울기=1.4037, 절편=-11.7508\n",
      "epoch=1000, 기울기=1.2547, 절편=-11.7694\n",
      "epoch=1000, 기울기=1.4121, 절편=-11.7537\n",
      "epoch=1000, 기울기=1.4154, 절편=-11.7534\n",
      "epoch=1000, 기울기=1.4157, 절편=-11.7534\n",
      "epoch=2000, 기울기=1.7580, 절편=-15.1655\n",
      "epoch=2000, 기울기=1.7579, 절편=-15.1655\n",
      "epoch=2000, 기울기=1.7550, 절편=-15.1660\n",
      "epoch=2000, 기울기=1.6570, 절편=-15.1783\n",
      "epoch=2000, 기울기=1.7566, 절편=-15.1683\n",
      "epoch=2000, 기울기=1.7582, 절편=-15.1682\n",
      "epoch=2000, 기울기=1.7583, 절편=-15.1682\n"
     ]
    }
   ],
   "source": [
    "#기울기 a와 절편 b, 학습률 초기화\n",
    "a = 0; b = 0; Ir= 0.05 #학습률\n",
    "\n",
    "#시그모이드 함수\n",
    "def sigmoid(x):\n",
    "    return 1 / (1 + np.e ** (-x))\n",
    "\n",
    "#경사하강법을 실행\n",
    "for i in range(2001):\n",
    "    for x_data, y_data in data:\n",
    "        a_diff = x_data*(sigmoid(a*x_data+b)-y_data)#a에 대해 편미분\n",
    "        b_diff = sigmoid(a*x_data+b)-y_data #b에 대해 편미분\n",
    "        a = a - Ir * a_diff\n",
    "        b = b - Ir * b_diff\n",
    "        #1000번 반복될때마다 각 x_data값에 대한 현재의 a값, b값을 출력\n",
    "        if i % 1000 == 0:\n",
    "            print(\"epoch=%.f, 기울기=%.04f, 절편=%.04f\" % (i,a,b))\n"
   ]
  },
  {
   "cell_type": "code",
   "execution_count": 11,
   "id": "a5b12e78",
   "metadata": {},
   "outputs": [
    {
     "data": {
      "image/jpeg": "[encoded data removed]",
      "text/plain": [
       "<IPython.core.display.Image object>"
      ]
     },
     "execution_count": 11,
     "metadata": {},
     "output_type": "execute_result"
    }
   ],
   "source": [
    "from IPython.display import Image\n",
    "Image(\"../data/시그모이드함수.jpg\")"
   ]
  },
  {
   "cell_type": "code",
   "execution_count": 13,
   "id": "93b1e2f5",
   "metadata": {},
   "outputs": [
    {
     "data": {
      "image/png": "[encoded data removed]",
      "text/plain": [
       "<Figure size 432x288 with 1 Axes>"
      ]
     },
     "metadata": {
      "needs_background": "light"
     },
     "output_type": "display_data"
    }
   ],
   "source": [
    "# 구한 기울기와 절편을 이용한 그래프\n",
    "x_data = [i[0] for i in data]\n",
    "y_data = [i[1] for i in data]\n",
    "plt.scatter(x_data, y_data)\n",
    "plt.xlim(0,15)\n",
    "plt.ylim(-.1, 1.1)\n",
    "x_range = (np.arange(0, 15, 0.1))\n",
    "plt.plot(np.arange(0,15,0.1), np.array([sigmoid(a*x) for x in x_range]))\n",
    "plt.show()"
   ]
  },
  {
   "cell_type": "markdown",
   "id": "7aef1808",
   "metadata": {},
   "source": [
    "* **세개 이상의 입력값**(ex.iris 데이터)을 다룬다면 시그모이드 함수가 아니라 **소프트맥스**라는 함수를 써야함"
   ]
  },
  {
   "cell_type": "code",
   "execution_count": null,
   "id": "be900508",
   "metadata": {},
   "outputs": [],
   "source": []
  }
 ],
 "metadata": {
  "kernelspec": {
   "display_name": "Python 3 (ipykernel)",
   "language": "python",
   "name": "python3"
  },
  "language_info": {
   "codemirror_mode": {
    "name": "ipython",
    "version": 3
   },
   "file_extension": ".py",
   "mimetype": "text/x-python",
   "name": "python",
   "nbconvert_exporter": "python",
   "pygments_lexer": "ipython3",
   "version": "3.9.7"
  }
 },
 "nbformat": 4,
 "nbformat_minor": 5
}
