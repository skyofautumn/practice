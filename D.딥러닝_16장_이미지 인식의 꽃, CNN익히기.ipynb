{
 "cells": [
  {
   "cell_type": "markdown",
   "id": "d390252d",
   "metadata": {},
   "source": [
    "# 16장. 이미지 인식의 꽃, CNN 익히기"
   ]
  },
  {
   "cell_type": "code",
   "execution_count": 23,
   "id": "ac903b40",
   "metadata": {},
   "outputs": [
    {
     "name": "stdout",
     "output_type": "stream",
     "text": [
      "학습셋 이미지 수 : 60000 개\n",
      "테스트셋 이미지 수 : 10000 개\n"
     ]
    }
   ],
   "source": [
    "from tensorflow.keras.datasets import mnist\n",
    "from tensorflow.keras.utils import to_categorical\n",
    "from tensorflow.keras.models import Sequential\n",
    "from tensorflow.keras.layers import Dense\n",
    "from tensorflow.keras.callbacks import ModelCheckpoint,EarlyStopping\n",
    "import matplotlib.pyplot as plt\n",
    "import numpy as np\n",
    "import pandas as pd\n",
    "import sys\n",
    "import os\n",
    "import tensorflow as tf\n",
    "\n",
    "seed=0\n",
    "np.random.seed(seed)\n",
    "tf.random.set_seed(3)\n",
    "\n",
    "#MNIST데이터셋 불러오기\n",
    "(X_train, Y_class_train), (X_test, Y_class_test) = mnist.load_data()\n",
    "\n",
    "print(\"학습셋 이미지 수 : %d 개\" % (X_train.shape[0]))\n",
    "print(\"테스트셋 이미지 수 : %d 개\" % (X_test.shape[0]))"
   ]
  },
  {
   "cell_type": "code",
   "execution_count": 15,
   "id": "0b3b32de",
   "metadata": {},
   "outputs": [
    {
     "data": {
      "image/png": "[encoded data removed]",
      "text/plain": [
       "<Figure size 432x288 with 1 Axes>"
      ]
     },
     "metadata": {
      "needs_background": "light"
     },
     "output_type": "display_data"
    }
   ],
   "source": [
    "import matplotlib.pyplot as plt\n",
    "plt.imshow(X_train[0], cmap='Greys')\n",
    "plt.show()\n",
    "#가로 28*세로 28 = 784개 픽셀"
   ]
  },
  {
   "cell_type": "code",
   "execution_count": 16,
   "id": "860ebe58",
   "metadata": {},
   "outputs": [
    {
     "data": {
      "image/png": "[encoded data removed]",
      "text/plain": [
       "<Figure size 432x288 with 1 Axes>"
      ]
     },
     "metadata": {
      "needs_background": "light"
     },
     "output_type": "display_data"
    }
   ],
   "source": [
    "import matplotlib.pyplot as plt\n",
    "plt.imshow(X_train[5], cmap='Greys')\n",
    "plt.show()\n",
    "#가로 28*세로 28 = 784개 픽셀"
   ]
  },
  {
   "cell_type": "code",
   "execution_count": 17,
   "id": "417092d7",
   "metadata": {},
   "outputs": [
    {
     "name": "stdout",
     "output_type": "stream",
     "text": [
      "0/t0/t0/t0/t0/t0/t0/t0/t0/t0/t0/t0/t0/t0/t0/t0/t0/t0/t0/t0/t0/t0/t0/t0/t0/t0/t0/t0/t\n",
      "0/t0/t0/t0/t0/t0/t0/t0/t0/t0/t0/t0/t0/t0/t0/t0/t0/t0/t0/t0/t0/t0/t0/t0/t0/t0/t0/t0/t\n",
      "0/t0/t0/t0/t0/t0/t0/t0/t0/t0/t0/t0/t0/t0/t0/t0/t0/t0/t0/t0/t0/t0/t0/t0/t0/t0/t0/t0/t\n",
      "0/t0/t0/t0/t0/t0/t0/t0/t0/t0/t0/t0/t0/t0/t0/t0/t0/t0/t0/t0/t0/t0/t0/t0/t0/t0/t0/t0/t\n",
      "0/t0/t0/t0/t0/t0/t0/t0/t0/t0/t0/t0/t0/t0/t0/t0/t0/t0/t0/t0/t0/t0/t0/t0/t0/t0/t0/t0/t\n",
      "0/t0/t0/t0/t0/t0/t0/t0/t0/t0/t0/t0/t3/t18/t18/t18/t126/t136/t175/t26/t166/t255/t247/t127/t0/t0/t0/t0/t\n",
      "0/t0/t0/t0/t0/t0/t0/t0/t30/t36/t94/t154/t170/t253/t253/t253/t253/t253/t225/t172/t253/t242/t195/t64/t0/t0/t0/t0/t\n",
      "0/t0/t0/t0/t0/t0/t0/t49/t238/t253/t253/t253/t253/t253/t253/t253/t253/t251/t93/t82/t82/t56/t39/t0/t0/t0/t0/t0/t\n",
      "0/t0/t0/t0/t0/t0/t0/t18/t219/t253/t253/t253/t253/t253/t198/t182/t247/t241/t0/t0/t0/t0/t0/t0/t0/t0/t0/t0/t\n",
      "0/t0/t0/t0/t0/t0/t0/t0/t80/t156/t107/t253/t253/t205/t11/t0/t43/t154/t0/t0/t0/t0/t0/t0/t0/t0/t0/t0/t\n",
      "0/t0/t0/t0/t0/t0/t0/t0/t0/t14/t1/t154/t253/t90/t0/t0/t0/t0/t0/t0/t0/t0/t0/t0/t0/t0/t0/t0/t\n",
      "0/t0/t0/t0/t0/t0/t0/t0/t0/t0/t0/t139/t253/t190/t2/t0/t0/t0/t0/t0/t0/t0/t0/t0/t0/t0/t0/t0/t\n",
      "0/t0/t0/t0/t0/t0/t0/t0/t0/t0/t0/t11/t190/t253/t70/t0/t0/t0/t0/t0/t0/t0/t0/t0/t0/t0/t0/t0/t\n",
      "0/t0/t0/t0/t0/t0/t0/t0/t0/t0/t0/t0/t35/t241/t225/t160/t108/t1/t0/t0/t0/t0/t0/t0/t0/t0/t0/t0/t\n",
      "0/t0/t0/t0/t0/t0/t0/t0/t0/t0/t0/t0/t0/t81/t240/t253/t253/t119/t25/t0/t0/t0/t0/t0/t0/t0/t0/t0/t\n",
      "0/t0/t0/t0/t0/t0/t0/t0/t0/t0/t0/t0/t0/t0/t45/t186/t253/t253/t150/t27/t0/t0/t0/t0/t0/t0/t0/t0/t\n",
      "0/t0/t0/t0/t0/t0/t0/t0/t0/t0/t0/t0/t0/t0/t0/t16/t93/t252/t253/t187/t0/t0/t0/t0/t0/t0/t0/t0/t\n",
      "0/t0/t0/t0/t0/t0/t0/t0/t0/t0/t0/t0/t0/t0/t0/t0/t0/t249/t253/t249/t64/t0/t0/t0/t0/t0/t0/t0/t\n",
      "0/t0/t0/t0/t0/t0/t0/t0/t0/t0/t0/t0/t0/t0/t46/t130/t183/t253/t253/t207/t2/t0/t0/t0/t0/t0/t0/t0/t\n",
      "0/t0/t0/t0/t0/t0/t0/t0/t0/t0/t0/t0/t39/t148/t229/t253/t253/t253/t250/t182/t0/t0/t0/t0/t0/t0/t0/t0/t\n",
      "0/t0/t0/t0/t0/t0/t0/t0/t0/t0/t24/t114/t221/t253/t253/t253/t253/t201/t78/t0/t0/t0/t0/t0/t0/t0/t0/t0/t\n",
      "0/t0/t0/t0/t0/t0/t0/t0/t23/t66/t213/t253/t253/t253/t253/t198/t81/t2/t0/t0/t0/t0/t0/t0/t0/t0/t0/t0/t\n",
      "0/t0/t0/t0/t0/t0/t18/t171/t219/t253/t253/t253/t253/t195/t80/t9/t0/t0/t0/t0/t0/t0/t0/t0/t0/t0/t0/t0/t\n",
      "0/t0/t0/t0/t55/t172/t226/t253/t253/t253/t253/t244/t133/t11/t0/t0/t0/t0/t0/t0/t0/t0/t0/t0/t0/t0/t0/t0/t\n",
      "0/t0/t0/t0/t136/t253/t253/t253/t212/t135/t132/t16/t0/t0/t0/t0/t0/t0/t0/t0/t0/t0/t0/t0/t0/t0/t0/t0/t\n",
      "0/t0/t0/t0/t0/t0/t0/t0/t0/t0/t0/t0/t0/t0/t0/t0/t0/t0/t0/t0/t0/t0/t0/t0/t0/t0/t0/t0/t\n",
      "0/t0/t0/t0/t0/t0/t0/t0/t0/t0/t0/t0/t0/t0/t0/t0/t0/t0/t0/t0/t0/t0/t0/t0/t0/t0/t0/t0/t\n",
      "0/t0/t0/t0/t0/t0/t0/t0/t0/t0/t0/t0/t0/t0/t0/t0/t0/t0/t0/t0/t0/t0/t0/t0/t0/t0/t0/t0/t\n"
     ]
    }
   ],
   "source": [
    "#코드로 확인\n",
    "for x in X_train[0]:\n",
    "    for i in x:\n",
    "        sys.stdout.write('%d/t' %i)\n",
    "    sys.stdout.write('\\n')"
   ]
  },
  {
   "cell_type": "code",
   "execution_count": 18,
   "id": "72664174",
   "metadata": {},
   "outputs": [],
   "source": [
    "X_train = X_train.reshape(X_train.shape[0], 784) #X_train을 1차원배열로\n",
    "X_train = X_train.astype('float64') #값이 너무 크니 정규화 위해 실수형으로 바꿈\n",
    "X_train = X_train /255 #가장 큰값인 255로 나눠서 정규화(normalization) 시켜줌\n",
    "\n",
    "#X_test도 같은 작업해줌.(위에거 한꺼번에 씀)\n",
    "X_test = X_test.reshape(X_test.shape[0], 784).astype('float64')/255"
   ]
  },
  {
   "cell_type": "code",
   "execution_count": 22,
   "id": "86c5132e",
   "metadata": {},
   "outputs": [
    {
     "name": "stdout",
     "output_type": "stream",
     "text": [
      "class:5\n",
      "[0. 0. 0. 0. 0. 1. 0. 0. 0. 0.]\n",
      "[0. 0. 0. 0. 1. 0. 0. 0. 0. 0.]\n"
     ]
    }
   ],
   "source": [
    "#클래스 값 확인\n",
    "print('class:%d' % (Y_class_train[0]))\n",
    "\n",
    "#바이너리화 과정\n",
    "Y_train = to_categorical(Y_class_train,10) #10(0~9까지있으니 클래스의 갯수10)\n",
    "Y_test = to_categorical(Y_class_test, 10)\n",
    "\n",
    "print(Y_train[0])\n",
    "print(Y_train[2])"
   ]
  },
  {
   "cell_type": "markdown",
   "id": "732858d4",
   "metadata": {},
   "source": [
    "### 딥러닝 기본 프레임 만들기"
   ]
  },
  {
   "cell_type": "code",
   "execution_count": null,
   "id": "5949a2a8",
   "metadata": {},
   "outputs": [],
   "source": []
  },
  {
   "cell_type": "code",
   "execution_count": null,
   "id": "63720f2a",
   "metadata": {},
   "outputs": [],
   "source": []
  },
  {
   "cell_type": "code",
   "execution_count": null,
   "id": "db8b72f2",
   "metadata": {},
   "outputs": [],
   "source": []
  }
 ],
 "metadata": {
  "kernelspec": {
   "display_name": "Python 3 (ipykernel)",
   "language": "python",
   "name": "python3"
  },
  "language_info": {
   "codemirror_mode": {
    "name": "ipython",
    "version": 3
   },
   "file_extension": ".py",
   "mimetype": "text/x-python",
   "name": "python",
   "nbconvert_exporter": "python",
   "pygments_lexer": "ipython3",
   "version": "3.9.7"
  }
 },
 "nbformat": 4,
 "nbformat_minor": 5
}
