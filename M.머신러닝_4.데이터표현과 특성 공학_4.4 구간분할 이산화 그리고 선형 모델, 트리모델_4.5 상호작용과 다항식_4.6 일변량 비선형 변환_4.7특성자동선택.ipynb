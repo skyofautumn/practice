{
 "cells": [
  {
   "cell_type": "markdown",
   "id": "d2a64f8a",
   "metadata": {},
   "source": [
    "## 4.4 구간분할, 이산화 그리고 선형 모델, 트리 모델"
   ]
  },
  {
   "cell_type": "markdown",
   "id": "1d8c8d47",
   "metadata": {},
   "source": [
    "* 어떤 모델을 사용하는지에 따라 달라짐\n",
    "* 이산화 : 특성의 입력값 범위가 여러 구간 분할"
   ]
  },
  {
   "cell_type": "code",
   "execution_count": 13,
   "id": "20e11b6d",
   "metadata": {},
   "outputs": [],
   "source": [
    "import matplotlib.pyplot as plt\n",
    "%matplotlib inline\n",
    "\n",
    "import warnings\n",
    "warnings.filterwarnings(action = 'ignore')\n",
    "\n",
    "from matplotlib import font_manager, rc \n",
    "plt.rcParams['axes.unicode_minus'] = False\n",
    "font_name = font_manager.FontProperties(fname= \"c:/Windows/Fonts/malgun.ttf\").get_name()\n",
    "rc('font', family=font_name)"
   ]
  },
  {
   "cell_type": "code",
   "execution_count": 28,
   "id": "03349155",
   "metadata": {},
   "outputs": [
    {
     "data": {
      "image/png": "[encoded data removed]",
      "text/plain": [
       "<Figure size 432x288 with 1 Axes>"
      ]
     },
     "metadata": {
      "needs_background": "light"
     },
     "output_type": "display_data"
    }
   ],
   "source": [
    "import matplotlib.pyplot as plt\n",
    "import mglearn\n",
    "import numpy as np\n",
    "from sklearn.linear_model import LinearRegression #선형회귀\n",
    "from sklearn.tree import DecisionTreeRegressor #결정트리\n",
    "\n",
    "X, y = mglearn.datasets.make_wave(n_samples=120) #wave 데이터셋 가져옴\n",
    "line = np.linspace(-3, 3, 1000, endpoint=False).reshape(-1,1) #1000개구간\n",
    "#reshape 형태 재배열\n",
    "\n",
    "#리프노드가 되기 위한 최소의 샘플 개수 지정\n",
    "reg = DecisionTreeRegressor(min_samples_split=3).fit(X, y) # 리프로드3개분할\n",
    "plt.plot(line, reg.predict(line), label=\"DecisionTreeRegressor\")\n",
    "\n",
    "reg = LinearRegression().fit(X,y)\n",
    "plt.plot(line, reg.predict(line), '--', label='LinearRegression')\n",
    "\n",
    "plt.plot(X[:, 0], y, 'o', c='k')\n",
    "plt.xlabel('regressor output')\n",
    "plt.ylabel('input attr')\n",
    "plt.legend(loc='best')\n",
    "plt.show()"
   ]
  },
  {
   "cell_type": "markdown",
   "id": "02c54531",
   "metadata": {},
   "source": [
    "* 연속형 데이터에 강력한 선형 모델을 만드는 방법은 한 특성을 여러 특성으로 나누는 구간 분할이다 (이산화)\n",
    "* 선형은 특성이 하나면 직선으로 보인다(아래에 우리가 나눠본다)"
   ]
  },
  {
   "cell_type": "code",
   "execution_count": 29,
   "id": "83956602",
   "metadata": {},
   "outputs": [],
   "source": [
    "from sklearn.preprocessing import KBinsDiscretizer"
   ]
  },
  {
   "cell_type": "code",
   "execution_count": 30,
   "id": "025d8168",
   "metadata": {},
   "outputs": [
    {
     "name": "stdout",
     "output_type": "stream",
     "text": [
      "bin edges: \n",
      " [array([-2.9668673 , -2.37804841, -1.78922951, -1.20041062, -0.61159173,\n",
      "        -0.02277284,  0.56604605,  1.15486494,  1.74368384,  2.33250273,\n",
      "         2.92132162])                                                   ]\n"
     ]
    }
   ],
   "source": [
    "# 10개의 구간으로 나눔(-2.9668673~2.92132162)\n",
    "# 첫 번째 구간 : -2.9668673 ~ -2.37804841\n",
    "kb = KBinsDiscretizer(n_bins=10, strategy='uniform') \n",
    "kb.fit(X)\n",
    "print('bin edges: \\n', kb.bin_edges_)"
   ]
  },
  {
   "cell_type": "code",
   "execution_count": 31,
   "id": "c62bea38",
   "metadata": {},
   "outputs": [
    {
     "data": {
      "text/plain": [
       "<120x10 sparse matrix of type '<class 'numpy.float64'>'\n",
       "\twith 120 stored elements in Compressed Sparse Row format>"
      ]
     },
     "execution_count": 31,
     "metadata": {},
     "output_type": "execute_result"
    }
   ],
   "source": [
    "# transform 메서드를 사용하면 각 데이터 포인트를 해당 구간으로 인코딩할수 있다.\n",
    "X_binned = kb.transform(X)\n",
    "X_binned"
   ]
  },
  {
   "cell_type": "code",
   "execution_count": 32,
   "id": "489c8c82",
   "metadata": {},
   "outputs": [
    {
     "name": "stdout",
     "output_type": "stream",
     "text": [
      "[[-0.75275929]\n",
      " [ 2.70428584]\n",
      " [ 1.39196365]\n",
      " [ 0.59195091]\n",
      " [-2.06388816]\n",
      " [-2.06403288]\n",
      " [-2.65149833]\n",
      " [ 2.19705687]\n",
      " [ 0.60669007]\n",
      " [ 1.24843547]]\n"
     ]
    },
    {
     "data": {
      "text/plain": [
       "array([[0., 0., 0., 1., 0., 0., 0., 0., 0., 0.],\n",
       "       [0., 0., 0., 0., 0., 0., 0., 0., 0., 1.],\n",
       "       [0., 0., 0., 0., 0., 0., 0., 1., 0., 0.],\n",
       "       [0., 0., 0., 0., 0., 0., 1., 0., 0., 0.],\n",
       "       [0., 1., 0., 0., 0., 0., 0., 0., 0., 0.],\n",
       "       [0., 1., 0., 0., 0., 0., 0., 0., 0., 0.],\n",
       "       [1., 0., 0., 0., 0., 0., 0., 0., 0., 0.],\n",
       "       [0., 0., 0., 0., 0., 0., 0., 0., 1., 0.],\n",
       "       [0., 0., 0., 0., 0., 0., 1., 0., 0., 0.],\n",
       "       [0., 0., 0., 0., 0., 0., 0., 1., 0., 0.]])"
      ]
     },
     "execution_count": 32,
     "metadata": {},
     "output_type": "execute_result"
    }
   ],
   "source": [
    "print(X[:10])\n",
    "X_binned.toarray()[:10]\n",
    "#-0.75275929는 네번째 구간에 속합니다.(네번째 1이 있음)"
   ]
  },
  {
   "cell_type": "markdown",
   "id": "9d0a1bd3",
   "metadata": {},
   "source": [
    "#### 원핫인코딩된 데이터로 선형 회귀 모델과 결정트리 모델"
   ]
  },
  {
   "cell_type": "code",
   "execution_count": 33,
   "id": "cefec8dd",
   "metadata": {},
   "outputs": [],
   "source": [
    "kb = KBinsDiscretizer(n_bins=10, strategy = 'uniform', encode = 'onehot-dense')\n",
    "kb.fit(X)\n",
    "X_binned = kb.transform(X)"
   ]
  },
  {
   "cell_type": "code",
   "execution_count": 34,
   "id": "d6a1b0f5",
   "metadata": {},
   "outputs": [
    {
     "data": {
      "text/plain": [
       "Text(0.5, 0, '입력 특성')"
      ]
     },
     "execution_count": 34,
     "metadata": {},
     "output_type": "execute_result"
    },
    {
     "data": {
      "image/png": "[encoded data removed]",
      "text/plain": [
       "<Figure size 432x288 with 1 Axes>"
      ]
     },
     "metadata": {
      "needs_background": "light"
     },
     "output_type": "display_data"
    }
   ],
   "source": [
    "line_binned = kb.transform(line)\n",
    "\n",
    "reg = LinearRegression().fit(X_binned, y)\n",
    "plt.plot(line, reg.predict(line_binned), label='구간 선형 회귀')\n",
    "\n",
    "reg = DecisionTreeRegressor(min_samples_split=3).fit(X_binned, y)\n",
    "plt.plot(line, reg.predict(line_binned), label='구간 결정 트리')\n",
    "\n",
    "plt.plot(X[:, 0], y, 'o', c='k')\n",
    "plt.vlines(kb.bin_edges_[0], -3, 3, linewidth=1, alpha=.2)\n",
    "plt.legend(loc='best')\n",
    "plt.ylabel('회귀 출력')\n",
    "plt.xlabel('입력 특성')"
   ]
  },
  {
   "cell_type": "markdown",
   "id": "55556b0d",
   "metadata": {},
   "source": [
    "#### 선형 모데른 wave 데이터 셋의 각 국간에 대해 상수값 학습\n",
    "#### 학습된 기울기는 음수이고 모든 구간에 걸쳐 동일(x축 특성이 하나이므로 기울기도 하나)"
   ]
  },
  {
   "cell_type": "markdown",
   "id": "fd079c54",
   "metadata": {},
   "source": [
    "* 선형회귀 모델과 결정트리가 같은 예측을 만들어 내서 파선과 실선이 완전히 겹침\n",
    "* 각 구간 안에서 특성의 값이 상수이므로, 어떤 모델이든 그 구간의 포인트에 대해서느 같은 값을 예측\n",
    "* 각 구간에서 다른 값을 가지고 있으므로 선형모델이 훨씬 유연\n",
    "* 반면 결정 트리는 덜 유연\n",
    "* 트리 모델은 데이터를 자유롭게 나눠 학습 할수 있으므로 특서의 값을 구간으로 나누는 것이 아무런 득이 되지 않음\n",
    "* 일부 특성과 출력이 비선형 관계이지만, 용량이 매우 크고 고차원 데이터셋이라 선형모델을 사용한다면, 구간 분할이 모델 성능을 높이는데 아주 좋은 방법이 될 수 있다.\n",
    "* 구간 분할이 모두 다 한테 좋은건 아니다."
   ]
  },
  {
   "cell_type": "markdown",
   "id": "cc5ed763",
   "metadata": {},
   "source": [
    "## 4.5 상호작용과 다항식"
   ]
  },
  {
   "cell_type": "markdown",
   "id": "82f632c0",
   "metadata": {},
   "source": [
    "### Wave 데이터셋을 이용한 모델을 비교\n",
    "* 각 구간에서 다른 절편, 기울기를 학습한 선형회귀 모델 구성"
   ]
  },
  {
   "cell_type": "code",
   "execution_count": 35,
   "id": "4be0037b",
   "metadata": {},
   "outputs": [
    {
     "name": "stdout",
     "output_type": "stream",
     "text": [
      "(120, 20)\n"
     ]
    }
   ],
   "source": [
    "X_product = np.hstack([X_binned, X * X_binned])\n",
    "print(X_product.shape) # 샘플데이터 120개에서 곱으로 해서 아까 10개였는데 20개 특성으로 늘림"
   ]
  },
  {
   "cell_type": "code",
   "execution_count": 55,
   "id": "defa671b",
   "metadata": {},
   "outputs": [
    {
     "data": {
      "text/plain": [
       "<matplotlib.legend.Legend at 0x223a8a52d60>"
      ]
     },
     "execution_count": 55,
     "metadata": {},
     "output_type": "execute_result"
    },
    {
     "data": {
      "image/png": "[encoded data removed]",
      "text/plain": [
       "<Figure size 432x288 with 1 Axes>"
      ]
     },
     "metadata": {
      "needs_background": "light"
     },
     "output_type": "display_data"
    }
   ],
   "source": [
    "reg = LinearRegression().fit(X_product, y) # 선형구간으로 fit\n",
    "\n",
    "line_product = np.hstack([line_binned, line * line_binned])\n",
    "plt.plot(line, reg.predict(line_product), label='원본 특성을 곱한 선형 회귀')\n",
    "plt.vlines(kb.bin_edges_[0], -3, 3, linewidth=1, alpha=.2)\n",
    "plt.plot(X[:,0], y, 'o', c='k')\n",
    "plt.ylabel('회귀 출력')\n",
    "plt.xlabel('입력 특성')\n",
    "plt.legend(loc='best')\n",
    "#특성의 곱을 추가했더니 더 잘보임"
   ]
  },
  {
   "cell_type": "markdown",
   "id": "a7b0cc57",
   "metadata": {},
   "source": [
    "#### 구간별 기울기가 다른 선형회귀\n",
    "* 각 구간에서 절편과 기울기가 모두 다름\n",
    "* 구간 나누기는 연속형 특성을확장하는 방법중 하나\n",
    "* 선형회귀가 조금더 잘 따라가고 있다."
   ]
  },
  {
   "cell_type": "markdown",
   "id": "7a9ff402",
   "metadata": {},
   "source": [
    "### 이것 말고 상호작용 이라고 있다."
   ]
  },
  {
   "cell_type": "markdown",
   "id": "6eeb9158",
   "metadata": {},
   "source": [
    "### 다항식 특성 영향\n",
    "* preprocessing모듈의 PolynomialFeatures 사용"
   ]
  },
  {
   "cell_type": "code",
   "execution_count": 37,
   "id": "78773def",
   "metadata": {},
   "outputs": [],
   "source": [
    "from sklearn.preprocessing import PolynomialFeatures\n",
    "\n",
    "# X** 10까지 고차항을 추가합니다.\n",
    "# 기본값인 include_bias(절편값) = True는 절편에 해당하는 1인 특성을 추가합니다.\n",
    "poly = PolynomialFeatures(degree=10, include_bias=False) #10차항 까지 주겠다.\n",
    "poly.fit(X)\n",
    "X_poly = poly.transform(X)"
   ]
  },
  {
   "cell_type": "code",
   "execution_count": 38,
   "id": "587fc23a",
   "metadata": {},
   "outputs": [
    {
     "name": "stdout",
     "output_type": "stream",
     "text": [
      "X_poly.shape: (120, 10)\n"
     ]
    }
   ],
   "source": [
    "print('X_poly.shape:', X_poly.shape)"
   ]
  },
  {
   "cell_type": "markdown",
   "id": "d211d9b3",
   "metadata": {},
   "source": [
    "### 다항식 특성 영향\n",
    "#### Wave 데이터셋을 이용한 모델 비교\n",
    "* 10차원 특성 추출\n",
    "* X_poly의 첫번째 열은 X와 같고 다른 열은 첫번째 열의 거듭 제곱"
   ]
  },
  {
   "cell_type": "code",
   "execution_count": 39,
   "id": "ecf2f7b3",
   "metadata": {},
   "outputs": [
    {
     "data": {
      "text/plain": [
       "0.566646548681304"
      ]
     },
     "execution_count": 39,
     "metadata": {},
     "output_type": "execute_result"
    }
   ],
   "source": [
    "-0.75275929*-0.75275929 #X_ploy원소 두번째 값"
   ]
  },
  {
   "cell_type": "code",
   "execution_count": 40,
   "id": "bba74c32",
   "metadata": {},
   "outputs": [
    {
     "data": {
      "text/plain": [
       "-0.42654845366628885"
      ]
     },
     "execution_count": 40,
     "metadata": {},
     "output_type": "execute_result"
    }
   ],
   "source": [
    "-0.75275929*-0.75275929*-0.75275929 #X_ploy원소 세번째 값"
   ]
  },
  {
   "cell_type": "code",
   "execution_count": 41,
   "id": "2f0800f7",
   "metadata": {
    "scrolled": true
   },
   "outputs": [
    {
     "name": "stdout",
     "output_type": "stream",
     "text": [
      "X 원소:\n",
      " [[-0.75275929]\n",
      " [ 2.70428584]\n",
      " [ 1.39196365]\n",
      " [ 0.59195091]\n",
      " [-2.06388816]]\n",
      "X_poly 원소:\n",
      " [[-7.52759287e-01  5.66646544e-01 -4.26548448e-01  3.21088306e-01\n",
      "  -2.41702204e-01  1.81943579e-01 -1.36959719e-01  1.03097700e-01\n",
      "  -7.76077513e-02  5.84199555e-02]\n",
      " [ 2.70428584e+00  7.31316190e+00  1.97768801e+01  5.34823369e+01\n",
      "   1.44631526e+02  3.91124988e+02  1.05771377e+03  2.86036036e+03\n",
      "   7.73523202e+03  2.09182784e+04]\n",
      " [ 1.39196365e+00  1.93756281e+00  2.69701700e+00  3.75414962e+00\n",
      "   5.22563982e+00  7.27390068e+00  1.01250053e+01  1.40936394e+01\n",
      "   1.96178338e+01  2.73073115e+01]\n",
      " [ 5.91950905e-01  3.50405874e-01  2.07423074e-01  1.22784277e-01\n",
      "   7.26822637e-02  4.30243318e-02  2.54682921e-02  1.50759786e-02\n",
      "   8.92423917e-03  5.28271146e-03]\n",
      " [-2.06388816e+00  4.25963433e+00 -8.79140884e+00  1.81444846e+01\n",
      "  -3.74481869e+01  7.72888694e+01 -1.59515582e+02  3.29222321e+02\n",
      "  -6.79478050e+02  1.40236670e+03]]\n"
     ]
    }
   ],
   "source": [
    "print('X 원소:\\n', X[:5]) #5개 데이터를 10차까지 봄\n",
    "print('X_poly 원소:\\n', X_poly[:5])"
   ]
  },
  {
   "cell_type": "markdown",
   "id": "3c37cd37",
   "metadata": {},
   "source": [
    "### 다항식 특성 영향\n",
    "#### Wave 데이터셋을 이용한 모델 비교\n",
    "* 10차 다항식을 이용한 회귀모델 구성\n",
    "* 다항식 특성은 1차원 데이터셋에서도 매우 부드러운 곡선을 만듦\n",
    "* 고차원 다항식은 데이터가 부족한 영역에서 민감하게 동작"
   ]
  },
  {
   "cell_type": "code",
   "execution_count": 42,
   "id": "606b93b4",
   "metadata": {},
   "outputs": [
    {
     "name": "stdout",
     "output_type": "stream",
     "text": [
      "항 이름:\n",
      " ['x0', 'x0^2', 'x0^3', 'x0^4', 'x0^5', 'x0^6', 'x0^7', 'x0^8', 'x0^9', 'x0^10']\n"
     ]
    }
   ],
   "source": [
    "print('항 이름:\\n', poly.get_feature_names())"
   ]
  },
  {
   "cell_type": "code",
   "execution_count": 46,
   "id": "5277f59c",
   "metadata": {},
   "outputs": [
    {
     "data": {
      "text/plain": [
       "<matplotlib.legend.Legend at 0x223a8643c70>"
      ]
     },
     "execution_count": 46,
     "metadata": {},
     "output_type": "execute_result"
    },
    {
     "data": {
      "image/png": "[encoded data removed]",
      "text/plain": [
       "<Figure size 432x288 with 1 Axes>"
      ]
     },
     "metadata": {
      "needs_background": "light"
     },
     "output_type": "display_data"
    }
   ],
   "source": [
    "reg = LinearRegression().fit(X_poly, y) # 선형구간으로 fit\n",
    "\n",
    "line_poly = poly.transform(line)\n",
    "plt.plot(line, reg.predict(line_poly), label='다항 선형 회귀')\n",
    "plt.plot(X[:,0], y, 'o', c='k')\n",
    "plt.ylabel('회귀 출력')\n",
    "plt.xlabel('입력 특성')\n",
    "plt.legend(loc='best')"
   ]
  },
  {
   "cell_type": "markdown",
   "id": "4937794e",
   "metadata": {},
   "source": [
    "### 다항식 특성 영향\n",
    "#### Wave 데이터셋을 이용한 모델 비교\n",
    "* RBF 커널 SVM의 gamma 매개변수 변화에 따른 비교\n",
    "* 더 복잡한 모델인 터널 SVM 을 사용해 특성 데이터를 변환하지 않고\n",
    "* 다항 회귀와 비슷한 복잡도를 가진 예측을 만듦"
   ]
  },
  {
   "cell_type": "code",
   "execution_count": 48,
   "id": "a58054fd",
   "metadata": {},
   "outputs": [
    {
     "data": {
      "text/plain": [
       "<matplotlib.legend.Legend at 0x223a8784820>"
      ]
     },
     "execution_count": 48,
     "metadata": {},
     "output_type": "execute_result"
    },
    {
     "data": {
      "image/png": "[encoded data removed]",
      "text/plain": [
       "<Figure size 432x288 with 1 Axes>"
      ]
     },
     "metadata": {
      "needs_background": "light"
     },
     "output_type": "display_data"
    }
   ],
   "source": [
    "from sklearn.svm import SVR\n",
    "\n",
    "for gamma in [1, 10]:\n",
    "    svr = SVR(gamma=gamma).fit(X,y)\n",
    "    plt.plot(line, svr.predict(line), label='SVR gamma={}'.format(gamma))\n",
    "    \n",
    "plt.plot(X[:,0], y, 'o', c='k')\n",
    "plt.ylabel('회귀 출력')\n",
    "plt.xlabel('입력 특성')\n",
    "plt.legend(loc='best')"
   ]
  },
  {
   "cell_type": "markdown",
   "id": "d546247a",
   "metadata": {},
   "source": [
    "* 다항 선형 회귀랑 비교할때 다항 선형 회귀는 데이터 없는 부분에 민감하게 작용하는데 다항식을 추가하지 않고 svm을 통해 다항 회귀와 비슷한 예측을 만들수 있다. 특성 데이터를 변환하지 않고도"
   ]
  },
  {
   "cell_type": "markdown",
   "id": "f06f8069",
   "metadata": {},
   "source": [
    "### 다항식 특성 영향\n",
    "#### 보스턴 주택 가격 데이터셋을 이용한 다하식 특성 적용\n",
    "* 스케일 조정 (MinMaxScaler)후 다항식 특성 추출"
   ]
  },
  {
   "cell_type": "code",
   "execution_count": 50,
   "id": "ce640265",
   "metadata": {},
   "outputs": [],
   "source": [
    "from sklearn.datasets import load_boston\n",
    "from sklearn.model_selection import train_test_split\n",
    "from sklearn.preprocessing import MinMaxScaler\n",
    "\n",
    "boston = load_boston()\n",
    "X_train, X_test, y_train, y_test = train_test_split(boston.data, boston.target,\n",
    "                                                   random_state=0)\n",
    "\n",
    "#데이터 스케일 조정 :0~1 사이로\n",
    "scaler = MinMaxScaler()\n",
    "X_train_scaled = scaler.fit_transform(X_train)\n",
    "X_test_scaled = scaler.transform(X_test)"
   ]
  },
  {
   "cell_type": "code",
   "execution_count": 54,
   "id": "a39dd682",
   "metadata": {},
   "outputs": [
    {
     "name": "stdout",
     "output_type": "stream",
     "text": [
      "X_train.shape: (379, 13)\n",
      "X_train_poly.shape: (379, 105)\n"
     ]
    }
   ],
   "source": [
    "# degree 다항식 2차 적용\n",
    "poly = PolynomialFeatures(degree=2).fit(X_train_scaled)\n",
    "X_train_ploy = poly.transform(X_train_scaled) #변환된 데이터\n",
    "X_test_ploy = poly.transform(X_test_scaled)\n",
    "print('X_train.shape:', X_train.shape)\n",
    "print('X_train_poly.shape:', X_train_ploy.shape)\n",
    "#13개 feature가 105로 늘어남"
   ]
  },
  {
   "cell_type": "markdown",
   "id": "feee2a01",
   "metadata": {},
   "source": [
    "#### 다항식 특성 확장\n",
    "* 원래 특성 13개가 특성 조합으로 특성 곱 및 다항식 특성 추가하여 105개로 확장\n",
    "* degree=2로 하면 원본 특성에서 두개를 뽑아 만들수 있는 모든 곱을 얻음"
   ]
  },
  {
   "cell_type": "code",
   "execution_count": 56,
   "id": "3d697f56",
   "metadata": {},
   "outputs": [
    {
     "name": "stdout",
     "output_type": "stream",
     "text": [
      "다항 특성 이름:\n",
      " ['1', 'x0', 'x1', 'x2', 'x3', 'x4', 'x5', 'x6', 'x7', 'x8', 'x9', 'x10', 'x11', 'x12', 'x0^2', 'x0 x1', 'x0 x2', 'x0 x3', 'x0 x4', 'x0 x5', 'x0 x6', 'x0 x7', 'x0 x8', 'x0 x9', 'x0 x10', 'x0 x11', 'x0 x12', 'x1^2', 'x1 x2', 'x1 x3', 'x1 x4', 'x1 x5', 'x1 x6', 'x1 x7', 'x1 x8', 'x1 x9', 'x1 x10', 'x1 x11', 'x1 x12', 'x2^2', 'x2 x3', 'x2 x4', 'x2 x5', 'x2 x6', 'x2 x7', 'x2 x8', 'x2 x9', 'x2 x10', 'x2 x11', 'x2 x12', 'x3^2', 'x3 x4', 'x3 x5', 'x3 x6', 'x3 x7', 'x3 x8', 'x3 x9', 'x3 x10', 'x3 x11', 'x3 x12', 'x4^2', 'x4 x5', 'x4 x6', 'x4 x7', 'x4 x8', 'x4 x9', 'x4 x10', 'x4 x11', 'x4 x12', 'x5^2', 'x5 x6', 'x5 x7', 'x5 x8', 'x5 x9', 'x5 x10', 'x5 x11', 'x5 x12', 'x6^2', 'x6 x7', 'x6 x8', 'x6 x9', 'x6 x10', 'x6 x11', 'x6 x12', 'x7^2', 'x7 x8', 'x7 x9', 'x7 x10', 'x7 x11', 'x7 x12', 'x8^2', 'x8 x9', 'x8 x10', 'x8 x11', 'x8 x12', 'x9^2', 'x9 x10', 'x9 x11', 'x9 x12', 'x10^2', 'x10 x11', 'x10 x12', 'x11^2', 'x11 x12', 'x12^2']\n"
     ]
    }
   ],
   "source": [
    "print('다항 특성 이름:\\n', poly.get_feature_names())"
   ]
  },
  {
   "cell_type": "markdown",
   "id": "346bd8f4",
   "metadata": {},
   "source": [
    "#### 상호작용 특성 있는 데이터와 없는 데이터에 대한 릿지 회귀 결과\n",
    "* 선형 모델은 영향을 받지만 랜덤 포레스트처럼 복잡한 모델은 차이없음"
   ]
  },
  {
   "cell_type": "code",
   "execution_count": 63,
   "id": "d364fca9",
   "metadata": {},
   "outputs": [
    {
     "name": "stdout",
     "output_type": "stream",
     "text": [
      "상호작용 특성이 없을 때 점수: 0.621\n",
      "상호작용 특성이 있을 때 점수: 0.753\n"
     ]
    }
   ],
   "source": [
    "from sklearn.linear_model import Ridge\n",
    "ridge = Ridge().fit(X_train_scaled, y_train)\n",
    "print('상호작용 특성이 없을 때 점수: {:.3f}'.format(ridge.score(X_test_scaled, y_test)))\n",
    "ridge = Ridge().fit(X_train_ploy, y_train)\n",
    "print('상호작용 특성이 있을 때 점수: {:.3f}'.format(ridge.score(X_test_ploy, y_test)))"
   ]
  },
  {
   "cell_type": "markdown",
   "id": "93ab76b7",
   "metadata": {},
   "source": [
    "* 상호작용 특성이 없을때는 우리보다 낮고, 있을때는 높다.\n",
    "* 릿지모델은 상호작용 있을때랑 없을때랑 값이 차이가 난다 10몇프로 차이!"
   ]
  },
  {
   "cell_type": "markdown",
   "id": "f1dfaeab",
   "metadata": {},
   "source": [
    "#### 다른 모델 불러와보자 (한개가지고 안되서 앙상블 불러오자 여러전문가가 내린것 RandomForest 는 최고의 결정은 아니다 디시즌은 최고의 결정이다.)"
   ]
  },
  {
   "cell_type": "code",
   "execution_count": 69,
   "id": "7a604f52",
   "metadata": {},
   "outputs": [
    {
     "name": "stdout",
     "output_type": "stream",
     "text": [
      "상호작용 특성이 없을때 점수: 0.795\n",
      "상호작용 특성이 없을때 점수: 0.775\n"
     ]
    }
   ],
   "source": [
    "from sklearn.ensemble import RandomForestRegressor #나무 100개 만들어서(트리조정하며 스코어 높이려고 노력)\n",
    "rf = RandomForestRegressor(n_estimators=100, random_state=0).fit(X_train_scaled,y_train)\n",
    "print('상호작용 특성이 없을때 점수: {:.3f}'. format(rf.score(X_test_scaled, y_test)))\n",
    "rf = RandomForestRegressor(n_estimators=100, random_state=0).fit(X_train_ploy, y_train)\n",
    "print('상호작용 특성이 없을때 점수: {:.3f}'. format(rf.score(X_test_ploy, y_test)))"
   ]
  },
  {
   "cell_type": "markdown",
   "id": "079491cc",
   "metadata": {},
   "source": [
    "* 특성을 추가하지 않아도 랜덤 포레스트는 Ridge의 성능과 맞먹음.\n",
    "* 오히려 상호작용과 다항식을 추가하면 성능이 조금 줄어든다.\n",
    "* 제곱항이나 세제곱 항을 추가하면 선형 회귀모델에는 도움이 된다."
   ]
  },
  {
   "cell_type": "markdown",
   "id": "216d8545",
   "metadata": {},
   "source": [
    "## 4.6 일변량 비선형 변환\n",
    "### 실제 데이터 속성과 비슷한 랜덤 카운트 데이터 생성\n",
    "* 특성 값 데이터는 모두 정수이며 3개의 특성은 실수<br>\n",
    "트리기반은 특성 순서에 영향을 받고 선형 모델은 제곱항이나 세제곱 항 추가하는 것에 영향을 많이 받는다."
   ]
  },
  {
   "cell_type": "code",
   "execution_count": 77,
   "id": "7bec417e",
   "metadata": {},
   "outputs": [
    {
     "name": "stdout",
     "output_type": "stream",
     "text": [
      "[ 56  81  25  20  27  18  12  21 109   7]\n",
      "[2.92614361 4.74436373 1.4394878  0.56962109 1.23092405 1.4048387\n",
      " 0.30534339 1.61798577 2.78397106 0.40526824]\n"
     ]
    }
   ],
   "source": [
    "rnd = np.random.RandomState(0) #랜덤한 숫자 만들기\n",
    "X_org = rnd.normal(size=(1000,3)) #1000개 만듦\n",
    "w = rnd.normal(size=3)\n",
    "X = rnd.poisson(10 * np.exp(X_org)) #포아송 분포\n",
    "y = np.dot(X_org, w)\n",
    "print(X[:10,0]) # 앞에서 열개만 찍어보자 #X정수\n",
    "print(y[:10]) # y 실수(타겟값)"
   ]
  },
  {
   "cell_type": "code",
   "execution_count": 72,
   "id": "30457bf4",
   "metadata": {},
   "outputs": [
    {
     "name": "stdout",
     "output_type": "stream",
     "text": [
      "특성 출현 횟수:\n",
      " [28 38 68 48 61 59 45 56 37 40 35 34 36 26 23 26 27 21 23 23 18 21 10  9\n",
      " 17  9  7 14 12  7  3  8  4  5  5  3  4  2  4  1  1  3  2  5  3  8  2  5\n",
      "  2  1  2  3  3  2  2  3  3  0  1  2  1  0  0  3  1  0  0  0  1  3  0  1\n",
      "  0  2  0  1  1  0  0  0  0  1  0  0  2  2  0  1  1  0  0  0  0  1  1  0\n",
      "  0  0  0  0  0  0  1  0  0  0  0  0  1  1  0  0  1  0  0  0  0  0  0  0\n",
      "  1  0  0  0  0  1  0  0  0  0  0  0  0  0  0  0  0  0  0  0  1]\n"
     ]
    }
   ],
   "source": [
    "print('특성 출현 횟수:\\n', np.bincount(X[:,0]))\n",
    "#0이 28번 출현, 1이 38번 출현 , 앞부분 데이터가 많이 나타나고 뒷부분은 간혹 나타남"
   ]
  },
  {
   "cell_type": "markdown",
   "id": "a51bd75a",
   "metadata": {},
   "source": [
    "### 카운트 데이터를 사용한 일변량 비선형 변환\n",
    "#### 트리 기반 모델은 특성의 순서에만 영향을 받지만, 선형 모델과 신경망은 각 특성의 스케일과 분포에 밀접하게 연관\n",
    "* 특성과 타깃값 사이에 비선형성이 있다면 특히 선형 회귀에서는 모델을 만들기가 어려움\n",
    "* 대부분 모델은 각 특성이 정규분포(종모양)와 비슷할때 최고의 성능을 나타냄(확인하려고 한쪽에 데이터 치우치게 만들었음)\n",
    "* 정수카운트 데이터의 히스토그램"
   ]
  },
  {
   "cell_type": "code",
   "execution_count": 76,
   "id": "3d3b8df7",
   "metadata": {},
   "outputs": [
    {
     "data": {
      "text/plain": [
       "Text(0.5, 0, '값')"
      ]
     },
     "execution_count": 76,
     "metadata": {},
     "output_type": "execute_result"
    },
    {
     "data": {
      "image/png": "[encoded data removed]",
      "text/plain": [
       "<Figure size 432x288 with 1 Axes>"
      ]
     },
     "metadata": {
      "needs_background": "light"
     },
     "output_type": "display_data"
    }
   ],
   "source": [
    "plt.xlim(0, 160)\n",
    "plt.ylim(0, 70)\n",
    "bins = np.bincount(X[:,0])\n",
    "plt.bar(range(len(bins)), bins, color = 'grey')\n",
    "plt.ylabel('출현 횟수')\n",
    "plt.xlabel('값')"
   ]
  },
  {
   "cell_type": "markdown",
   "id": "0afb22ec",
   "metadata": {},
   "source": [
    "### 선형 릿지 회귀 적용\n",
    "* 비교적 낮은 R2 점수 나옴 - Ridge는 제대로 모델링 하지 못함"
   ]
  },
  {
   "cell_type": "code",
   "execution_count": 79,
   "id": "a20da922",
   "metadata": {},
   "outputs": [
    {
     "name": "stdout",
     "output_type": "stream",
     "text": [
      "테스트 점수: 0.622\n"
     ]
    }
   ],
   "source": [
    "from sklearn.linear_model import Ridge\n",
    "X_train, X_test, y_train, y_test = train_test_split(X, y, random_state=0)\n",
    "score = Ridge().fit(X_train, y_train).score(X_test, y_test)\n",
    "print('테스트 점수: {:.3f}'.format(score))"
   ]
  },
  {
   "cell_type": "markdown",
   "id": "b99c8785",
   "metadata": {},
   "source": [
    "### 로그 스케일로 데이터 변환 (한쪽으로 치우친 데이터여서 정규분포 만들기 위해)"
   ]
  },
  {
   "cell_type": "markdown",
   "id": "bba8a042",
   "metadata": {},
   "source": [
    "* 0인 데이터를 위해 log(X) 대신 log(X+1)사용 \n",
    "* log0이 무한대가 되기 때문에 X+1 해서 0을 막음\n",
    "* 한쪽으로 치우친 데이터여서 정규분포 만들고 하려고 함"
   ]
  },
  {
   "cell_type": "code",
   "execution_count": 81,
   "id": "e9d69e54",
   "metadata": {},
   "outputs": [],
   "source": [
    "X_train_log = np.log(X_train +1)\n",
    "X_test_log = np.log(X_test +1)"
   ]
  },
  {
   "cell_type": "code",
   "execution_count": 83,
   "id": "5dbe126d",
   "metadata": {},
   "outputs": [
    {
     "data": {
      "text/plain": [
       "Text(0.5, 0, '값')"
      ]
     },
     "execution_count": 83,
     "metadata": {},
     "output_type": "execute_result"
    },
    {
     "data": {
      "image/png": "[encoded data removed]",
      "text/plain": [
       "<Figure size 432x288 with 1 Axes>"
      ]
     },
     "metadata": {
      "needs_background": "light"
     },
     "output_type": "display_data"
    }
   ],
   "source": [
    "plt.hist(X_train_log[:,0], bins=25, color='gray')\n",
    "plt.ylabel('출현 횟수')\n",
    "plt.xlabel('값') # 정규분포 만들어짐"
   ]
  },
  {
   "cell_type": "markdown",
   "id": "36bfab2a",
   "metadata": {},
   "source": [
    "### 정규분포 만든 후 다시 선형 릿지 회귀 적용\n",
    "* 이번에는 훨씬 좋은 결과가 나옴"
   ]
  },
  {
   "cell_type": "code",
   "execution_count": 84,
   "id": "c93039d1",
   "metadata": {},
   "outputs": [
    {
     "name": "stdout",
     "output_type": "stream",
     "text": [
      "테스트 점수 : 0.875\n"
     ]
    }
   ],
   "source": [
    "score = Ridge().fit(X_train_log, y_train).score(X_test_log, y_test)\n",
    "print('테스트 점수 : {:.3f}'.format(score))"
   ]
  },
  {
   "cell_type": "markdown",
   "id": "d5796666",
   "metadata": {},
   "source": [
    "#### 이런 데이터 변환은 선형 모델에서는 필수이지만 트리 모델에서는 불필요함\n",
    "* 트리기반 모델은 스스로 중요한 상호작용을 찾아낼 수 있고 대부분의 경우 데이터를 명시적으로 변환하지 않아도 됨\n",
    "\n",
    "#### 구간 분할, 다항식, 상호작용 등 데이터 변환의 모델 성능 영향 정도\n",
    "* 선형 모델/나이브베이즈 > SVM,최근접이웃,신경망 > 트리기반 모델"
   ]
  },
  {
   "cell_type": "markdown",
   "id": "487860b3",
   "metadata": {},
   "source": [
    "* 모델과 특성과의 관계\n",
    "트리기반 모델은 특성의 순서만 영향<br>\n",
    "선형회귀와 신경망은 특성의 스케일과 분포에 밀접하게 연관<br>\n",
    "대부분의 모델이 각 특성이 정규분포와 비슷할때 최고의 성능<br>\n",
    "(log, exp 함수로 정규분포로 만들어줘야함)"
   ]
  },
  {
   "cell_type": "markdown",
   "id": "b9110bd8",
   "metadata": {},
   "source": [
    "## 4.7 특성 자동 선택"
   ]
  },
  {
   "cell_type": "markdown",
   "id": "0207d3c8",
   "metadata": {},
   "source": [
    "* 특성이 많아지면 모델은 더 복잡해지고 과대적합 가능성 증가\n",
    "* 가장 유용한 특성만 선택하여 특성의 수를 줄임(일변량 통계, 모델 기반 선택,반복적 선택)"
   ]
  },
  {
   "cell_type": "markdown",
   "id": "914a390b",
   "metadata": {},
   "source": [
    "### 4.7.1 일변량 통계\n",
    "각각의 특성과 타깃 사이의 통계적 관계 분석\n",
    "분류에서는 분산분석에 해당\n",
    "계산이 매우 빠르며 평가 모델을 만들 필요가 없음"
   ]
  },
  {
   "cell_type": "markdown",
   "id": "3666f495",
   "metadata": {},
   "source": [
    "#### 유방암 데이터셋에 분류 특성 선택 적용\n",
    "* 의미없는 노이즈 특성을 데이터에 추가 -> 특성 줄여\n",
    "* -> 결과:추가한 노이즈 특성은 거의 제거됨. 선택특성은 대부분 원본 특성임."
   ]
  },
  {
   "cell_type": "markdown",
   "id": "a1d87e9b",
   "metadata": {},
   "source": [
    "#### 사이킷 런에서 일변량 분석으로 특성을 선택하려면 \n",
    "* 분류에서는 f_classif(기본값), 회귀 r_regression을 선택하여 테스트하고 계산된 p값 특성 제외 (하도록 임계값 조정)\n",
    "* 임계값을 계산하는 방법<br>\n",
    "    SelectKBest:고정된 K개 특성 선택, SelectPercentile:지정된 비율만큼 특성 선택"
   ]
  },
  {
   "cell_type": "code",
   "execution_count": 88,
   "id": "fba012a8",
   "metadata": {},
   "outputs": [
    {
     "name": "stdout",
     "output_type": "stream",
     "text": [
      "X_train.shape: (284, 80)\n",
      "X_train_selected.shape: (284, 40)\n"
     ]
    }
   ],
   "source": [
    "from sklearn.datasets import load_breast_cancer\n",
    "from sklearn.feature_selection import SelectPercentile, f_classif \n",
    "#지정된 비율SelectPercentile만큼/분류f_classif\n",
    "from sklearn.model_selection import train_test_split\n",
    "cancer = load_breast_cancer()\n",
    "\n",
    "#고정된 난수를 발생시킵니다.\n",
    "rng = np.random.RandomState(42)\n",
    "noise = rng.normal(size=(len(cancer.data), 50)) #의미없는 데이터noise\n",
    "#데이터에 노이즈 특성을 추가합니다.\n",
    "#처음 30개는 원본 특성이고 다음 50개는 노이즈 입니다.\n",
    "X_w_noise = np.hstack([cancer.data, noise])\n",
    "\n",
    "X_train, X_test, y_train, y_test = train_test_split(\n",
    "X_w_noise, cancer.target, random_state=0, test_size=.5)\n",
    "\n",
    "#f_classif(기본값)와 SelectPercentile을 사용하여 특성의 50%를 선택합니다.\n",
    "select = SelectPercentile(score_func=f_classif, percentile=50)\n",
    "select.fit(X_train, y_train)\n",
    "\n",
    "#훈련세트에 적용합니다.\n",
    "X_train_selected = select.transform(X_train)\n",
    "\n",
    "print('X_train.shape:', X_train.shape)\n",
    "print('X_train_selected.shape:', X_train_selected.shape) \n",
    "# 80개의 특성이였는데 50%만선택하여 40개 특성으로 바뀜"
   ]
  },
  {
   "cell_type": "markdown",
   "id": "3f1cdf37",
   "metadata": {},
   "source": [
    "* 특성이 80 --> 40개로 줄어듬.\n",
    "* Get_support()메소드는 선택 특성을 불리언 값으로 표시"
   ]
  },
  {
   "cell_type": "code",
   "execution_count": 90,
   "id": "bad7678c",
   "metadata": {},
   "outputs": [
    {
     "name": "stdout",
     "output_type": "stream",
     "text": [
      "[ True  True  True  True  True  True  True  True  True False  True False\n",
      "  True  True  True  True  True  True False False  True  True  True  True\n",
      "  True  True  True  True  True  True False False False  True False  True\n",
      " False False  True False False False False  True False False  True False\n",
      " False  True False  True False False False False False False  True False\n",
      "  True False False False False  True False  True False False False False\n",
      "  True  True False  True False False False False]\n"
     ]
    },
    {
     "data": {
      "text/plain": [
       "([<matplotlib.axis.YTick at 0x223aa7b6a90>], [Text(0, 0, '')])"
      ]
     },
     "execution_count": 90,
     "metadata": {},
     "output_type": "execute_result"
    },
    {
     "data": {
      "image/png": "[encoded data removed]",
      "text/plain": [
       "<Figure size 1152x144 with 1 Axes>"
      ]
     },
     "metadata": {
      "needs_background": "light"
     },
     "output_type": "display_data"
    }
   ],
   "source": [
    "mask = select.get_support()\n",
    "print(mask)\n",
    "#True는 사용됨.검은색, False는 사용되지 않음.흰색으로 마스킹 합니다.\n",
    "plt.matshow(mask.reshape(1,-1), cmap='gray_r')\n",
    "plt.xlabel('특성 번호')\n",
    "plt.yticks([0]) \n",
    "#원본데이터는 거의 사용되었는데 노이즈로 임의로 추가된건 사용되지 않음(뒷부분)"
   ]
  },
  {
   "cell_type": "markdown",
   "id": "341a6706",
   "metadata": {},
   "source": [
    "* 선택 특성은 대부분 원본 특성이며 노이즈 특성이 거의 제거됨"
   ]
  },
  {
   "cell_type": "markdown",
   "id": "75003aae",
   "metadata": {},
   "source": [
    "### 유방암 데이터 셋에 분류 특성 선택 적용"
   ]
  },
  {
   "cell_type": "markdown",
   "id": "dbb3dde6",
   "metadata": {},
   "source": [
    "#### 전체 특성 이용 경우와 선택특성 이용 경우의 로지스틱 회귀 성능 비교\n",
    "* 노이즈 특성 제거 했을때 성능이 우수"
   ]
  },
  {
   "cell_type": "code",
   "execution_count": 100,
   "id": "bee242d0",
   "metadata": {},
   "outputs": [
    {
     "name": "stdout",
     "output_type": "stream",
     "text": [
      "전체 특성을 사용한 점수:0.947\n",
      "선택된 일부 특성을 사용한 점수:0.933\n"
     ]
    }
   ],
   "source": [
    "from sklearn.linear_model import LogisticRegression\n",
    "\n",
    "#테스트 데이터 변환\n",
    "X_test_selected = select.transform(X_test)\n",
    "\n",
    "lr = LogisticRegression(max_iter=5000) #5000번 반복\n",
    "\n",
    "lr.fit(X_train, y_train)\n",
    "print('전체 특성을 사용한 점수:{:.3f}'.format(lr.score(X_test, y_test)))\n",
    "\n",
    "lr.fit(X_train_selected, y_train)\n",
    "print('선택된 일부 특성을 사용한 점수:{:.3f}'.format(\n",
    "    lr.score(X_test_selected, y_test)))"
   ]
  },
  {
   "cell_type": "markdown",
   "id": "ea5354ef",
   "metadata": {},
   "source": [
    "### 4.7.2 모델 기반 특성 선택\n",
    "특성 중요도 평가하고 가장 중요한 특성들만 선택\n",
    "결정트리 기반 모델은 각 특성의 중요도가 담겨진 feature_importances_속성제공\n",
    "임계치보다 큰 모든 특성 선택"
   ]
  },
  {
   "cell_type": "markdown",
   "id": "2485178d",
   "metadata": {},
   "source": [
    "### 유방암 데이터셋에 대한 모델 기반 특성 선택 (특성중요도계산)\n",
    "* 모델 기반 특성 선택은 SelectFromModel클래스 사용"
   ]
  },
  {
   "cell_type": "code",
   "execution_count": 103,
   "id": "8c87ce92",
   "metadata": {},
   "outputs": [],
   "source": [
    "from sklearn.feature_selection import SelectFromModel\n",
    "from sklearn.ensemble import RandomForestClassifier\n",
    "select = SelectFromModel(\n",
    "    RandomForestClassifier(n_estimators=100, random_state=42),\n",
    "    threshold='median')"
   ]
  },
  {
   "cell_type": "markdown",
   "id": "de9edb20",
   "metadata": {},
   "source": [
    "* 일변량 분석 특성 선택과 비교 위해 중간값을 임게치로 선택\n",
    "* 트리 100개로 만든 랜덤 포레스트 분류기로 특성 중요도 계산"
   ]
  },
  {
   "cell_type": "code",
   "execution_count": 105,
   "id": "f5c6ceeb",
   "metadata": {},
   "outputs": [
    {
     "name": "stdout",
     "output_type": "stream",
     "text": [
      "X_train.shape: (284, 80)\n",
      "X_train_l1.shape: (284, 40)\n"
     ]
    }
   ],
   "source": [
    "select.fit(X_train, y_train)\n",
    "X_train_l1 = select.transform(X_train)\n",
    "print('X_train.shape:', X_train.shape) \n",
    "#원래 유방암 데이터 feature 30개인데 50개 추가했다.\n",
    "#그중에 40개만 선택\n",
    "print('X_train_l1.shape:', X_train_l1.shape)"
   ]
  },
  {
   "cell_type": "markdown",
   "id": "ab213e9a",
   "metadata": {},
   "source": [
    "### 선택 특성 시각화\n",
    "* 2개를 제외한 모든 원본 특성 선택"
   ]
  },
  {
   "cell_type": "code",
   "execution_count": 106,
   "id": "06f51bb6",
   "metadata": {},
   "outputs": [
    {
     "data": {
      "text/plain": [
       "([<matplotlib.axis.YTick at 0x223aa82aee0>], [Text(0, 0, '')])"
      ]
     },
     "execution_count": 106,
     "metadata": {},
     "output_type": "execute_result"
    },
    {
     "data": {
      "image/png": "[encoded data removed]",
      "text/plain": [
       "<Figure size 1152x144 with 1 Axes>"
      ]
     },
     "metadata": {
      "needs_background": "light"
     },
     "output_type": "display_data"
    }
   ],
   "source": [
    "mask = select.get_support()\n",
    "#True는 검은색, False는 흰색으로 마스킹 합니다.\n",
    "plt.matshow(mask.reshape(1,-1),cmap='gray_r')\n",
    "plt.xlabel('특성 번호')\n",
    "plt.yticks([0])"
   ]
  },
  {
   "cell_type": "markdown",
   "id": "c7ce74b9",
   "metadata": {},
   "source": [
    "* 일변량 통계 방식에 비해 성능이 향상 되었음."
   ]
  },
  {
   "cell_type": "code",
   "execution_count": 110,
   "id": "ed330c65",
   "metadata": {},
   "outputs": [
    {
     "name": "stdout",
     "output_type": "stream",
     "text": [
      "테스트 점수 :0.947\n"
     ]
    }
   ],
   "source": [
    "X_test_l1 = select.transform(X_test)\n",
    "score = LogisticRegression(max_iter=5000).fit(X_train_l1, y_train).\\\n",
    "score(X_test_l1, y_test)\n",
    "\n",
    "print('테스트 점수 :{:.3f}'.format(score))\n",
    "# 93프로 보다는 향상되었다. 전체 보다는 작아졌고"
   ]
  },
  {
   "cell_type": "markdown",
   "id": "44c178db",
   "metadata": {},
   "source": [
    "### 4.7.3 반복적 특성 선택\n",
    "특성수가 각각 다른 일련의 모델을 순차적으로 생성<br><br>\n",
    "\n",
    "* 2가지 기본 모델 생성방식<br>\n",
    "1.하나씩 추가하는 방법<br>\n",
    "2.하나씩 제거하는 방법(모든특성으로 시작해서 종료조건에 도달할때 까지)"
   ]
  },
  {
   "cell_type": "markdown",
   "id": "8742afc6",
   "metadata": {},
   "source": [
    "### 유방암 데이터셋에 RFE  (재귀적인 특성 제거한다.) 적용\n",
    "#### 랜덤 포레스트 분류 모델 사용\n",
    "* 1개를 제외한 모든 원본 특성 선택\n",
    "* 모든 특성으로 시작해서 모델을 만들고 중요도가 가장 낮은 특성을 제거(반복적으로)\n",
    "* 재귀적인 특성 제거는 비용이 많이 듦"
   ]
  },
  {
   "cell_type": "code",
   "execution_count": 111,
   "id": "5d1a1bd1",
   "metadata": {},
   "outputs": [
    {
     "data": {
      "text/plain": [
       "([<matplotlib.axis.YTick at 0x223a82a1370>], [Text(0, 0, '')])"
      ]
     },
     "execution_count": 111,
     "metadata": {},
     "output_type": "execute_result"
    },
    {
     "data": {
      "image/png": "[encoded data removed]",
      "text/plain": [
       "<Figure size 1152x144 with 1 Axes>"
      ]
     },
     "metadata": {
      "needs_background": "light"
     },
     "output_type": "display_data"
    }
   ],
   "source": [
    "# 앞의 방법들은 특성을 하나도 선택하지 않은 상태에서 하나하나 선택하는것\n",
    "# 모든것을 선택하여 하나식 제거하는 방법 -> 앞의 것보다 비용이 많이든다.\n",
    "from sklearn.feature_selection import RFE\n",
    "select = RFE(RandomForestClassifier(n_estimators=100, random_state=42),\n",
    "            n_features_to_select=40)\n",
    "\n",
    "select.fit(X_train, y_train)\n",
    "#선택된 특성을 표시합니다. \n",
    "mask = select.get_support()\n",
    "plt.matshow(mask.reshape(1,-1),cmap='gray_r')\n",
    "plt.xlabel('특성 번호')\n",
    "plt.yticks([0])"
   ]
  },
  {
   "cell_type": "markdown",
   "id": "ed1e4773",
   "metadata": {},
   "source": [
    "#### 유방암 데이터셋에 대한 RFE 적용\n",
    "* 로지스틱회귀의 정확도 확인"
   ]
  },
  {
   "cell_type": "code",
   "execution_count": 112,
   "id": "a23bcf0c",
   "metadata": {},
   "outputs": [
    {
     "name": "stdout",
     "output_type": "stream",
     "text": [
      "테스트 점수 :0.940\n"
     ]
    }
   ],
   "source": [
    "X_train_rfe = select.transform(X_train)\n",
    "X_test_rfe = select.transform(X_test)\n",
    "score = LogisticRegression(max_iter=5000).fit(X_train_rfe, y_train).\\\n",
    "score(X_test_rfe, y_test)\n",
    "\n",
    "print('테스트 점수 :{:.3f}'.format(score))"
   ]
  },
  {
   "cell_type": "markdown",
   "id": "797fe370",
   "metadata": {},
   "source": [
    "* RFE에 사용된 모델(랜덤포레스트)에도 성능 확인"
   ]
  },
  {
   "cell_type": "code",
   "execution_count": 114,
   "id": "30709e38",
   "metadata": {},
   "outputs": [
    {
     "name": "stdout",
     "output_type": "stream",
     "text": [
      "테스트 점수 :0.951\n"
     ]
    }
   ],
   "source": [
    "print('테스트 점수 :{:.3f}'.format(select.score(X_test, y_test)))"
   ]
  },
  {
   "cell_type": "markdown",
   "id": "d60275e1",
   "metadata": {},
   "source": [
    "* 특성공학 : 특정 애플리케이션에 가장 적합한 데이터 찾는것"
   ]
  },
  {
   "cell_type": "code",
   "execution_count": null,
   "id": "66270067",
   "metadata": {},
   "outputs": [],
   "source": []
  },
  {
   "cell_type": "code",
   "execution_count": null,
   "id": "005dfccf",
   "metadata": {},
   "outputs": [],
   "source": []
  },
  {
   "cell_type": "code",
   "execution_count": null,
   "id": "32363504",
   "metadata": {},
   "outputs": [],
   "source": []
  },
  {
   "cell_type": "code",
   "execution_count": null,
   "id": "59cf320d",
   "metadata": {},
   "outputs": [],
   "source": []
  },
  {
   "cell_type": "code",
   "execution_count": null,
   "id": "68a78fe6",
   "metadata": {},
   "outputs": [],
   "source": []
  },
  {
   "cell_type": "code",
   "execution_count": null,
   "id": "b067786f",
   "metadata": {},
   "outputs": [],
   "source": []
  },
  {
   "cell_type": "code",
   "execution_count": null,
   "id": "fceca162",
   "metadata": {},
   "outputs": [],
   "source": []
  }
 ],
 "metadata": {
  "kernelspec": {
   "display_name": "Python 3 (ipykernel)",
   "language": "python",
   "name": "python3"
  },
  "language_info": {
   "codemirror_mode": {
    "name": "ipython",
    "version": 3
   },
   "file_extension": ".py",
   "mimetype": "text/x-python",
   "name": "python",
   "nbconvert_exporter": "python",
   "pygments_lexer": "ipython3",
   "version": "3.9.7"
  }
 },
 "nbformat": 4,
 "nbformat_minor": 5
}
