{
 "cells": [
  {
   "cell_type": "code",
   "execution_count": 1,
   "id": "a36a3ade",
   "metadata": {},
   "outputs": [],
   "source": [
    "from preamble import*\n",
    "%matplotlib inline"
   ]
  },
  {
   "cell_type": "markdown",
   "id": "ef4a63f5",
   "metadata": {},
   "source": [
    "## 소개"
   ]
  },
  {
   "cell_type": "markdown",
   "id": "1c3992d0",
   "metadata": {},
   "source": [
    "## 왜 머신러닝인가?\n",
    "* 머신러닝Machine Learning은 데이터에서 지식을 추출하는 작업\n",
    "* 머신러닝은 통계학, 인공지능 그리고 컴퓨터 과학이 얽혀 있는 연구 분야\n",
    "* 예측분석이나 통계적 머신러닝으로도 불립니다."
   ]
  },
  {
   "cell_type": "markdown",
   "id": "fc14b171",
   "metadata": {},
   "source": [
    "### NumPy"
   ]
  },
  {
   "cell_type": "code",
   "execution_count": 6,
   "id": "2775e6fc",
   "metadata": {},
   "outputs": [
    {
     "name": "stdout",
     "output_type": "stream",
     "text": [
      "x1:\n",
      " [1 2 3]\n",
      "(3,)\n",
      "1\n",
      "x2:\n",
      " [[1 2 3]\n",
      " [4 5 6]]\n",
      "(2, 3)\n",
      "2\n"
     ]
    }
   ],
   "source": [
    "import numpy as np\n",
    "x1 = np.array([1,2,3]) #1차원 배열\n",
    "print(\"x1:\\n\",x1)\n",
    "print(x1.shape)\n",
    "print(x1.ndim)\n",
    "\n",
    "x2 = np.array([[1,2,3],[4,5,6]]) #2차원 배열\n",
    "print(\"x2:\\n\",x2)\n",
    "print(x2.shape)\n",
    "print(x2.ndim)"
   ]
  },
  {
   "cell_type": "markdown",
   "id": "c9c752a8",
   "metadata": {},
   "source": [
    "### SciPy"
   ]
  },
  {
   "cell_type": "code",
   "execution_count": 8,
   "id": "6c3e7f8c",
   "metadata": {},
   "outputs": [
    {
     "name": "stdout",
     "output_type": "stream",
     "text": [
      "[[0. 0.]\n",
      " [0. 0.]]\n",
      "[[1. 1.]\n",
      " [1. 1.]]\n",
      "[[1. 0.]\n",
      " [0. 1.]]\n"
     ]
    }
   ],
   "source": [
    "A = np.zeros((2,2))\n",
    "B = np.ones((2,2))\n",
    "C = np.eye(2) #단위행렬\n",
    "\n",
    "print(A)\n",
    "print(B)\n",
    "print(C)"
   ]
  },
  {
   "cell_type": "code",
   "execution_count": 9,
   "id": "89555ebd",
   "metadata": {},
   "outputs": [
    {
     "name": "stdout",
     "output_type": "stream",
     "text": [
      "NumPy 배열:\n",
      " [[1. 0. 0. 0.]\n",
      " [0. 1. 0. 0.]\n",
      " [0. 0. 1. 0.]\n",
      " [0. 0. 0. 1.]]\n"
     ]
    }
   ],
   "source": [
    "from scipy import sparse\n",
    "\n",
    "#대각선 원소는 1이고 나머지는 0인 2차원 NumPy배열을 만듭니다.\n",
    "eye = np.eye(4)\n",
    "print('NumPy 배열:\\n', eye)"
   ]
  },
  {
   "cell_type": "code",
   "execution_count": 10,
   "id": "960d3f03",
   "metadata": {},
   "outputs": [
    {
     "name": "stdout",
     "output_type": "stream",
     "text": [
      "WnSciPy의 CSR 행렬:\n",
      "   (0, 0)\t1.0\n",
      "  (1, 1)\t1.0\n",
      "  (2, 2)\t1.0\n",
      "  (3, 3)\t1.0\n"
     ]
    }
   ],
   "source": [
    "# NumPy배열을 CSR 포맷의 SciPy희박행렬로 변환합니다.\n",
    "#0이 아닌 원소만 저장됩니다. (1행1열, 2행2열, 3행3열 입니다)\n",
    "sparse_matrix = sparse.csr_matrix(eye)\n",
    "print(\"WnSciPy의 CSR 행렬:\\n\", sparse_matrix)"
   ]
  },
  {
   "cell_type": "code",
   "execution_count": 12,
   "id": "d9bc946f",
   "metadata": {},
   "outputs": [
    {
     "name": "stdout",
     "output_type": "stream",
     "text": [
      "[1. 1. 1. 1.]\n",
      "[[1. 1. 1. 1.]\n",
      " [1. 1. 1. 1.]\n",
      " [1. 1. 1. 1.]\n",
      " [1. 1. 1. 1.]]\n",
      "COO 표현:\n",
      "   (0, 0)\t1.0\n",
      "  (1, 1)\t1.0\n",
      "  (2, 2)\t1.0\n",
      "  (3, 3)\t1.0\n"
     ]
    }
   ],
   "source": [
    "data = np.ones(4) \n",
    "data1 = np.ones((4,4)) #4행 4열을 1로 채워주세요\n",
    "print(data)\n",
    "print(data1)\n",
    "\n",
    "row_indices = np.arange(4)\n",
    "col_indicces = np.arange(4)\n",
    "eye_coo = sparse.coo_matrix((data, (row_indices, col_indicces)))#coo:희소행렬과 동일하게 값나옴 \n",
    "print(\"COO 표현:\\n\", eye_coo)"
   ]
  },
  {
   "cell_type": "markdown",
   "id": "87184248",
   "metadata": {},
   "source": [
    "### matplotlib"
   ]
  },
  {
   "cell_type": "markdown",
   "id": "e4b4cc78",
   "metadata": {},
   "source": [
    "### pandas"
   ]
  },
  {
   "cell_type": "markdown",
   "id": "76437a45",
   "metadata": {},
   "source": [
    "### mglearn"
   ]
  },
  {
   "cell_type": "markdown",
   "id": "06461b98",
   "metadata": {},
   "source": [
    "## 이 책에서 사용하는 소프트웨어버전"
   ]
  },
  {
   "cell_type": "code",
   "execution_count": 15,
   "id": "debc2620",
   "metadata": {},
   "outputs": [
    {
     "name": "stdout",
     "output_type": "stream",
     "text": [
      "Python 버전: 3.9.7 (default, Sep 16 2021, 16:59:28) [MSC v.1916 64 bit (AMD64)]\n",
      "Pandas 버전: 1.3.4\n",
      "matplotlib버전: 3.4.3\n",
      "NumPy버전: 1.20.3\n",
      "SciPy버전: 1.7.1\n",
      "IPython 버전: 7.29.0\n",
      "scikit-learn버전: 0.24.2\n"
     ]
    }
   ],
   "source": [
    "import sys\n",
    "print(\"Python 버전:\", sys.version)\n",
    "\n",
    "import pandas as pd\n",
    "print(\"Pandas 버전:\", pd.__version__)\n",
    "\n",
    "import matplotlib\n",
    "print(\"matplotlib버전:\", matplotlib.__version__)\n",
    "\n",
    "import numpy as np\n",
    "print(\"NumPy버전:\", np. __version__)\n",
    "\n",
    "import scipy as sp\n",
    "print(\"SciPy버전:\", sp. __version__)\n",
    "\n",
    "import IPython\n",
    "print(\"IPython 버전:\", IPython.__version__)\n",
    "\n",
    "import sklearn\n",
    "print(\"scikit-learn버전:\", sklearn.__version__)"
   ]
  },
  {
   "cell_type": "code",
   "execution_count": null,
   "id": "38d488eb",
   "metadata": {},
   "outputs": [],
   "source": []
  },
  {
   "cell_type": "code",
   "execution_count": null,
   "id": "93310925",
   "metadata": {},
   "outputs": [],
   "source": []
  },
  {
   "cell_type": "code",
   "execution_count": null,
   "id": "d79638e0",
   "metadata": {},
   "outputs": [],
   "source": []
  },
  {
   "cell_type": "code",
   "execution_count": null,
   "id": "2b3e3329",
   "metadata": {},
   "outputs": [],
   "source": []
  },
  {
   "cell_type": "code",
   "execution_count": null,
   "id": "d4d83f49",
   "metadata": {},
   "outputs": [],
   "source": []
  },
  {
   "cell_type": "code",
   "execution_count": null,
   "id": "a10cde43",
   "metadata": {},
   "outputs": [],
   "source": []
  },
  {
   "cell_type": "code",
   "execution_count": null,
   "id": "185f4ee5",
   "metadata": {},
   "outputs": [],
   "source": []
  },
  {
   "cell_type": "code",
   "execution_count": null,
   "id": "57655dc3",
   "metadata": {},
   "outputs": [],
   "source": []
  },
  {
   "cell_type": "code",
   "execution_count": null,
   "id": "2d04f201",
   "metadata": {},
   "outputs": [],
   "source": []
  },
  {
   "cell_type": "code",
   "execution_count": null,
   "id": "2efe8af6",
   "metadata": {},
   "outputs": [],
   "source": []
  },
  {
   "cell_type": "code",
   "execution_count": null,
   "id": "d0770df7",
   "metadata": {},
   "outputs": [],
   "source": []
  },
  {
   "cell_type": "code",
   "execution_count": null,
   "id": "fa80a525",
   "metadata": {},
   "outputs": [],
   "source": []
  },
  {
   "cell_type": "code",
   "execution_count": null,
   "id": "316b8da1",
   "metadata": {},
   "outputs": [],
   "source": []
  }
 ],
 "metadata": {
  "kernelspec": {
   "display_name": "Python 3 (ipykernel)",
   "language": "python",
   "name": "python3"
  },
  "language_info": {
   "codemirror_mode": {
    "name": "ipython",
    "version": 3
   },
   "file_extension": ".py",
   "mimetype": "text/x-python",
   "name": "python",
   "nbconvert_exporter": "python",
   "pygments_lexer": "ipython3",
   "version": "3.9.7"
  }
 },
 "nbformat": 4,
 "nbformat_minor": 5
}
