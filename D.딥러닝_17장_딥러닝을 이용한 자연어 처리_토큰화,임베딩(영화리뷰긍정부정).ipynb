{
 "cells": [
  {
   "cell_type": "markdown",
   "id": "0ae49a7a",
   "metadata": {},
   "source": [
    "# 17장. 딥러닝을 이용한 자연어 처리"
   ]
  },
  {
   "cell_type": "code",
   "execution_count": 1,
   "id": "395680fe",
   "metadata": {},
   "outputs": [],
   "source": [
    "import numpy as np\n",
    "import tensorflow as tf\n",
    "from numpy import array\n",
    "from tensorflow.keras.preprocessing.text import Tokenizer #단어빈도수\n",
    "from tensorflow.keras.preprocessing.sequence import pad_sequences\n",
    "from tensorflow.keras.models import Sequential\n",
    "from tensorflow.keras.layers import Dense,Flatten,Embedding #Embedding임베딩"
   ]
  },
  {
   "cell_type": "code",
   "execution_count": 5,
   "id": "527ca626",
   "metadata": {},
   "outputs": [
    {
     "name": "stdout",
     "output_type": "stream",
     "text": [
      "\n",
      "원문:\n",
      " 해보지 않으면 해낼 수 없다\n",
      "\n",
      "토큰화:\n",
      " ['해보지', '않으면', '해낼', '수', '없다']\n"
     ]
    }
   ],
   "source": [
    "from tensorflow.keras.preprocessing.text import text_to_word_sequence\n",
    "text = '해보지 않으면 해낼 수 없다'\n",
    "\n",
    "#해당 텍스트를 토큰화 합니다.\n",
    "result = text_to_word_sequence(text)\n",
    "\n",
    "print(\"\\n원문:\\n\", text)\n",
    "print(\"\\n토큰화:\\n\", result)"
   ]
  },
  {
   "cell_type": "code",
   "execution_count": 6,
   "id": "ece0ae23",
   "metadata": {},
   "outputs": [],
   "source": [
    "#전처리 하려는 세개의 문장 정하기\n",
    "docs = ['먼저 텍스트의 각 단어를 나누어 토큰화 합니다.',\n",
    "       '텍스트의 단어로 토큰화 해야 딥러닝에서 인식됩니다.',\n",
    "       '토큰화 한 결과는 딥러닝에서 사용 할 수 있습니다.',\n",
    "       ]"
   ]
  },
  {
   "cell_type": "code",
   "execution_count": 11,
   "id": "fefbb891",
   "metadata": {},
   "outputs": [
    {
     "name": "stdout",
     "output_type": "stream",
     "text": [
      "OrderedDict([('먼저', 1), ('텍스트의', 2), ('각', 1), ('단어를', 1), ('나누어', 1), ('토큰화', 3), ('합니다', 1), ('단어로', 1), ('해야', 1), ('딥러닝에서', 2), ('인식됩니다', 1), ('한', 1), ('결과는', 1), ('사용', 1), ('할', 1), ('수', 1), ('있습니다', 1)])\n"
     ]
    }
   ],
   "source": [
    "#토큰화 함수를 이용해 전처리 하는 과정\n",
    "token = Tokenizer()\n",
    "token.fit_on_texts(docs)\n",
    "print(token.word_counts)"
   ]
  },
  {
   "cell_type": "code",
   "execution_count": 16,
   "id": "f939d038",
   "metadata": {},
   "outputs": [
    {
     "name": "stdout",
     "output_type": "stream",
     "text": [
      "\n",
      "문장 카운트:\n",
      " 3\n",
      "\n",
      "각 단어가 몇개의 문장에 포함되어 있는가:\n",
      " defaultdict(<class 'int'>, {'텍스트의': 2, '단어를': 1, '토큰화': 3, '합니다': 1, '나누어': 1, '먼저': 1, '각': 1, '인식됩니다': 1, '단어로': 1, '딥러닝에서': 2, '해야': 1, '할': 1, '사용': 1, '결과는': 1, '있습니다': 1, '한': 1, '수': 1})\n",
      "\n",
      "각 단어에 매겨진 인덱스 값:\n",
      " {'토큰화': 1, '텍스트의': 2, '딥러닝에서': 3, '먼저': 4, '각': 5, '단어를': 6, '나누어': 7, '합니다': 8, '단어로': 9, '해야': 10, '인식됩니다': 11, '한': 12, '결과는': 13, '사용': 14, '할': 15, '수': 16, '있습니다': 17}\n"
     ]
    }
   ],
   "source": [
    "print(\"\\n문장 카운트:\\n\", token.document_count) \n",
    "print(\"\\n각 단어가 몇개의 문장에 포함되어 있는가:\\n\",token.word_docs)\n",
    "print(\"\\n각 단어에 매겨진 인덱스 값:\\n\",token.word_index)"
   ]
  },
  {
   "cell_type": "markdown",
   "id": "9345c9ba",
   "metadata": {},
   "source": [
    "### 단어의 원 핫 인코딩\n",
    "* 각단어를 0으로 바꾸어 주고 원하는 단어만 1로 바꾸어 주는 것\n",
    "* 이를 수행하기 위해 먼저 단어 수만큼 0으로 채워진 백터 공간으로 바꿈"
   ]
  },
  {
   "cell_type": "code",
   "execution_count": 19,
   "id": "e68f89f0",
   "metadata": {},
   "outputs": [
    {
     "name": "stdout",
     "output_type": "stream",
     "text": [
      "{'오랫동안': 1, '꿈꾸는': 2, '이는': 3, '그': 4, '꿈을': 5, '닮아간다': 6}\n"
     ]
    }
   ],
   "source": [
    "from tensorflow.keras.preprocessing.text import Tokenizer\n",
    "text = '오랫동안 꿈꾸는 이는 그 꿈을 닮아간다'\n",
    "\n",
    "token = Tokenizer()\n",
    "token.fit_on_texts([text])\n",
    "print(token.word_index)"
   ]
  },
  {
   "cell_type": "code",
   "execution_count": 21,
   "id": "eb8ce29c",
   "metadata": {},
   "outputs": [
    {
     "name": "stdout",
     "output_type": "stream",
     "text": [
      "[[1, 2, 3, 4, 5, 6]]\n"
     ]
    }
   ],
   "source": [
    "x = token.texts_to_sequences([text])\n",
    "print(x)"
   ]
  },
  {
   "cell_type": "code",
   "execution_count": 23,
   "id": "5aae2c7f",
   "metadata": {},
   "outputs": [
    {
     "name": "stdout",
     "output_type": "stream",
     "text": [
      "[[[0. 1. 0. 0. 0. 0. 0.]\n",
      "  [0. 0. 1. 0. 0. 0. 0.]\n",
      "  [0. 0. 0. 1. 0. 0. 0.]\n",
      "  [0. 0. 0. 0. 1. 0. 0.]\n",
      "  [0. 0. 0. 0. 0. 1. 0.]\n",
      "  [0. 0. 0. 0. 0. 0. 1.]]]\n"
     ]
    }
   ],
   "source": [
    "from tensorflow.keras.utils import to_categorical\n",
    "\n",
    "#인덱스 수에 하나를 추가해서 원 핫 인코딩 배열 만들기\n",
    "word_size = len(token.word_index)+1\n",
    "x = to_categorical(x, num_classes=word_size)\n",
    "print(x)"
   ]
  },
  {
   "cell_type": "markdown",
   "id": "70c33952",
   "metadata": {},
   "source": [
    "### 단어 임베딩\n",
    "* 원핫인코딩이 벡터의 길이가 너무 길어지니 공간적인 낭비가 크다. 그것을 해결하기 위한 방법이 단어 임베딩기법이다.<br>\n",
    "* 유사도 계산"
   ]
  },
  {
   "cell_type": "code",
   "execution_count": 24,
   "id": "c2e0f6ce",
   "metadata": {},
   "outputs": [],
   "source": [
    "from tensorflow.keras.layers import Embedding\n",
    "\n",
    "model = Sequential()\n",
    "model.add(Embedding(16,4)) #입력될 총 단어수 16, 임베딩후 출력되는 벡터크기는 4\n",
    "#(Embedding(16,4,input_length=2) 입력되는 단어수 16개중 2개씩 넣겠다"
   ]
  },
  {
   "cell_type": "markdown",
   "id": "4acad4e1",
   "metadata": {},
   "source": [
    "####  짧은 리뷰10개를 불러와 각각 긍정이면 1, 부정적이면 0이라는 클래스로 지정"
   ]
  },
  {
   "cell_type": "code",
   "execution_count": 26,
   "id": "de8e3198",
   "metadata": {},
   "outputs": [],
   "source": [
    "# 텍스트 리뷰 자료를 지정합니다.\n",
    "docs = [\"너무 재밌네요\",\"최고예요\",\"참 잘 만든 영화예요\",\"추천하고 싶은 영화입니다\",\n",
    "        \"한번 더 보고싶네요\",\"글쎄요\",\"별로예요\",\"생각보다 지루하네요\",\"연기가 어색해요\",\"재미없어요\"]\n",
    "\n",
    "# 긍정 리뷰는 1, 부정 리뷰는 0으로 클래스를 지정\n",
    "classes = array([1,1,1,1,1,0,0,0,0,0])"
   ]
  },
  {
   "cell_type": "code",
   "execution_count": 27,
   "id": "c77dd439",
   "metadata": {},
   "outputs": [
    {
     "name": "stdout",
     "output_type": "stream",
     "text": [
      "{'너무': 1, '재밌네요': 2, '최고예요': 3, '참': 4, '잘': 5, '만든': 6, '영화예요': 7, '추천하고': 8, '싶은': 9, '영화입니다': 10, '한번': 11, '더': 12, '보고싶네요': 13, '글쎄요': 14, '별로예요': 15, '생각보다': 16, '지루하네요': 17, '연기가': 18, '어색해요': 19, '재미없어요': 20}\n"
     ]
    }
   ],
   "source": [
    "#토큰화\n",
    "token = Tokenizer()\n",
    "token.fit_on_texts(docs)\n",
    "print(token.word_index)"
   ]
  },
  {
   "cell_type": "code",
   "execution_count": 34,
   "id": "9d312753",
   "metadata": {},
   "outputs": [
    {
     "name": "stdout",
     "output_type": "stream",
     "text": [
      "\n",
      "리뷰 텍스트, 토큰화 결과:\n",
      " [[1, 2], [3], [4, 5, 6, 7], [8, 9, 10], [11, 12, 13], [14], [15], [16, 17], [18, 19], [20]]\n"
     ]
    }
   ],
   "source": [
    "#인덱스로 새로운 배열 생성\n",
    "x = token.texts_to_sequences(docs)\n",
    "print(\"\\n리뷰 텍스트, 토큰화 결과:\\n\", x)"
   ]
  },
  {
   "cell_type": "code",
   "execution_count": 30,
   "id": "ed7b21eb",
   "metadata": {},
   "outputs": [
    {
     "name": "stdout",
     "output_type": "stream",
     "text": [
      "[[ 0  0  1  2]\n",
      " [ 0  0  0  3]\n",
      " [ 4  5  6  7]\n",
      " [ 0  8  9 10]\n",
      " [ 0 11 12 13]\n",
      " [ 0  0  0 14]\n",
      " [ 0  0  0 15]\n",
      " [ 0  0 16 17]\n",
      " [ 0  0 18 19]\n",
      " [ 0  0  0 20]]\n"
     ]
    }
   ],
   "source": [
    "#서로 다른 길이의 데이터를 4로 맞추기(패딩과정:길이를 똑같이 맞춤)\n",
    "padded_x = pad_sequences(x,4)\n",
    "print(padded_x)"
   ]
  },
  {
   "cell_type": "code",
   "execution_count": 42,
   "id": "60d1ed88",
   "metadata": {},
   "outputs": [
    {
     "name": "stdout",
     "output_type": "stream",
     "text": [
      "21\n"
     ]
    }
   ],
   "source": [
    "#전체 단어의 맨 앞에 0이 먼저 나와야 하므로 총 단어 수에 1을 더함(인덱스있으니)\n",
    "word_size = len(token.word_index)+1\n",
    "print(word_size) #아까 단어가 20개였는데 21개 됨."
   ]
  },
  {
   "cell_type": "code",
   "execution_count": 43,
   "id": "2a8ac6b2",
   "metadata": {},
   "outputs": [
    {
     "data": {
      "text/plain": [
       "<keras.layers.embeddings.Embedding at 0x2093ee8ffa0>"
      ]
     },
     "execution_count": 43,
     "metadata": {},
     "output_type": "execute_result"
    }
   ],
   "source": [
    "#4개의 단어가 들어가게 설정하면 임베딩 과정은 한줄로 표현\n",
    "Embedding(word_size, 8, input_length=4)\n",
    "#8은 임의로 정함. word_size만큼 입력값을 이용8개의 임베딩 결과를 만듦\n",
    "#4개의 길이로 맞춰 주었으므로 4개의 단어가 들어가게 설정하면 "
   ]
  },
  {
   "cell_type": "code",
   "execution_count": 40,
   "id": "defc412b",
   "metadata": {},
   "outputs": [
    {
     "name": "stdout",
     "output_type": "stream",
     "text": [
      "Epoch 1/20\n",
      "1/1 [==============================] - 0s 246ms/step - loss: 0.6950 - accuracy: 0.5000\n",
      "Epoch 2/20\n",
      "1/1 [==============================] - 0s 2ms/step - loss: 0.6929 - accuracy: 0.5000\n",
      "Epoch 3/20\n",
      "1/1 [==============================] - 0s 3ms/step - loss: 0.6907 - accuracy: 0.5000\n",
      "Epoch 4/20\n",
      "1/1 [==============================] - 0s 9ms/step - loss: 0.6886 - accuracy: 0.5000\n",
      "Epoch 5/20\n",
      "1/1 [==============================] - 0s 8ms/step - loss: 0.6865 - accuracy: 0.6000\n",
      "Epoch 6/20\n",
      "1/1 [==============================] - 0s 6ms/step - loss: 0.6844 - accuracy: 0.6000\n",
      "Epoch 7/20\n",
      "1/1 [==============================] - 0s 8ms/step - loss: 0.6823 - accuracy: 0.8000\n",
      "Epoch 8/20\n",
      "1/1 [==============================] - 0s 3ms/step - loss: 0.6801 - accuracy: 0.9000\n",
      "Epoch 9/20\n",
      "1/1 [==============================] - 0s 3ms/step - loss: 0.6780 - accuracy: 0.9000\n",
      "Epoch 10/20\n",
      "1/1 [==============================] - 0s 4ms/step - loss: 0.6759 - accuracy: 0.9000\n",
      "Epoch 11/20\n",
      "1/1 [==============================] - 0s 3ms/step - loss: 0.6738 - accuracy: 0.9000\n",
      "Epoch 12/20\n",
      "1/1 [==============================] - 0s 12ms/step - loss: 0.6717 - accuracy: 0.9000\n",
      "Epoch 13/20\n",
      "1/1 [==============================] - 0s 3ms/step - loss: 0.6696 - accuracy: 0.9000\n",
      "Epoch 14/20\n",
      "1/1 [==============================] - 0s 4ms/step - loss: 0.6674 - accuracy: 0.9000\n",
      "Epoch 15/20\n",
      "1/1 [==============================] - 0s 9ms/step - loss: 0.6653 - accuracy: 0.9000\n",
      "Epoch 16/20\n",
      "1/1 [==============================] - 0s 3ms/step - loss: 0.6632 - accuracy: 0.9000\n",
      "Epoch 17/20\n",
      "1/1 [==============================] - 0s 3ms/step - loss: 0.6610 - accuracy: 0.9000\n",
      "Epoch 18/20\n",
      "1/1 [==============================] - 0s 2ms/step - loss: 0.6589 - accuracy: 0.9000\n",
      "Epoch 19/20\n",
      "1/1 [==============================] - 0s 1ms/step - loss: 0.6567 - accuracy: 0.9000\n",
      "Epoch 20/20\n",
      "1/1 [==============================] - 0s 2ms/step - loss: 0.6545 - accuracy: 0.9000\n",
      "1/1 [==============================] - 0s 96ms/step - loss: 0.6524 - accuracy: 0.9000\n",
      "\n",
      " Accuracy: 0.9000\n"
     ]
    }
   ],
   "source": [
    "#단어 임베딩을 포함하여 딥러닝 모델을 만들고 결과를 출력\n",
    "model = Sequential()\n",
    "model.add(Embedding(word_size, 8, input_length=4))\n",
    "model.add(Flatten()) #1차원으로\n",
    "model.add(Dense(1, activation='sigmoid')) #출력값 1개 (긍정인지 부정인지이니)\n",
    "model.compile(optimizer='adam', loss='binary_crossentropy', #0아니면1이니\n",
    "             metrics=['accuracy'])\n",
    "model.fit(padded_x, classes, epochs=20)\n",
    "print(\"\\n Accuracy: %.4f\" % (model.evaluate(padded_x, classes)[1]))"
   ]
  },
  {
   "cell_type": "code",
   "execution_count": null,
   "id": "70c32ae5",
   "metadata": {},
   "outputs": [],
   "source": []
  },
  {
   "cell_type": "code",
   "execution_count": null,
   "id": "bac577de",
   "metadata": {},
   "outputs": [],
   "source": []
  }
 ],
 "metadata": {
  "kernelspec": {
   "display_name": "Python 3 (ipykernel)",
   "language": "python",
   "name": "python3"
  },
  "language_info": {
   "codemirror_mode": {
    "name": "ipython",
    "version": 3
   },
   "file_extension": ".py",
   "mimetype": "text/x-python",
   "name": "python",
   "nbconvert_exporter": "python",
   "pygments_lexer": "ipython3",
   "version": "3.9.7"
  }
 },
 "nbformat": 4,
 "nbformat_minor": 5
}
