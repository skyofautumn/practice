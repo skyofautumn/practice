{
 "cells": [
  {
   "cell_type": "markdown",
   "id": "3e18eac2",
   "metadata": {},
   "source": [
    "# Regression 실습 - 자전거 대여 수요 예측"
   ]
  },
  {
   "cell_type": "markdown",
   "id": "d334d7b0",
   "metadata": {},
   "source": [
    "자전거를 몇 일에 몇대를 빌려갈 것인가"
   ]
  },
  {
   "cell_type": "markdown",
   "id": "784ead2c",
   "metadata": {},
   "source": [
    "## 데이터 클렌징 및 가공"
   ]
  },
  {
   "cell_type": "code",
   "execution_count": 2,
   "id": "972870a7",
   "metadata": {},
   "outputs": [],
   "source": [
    "import numpy as np\n",
    "import pandas as pd\n",
    "import seaborn as sns\n",
    "import matplotlib.pyplot as plt\n",
    "%matplotlib inline\n",
    "\n",
    "import warnings\n",
    "warnings.filterwarnings(action = 'ignore')\n",
    "\n",
    "from matplotlib import font_manager, rc \n",
    "plt.rcParams['axes.unicode_minus'] = False\n",
    "font_name = font_manager.FontProperties(fname= \"c:/Windows/Fonts/malgun.ttf\").get_name()\n",
    "rc('font', family=font_name)"
   ]
  },
  {
   "cell_type": "code",
   "execution_count": 3,
   "id": "3f639fa9",
   "metadata": {},
   "outputs": [
    {
     "name": "stdout",
     "output_type": "stream",
     "text": [
      "(10886, 12)\n"
     ]
    },
    {
     "data": {
      "text/html": [
       "<div>\n",
       "<style scoped>\n",
       "    .dataframe tbody tr th:only-of-type {\n",
       "        vertical-align: middle;\n",
       "    }\n",
       "\n",
       "    .dataframe tbody tr th {\n",
       "        vertical-align: top;\n",
       "    }\n",
       "\n",
       "    .dataframe thead th {\n",
       "        text-align: right;\n",
       "    }\n",
       "</style>\n",
       "<table border=\"1\" class=\"dataframe\">\n",
       "  <thead>\n",
       "    <tr style=\"text-align: right;\">\n",
       "      <th></th>\n",
       "      <th>datetime</th>\n",
       "      <th>season</th>\n",
       "      <th>holiday</th>\n",
       "      <th>workingday</th>\n",
       "      <th>weather</th>\n",
       "      <th>temp</th>\n",
       "      <th>atemp</th>\n",
       "      <th>humidity</th>\n",
       "      <th>windspeed</th>\n",
       "      <th>casual</th>\n",
       "      <th>registered</th>\n",
       "      <th>count</th>\n",
       "    </tr>\n",
       "  </thead>\n",
       "  <tbody>\n",
       "    <tr>\n",
       "      <th>0</th>\n",
       "      <td>2011-01-01 00:00:00</td>\n",
       "      <td>1</td>\n",
       "      <td>0</td>\n",
       "      <td>0</td>\n",
       "      <td>1</td>\n",
       "      <td>9.84</td>\n",
       "      <td>14.395</td>\n",
       "      <td>81</td>\n",
       "      <td>0.0</td>\n",
       "      <td>3</td>\n",
       "      <td>13</td>\n",
       "      <td>16</td>\n",
       "    </tr>\n",
       "    <tr>\n",
       "      <th>1</th>\n",
       "      <td>2011-01-01 01:00:00</td>\n",
       "      <td>1</td>\n",
       "      <td>0</td>\n",
       "      <td>0</td>\n",
       "      <td>1</td>\n",
       "      <td>9.02</td>\n",
       "      <td>13.635</td>\n",
       "      <td>80</td>\n",
       "      <td>0.0</td>\n",
       "      <td>8</td>\n",
       "      <td>32</td>\n",
       "      <td>40</td>\n",
       "    </tr>\n",
       "    <tr>\n",
       "      <th>2</th>\n",
       "      <td>2011-01-01 02:00:00</td>\n",
       "      <td>1</td>\n",
       "      <td>0</td>\n",
       "      <td>0</td>\n",
       "      <td>1</td>\n",
       "      <td>9.02</td>\n",
       "      <td>13.635</td>\n",
       "      <td>80</td>\n",
       "      <td>0.0</td>\n",
       "      <td>5</td>\n",
       "      <td>27</td>\n",
       "      <td>32</td>\n",
       "    </tr>\n",
       "  </tbody>\n",
       "</table>\n",
       "</div>"
      ],
      "text/plain": [
       "              datetime  season  holiday  workingday  weather  temp   atemp  \\\n",
       "0  2011-01-01 00:00:00       1        0           0        1  9.84  14.395   \n",
       "1  2011-01-01 01:00:00       1        0           0        1  9.02  13.635   \n",
       "2  2011-01-01 02:00:00       1        0           0        1  9.02  13.635   \n",
       "\n",
       "   humidity  windspeed  casual  registered  count  \n",
       "0        81        0.0       3          13     16  \n",
       "1        80        0.0       8          32     40  \n",
       "2        80        0.0       5          27     32  "
      ]
     },
     "execution_count": 3,
     "metadata": {},
     "output_type": "execute_result"
    }
   ],
   "source": [
    "bike_df = pd.read_csv('../data/bike_train.csv')\n",
    "print(bike_df.shape)\n",
    "bike_df.head(3)"
   ]
  },
  {
   "cell_type": "markdown",
   "id": "ac1719e4",
   "metadata": {},
   "source": [
    "#### 2011년 1월 ~ 2012년 12월\n",
    "* 날짜,/시간, 기온, 습도, 풍속 등의 정보를 기반으로 1시간 간격 동안의 자전거 대여 횟수가 기재되어 있음<br>\n",
    "* datetime: hourly date + timestamp  \n",
    "* season: 1 = 봄, 2 = 여름, 3 = 가을, 4 = 겨울  \n",
    "* holiday: 1 = 토, 일요일의 주말을 제외한 국경일 등의 휴일, 0 = 휴일이 아닌 날  \n",
    "* workingday: 1 = 토, 일요일의 주말 및 휴일이 아닌 주중, 0 = 주말 및 휴일  \n",
    "* weather:  \n",
    "    1 = 맑음, 약간 구름 낀 흐림  \n",
    "    2 = 안개, 안개 + 흐림  \n",
    "    3 = 가벼운 눈, 가벼운 비 + 천둥  \n",
    "    4 = 심한 눈/비, 천둥/번개  \n",
    "* temp: 온도(섭씨)   \n",
    "* atemp: 체감온도(섭씨)  \n",
    "* humidity: 상대습도  \n",
    "* windspeed: 풍속  \n",
    "* casual: 사전에 등록되지 않는 사용자가 대여한 횟수  \n",
    "* registered: 사전에 등록된 사용자가 대여한 횟수  \n",
    "* count: 대여 횟수"
   ]
  },
  {
   "cell_type": "code",
   "execution_count": 5,
   "id": "f007b14c",
   "metadata": {},
   "outputs": [
    {
     "name": "stdout",
     "output_type": "stream",
     "text": [
      "<class 'pandas.core.frame.DataFrame'>\n",
      "RangeIndex: 10886 entries, 0 to 10885\n",
      "Data columns (total 12 columns):\n",
      " #   Column      Non-Null Count  Dtype  \n",
      "---  ------      --------------  -----  \n",
      " 0   datetime    10886 non-null  object \n",
      " 1   season      10886 non-null  int64  \n",
      " 2   holiday     10886 non-null  int64  \n",
      " 3   workingday  10886 non-null  int64  \n",
      " 4   weather     10886 non-null  int64  \n",
      " 5   temp        10886 non-null  float64\n",
      " 6   atemp       10886 non-null  float64\n",
      " 7   humidity    10886 non-null  int64  \n",
      " 8   windspeed   10886 non-null  float64\n",
      " 9   casual      10886 non-null  int64  \n",
      " 10  registered  10886 non-null  int64  \n",
      " 11  count       10886 non-null  int64  \n",
      "dtypes: float64(3), int64(8), object(1)\n",
      "memory usage: 1020.7+ KB\n"
     ]
    }
   ],
   "source": [
    "bike_df.info()"
   ]
  },
  {
   "cell_type": "code",
   "execution_count": 6,
   "id": "534a1c51",
   "metadata": {},
   "outputs": [
    {
     "name": "stdout",
     "output_type": "stream",
     "text": [
      "<class 'pandas.core.frame.DataFrame'>\n",
      "RangeIndex: 10886 entries, 0 to 10885\n",
      "Data columns (total 12 columns):\n",
      " #   Column      Non-Null Count  Dtype         \n",
      "---  ------      --------------  -----         \n",
      " 0   datetime    10886 non-null  datetime64[ns]\n",
      " 1   season      10886 non-null  int64         \n",
      " 2   holiday     10886 non-null  int64         \n",
      " 3   workingday  10886 non-null  int64         \n",
      " 4   weather     10886 non-null  int64         \n",
      " 5   temp        10886 non-null  float64       \n",
      " 6   atemp       10886 non-null  float64       \n",
      " 7   humidity    10886 non-null  int64         \n",
      " 8   windspeed   10886 non-null  float64       \n",
      " 9   casual      10886 non-null  int64         \n",
      " 10  registered  10886 non-null  int64         \n",
      " 11  count       10886 non-null  int64         \n",
      "dtypes: datetime64[ns](1), float64(3), int64(8)\n",
      "memory usage: 1020.7 KB\n"
     ]
    }
   ],
   "source": [
    "# 문자열을 datetime 타입으로 변경(오브젝트 타입을 날짜 타입으로 바꿔)\n",
    "bike_df['datetime'] = bike_df.datetime.apply(pd.to_datetime)\n",
    "bike_df.info()"
   ]
  },
  {
   "cell_type": "code",
   "execution_count": 8,
   "id": "d680beb5",
   "metadata": {},
   "outputs": [
    {
     "name": "stdout",
     "output_type": "stream",
     "text": [
      "<class 'pandas.core.frame.DataFrame'>\n",
      "RangeIndex: 10886 entries, 0 to 10885\n",
      "Data columns (total 16 columns):\n",
      " #   Column      Non-Null Count  Dtype         \n",
      "---  ------      --------------  -----         \n",
      " 0   datetime    10886 non-null  datetime64[ns]\n",
      " 1   season      10886 non-null  int64         \n",
      " 2   holiday     10886 non-null  int64         \n",
      " 3   workingday  10886 non-null  int64         \n",
      " 4   weather     10886 non-null  int64         \n",
      " 5   temp        10886 non-null  float64       \n",
      " 6   atemp       10886 non-null  float64       \n",
      " 7   humidity    10886 non-null  int64         \n",
      " 8   windspeed   10886 non-null  float64       \n",
      " 9   casual      10886 non-null  int64         \n",
      " 10  registered  10886 non-null  int64         \n",
      " 11  count       10886 non-null  int64         \n",
      " 12  year        10886 non-null  int64         \n",
      " 13  month       10886 non-null  int64         \n",
      " 14  day         10886 non-null  int64         \n",
      " 15  hour        10886 non-null  int64         \n",
      "dtypes: datetime64[ns](1), float64(3), int64(12)\n",
      "memory usage: 1.3 MB\n",
      "None\n"
     ]
    },
    {
     "data": {
      "text/html": [
       "<div>\n",
       "<style scoped>\n",
       "    .dataframe tbody tr th:only-of-type {\n",
       "        vertical-align: middle;\n",
       "    }\n",
       "\n",
       "    .dataframe tbody tr th {\n",
       "        vertical-align: top;\n",
       "    }\n",
       "\n",
       "    .dataframe thead th {\n",
       "        text-align: right;\n",
       "    }\n",
       "</style>\n",
       "<table border=\"1\" class=\"dataframe\">\n",
       "  <thead>\n",
       "    <tr style=\"text-align: right;\">\n",
       "      <th></th>\n",
       "      <th>datetime</th>\n",
       "      <th>season</th>\n",
       "      <th>holiday</th>\n",
       "      <th>workingday</th>\n",
       "      <th>weather</th>\n",
       "      <th>temp</th>\n",
       "      <th>atemp</th>\n",
       "      <th>humidity</th>\n",
       "      <th>windspeed</th>\n",
       "      <th>casual</th>\n",
       "      <th>registered</th>\n",
       "      <th>count</th>\n",
       "      <th>year</th>\n",
       "      <th>month</th>\n",
       "      <th>day</th>\n",
       "      <th>hour</th>\n",
       "    </tr>\n",
       "  </thead>\n",
       "  <tbody>\n",
       "    <tr>\n",
       "      <th>0</th>\n",
       "      <td>2011-01-01 00:00:00</td>\n",
       "      <td>1</td>\n",
       "      <td>0</td>\n",
       "      <td>0</td>\n",
       "      <td>1</td>\n",
       "      <td>9.84</td>\n",
       "      <td>14.395</td>\n",
       "      <td>81</td>\n",
       "      <td>0.0</td>\n",
       "      <td>3</td>\n",
       "      <td>13</td>\n",
       "      <td>16</td>\n",
       "      <td>2011</td>\n",
       "      <td>1</td>\n",
       "      <td>1</td>\n",
       "      <td>0</td>\n",
       "    </tr>\n",
       "    <tr>\n",
       "      <th>1</th>\n",
       "      <td>2011-01-01 01:00:00</td>\n",
       "      <td>1</td>\n",
       "      <td>0</td>\n",
       "      <td>0</td>\n",
       "      <td>1</td>\n",
       "      <td>9.02</td>\n",
       "      <td>13.635</td>\n",
       "      <td>80</td>\n",
       "      <td>0.0</td>\n",
       "      <td>8</td>\n",
       "      <td>32</td>\n",
       "      <td>40</td>\n",
       "      <td>2011</td>\n",
       "      <td>1</td>\n",
       "      <td>1</td>\n",
       "      <td>1</td>\n",
       "    </tr>\n",
       "    <tr>\n",
       "      <th>2</th>\n",
       "      <td>2011-01-01 02:00:00</td>\n",
       "      <td>1</td>\n",
       "      <td>0</td>\n",
       "      <td>0</td>\n",
       "      <td>1</td>\n",
       "      <td>9.02</td>\n",
       "      <td>13.635</td>\n",
       "      <td>80</td>\n",
       "      <td>0.0</td>\n",
       "      <td>5</td>\n",
       "      <td>27</td>\n",
       "      <td>32</td>\n",
       "      <td>2011</td>\n",
       "      <td>1</td>\n",
       "      <td>1</td>\n",
       "      <td>2</td>\n",
       "    </tr>\n",
       "    <tr>\n",
       "      <th>3</th>\n",
       "      <td>2011-01-01 03:00:00</td>\n",
       "      <td>1</td>\n",
       "      <td>0</td>\n",
       "      <td>0</td>\n",
       "      <td>1</td>\n",
       "      <td>9.84</td>\n",
       "      <td>14.395</td>\n",
       "      <td>75</td>\n",
       "      <td>0.0</td>\n",
       "      <td>3</td>\n",
       "      <td>10</td>\n",
       "      <td>13</td>\n",
       "      <td>2011</td>\n",
       "      <td>1</td>\n",
       "      <td>1</td>\n",
       "      <td>3</td>\n",
       "    </tr>\n",
       "    <tr>\n",
       "      <th>4</th>\n",
       "      <td>2011-01-01 04:00:00</td>\n",
       "      <td>1</td>\n",
       "      <td>0</td>\n",
       "      <td>0</td>\n",
       "      <td>1</td>\n",
       "      <td>9.84</td>\n",
       "      <td>14.395</td>\n",
       "      <td>75</td>\n",
       "      <td>0.0</td>\n",
       "      <td>0</td>\n",
       "      <td>1</td>\n",
       "      <td>1</td>\n",
       "      <td>2011</td>\n",
       "      <td>1</td>\n",
       "      <td>1</td>\n",
       "      <td>4</td>\n",
       "    </tr>\n",
       "  </tbody>\n",
       "</table>\n",
       "</div>"
      ],
      "text/plain": [
       "             datetime  season  holiday  workingday  weather  temp   atemp  \\\n",
       "0 2011-01-01 00:00:00       1        0           0        1  9.84  14.395   \n",
       "1 2011-01-01 01:00:00       1        0           0        1  9.02  13.635   \n",
       "2 2011-01-01 02:00:00       1        0           0        1  9.02  13.635   \n",
       "3 2011-01-01 03:00:00       1        0           0        1  9.84  14.395   \n",
       "4 2011-01-01 04:00:00       1        0           0        1  9.84  14.395   \n",
       "\n",
       "   humidity  windspeed  casual  registered  count  year  month  day  hour  \n",
       "0        81        0.0       3          13     16  2011      1    1     0  \n",
       "1        80        0.0       8          32     40  2011      1    1     1  \n",
       "2        80        0.0       5          27     32  2011      1    1     2  \n",
       "3        75        0.0       3          10     13  2011      1    1     3  \n",
       "4        75        0.0       0           1      1  2011      1    1     4  "
      ]
     },
     "execution_count": 8,
     "metadata": {},
     "output_type": "execute_result"
    }
   ],
   "source": [
    "# datetime타입에서 년, 월, 일, 시간 추출해서 각 칼럼 만들어 넣음.\n",
    "bike_df['year'] = bike_df.datetime.apply(lambda x : x.year)\n",
    "bike_df['month'] = bike_df.datetime.apply(lambda x : x.month)\n",
    "bike_df['day'] = bike_df.datetime.apply(lambda x : x.day)\n",
    "bike_df['hour'] = bike_df.datetime.apply(lambda x : x.hour)\n",
    "print(bike_df.info())\n",
    "bike_df.head()"
   ]
  },
  {
   "cell_type": "code",
   "execution_count": 9,
   "id": "9898aba3",
   "metadata": {},
   "outputs": [],
   "source": [
    "# 필요없는 칼럼 자르기.\n",
    "#'casual', 'registered' 두개 합하면 count에 있으므로 삭제\n",
    "drop_colums = ['datetime', 'casual', 'registered']\n",
    "bike_df.drop(drop_colums, axis=1, inplace=True)"
   ]
  },
  {
   "cell_type": "markdown",
   "id": "13215ad1",
   "metadata": {},
   "source": [
    "### 로그 변환, 피처 인코딩, 모델 학습/예측/평가\n",
    "* https://www.kaggle.com/c/bike-sharing-demand/overview/evaluation\n",
    "* RMSLE(실제값과 예측값의 오류를 로그로 변환한 뒤 RMSE를 적용)<br>\n",
    "과대평가된 항목보다 과소평가 된 항목에 패널티를 준다. <br>\n",
    "값이 작을 수록 회귀성능이 좋은 것이다. 예측한 값과 실제값이 차이가 없다는 말이다.<br>\n",
    "0에 가까울 수 록 정밀도가 높다.-평가지표(실제값 예측값 차이)"
   ]
  },
  {
   "cell_type": "markdown",
   "id": "a3908410",
   "metadata": {},
   "source": [
    "* MAE(Mean Absolue Error) : 실제값과 예측값의 차이를 절대값으로 반환해 평균한것\n",
    "* MSE(Mean Squared Error) : 실제값과 예측값의 차이를 제곱해 평균한 것\n",
    "* RMSE(Foot Mean Squared Error) : MSE값은 오류의 제곱을 구하므로 실제 오류 평균보다 더 커지는 특성이 있어 MSE에 루트를 씌운 RMSE 값을 쓴다.\n",
    "* MSLE(Mean Squared Log Error) : MSE에 로그를 적용해 준 지표입니다. log(y)가 아니라 log(y+1)입니다. y=0일때 log(y)는 마이너스 무한대이므로 이를 보정해주기 위해 +1을 한 것이다.\n",
    "* RMSLE(Root Mean Squred LogError) : RMSE에 로그를 적용해준 지표이다.\n",
    "* R제곱(R Sqare) : R 제곱은 분산기반으로 예측 성능을 평가 1에 가까울수록 예측정확도가 높다.   "
   ]
  },
  {
   "cell_type": "code",
   "execution_count": 11,
   "id": "cc29a6a8",
   "metadata": {
    "scrolled": true
   },
   "outputs": [
    {
     "data": {
      "image/jpeg": "[encoded data removed]",
      "text/plain": [
       "<IPython.core.display.Image object>"
      ]
     },
     "execution_count": 11,
     "metadata": {},
     "output_type": "execute_result"
    }
   ],
   "source": [
    "from IPython.display import Image\n",
    "Image(\"../data/rmsle수식.jpg\")"
   ]
  },
  {
   "cell_type": "markdown",
   "id": "7546acdb",
   "metadata": {},
   "source": [
    "* 수식 참조 사이트 : https://bkshin.tistory.com/entry/%EB%A8%B8%EC%8B%A0%EB%9F%AC%EB%8B%9D-17-%ED%9A%8C%EA%B7%80-%ED%8F%89%EA%B0%80-%EC%A7%80%ED%91%9C?category=1057680"
   ]
  },
  {
   "cell_type": "code",
   "execution_count": 19,
   "id": "547128f6",
   "metadata": {},
   "outputs": [],
   "source": [
    "# 평가도구\n",
    "from sklearn.metrics import mean_squared_error, mean_absolute_error\n",
    "#log 값 변환시 NaN등의 이슈로 log()가 아닌 log1p()를 이용하여 RMSLE계산\n",
    "#log 값이 무한대로 적용되기에 그걸 막기 위해 함수값인 log1p사용\n",
    "#사이킷런에 RMSLE 가 없어서 함수 만들것임\n",
    "#실제값과 예측값에 RMSLE 적용\n",
    "def rmsle(y, pred):\n",
    "    log_y = np.log1p(y)\n",
    "    log_pred = np.log1p(pred)\n",
    "    squared_error = (log_y - log_pred) **2 #실제값-예측값의 제곱\n",
    "    rmsle = np.sqrt(np.mean(squared_error)) #sqrt는 루트씌운것\n",
    "    return rmsle\n",
    "\n",
    "#사이킷런의 mean_squre_error()를 이용하여 RMSE 계산\n",
    "def rmse(y,pred):\n",
    "    return np.sqrt(mean_squared_error(y,pred))\n",
    "\n",
    "#MSE, RMSE, RMSLE 를 모두 계산\n",
    "def evaluate_regr(y,pred):\n",
    "    rmsle_val = rmsle(y,pred)\n",
    "    rmse_val = rmse(y,pred)\n",
    "    #MSE는 scikit learn의 mean_absoulte_error()로 계산\n",
    "    mse_val = mean_absolute_error(y,pred)\n",
    "    print('RMSLE: {0:.3f}, RMSE: {1:.3F}, MSE : {2:.3F}'.format(rmsle_val, rmse_val, mse_val))"
   ]
  },
  {
   "cell_type": "code",
   "execution_count": 21,
   "id": "b6bdd785",
   "metadata": {},
   "outputs": [
    {
     "name": "stdout",
     "output_type": "stream",
     "text": [
      "RMSLE: 1.165, RMSE: 140.900, MSE : 105.924\n"
     ]
    }
   ],
   "source": [
    "from sklearn.model_selection import train_test_split, GridSearchCV\n",
    "from sklearn.linear_model import LinearRegression, Ridge, Lasso\n",
    "\n",
    "y_target = bike_df['count'] #자전거 몇대 빌릴지가 타겟값\n",
    "X_features = bike_df.drop(['count'], axis=1, inplace=False) \n",
    "#count 제외한(타겟값 제외하고)\n",
    "\n",
    "X_train, X_test, y_train, y_test = train_test_split(X_features, y_target, \n",
    "                                                test_size=0.3, random_state=0)\n",
    "\n",
    "lr_reg = LinearRegression()\n",
    "lr_reg.fit(X_train, y_train)\n",
    "pred = lr_reg.predict(X_test)\n",
    "\n",
    "evaluate_regr(y_test,pred)"
   ]
  },
  {
   "cell_type": "code",
   "execution_count": 23,
   "id": "6fb18a5f",
   "metadata": {},
   "outputs": [
    {
     "name": "stdout",
     "output_type": "stream",
     "text": [
      "      real_count  predicted_count   diff\n",
      "1618         890            322.0  568.0\n",
      "3151         798            241.0  557.0\n",
      "966          884            327.0  557.0\n",
      "412          745            194.0  551.0\n",
      "2817         856            310.0  546.0\n"
     ]
    }
   ],
   "source": [
    "def get_top_error_data(y_test, pred, n_tops = 5):\n",
    "    #DataFrame에 컬럼들로 실제 대여횟수(count)와 예측값을 서로 비교할수 있도록 생성\n",
    "    result_df = pd.DataFrame(y_test.values, columns=['real_count'])\n",
    "    result_df['predicted_count']=np.round(pred)\n",
    "    result_df['diff'] = np.abs(result_df['real_count']-result_df['predicted_count'])\n",
    "    #abs절대값 (실제값-절대값)\n",
    "    #예측값과 실제값이 가장 큰 데이터 순으로 출력\n",
    "    print(result_df.sort_values('diff', ascending=False)[:n_tops])\n",
    "    \n",
    "get_top_error_data(y_test,pred,n_tops=5)"
   ]
  },
  {
   "cell_type": "code",
   "execution_count": 25,
   "id": "1608485a",
   "metadata": {},
   "outputs": [
    {
     "data": {
      "text/plain": [
       "<AxesSubplot:>"
      ]
     },
     "execution_count": 25,
     "metadata": {},
     "output_type": "execute_result"
    },
    {
     "data": {
      "image/png": "[encoded data removed]",
      "text/plain": [
       "<Figure size 432x288 with 1 Axes>"
      ]
     },
     "metadata": {
      "needs_background": "light"
     },
     "output_type": "display_data"
    }
   ],
   "source": [
    "#차이많이 나니 데이터 분포값으로 확인하기\n",
    "y_target.hist()"
   ]
  },
  {
   "cell_type": "markdown",
   "id": "6986e97b",
   "metadata": {},
   "source": [
    "* 0~200 사이에 데이터가 왜곡되어 있음.<br>\n",
    "한쪽으로 치우쳤기 때문에 정규분포로 만들어 놓고 해야해"
   ]
  },
  {
   "cell_type": "code",
   "execution_count": 27,
   "id": "d4444aa5",
   "metadata": {},
   "outputs": [
    {
     "data": {
      "text/plain": [
       "<AxesSubplot:>"
      ]
     },
     "execution_count": 27,
     "metadata": {},
     "output_type": "execute_result"
    },
    {
     "data": {
      "image/png": "[encoded data removed]",
      "text/plain": [
       "<Figure size 432x288 with 1 Axes>"
      ]
     },
     "metadata": {
      "needs_background": "light"
     },
     "output_type": "display_data"
    }
   ],
   "source": [
    "# 왜곡된 값을 정규분포 형태로 바꿈 log1p -> 원상복귀는 expm1 - 완전한 정규분포는 아니지만 왜곡이 좀 향상됨\n",
    "y_log_transform = np.log1p(y_target)\n",
    "y_log_transform.hist()"
   ]
  },
  {
   "cell_type": "code",
   "execution_count": 30,
   "id": "ebc53bca",
   "metadata": {},
   "outputs": [
    {
     "name": "stdout",
     "output_type": "stream",
     "text": [
      "RMSLE: 1.017, RMSE: 162.594, MSE : 109.286\n"
     ]
    }
   ],
   "source": [
    "#타겟 칼럼인 count 값을 log1p로 Log 변환\n",
    "y_target_log = np.log1p(y_target) #log1p = log+1\n",
    "\n",
    "#로그변환된 y_target_log를 반영하여 학습/테스트 데이터 셋 분할\n",
    "X_train, X_test, y_train, y_test = train_test_split(X_features, y_target_log, \n",
    "                                                test_size=0.3, random_state=0)\n",
    "lr_reg = LinearRegression()\n",
    "lr_reg.fit(X_train, y_train)\n",
    "pred = lr_reg.predict(X_test)\n",
    "\n",
    "#테스트 데이터 셋의 Target값은 Log 변환\n",
    "#-> 다시 expm1를 이용하여 원래 scale로 변환\n",
    "y_test_exp = np.expm1(y_test)\n",
    "\n",
    "#예측값 역시 Log 변환된 타겟 기반으로 학습되어 예측되엇으므로 다시 exmpl으로 scale 변환\n",
    "pred_exp = np.expm1(pred)\n",
    "\n",
    "evaluate_regr(y_test_exp, pred_exp)\n",
    "#이전=> RMSLE: 1.165, RMSE: 140.900, MSE : 105.924"
   ]
  },
  {
   "cell_type": "markdown",
   "id": "de0be084",
   "metadata": {},
   "source": [
    "* 이전에 비해 RMSLE 오류는 줄었지만, RMSE와 MSE는 더 늘었다.\n",
    "* 값이 적을수록 더 정확한것인데.."
   ]
  },
  {
   "cell_type": "code",
   "execution_count": 31,
   "id": "44ba3706",
   "metadata": {},
   "outputs": [
    {
     "data": {
      "text/plain": [
       "<AxesSubplot:>"
      ]
     },
     "execution_count": 31,
     "metadata": {},
     "output_type": "execute_result"
    },
    {
     "data": {
      "image/png": "[encoded data removed]",
      "text/plain": [
       "<Figure size 432x288 with 1 Axes>"
      ]
     },
     "metadata": {
      "needs_background": "light"
     },
     "output_type": "display_data"
    }
   ],
   "source": [
    "coef = pd.Series(lr_reg.coef_, index=X_features.columns)\n",
    "coef_sort = coef.sort_values(ascending=False)\n",
    "sns.barplot(x=coef_sort.values, y=coef_sort.index)"
   ]
  },
  {
   "cell_type": "markdown",
   "id": "168d14b2",
   "metadata": {},
   "source": [
    "* 각 피처의 회귀 계수 값을 시각화 - year(2011,20212값) 피처의 회귀계수 값이 독보적으로 크다.\n",
    "* 자전거 타는데 대여횟수에 year가 그렇게 중요한 값은 아니다.\n",
    "* 날씨, 계절,...이런건 대여횟수에 영향을 주지만..\n",
    "* year피처는 연도를뜻하므로 카테고리형 피처지만 숫자값으로 돼 잇어 이것을 One Hot Encodin적용(선형회귀할때 바꿔야해)\n",
    "* 숫자형 카테고리 값을 선형회귀에 사용할 경우 회귀 게수를 연산할때 이 숫자형 값에 크게영향을 받는 경우가 발생하므로 주의"
   ]
  },
  {
   "cell_type": "code",
   "execution_count": 38,
   "id": "6760e852",
   "metadata": {},
   "outputs": [],
   "source": [
    "# year, month, hour, season,weather, feaure들을 원 핫 인코딩 적용(범주형으로)\n",
    "X_features_ohe = pd.get_dummies(X_features, columns=['year', 'month','hour','holiday', 'workingday', 'season', 'weather'])"
   ]
  },
  {
   "cell_type": "code",
   "execution_count": 44,
   "id": "4c40a0db",
   "metadata": {},
   "outputs": [
    {
     "name": "stdout",
     "output_type": "stream",
     "text": [
      "### LinearRegression ###\n",
      "RMSLE: 0.589, RMSE: 97.483, MSE : 63.106\n",
      "### Ridge ###\n",
      "RMSLE: 0.589, RMSE: 98.407, MSE : 63.648\n",
      "### Lasso ###\n",
      "RMSLE: 0.634, RMSE: 113.031, MSE : 72.658\n"
     ]
    }
   ],
   "source": [
    "# 원핫 인코딩이 적용된 feature데이터 세트 기반으로 학습/예측 데이터 분할\n",
    "X_train, X_test, y_train, y_test = train_test_split(X_features_ohe, y_target_log, \n",
    "                                                test_size=0.3, random_state=0)\n",
    "#모델과 학습/테스트 데이터 셋을 입려하면 성능 평가 수치를 반환\n",
    "def get_model_predict(model, X_train, X_test, y_train, y_test, is_expm1=False):#로그값 변환false\n",
    "    model.fit(X_train, y_train)\n",
    "    pred = model.predict(X_test)\n",
    "    if is_expm1:\n",
    "        y_test = np.expm1(y_test)\n",
    "        pred = np.expm1(pred)\n",
    "    print('###', model.__class__.__name__, '###')\n",
    "    evaluate_regr(y_test,pred)#아까 만들어 놓은 함수 :MSE, RMSE, RMSLE 를 모두 계산\n",
    "   \n",
    "# model별로 평가수행\n",
    "lr_reg = LinearRegression()\n",
    "ridge_reg = Ridge(alpha=10) #alpha 규제\n",
    "lasso_reg = Lasso(alpha=0.01) #alpha 규제\n",
    "\n",
    "for model in [lr_reg, ridge_reg, lasso_reg]:\n",
    "    get_model_predict(model,X_train, X_test, y_train, y_test, is_expm1=True)    \n",
    "    "
   ]
  },
  {
   "cell_type": "markdown",
   "id": "e2bba80c",
   "metadata": {},
   "source": [
    "* 성능이 엄청 좋아짐\n",
    "* 이전 : 1.017, RMSE: 162.594, MSE : 109.286 (실제값 예측값 모두 줄어들었다.)\n",
    "* 선형 회귀 수행시 - 피처를 어떻게 인코딩 하는가가 성능에 중요한 영향을 미칠 수 있다.(숫자 진짜 숫자 아니고 범주형 데이터)"
   ]
  },
  {
   "cell_type": "code",
   "execution_count": 45,
   "id": "01d708e7",
   "metadata": {},
   "outputs": [
    {
     "data": {
      "text/plain": [
       "<AxesSubplot:>"
      ]
     },
     "execution_count": 45,
     "metadata": {},
     "output_type": "execute_result"
    },
    {
     "data": {
      "image/png": "[encoded data removed]",
      "text/plain": [
       "<Figure size 432x288 with 1 Axes>"
      ]
     },
     "metadata": {
      "needs_background": "light"
     },
     "output_type": "display_data"
    }
   ],
   "source": [
    "#month_9, month_7, month_8, season_1등의 피처 회귀 계수가 높게 나왔다.\n",
    "coef = pd.Series(lr_reg.coef_ , index=X_features_ohe.columns)\n",
    "coef_sort = coef.sort_values(ascending=False)[:10]\n",
    "sns.barplot(x=coef_sort.values , y=coef_sort.index)"
   ]
  },
  {
   "cell_type": "markdown",
   "id": "65acc7b2",
   "metadata": {},
   "source": [
    "### 모델 몇개만 더 집어넣어보자"
   ]
  },
  {
   "cell_type": "markdown",
   "id": "2d0913c9",
   "metadata": {},
   "source": [
    "* 이전에 만들어 놓은 함수로 계산할수 있다. (get_model_predict)"
   ]
  },
  {
   "cell_type": "markdown",
   "id": "2c88941f",
   "metadata": {},
   "source": [
    "#### 회귀 트리 - 평가지표 예측"
   ]
  },
  {
   "cell_type": "code",
   "execution_count": 50,
   "id": "a8cc92d7",
   "metadata": {},
   "outputs": [
    {
     "name": "stdout",
     "output_type": "stream",
     "text": [
      "### RandomForestRegressor ###\n",
      "RMSLE: 0.354, RMSE: 50.754, MSE : 31.516\n",
      "### GradientBoostingRegressor ###\n",
      "RMSLE: 0.340, RMSE: 55.770, MSE : 34.337\n",
      "### XGBRegressor ###\n",
      "RMSLE: 0.339, RMSE: 50.950, MSE : 30.891\n",
      "### LGBMRegressor ###\n",
      "RMSLE: 0.316, RMSE: 46.473, MSE : 28.777\n"
     ]
    }
   ],
   "source": [
    "from sklearn.ensemble import RandomForestRegressor, GradientBoostingRegressor\n",
    "from xgboost import XGBRegressor\n",
    "from lightgbm import LGBMRegressor\n",
    "\n",
    "#랜덤 포레스트, GBM, xgboost,lightgbm별로 평가 수행\n",
    "rf_reg = RandomForestRegressor(n_estimators=500) #전문가 여러명의 의견 평균\n",
    "gbm_reg = GradientBoostingRegressor(n_estimators=500)\n",
    "xgb_reg = XGBRegressor(n_estimators=500)\n",
    "lgbm_reg = LGBMRegressor(n_estimators=500)\n",
    "\n",
    "for model in [rf_reg, gbm_reg, xgb_reg, lgbm_reg]:\n",
    "    get_model_predict(model, X_train, X_test, y_train, y_test, is_expm1=True)\n",
    "    \n",
    "# xgboost와 lightgbm 안올라오면 아나콘다프롬프트에서 pip install 하고 두개 올리면 됨"
   ]
  },
  {
   "cell_type": "markdown",
   "id": "c50fcc4b",
   "metadata": {},
   "source": [
    "* 이전에 선형 회귀 모형<br>\n",
    "LinearRegression<br>\n",
    "RMSLE: 0.589, RMSE: 97.483, MSE : 63.106<br>\n",
    "Ridge <br>\n",
    "RMSLE: 0.589, RMSE: 98.407, MSE : 63.648<br>\n",
    "Lasso <br>\n",
    "RMSLE: 0.634, RMSE: 113.031, MSE : 72.658\n",
    "            * 선형 회귀 모델보다 회귀 예측 성능이 개선됨."
   ]
  },
  {
   "cell_type": "markdown",
   "id": "a1d75893",
   "metadata": {},
   "source": [
    "* 회귀 트리를 이용해 회귀 예측을 수행\n",
    "* 선형 회귀 모델보다 회귀 예측 성능이 개선됨. (아래 선형회귀 모델 있음.)\n",
    "* 데이터 세트의 유형에 따라 결과는 달라질 수 있음.(하지만 항상 그런것은 아니다.)"
   ]
  },
  {
   "cell_type": "code",
   "execution_count": null,
   "id": "02ced838",
   "metadata": {},
   "outputs": [],
   "source": []
  }
 ],
 "metadata": {
  "kernelspec": {
   "display_name": "Python 3 (ipykernel)",
   "language": "python",
   "name": "python3"
  },
  "language_info": {
   "codemirror_mode": {
    "name": "ipython",
    "version": 3
   },
   "file_extension": ".py",
   "mimetype": "text/x-python",
   "name": "python",
   "nbconvert_exporter": "python",
   "pygments_lexer": "ipython3",
   "version": "3.9.7"
  }
 },
 "nbformat": 4,
 "nbformat_minor": 5
}
