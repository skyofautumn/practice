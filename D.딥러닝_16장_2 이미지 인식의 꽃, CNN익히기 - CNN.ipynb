{
 "cells": [
  {
   "cell_type": "markdown",
   "id": "78d5ded2",
   "metadata": {},
   "source": [
    "# 컨볼루션 신경망(CNN)"
   ]
  },
  {
   "cell_type": "markdown",
   "id": "ac19d016",
   "metadata": {},
   "source": [
    "* 참고자료 : https://towardsdatascience.com/a-comprehensive-guide-to-convolutional-neural-networks-the-eli5-way-3bd2b1164a53\n",
    "\n",
    "http://neuralnetworksanddeeplearning.com/chap1.html<br>\n",
    "https://thebook.io/006796/ch01/02/01_01/<br>\n",
    "https://www.hackerearth.com/blog/developers/object-detection-for-self-driving-cars/"
   ]
  },
  {
   "cell_type": "code",
   "execution_count": 3,
   "id": "be0660df",
   "metadata": {},
   "outputs": [],
   "source": [
    "from tensorflow.keras.datasets import mnist\n",
    "from tensorflow.keras.utils import to_categorical\n",
    "from tensorflow.keras.models import Sequential\n",
    "from tensorflow.keras.layers import Dense, Dropout, Flatten, Conv2D, MaxPooling2D\n",
    "from tensorflow.keras.callbacks import ModelCheckpoint,EarlyStopping\n",
    "import matplotlib.pyplot as plt\n",
    "import numpy as np\n",
    "import pandas as pd\n",
    "import sys\n",
    "import os\n",
    "import tensorflow as tf\n",
    "\n",
    "seed=0\n",
    "np.random.seed(seed)\n",
    "tf.random.set_seed(3)\n",
    "\n",
    "#데이터불러오기\n",
    "(X_train, Y_train), (X_test, Y_test) = mnist.load_data()\n",
    "\n",
    "#정규화\n",
    "X_train = X_train.reshape(X_train.shape[0], 28,28,1).astype('float32')/255\n",
    "X_test = X_test.reshape(X_test.shape[0], 28,28,1).astype('float32')/255\n",
    "\n",
    "Y_train = to_categorical(Y_train) \n",
    "Y_test = to_categorical(Y_test)"
   ]
  },
  {
   "cell_type": "code",
   "execution_count": 8,
   "id": "62990e0b",
   "metadata": {},
   "outputs": [],
   "source": [
    "#컨볼루션 신경망의 설정\n",
    "model = Sequential()\n",
    "model.add(Conv2D(32, kernel_size=(3,3), input_shape=(28,28,1),\n",
    "                 activation ='relu'))\n",
    "\n",
    "model.add(Conv2D(64, (3,3), activation='relu'))\n",
    "model.add(MaxPooling2D(pool_size=2))\n",
    "model.add(Dropout(0.25)) #정보의 25%꺼버린다\n",
    "model.add(Flatten()) #1차원\n",
    "model.add(Dense(128, activation ='relu'))\n",
    "model.add(Dropout(0.5))\n",
    "model.add(Dense(10, activation ='softmax'))# 숫자0-9까지 10개 숫자\n",
    "\n",
    "model.compile(loss='categorical_crossentropy',\n",
    "             optimizer='adam',\n",
    "             metrics=['accuracy'])"
   ]
  },
  {
   "cell_type": "code",
   "execution_count": 9,
   "id": "4f740bac",
   "metadata": {},
   "outputs": [
    {
     "name": "stdout",
     "output_type": "stream",
     "text": [
      "\n",
      "Epoch 1: val_loss improved from inf to 0.06263, saving model to ./model\\01-0.0626.hdf5\n",
      "\n",
      "Epoch 2: val_loss improved from 0.06263 to 0.04293, saving model to ./model\\02-0.0429.hdf5\n",
      "\n",
      "Epoch 3: val_loss improved from 0.04293 to 0.03483, saving model to ./model\\03-0.0348.hdf5\n",
      "\n",
      "Epoch 4: val_loss improved from 0.03483 to 0.03162, saving model to ./model\\04-0.0316.hdf5\n",
      "\n",
      "Epoch 5: val_loss did not improve from 0.03162\n",
      "\n",
      "Epoch 6: val_loss improved from 0.03162 to 0.02797, saving model to ./model\\06-0.0280.hdf5\n",
      "\n",
      "Epoch 7: val_loss improved from 0.02797 to 0.02593, saving model to ./model\\07-0.0259.hdf5\n",
      "\n",
      "Epoch 8: val_loss did not improve from 0.02593\n",
      "\n",
      "Epoch 9: val_loss did not improve from 0.02593\n",
      "\n",
      "Epoch 10: val_loss did not improve from 0.02593\n",
      "\n",
      "Epoch 11: val_loss did not improve from 0.02593\n",
      "\n",
      "Epoch 12: val_loss did not improve from 0.02593\n",
      "\n",
      "Epoch 13: val_loss did not improve from 0.02593\n",
      "\n",
      "Epoch 14: val_loss improved from 0.02593 to 0.02557, saving model to ./model\\14-0.0256.hdf5\n",
      "\n",
      "Epoch 15: val_loss improved from 0.02557 to 0.02403, saving model to ./model\\15-0.0240.hdf5\n",
      "\n",
      "Epoch 16: val_loss did not improve from 0.02403\n",
      "\n",
      "Epoch 17: val_loss did not improve from 0.02403\n",
      "\n",
      "Epoch 18: val_loss did not improve from 0.02403\n",
      "\n",
      "Epoch 19: val_loss did not improve from 0.02403\n",
      "\n",
      "Epoch 20: val_loss did not improve from 0.02403\n",
      "\n",
      "Epoch 21: val_loss did not improve from 0.02403\n",
      "\n",
      "Epoch 22: val_loss did not improve from 0.02403\n",
      "\n",
      "Epoch 23: val_loss did not improve from 0.02403\n",
      "\n",
      "Epoch 24: val_loss did not improve from 0.02403\n",
      "\n",
      "Epoch 25: val_loss did not improve from 0.02403\n",
      "313/313 [==============================] - 2s 7ms/step - loss: 0.0313 - accuracy: 0.9929\n",
      "\n",
      " Test Accuracy: 0.9929\n"
     ]
    }
   ],
   "source": [
    "# 모델 최적화 설정\n",
    "MODEL_DIR = './model/'\n",
    "if not os.path.exists(MODEL_DIR):\n",
    "    os.mkdir(MODEL_DIR)\n",
    "\n",
    "modelpath=\"./model/{epoch:02d}-{val_loss:.4f}.hdf5\"\n",
    "checkpointer = ModelCheckpoint(filepath=modelpath, monitor='val_loss', verbose=1, save_best_only=True)\n",
    "early_stopping_callback = EarlyStopping(monitor='val_loss', patience=10)\n",
    "\n",
    "# 모델의 실행\n",
    "history = model.fit(X_train, Y_train, validation_data=(X_test, Y_test), epochs=30, batch_size=200, verbose=0, callbacks=[early_stopping_callback,checkpointer])\n",
    "\n",
    "# 테스트 정확도 출력\n",
    "print(\"\\n Test Accuracy: %.4f\" % (model.evaluate(X_test, Y_test)[1]))\n"
   ]
  },
  {
   "cell_type": "code",
   "execution_count": 10,
   "id": "81f57773",
   "metadata": {},
   "outputs": [],
   "source": [
    "#테스트 셋의 오차\n",
    "y_vloss = history.history['val_loss']\n",
    "#학습셋의 오차\n",
    "y_loss = history.history['loss']"
   ]
  },
  {
   "cell_type": "code",
   "execution_count": null,
   "id": "cb78b887",
   "metadata": {},
   "outputs": [],
   "source": [
    "#그래프로 표현\n",
    "x_len = np.arange(len(y_loss))\n",
    "plt.plot(x_len, y_vloss, marker='.', c='red', label='Testset_loss')\n",
    "plt.plot(x_len, y_loss, marker='.', c='blue', label='Trainset_loss')\n",
    "\n",
    "#그래프에 그리드를 주고 레이블 표시\n",
    "plt.legend(loc='upper right')\n",
    "plt.grid()\n",
    "plt.xlabel('epoch')\n",
    "plt.ylabel('loss')\n",
    "plt.show()"
   ]
  },
  {
   "cell_type": "code",
   "execution_count": 11,
   "id": "4ea125fe",
   "metadata": {},
   "outputs": [
    {
     "data": {
      "image/png": "[encoded data removed]",
      "text/plain": [
       "<Figure size 864x576 with 16 Axes>"
      ]
     },
     "metadata": {
      "needs_background": "light"
     },
     "output_type": "display_data"
    }
   ],
   "source": [
    "# 잘못예측한거 뭔지 찾아봄\n",
    "import random\n",
    "import numpy as np\n",
    "\n",
    "predicted_result = model.predict(X_test)\n",
    "predicted_labels = np.argmax(predicted_result, axis=1)\n",
    "\n",
    "test_labels = np.argmax(Y_test, axis=1)\n",
    "\n",
    "wrong_result = []\n",
    "\n",
    "for n in range(0, len(test_labels)):\n",
    "    if predicted_labels[n] != test_labels[n]:\n",
    "        wrong_result.append(n)\n",
    "\n",
    "samples = random.choices(population=wrong_result, k=16)\n",
    "\n",
    "count = 0\n",
    "nrows = ncols = 4\n",
    "\n",
    "plt.figure(figsize=(12,8))\n",
    "\n",
    "for n in samples:\n",
    "    count += 1\n",
    "    plt.subplot(nrows, ncols, count)\n",
    "    plt.imshow(X_test[n].reshape(28, 28), cmap='Greys', interpolation='nearest')\n",
    "    tmp = \"Label:\" + str(test_labels[n]) + \", Prediction:\" + str(predicted_labels[n])\n",
    "    plt.title(tmp)\n",
    "\n",
    "plt.tight_layout()\n",
    "plt.show()"
   ]
  },
  {
   "cell_type": "code",
   "execution_count": null,
   "id": "2ea7b397",
   "metadata": {},
   "outputs": [],
   "source": []
  },
  {
   "cell_type": "code",
   "execution_count": null,
   "id": "0630f93b",
   "metadata": {},
   "outputs": [],
   "source": []
  },
  {
   "cell_type": "code",
   "execution_count": null,
   "id": "f7afbaa9",
   "metadata": {},
   "outputs": [],
   "source": []
  }
 ],
 "metadata": {
  "kernelspec": {
   "display_name": "Python 3 (ipykernel)",
   "language": "python",
   "name": "python3"
  },
  "language_info": {
   "codemirror_mode": {
    "name": "ipython",
    "version": 3
   },
   "file_extension": ".py",
   "mimetype": "text/x-python",
   "name": "python",
   "nbconvert_exporter": "python",
   "pygments_lexer": "ipython3",
   "version": "3.9.7"
  }
 },
 "nbformat": 4,
 "nbformat_minor": 5
}
