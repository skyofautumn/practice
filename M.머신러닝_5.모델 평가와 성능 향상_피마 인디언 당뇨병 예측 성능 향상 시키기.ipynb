{
 "cells": [
  {
   "cell_type": "markdown",
   "id": "2126491d",
   "metadata": {},
   "source": [
    "## 피마 인디언 당뇨병 예측 성능 향상 시키기\n",
    "* 정확도: 0.7987, 정밀도: 0.7447, 재현율: 0.6481,    F1: 0.6931, AUC:0.8433"
   ]
  },
  {
   "cell_type": "code",
   "execution_count": 55,
   "id": "2a35a120",
   "metadata": {},
   "outputs": [],
   "source": [
    "import numpy as np\n",
    "import pandas as pd\n",
    "import matplotlib.pyplot as plt\n",
    "%matplotlib inline\n",
    "\n",
    "import warnings\n",
    "warnings.filterwarnings(action = 'ignore')\n",
    "\n",
    "from matplotlib import font_manager, rc \n",
    "plt.rcParams['axes.unicode_minus'] = False\n",
    "\n",
    "f_path = \"c:/Windows/Fonts/malgun.ttf\"\n",
    "font_name = font_manager.FontProperties(fname=f_path).get_name()\n",
    "rc('font', family=font_name)\n",
    "\n",
    "from sklearn.linear_model import LogisticRegression\n",
    "from sklearn.neighbors import KNeighborsClassifier\n",
    "from sklearn.naive_bayes import GaussianNB\n",
    "from sklearn.naive_bayes import BernoulliNB\n",
    "from sklearn.svm import SVC\n",
    "from sklearn.tree import DecisionTreeClassifier\n",
    "from sklearn.ensemble import RandomForestClassifier, ExtraTreesClassifier, AdaBoostClassifier, GradientBoostingClassifier\n",
    "from xgboost import XGBClassifier\n",
    "from lightgbm import LGBMClassifier\n",
    "\n",
    "from sklearn.metrics import accuracy_score, confusion_matrix, roc_auc_score, ConfusionMatrixDisplay, precision_score, recall_score, f1_score, classification_report, roc_curve, plot_roc_curve, auc, precision_recall_curve, plot_precision_recall_curve, average_precision_score\n",
    "from sklearn.model_selection import cross_val_score"
   ]
  },
  {
   "cell_type": "code",
   "execution_count": 74,
   "id": "153f0a22",
   "metadata": {},
   "outputs": [
    {
     "name": "stdout",
     "output_type": "stream",
     "text": [
      "0    500\n",
      "1    268\n",
      "Name: Outcome, dtype: int64\n"
     ]
    },
    {
     "data": {
      "text/html": [
       "<div>\n",
       "<style scoped>\n",
       "    .dataframe tbody tr th:only-of-type {\n",
       "        vertical-align: middle;\n",
       "    }\n",
       "\n",
       "    .dataframe tbody tr th {\n",
       "        vertical-align: top;\n",
       "    }\n",
       "\n",
       "    .dataframe thead th {\n",
       "        text-align: right;\n",
       "    }\n",
       "</style>\n",
       "<table border=\"1\" class=\"dataframe\">\n",
       "  <thead>\n",
       "    <tr style=\"text-align: right;\">\n",
       "      <th></th>\n",
       "      <th>Pregnancies</th>\n",
       "      <th>Glucose</th>\n",
       "      <th>BloodPressure</th>\n",
       "      <th>SkinThickness</th>\n",
       "      <th>Insulin</th>\n",
       "      <th>BMI</th>\n",
       "      <th>DiabetesPedigreeFunction</th>\n",
       "      <th>Age</th>\n",
       "      <th>Outcome</th>\n",
       "    </tr>\n",
       "  </thead>\n",
       "  <tbody>\n",
       "    <tr>\n",
       "      <th>0</th>\n",
       "      <td>6</td>\n",
       "      <td>148</td>\n",
       "      <td>72</td>\n",
       "      <td>35</td>\n",
       "      <td>0</td>\n",
       "      <td>33.6</td>\n",
       "      <td>0.627</td>\n",
       "      <td>50</td>\n",
       "      <td>1</td>\n",
       "    </tr>\n",
       "    <tr>\n",
       "      <th>1</th>\n",
       "      <td>1</td>\n",
       "      <td>85</td>\n",
       "      <td>66</td>\n",
       "      <td>29</td>\n",
       "      <td>0</td>\n",
       "      <td>26.6</td>\n",
       "      <td>0.351</td>\n",
       "      <td>31</td>\n",
       "      <td>0</td>\n",
       "    </tr>\n",
       "    <tr>\n",
       "      <th>2</th>\n",
       "      <td>8</td>\n",
       "      <td>183</td>\n",
       "      <td>64</td>\n",
       "      <td>0</td>\n",
       "      <td>0</td>\n",
       "      <td>23.3</td>\n",
       "      <td>0.672</td>\n",
       "      <td>32</td>\n",
       "      <td>1</td>\n",
       "    </tr>\n",
       "  </tbody>\n",
       "</table>\n",
       "</div>"
      ],
      "text/plain": [
       "   Pregnancies  Glucose  BloodPressure  SkinThickness  Insulin   BMI  \\\n",
       "0            6      148             72             35        0  33.6   \n",
       "1            1       85             66             29        0  26.6   \n",
       "2            8      183             64              0        0  23.3   \n",
       "\n",
       "   DiabetesPedigreeFunction  Age  Outcome  \n",
       "0                     0.627   50        1  \n",
       "1                     0.351   31        0  \n",
       "2                     0.672   32        1  "
      ]
     },
     "execution_count": 74,
     "metadata": {},
     "output_type": "execute_result"
    }
   ],
   "source": [
    "dataset = pd.read_csv('../data/diabetes.csv')\n",
    "print(dataset['Outcome'].value_counts())\n",
    "dataset.head(3)"
   ]
  },
  {
   "cell_type": "code",
   "execution_count": 75,
   "id": "832c2dfe",
   "metadata": {},
   "outputs": [
    {
     "name": "stdout",
     "output_type": "stream",
     "text": [
      "<class 'pandas.core.frame.DataFrame'>\n",
      "RangeIndex: 768 entries, 0 to 767\n",
      "Data columns (total 9 columns):\n",
      " #   Column                    Non-Null Count  Dtype  \n",
      "---  ------                    --------------  -----  \n",
      " 0   Pregnancies               768 non-null    int64  \n",
      " 1   Glucose                   768 non-null    int64  \n",
      " 2   BloodPressure             768 non-null    int64  \n",
      " 3   SkinThickness             768 non-null    int64  \n",
      " 4   Insulin                   768 non-null    int64  \n",
      " 5   BMI                       768 non-null    float64\n",
      " 6   DiabetesPedigreeFunction  768 non-null    float64\n",
      " 7   Age                       768 non-null    int64  \n",
      " 8   Outcome                   768 non-null    int64  \n",
      "dtypes: float64(2), int64(7)\n",
      "memory usage: 54.1 KB\n"
     ]
    }
   ],
   "source": [
    "dataset.info()"
   ]
  },
  {
   "cell_type": "code",
   "execution_count": 84,
   "id": "6d744244",
   "metadata": {},
   "outputs": [],
   "source": [
    "x = dataset.iloc[:, :-1].values\n",
    "y = dataset.iloc[:, -1].values"
   ]
  },
  {
   "cell_type": "code",
   "execution_count": 85,
   "id": "7ad6d646",
   "metadata": {},
   "outputs": [
    {
     "data": {
      "text/plain": [
       "array([[  6.   , 148.   ,  72.   , ...,  33.6  ,   0.627,  50.   ],\n",
       "       [  1.   ,  85.   ,  66.   , ...,  26.6  ,   0.351,  31.   ],\n",
       "       [  8.   , 183.   ,  64.   , ...,  23.3  ,   0.672,  32.   ],\n",
       "       ...,\n",
       "       [  5.   , 121.   ,  72.   , ...,  26.2  ,   0.245,  30.   ],\n",
       "       [  1.   , 126.   ,  60.   , ...,  30.1  ,   0.349,  47.   ],\n",
       "       [  1.   ,  93.   ,  70.   , ...,  30.4  ,   0.315,  23.   ]])"
      ]
     },
     "execution_count": 85,
     "metadata": {},
     "output_type": "execute_result"
    }
   ],
   "source": [
    "x"
   ]
  },
  {
   "cell_type": "code",
   "execution_count": 86,
   "id": "60839c35",
   "metadata": {},
   "outputs": [
    {
     "data": {
      "text/plain": [
       "array([1, 0, 1, 0, 1, 0, 1, 0, 1, 1, 0, 1, 0, 1, 1, 1, 1, 1, 0, 1, 0, 0,\n",
       "       1, 1, 1, 1, 1, 0, 0, 0, 0, 1, 0, 0, 0, 0, 0, 1, 1, 1, 0, 0, 0, 1,\n",
       "       0, 1, 0, 0, 1, 0, 0, 0, 0, 1, 0, 0, 1, 0, 0, 0, 0, 1, 0, 0, 1, 0,\n",
       "       1, 0, 0, 0, 1, 0, 1, 0, 0, 0, 0, 0, 1, 0, 0, 0, 0, 0, 1, 0, 0, 0,\n",
       "       1, 0, 0, 0, 0, 1, 0, 0, 0, 0, 0, 1, 1, 0, 0, 0, 0, 0, 0, 0, 0, 1,\n",
       "       1, 1, 0, 0, 1, 1, 1, 0, 0, 0, 1, 0, 0, 0, 1, 1, 0, 0, 1, 1, 1, 1,\n",
       "       1, 0, 0, 0, 0, 0, 0, 0, 0, 0, 0, 1, 0, 0, 0, 0, 0, 0, 0, 0, 1, 0,\n",
       "       1, 1, 0, 0, 0, 1, 0, 0, 0, 0, 1, 1, 0, 0, 0, 0, 1, 1, 0, 0, 0, 1,\n",
       "       0, 1, 0, 1, 0, 0, 0, 0, 0, 1, 1, 1, 1, 1, 0, 0, 1, 1, 0, 1, 0, 1,\n",
       "       1, 1, 0, 0, 0, 0, 0, 0, 1, 1, 0, 1, 0, 0, 0, 1, 1, 1, 1, 0, 1, 1,\n",
       "       1, 1, 0, 0, 0, 0, 0, 1, 0, 0, 1, 1, 0, 0, 0, 1, 1, 1, 1, 0, 0, 0,\n",
       "       1, 1, 0, 1, 0, 0, 0, 0, 0, 0, 0, 0, 1, 1, 0, 0, 0, 1, 0, 1, 0, 0,\n",
       "       1, 0, 1, 0, 0, 1, 1, 0, 0, 0, 0, 0, 1, 0, 0, 0, 1, 0, 0, 1, 1, 0,\n",
       "       0, 1, 0, 0, 0, 1, 1, 1, 0, 0, 1, 0, 1, 0, 1, 1, 0, 1, 0, 0, 1, 0,\n",
       "       1, 1, 0, 0, 1, 0, 1, 0, 0, 1, 0, 1, 0, 1, 1, 1, 0, 0, 1, 0, 1, 0,\n",
       "       0, 0, 1, 0, 0, 0, 0, 1, 1, 1, 0, 0, 0, 0, 0, 0, 0, 0, 0, 1, 0, 0,\n",
       "       0, 0, 0, 1, 1, 1, 0, 1, 1, 0, 0, 1, 0, 0, 1, 0, 0, 1, 1, 0, 0, 0,\n",
       "       0, 1, 0, 0, 1, 0, 0, 0, 0, 0, 0, 0, 1, 1, 1, 0, 0, 1, 0, 0, 1, 0,\n",
       "       0, 1, 0, 1, 1, 0, 1, 0, 1, 0, 1, 0, 1, 1, 0, 0, 0, 0, 1, 1, 0, 1,\n",
       "       0, 1, 0, 0, 0, 0, 1, 1, 0, 1, 0, 1, 0, 0, 0, 0, 0, 1, 0, 0, 0, 0,\n",
       "       1, 0, 0, 1, 1, 1, 0, 0, 1, 0, 0, 1, 0, 0, 0, 1, 0, 0, 1, 0, 0, 0,\n",
       "       0, 0, 0, 0, 0, 0, 1, 0, 0, 0, 0, 0, 0, 0, 1, 0, 0, 0, 1, 0, 0, 0,\n",
       "       1, 1, 0, 0, 0, 0, 0, 0, 0, 1, 0, 0, 0, 0, 1, 0, 0, 0, 1, 0, 0, 0,\n",
       "       1, 0, 0, 0, 1, 0, 0, 0, 0, 1, 1, 0, 0, 0, 0, 0, 0, 1, 0, 0, 0, 0,\n",
       "       0, 0, 0, 0, 0, 0, 0, 1, 0, 0, 0, 1, 1, 1, 1, 0, 0, 1, 1, 0, 0, 0,\n",
       "       0, 0, 0, 0, 0, 0, 0, 0, 0, 0, 1, 1, 0, 0, 0, 0, 0, 0, 0, 1, 0, 0,\n",
       "       0, 0, 0, 0, 0, 1, 0, 1, 1, 0, 0, 0, 1, 0, 1, 0, 1, 0, 1, 0, 1, 0,\n",
       "       0, 1, 0, 0, 1, 0, 0, 0, 0, 1, 1, 0, 1, 0, 0, 0, 0, 1, 1, 0, 1, 0,\n",
       "       0, 0, 1, 1, 0, 0, 0, 0, 0, 0, 0, 0, 0, 0, 1, 0, 0, 0, 0, 1, 0, 0,\n",
       "       1, 0, 0, 0, 1, 0, 0, 0, 1, 1, 1, 0, 0, 0, 0, 0, 0, 1, 0, 0, 0, 1,\n",
       "       0, 1, 1, 1, 1, 0, 1, 1, 0, 0, 0, 0, 0, 0, 0, 1, 1, 0, 1, 0, 0, 1,\n",
       "       0, 1, 0, 0, 0, 0, 0, 1, 0, 1, 0, 1, 0, 1, 1, 0, 0, 0, 0, 1, 1, 0,\n",
       "       0, 0, 1, 0, 1, 1, 0, 0, 1, 0, 0, 1, 1, 0, 0, 1, 0, 0, 1, 0, 0, 0,\n",
       "       0, 0, 0, 0, 1, 1, 1, 0, 0, 0, 0, 0, 0, 1, 1, 0, 0, 1, 0, 0, 1, 0,\n",
       "       1, 1, 1, 0, 0, 1, 1, 1, 0, 1, 0, 1, 0, 1, 0, 0, 0, 0, 1, 0],\n",
       "      dtype=int64)"
      ]
     },
     "execution_count": 86,
     "metadata": {},
     "output_type": "execute_result"
    }
   ],
   "source": [
    "y"
   ]
  },
  {
   "cell_type": "code",
   "execution_count": 87,
   "id": "48c90801",
   "metadata": {},
   "outputs": [],
   "source": [
    "from sklearn.model_selection import train_test_split\n",
    "x_train, x_test, y_train, y_test = train_test_split(x, y, test_size= 0.2, random_state= 0)"
   ]
  },
  {
   "cell_type": "code",
   "execution_count": 88,
   "id": "9815a09c",
   "metadata": {},
   "outputs": [
    {
     "name": "stdout",
     "output_type": "stream",
     "text": [
      "Number transactions x_train dataset:  (614, 8)\n",
      "Number transactions y_train dataset:  (614,)\n",
      "Number transactions x_test dataset:  (154, 8)\n",
      "Number transactions y_test dataset:  (154,)\n"
     ]
    }
   ],
   "source": [
    "print(\"Number transactions x_train dataset: \", x_train.shape)\n",
    "print(\"Number transactions y_train dataset: \", y_train.shape)\n",
    "print(\"Number transactions x_test dataset: \", x_test.shape)\n",
    "print(\"Number transactions y_test dataset: \", y_test.shape)"
   ]
  },
  {
   "cell_type": "code",
   "execution_count": 89,
   "id": "096b3183",
   "metadata": {},
   "outputs": [],
   "source": [
    "from sklearn.preprocessing import StandardScaler \n",
    "sc = StandardScaler()\n",
    "x_train = sc.fit_transform(x_train)\n",
    "x_test = sc.transform(x_test)"
   ]
  },
  {
   "cell_type": "markdown",
   "id": "9486ddc9",
   "metadata": {},
   "source": [
    "### 성능 가장 좋은 모델 고르기"
   ]
  },
  {
   "cell_type": "code",
   "execution_count": 124,
   "id": "62eef31f",
   "metadata": {},
   "outputs": [
    {
     "name": "stdout",
     "output_type": "stream",
     "text": [
      "Logistic Regreesion :\n",
      "[[98  9]\n",
      " [18 29]]\n",
      "Accuracy Score:  0.8246753246753247\n",
      "\n",
      "K-Fold Validation Mean Accuracy: 75.7245 %\n",
      "\n",
      "Standard Deviation: 4.6762 %\n",
      "\n",
      "ROC AUC Score: 0.7665\n",
      "\n",
      "Precision: 0.7632\n",
      "\n",
      "Recall: 0.6170\n",
      "\n",
      "F1: 0.6824\n",
      "-----------------------------------\n",
      "\n",
      "SVM :\n",
      "[[96 11]\n",
      " [21 26]]\n",
      "Accuracy Score:  0.7922077922077922\n",
      "\n",
      "K-Fold Validation Mean Accuracy: 74.9233 %\n",
      "\n",
      "Standard Deviation: 3.7022 %\n",
      "\n",
      "ROC AUC Score: 0.7252\n",
      "\n",
      "Precision: 0.7027\n",
      "\n",
      "Recall: 0.5532\n",
      "\n",
      "F1: 0.6190\n",
      "-----------------------------------\n",
      "\n",
      "KNeighbors :\n",
      "[[93 14]\n",
      " [17 30]]\n",
      "Accuracy Score:  0.7987012987012987\n",
      "\n",
      "K-Fold Validation Mean Accuracy: 72.8001 %\n",
      "\n",
      "Standard Deviation: 2.5371 %\n",
      "\n",
      "ROC AUC Score: 0.7537\n",
      "\n",
      "Precision: 0.6818\n",
      "\n",
      "Recall: 0.6383\n",
      "\n",
      "F1: 0.6593\n",
      "-----------------------------------\n",
      "\n",
      "GaussianNB :\n",
      "[[93 14]\n",
      " [18 29]]\n",
      "Accuracy Score:  0.7922077922077922\n",
      "\n",
      "K-Fold Validation Mean Accuracy: 74.2676 %\n",
      "\n",
      "Standard Deviation: 5.5114 %\n",
      "\n",
      "ROC AUC Score: 0.7431\n",
      "\n",
      "Precision: 0.6744\n",
      "\n",
      "Recall: 0.6170\n",
      "\n",
      "F1: 0.6444\n",
      "-----------------------------------\n",
      "\n",
      "BernoulliNB :\n",
      "[[90 17]\n",
      " [20 27]]\n",
      "Accuracy Score:  0.7597402597402597\n",
      "\n",
      "K-Fold Validation Mean Accuracy: 70.9942 %\n",
      "\n",
      "Standard Deviation: 5.2009 %\n",
      "\n",
      "ROC AUC Score: 0.7078\n",
      "\n",
      "Precision: 0.6136\n",
      "\n",
      "Recall: 0.5745\n",
      "\n",
      "F1: 0.5934\n",
      "-----------------------------------\n",
      "\n",
      "Decision Tree :\n",
      "[[87 20]\n",
      " [16 31]]\n",
      "Accuracy Score:  0.7662337662337663\n",
      "\n",
      "K-Fold Validation Mean Accuracy: 70.7033 %\n",
      "\n",
      "Standard Deviation: 4.7017 %\n",
      "\n",
      "ROC AUC Score: 0.7363\n",
      "\n",
      "Precision: 0.6078\n",
      "\n",
      "Recall: 0.6596\n",
      "\n",
      "F1: 0.6327\n",
      "-----------------------------------\n",
      "\n",
      "Random Forest :\n",
      "[[92 15]\n",
      " [18 29]]\n",
      "Accuracy Score:  0.7857142857142857\n",
      "\n",
      "K-Fold Validation Mean Accuracy: 74.2782 %\n",
      "\n",
      "Standard Deviation: 6.0640 %\n",
      "\n",
      "ROC AUC Score: 0.7384\n",
      "\n",
      "Precision: 0.6591\n",
      "\n",
      "Recall: 0.6170\n",
      "\n",
      "F1: 0.6374\n",
      "-----------------------------------\n",
      "\n",
      "Extra Tree :\n",
      "[[93 14]\n",
      " [16 31]]\n",
      "Accuracy Score:  0.8051948051948052\n",
      "\n",
      "K-Fold Validation Mean Accuracy: 74.7647 %\n",
      "\n",
      "Standard Deviation: 4.3968 %\n",
      "\n",
      "ROC AUC Score: 0.7644\n",
      "\n",
      "Precision: 0.6889\n",
      "\n",
      "Recall: 0.6596\n",
      "\n",
      "F1: 0.6739\n",
      "-----------------------------------\n",
      "\n",
      "AdaBoost :\n",
      "[[89 18]\n",
      " [16 31]]\n",
      "Accuracy Score:  0.7792207792207793\n",
      "\n",
      "K-Fold Validation Mean Accuracy: 74.2649 %\n",
      "\n",
      "Standard Deviation: 5.8836 %\n",
      "\n",
      "ROC AUC Score: 0.7457\n",
      "\n",
      "Precision: 0.6327\n",
      "\n",
      "Recall: 0.6596\n",
      "\n",
      "F1: 0.6458\n",
      "-----------------------------------\n",
      "\n",
      "Gradiesnt Boost :\n",
      "[[92 15]\n",
      " [15 32]]\n",
      "Accuracy Score:  0.8051948051948052\n",
      "\n",
      "K-Fold Validation Mean Accuracy: 75.4098 %\n",
      "\n",
      "Standard Deviation: 6.1701 %\n",
      "\n",
      "ROC AUC Score: 0.7703\n",
      "\n",
      "Precision: 0.6809\n",
      "\n",
      "Recall: 0.6809\n",
      "\n",
      "F1: 0.6809\n",
      "-----------------------------------\n",
      "\n",
      "Light GBM :\n",
      "[[91 16]\n",
      " [17 30]]\n",
      "Accuracy Score:  0.7857142857142857\n",
      "\n",
      "K-Fold Validation Mean Accuracy: 72.6415 %\n",
      "\n",
      "Standard Deviation: 5.0225 %\n",
      "\n",
      "ROC AUC Score: 0.7444\n",
      "\n",
      "Precision: 0.6522\n",
      "\n",
      "Recall: 0.6383\n",
      "\n",
      "F1: 0.6452\n",
      "-----------------------------------\n",
      "\n",
      "XGBoost :\n",
      "[[86 21]\n",
      " [16 31]]\n",
      "Accuracy Score:  0.7597402597402597\n",
      "\n",
      "K-Fold Validation Mean Accuracy: 72.7948 %\n",
      "\n",
      "Standard Deviation: 6.0722 %\n",
      "\n",
      "ROC AUC Score: 0.7317\n",
      "\n",
      "Precision: 0.5962\n",
      "\n",
      "Recall: 0.6596\n",
      "\n",
      "F1: 0.6263\n",
      "-----------------------------------\n",
      "\n"
     ]
    }
   ],
   "source": [
    "models = []\n",
    "models.append(['Logistic Regreesion', LogisticRegression(random_state=0)])\n",
    "models.append(['SVM', SVC(random_state=0)])\n",
    "models.append(['KNeighbors', KNeighborsClassifier()])\n",
    "models.append(['GaussianNB', GaussianNB()])\n",
    "models.append(['BernoulliNB', BernoulliNB()])\n",
    "models.append(['Decision Tree', DecisionTreeClassifier(random_state=0)])\n",
    "models.append(['Random Forest', RandomForestClassifier(random_state=0)])\n",
    "models.append(['Extra Tree', ExtraTreesClassifier(random_state=0)])\n",
    "models.append(['AdaBoost', AdaBoostClassifier(random_state=0)])\n",
    "models.append(['Gradiesnt Boost', GradientBoostingClassifier(random_state=0)])\n",
    "models.append(['Light GBM', LGBMClassifier(random_state=0)])\n",
    "models.append(['XGBoost', XGBClassifier(eval_metric= 'error')])\n",
    "\n",
    "lst_1= []\n",
    "\n",
    "for m in range(len(models)):\n",
    "    lst_2= []\n",
    "    model = models[m][1]\n",
    "    model.fit(x_train, y_train)\n",
    "    y_pred = model.predict(x_test)\n",
    "    cm = confusion_matrix(y_test, y_pred)  #Confusion Matrix\n",
    "    accuracies = cross_val_score(estimator = model, X = x_train, y = y_train, cv = 10)   #K-Fold Validation\n",
    "    roc = roc_auc_score(y_test, y_pred)  #ROC AUC Score\n",
    "    precision = precision_score(y_test, y_pred)  #Precision Score\n",
    "    recall = recall_score(y_test, y_pred)  #Recall Score\n",
    "    f1 = f1_score(y_test, y_pred)  #F1 Score\n",
    "    print(models[m][0],':')\n",
    "    print(cm)\n",
    "    print('Accuracy Score: ',accuracy_score(y_test, y_pred))\n",
    "    print('')\n",
    "    print(\"K-Fold Validation Mean Accuracy: {:.4f} %\".format(accuracies.mean()*100))\n",
    "    print('')\n",
    "    print(\"Standard Deviation: {:.4f} %\".format(accuracies.std()*100))\n",
    "    print('')\n",
    "    print('ROC AUC Score: {:.4f}'.format(roc))\n",
    "    print('')\n",
    "    print('Precision: {:.4f}'.format(precision))\n",
    "    print('')\n",
    "    print('Recall: {:.4f}'.format(recall))\n",
    "    print('')\n",
    "    print('F1: {:.4f}'.format(f1))\n",
    "    print('-----------------------------------')\n",
    "    print('')"
   ]
  },
  {
   "cell_type": "markdown",
   "id": "d8bfb33c",
   "metadata": {},
   "source": [
    "* RandomForest가 정확도 높은것 처럼 보이지만 표준편차가 높고 ROC AUC점수가 높다.\n",
    "* 다양한 모델에 대한 최상의 매개변수 결정하고 전체 점수 높이기 위해 GridSearchCV으로 튜닝할것임."
   ]
  },
  {
   "cell_type": "markdown",
   "id": "0ff7c15c",
   "metadata": {},
   "source": [
    "### GridSearchCV 모델 튜닝"
   ]
  },
  {
   "cell_type": "code",
   "execution_count": 125,
   "id": "d7614990",
   "metadata": {},
   "outputs": [],
   "source": [
    "from sklearn.model_selection import GridSearchCV"
   ]
  },
  {
   "cell_type": "code",
   "execution_count": 126,
   "id": "19a82dab",
   "metadata": {},
   "outputs": [],
   "source": [
    "grid_models = [(LogisticRegression(),[{'C':[0.25,0.5,0.75,1],'random_state':[0]}]), \n",
    "               (KNeighborsClassifier(),[{'n_neighbors':[5,7,8,10], 'metric': ['euclidean', 'manhattan', 'chebyshev', 'minkowski']}]), \n",
    "               (SVC(),[{'C':[0.25,0.5,0.75,1],'kernel':['linear', 'rbf'],'random_state':[0]}]), \n",
    "               (GaussianNB(),[{'var_smoothing': [1e-09]}]), \n",
    "               (BernoulliNB(), [{'alpha': [0.25, 0.5, 1]}]), \n",
    "               (DecisionTreeClassifier(),[{'criterion':['gini','entropy'],'random_state':[0]}]), \n",
    "               (RandomForestClassifier(),[{'n_estimators':[100,150,200],'criterion':['gini','entropy'],'random_state':[0]}]),\n",
    "               (ExtraTreesClassifier(),[{'n_estimators':[100,150,200],'criterion':['gini','entropy'],'random_state':[0]}]),\n",
    "               (AdaBoostClassifier(),[{'n_estimators':[100,150,200],'learning_rate':[0.1, 0.5, 0.8, 1],'algorithm':['SAMME', 'SAMME.R'], 'random_state':[0]}]),\n",
    "               (GradientBoostingClassifier(),[{'n_estimators':[100,150,200],'criterion':['friedman_mse','mse'],'loss':['deviance','exponential'],'learning_rate':[0.1, 0.5, 0.8, 1],'random_state':[0]}]),\n",
    "               (LGBMClassifier(),[{'n_estimators':[100,150,200],'learning_rate':[0.1, 0.5, 0.8, 1],'random_state':[0]}]),\n",
    "               (XGBClassifier(), [{'learning_rate': [0.01, 0.05, 0.1], 'eval_metric': ['error']}])]"
   ]
  },
  {
   "cell_type": "code",
   "execution_count": 127,
   "id": "fdd46469",
   "metadata": {},
   "outputs": [
    {
     "name": "stdout",
     "output_type": "stream",
     "text": [
      "LogisticRegression():\n",
      "Best Accuracy : 75.89%\n",
      "Best Parameters :  {'C': 0.25, 'random_state': 0}\n",
      "\n",
      "----------------\n",
      "\n",
      "KNeighborsClassifier():\n",
      "Best Accuracy : 72.80%\n",
      "Best Parameters :  {'metric': 'euclidean', 'n_neighbors': 5}\n",
      "\n",
      "----------------\n",
      "\n",
      "SVC():\n",
      "Best Accuracy : 76.22%\n",
      "Best Parameters :  {'C': 0.25, 'kernel': 'linear', 'random_state': 0}\n",
      "\n",
      "----------------\n",
      "\n",
      "GaussianNB():\n",
      "Best Accuracy : 74.27%\n",
      "Best Parameters :  {'var_smoothing': 1e-09}\n",
      "\n",
      "----------------\n",
      "\n",
      "BernoulliNB():\n",
      "Best Accuracy : 70.99%\n",
      "Best Parameters :  {'alpha': 0.25}\n",
      "\n",
      "----------------\n",
      "\n",
      "DecisionTreeClassifier():\n",
      "Best Accuracy : 70.70%\n",
      "Best Parameters :  {'criterion': 'gini', 'random_state': 0}\n",
      "\n",
      "----------------\n",
      "\n",
      "RandomForestClassifier():\n",
      "Best Accuracy : 76.07%\n",
      "Best Parameters :  {'criterion': 'entropy', 'n_estimators': 200, 'random_state': 0}\n",
      "\n",
      "----------------\n",
      "\n",
      "ExtraTreesClassifier():\n",
      "Best Accuracy : 75.90%\n",
      "Best Parameters :  {'criterion': 'gini', 'n_estimators': 200, 'random_state': 0}\n",
      "\n",
      "----------------\n",
      "\n",
      "AdaBoostClassifier():\n",
      "Best Accuracy : 75.89%\n",
      "Best Parameters :  {'algorithm': 'SAMME', 'learning_rate': 0.1, 'n_estimators': 100, 'random_state': 0}\n",
      "\n",
      "----------------\n",
      "\n",
      "GradientBoostingClassifier():\n",
      "Best Accuracy : 75.73%\n",
      "Best Parameters :  {'criterion': 'friedman_mse', 'learning_rate': 0.1, 'loss': 'deviance', 'n_estimators': 150, 'random_state': 0}\n",
      "\n",
      "----------------\n",
      "\n",
      "LGBMClassifier():\n",
      "Best Accuracy : 72.64%\n",
      "Best Parameters :  {'learning_rate': 0.1, 'n_estimators': 100, 'random_state': 0}\n",
      "\n",
      "----------------\n",
      "\n",
      "XGBClassifier(base_score=None, booster=None, colsample_bylevel=None,\n",
      "              colsample_bynode=None, colsample_bytree=None,\n",
      "              enable_categorical=False, gamma=None, gpu_id=None,\n",
      "              importance_type=None, interaction_constraints=None,\n",
      "              learning_rate=None, max_delta_step=None, max_depth=None,\n",
      "              min_child_weight=None, missing=nan, monotone_constraints=None,\n",
      "              n_estimators=100, n_jobs=None, num_parallel_tree=None,\n",
      "              predictor=None, random_state=None, reg_alpha=None,\n",
      "              reg_lambda=None, scale_pos_weight=None, subsample=None,\n",
      "              tree_method=None, validate_parameters=None, verbosity=None):\n",
      "Best Accuracy : 74.75%\n",
      "Best Parameters :  {'eval_metric': 'error', 'learning_rate': 0.05}\n",
      "\n",
      "----------------\n",
      "\n"
     ]
    }
   ],
   "source": [
    "for i,j in grid_models:\n",
    "    grid = GridSearchCV(estimator=i,param_grid = j, scoring = 'accuracy',cv = 10)\n",
    "    grid.fit(x_train, y_train)\n",
    "    best_accuracy = grid.best_score_\n",
    "    best_param = grid.best_params_\n",
    "    print('{}:\\nBest Accuracy : {:.2f}%'.format(i,best_accuracy*100))\n",
    "    print('Best Parameters : ',best_param)\n",
    "    print('')\n",
    "    print('----------------')\n",
    "    print('')"
   ]
  },
  {
   "cell_type": "markdown",
   "id": "0e8a57bd",
   "metadata": {},
   "source": [
    "### 정확도 높은 상위 3개 모델"
   ]
  },
  {
   "cell_type": "markdown",
   "id": "41ff0c92",
   "metadata": {},
   "source": [
    "* 1) Random Forest"
   ]
  },
  {
   "cell_type": "code",
   "execution_count": 128,
   "id": "9e285fa5",
   "metadata": {},
   "outputs": [],
   "source": [
    "import seaborn as sns"
   ]
  },
  {
   "cell_type": "code",
   "execution_count": 129,
   "id": "9bc1a90c",
   "metadata": {},
   "outputs": [
    {
     "name": "stdout",
     "output_type": "stream",
     "text": [
      "              precision    recall  f1-score   support\n",
      "\n",
      "           0       0.85      0.88      0.86       107\n",
      "           1       0.70      0.64      0.67        47\n",
      "\n",
      "    accuracy                           0.81       154\n",
      "   macro avg       0.77      0.76      0.76       154\n",
      "weighted avg       0.80      0.81      0.80       154\n",
      "\n",
      "ROC AUC score: 0.8554384569496918\n",
      "Accuracy:  0.8051948051948052\n"
     ]
    },
    {
     "data": {
      "image/png": "[encoded data removed]",
      "text/plain": [
       "<Figure size 432x432 with 1 Axes>"
      ]
     },
     "metadata": {},
     "output_type": "display_data"
    },
    {
     "data": {
      "image/png": "[encoded data removed]",
      "text/plain": [
       "<Figure size 432x432 with 1 Axes>"
      ]
     },
     "metadata": {},
     "output_type": "display_data"
    },
    {
     "data": {
      "image/png": "[encoded data removed]",
      "text/plain": [
       "<Figure size 432x288 with 1 Axes>"
      ]
     },
     "metadata": {},
     "output_type": "display_data"
    }
   ],
   "source": [
    "classifier = RandomForestClassifier(criterion= 'entropy', n_estimators= 200, random_state= 0)\n",
    "classifier.fit(x_train, y_train)\n",
    "y_pred = classifier.predict(x_test)\n",
    "y_prob = classifier.predict_proba(x_test)[:,1]\n",
    "cm = confusion_matrix(y_test, y_pred)\n",
    "\n",
    "print(classification_report(y_test, y_pred))\n",
    "print(f'ROC AUC score: {roc_auc_score(y_test, y_prob)}')\n",
    "print('Accuracy: ',accuracy_score(y_test, y_pred))\n",
    "\n",
    "# Visualizing Confusion Matrix\n",
    "plt.figure(figsize = (6, 6))\n",
    "sns.heatmap(cm, cmap = 'Blues', annot = True, fmt = 'd', linewidths = 5, cbar = False, annot_kws = {'fontsize': 15}, \n",
    "            yticklabels = ['Healthy', 'Diabetic'], xticklabels = ['Predicted Healthy', 'Predicted Diabetic'])\n",
    "plt.yticks(rotation = 0)\n",
    "plt.show()\n",
    "\n",
    "# Roc AUC Curve\n",
    "false_positive_rate, true_positive_rate, thresholds = roc_curve(y_test, y_prob)\n",
    "roc_auc = auc(false_positive_rate, true_positive_rate)\n",
    "\n",
    "sns.set_theme(style = 'white')\n",
    "plt.figure(figsize = (6, 6))\n",
    "plt.plot(false_positive_rate,true_positive_rate, color = '#b01717', label = 'AUC = %0.3f' % roc_auc)\n",
    "plt.legend(loc = 'lower right')\n",
    "plt.plot([0, 1], [0, 1], linestyle = '--', color = '#174ab0')\n",
    "plt.axis('tight')\n",
    "plt.ylabel('True Positive Rate')\n",
    "plt.xlabel('False Positive Rate')\n",
    "plt.title('ROC AUC Curve')\n",
    "plt.legend()\n",
    "plt.show()\n",
    "\n",
    "#Precision Recall Curve\n",
    "average_precision = average_precision_score(y_test, y_prob)\n",
    "disp = plot_precision_recall_curve(classifier, x_test, y_test)\n",
    "plt.title('Precision-Recall Curve')\n",
    "plt.show()"
   ]
  },
  {
   "cell_type": "markdown",
   "id": "44ff752e",
   "metadata": {},
   "source": [
    "* 2) Extra Trees"
   ]
  },
  {
   "cell_type": "code",
   "execution_count": 130,
   "id": "234e09f3",
   "metadata": {},
   "outputs": [
    {
     "name": "stdout",
     "output_type": "stream",
     "text": [
      "              precision    recall  f1-score   support\n",
      "\n",
      "           0       0.85      0.87      0.86       107\n",
      "           1       0.69      0.66      0.67        47\n",
      "\n",
      "    accuracy                           0.81       154\n",
      "   macro avg       0.77      0.76      0.77       154\n",
      "weighted avg       0.80      0.81      0.80       154\n",
      "\n",
      "ROC AUC score: 0.8570292304633127\n",
      "Accuracy Score:  0.8051948051948052\n"
     ]
    },
    {
     "data": {
      "image/png": "[encoded data removed]",
      "text/plain": [
       "<Figure size 432x432 with 1 Axes>"
      ]
     },
     "metadata": {},
     "output_type": "display_data"
    },
    {
     "data": {
      "image/png": "[encoded data removed]",
      "text/plain": [
       "<Figure size 432x432 with 1 Axes>"
      ]
     },
     "metadata": {},
     "output_type": "display_data"
    },
    {
     "data": {
      "image/png": "[encoded data removed]",
      "text/plain": [
       "<Figure size 432x288 with 1 Axes>"
      ]
     },
     "metadata": {},
     "output_type": "display_data"
    }
   ],
   "source": [
    "classifier = ExtraTreesClassifier(criterion= 'gini', n_estimators= 100, random_state= 0)\n",
    "classifier.fit(x_train, y_train)\n",
    "y_pred = classifier.predict(x_test)\n",
    "y_prob = classifier.predict_proba(x_test)[:,1]\n",
    "cm = confusion_matrix(y_test, y_pred)\n",
    "\n",
    "print(classification_report(y_test, y_pred))\n",
    "print(f'ROC AUC score: {roc_auc_score(y_test, y_prob)}')\n",
    "print('Accuracy Score: ',accuracy_score(y_test, y_pred))\n",
    "\n",
    "# Visualizing Confusion Matrix\n",
    "plt.figure(figsize = (6, 6))\n",
    "sns.heatmap(cm, cmap = 'Blues', annot = True, fmt = 'd', linewidths = 5, cbar = False, annot_kws = {'fontsize': 15}, \n",
    "            yticklabels = ['Healthy', 'Diabetic'], xticklabels = ['Predicted Healthy', 'Predicted Diabetic'])\n",
    "plt.yticks(rotation = 0)\n",
    "plt.show()\n",
    "\n",
    "# Roc AUC Curve\n",
    "false_positive_rate, true_positive_rate, thresholds = roc_curve(y_test, y_prob)\n",
    "roc_auc = auc(false_positive_rate, true_positive_rate)\n",
    "\n",
    "sns.set_theme(style = 'white')\n",
    "plt.figure(figsize = (6, 6))\n",
    "plt.plot(false_positive_rate,true_positive_rate, color = '#b01717', label = 'AUC = %0.3f' % roc_auc)\n",
    "plt.legend(loc = 'lower right')\n",
    "plt.plot([0, 1], [0, 1], linestyle = '--', color = '#174ab0')\n",
    "plt.axis('tight')\n",
    "plt.ylabel('True Positive Rate')\n",
    "plt.xlabel('False Positive Rate')\n",
    "plt.title('ROC AUC Curve')\n",
    "plt.legend()\n",
    "plt.show()\n",
    "\n",
    "#Precision Recall Curve\n",
    "average_precision = average_precision_score(y_test, y_prob)\n",
    "disp = plot_precision_recall_curve(classifier, x_test, y_test)\n",
    "plt.title('Precision-Recall Curve')\n",
    "plt.show()"
   ]
  },
  {
   "cell_type": "markdown",
   "id": "f4c57000",
   "metadata": {},
   "source": [
    "* 3) Logistic Regression "
   ]
  },
  {
   "cell_type": "code",
   "execution_count": 131,
   "id": "c4901e1c",
   "metadata": {},
   "outputs": [
    {
     "name": "stdout",
     "output_type": "stream",
     "text": [
      "              precision    recall  f1-score   support\n",
      "\n",
      "           0       0.84      0.92      0.88       107\n",
      "           1       0.76      0.62      0.68        47\n",
      "\n",
      "    accuracy                           0.82       154\n",
      "   macro avg       0.80      0.77      0.78       154\n",
      "weighted avg       0.82      0.82      0.82       154\n",
      "\n",
      "ROC AUC score: 0.8661761781666335\n",
      "Accuracy Score:  0.8246753246753247\n"
     ]
    },
    {
     "data": {
      "image/png": "[encoded data removed]",
      "text/plain": [
       "<Figure size 432x432 with 1 Axes>"
      ]
     },
     "metadata": {},
     "output_type": "display_data"
    },
    {
     "data": {
      "image/png": "[encoded data removed]",
      "text/plain": [
       "<Figure size 432x432 with 1 Axes>"
      ]
     },
     "metadata": {},
     "output_type": "display_data"
    },
    {
     "data": {
      "text/plain": [
       "<Figure size 432x432 with 0 Axes>"
      ]
     },
     "metadata": {},
     "output_type": "display_data"
    },
    {
     "data": {
      "image/png": "[encoded data removed]",
      "text/plain": [
       "<Figure size 432x288 with 1 Axes>"
      ]
     },
     "metadata": {},
     "output_type": "display_data"
    }
   ],
   "source": [
    "classifier = LogisticRegression(C= 1, random_state= 0)\n",
    "classifier.fit(x_train, y_train)\n",
    "y_pred = classifier.predict(x_test)\n",
    "y_prob = classifier.predict_proba(x_test)[:,1]\n",
    "cm = confusion_matrix(y_test, y_pred)\n",
    "\n",
    "print(classification_report(y_test, y_pred))\n",
    "print(f'ROC AUC score: {roc_auc_score(y_test, y_prob)}')\n",
    "print('Accuracy Score: ',accuracy_score(y_test, y_pred))\n",
    "\n",
    "# Visualizing Confusion Matrix\n",
    "plt.figure(figsize = (6, 6))\n",
    "sns.heatmap(cm, cmap = 'Blues', annot = True, fmt = 'd', linewidths = 5, cbar = False, annot_kws = {'fontsize': 15}, \n",
    "            yticklabels = ['Healthy', 'Diabetic'], xticklabels = ['Predicted Healthy', 'Predicted Diabetic'])\n",
    "plt.yticks(rotation = 0)\n",
    "plt.show()\n",
    "\n",
    "# Roc AUC Curve\n",
    "false_positive_rate, true_positive_rate, thresholds = roc_curve(y_test, y_prob)\n",
    "roc_auc = auc(false_positive_rate, true_positive_rate)\n",
    "\n",
    "sns.set_theme(style = 'white')\n",
    "plt.figure(figsize = (6, 6))\n",
    "plt.plot(false_positive_rate,true_positive_rate, color = '#b01717', label = 'AUC = %0.3f' % roc_auc)\n",
    "plt.legend(loc = 'lower right')\n",
    "plt.plot([0, 1], [0, 1], linestyle = '--', color = '#174ab0')\n",
    "plt.axis('tight')\n",
    "plt.ylabel('True Positive Rate')\n",
    "plt.xlabel('False Positive Rate')\n",
    "plt.title('ROC AUC Curve')\n",
    "plt.legend()\n",
    "plt.show()\n",
    "\n",
    "#Precision Recall Curve\n",
    "plt.figure(figsize = (6, 6))\n",
    "average_precision = average_precision_score(y_test, y_prob)\n",
    "disp = plot_precision_recall_curve(classifier, x_test, y_test)\n",
    "plt.title('Precision-Recall Curve')\n",
    "plt.show()"
   ]
  },
  {
   "cell_type": "markdown",
   "id": "92c5e0d8",
   "metadata": {},
   "source": [
    "* 이전 값\n",
    "    * 정확도: 0.79, 정밀도: 0.74, 재현율: 0.64, F1: 0.69, ROCAUC:0.84\n",
    "* RandomForest\n",
    "    * 정확도 : 0.80, 정밀도:0.85, 재현율 : 0.88, F1:86, ROCAUC:85\n",
    "* ExtraTrees\n",
    "    * 정확도 : 0.80, 정밀도:0.85, 재현율 : 0.87, F1:86, ROCAUC:85\n",
    "* Logistic Regression\n",
    "    * 정확도 : 0.82, 정밀도:0.84, 재현율 : 0.92, F1:86, ROCAUC:86"
   ]
  }
 ],
 "metadata": {
  "kernelspec": {
   "display_name": "Python 3 (ipykernel)",
   "language": "python",
   "name": "python3"
  },
  "language_info": {
   "codemirror_mode": {
    "name": "ipython",
    "version": 3
   },
   "file_extension": ".py",
   "mimetype": "text/x-python",
   "name": "python",
   "nbconvert_exporter": "python",
   "pygments_lexer": "ipython3",
   "version": "3.9.7"
  }
 },
 "nbformat": 4,
 "nbformat_minor": 5
}
