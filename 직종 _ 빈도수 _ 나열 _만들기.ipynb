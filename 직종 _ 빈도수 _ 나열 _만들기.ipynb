{
 "cells": [
  {
   "cell_type": "markdown",
   "id": "ca8b8014",
   "metadata": {},
   "source": [
    "## 직종 _ 빈도수 _ 나열 만들기"
   ]
  },
  {
   "cell_type": "code",
   "execution_count": 4,
   "id": "2047480a",
   "metadata": {},
   "outputs": [],
   "source": [
    "import pandas as pd\n",
    "import numpy as np\n",
    "\n",
    "%matplotlib inline\n",
    "import matplotlib.pyplot as plt\n",
    "import seaborn as sns\n",
    "\n",
    "import re\n",
    "import urllib.request\n",
    "from collections import Counter \n",
    "from nltk.tokenize import word_tokenize # 단어단위로 나누는 \n",
    "from konlpy.tag import Okt\n",
    "from konlpy.tag import Mecab\n",
    "\n",
    "import tensorflow as tf\n",
    "from tensorflow.keras.preprocessing.text import Tokenizer\n",
    "from tensorflow.keras.models import Sequential, load_model\n",
    "from tensorflow.keras.layers import Dense, Embedding, Dropout, BatchNormalization, Conv1D, GlobalAveragePooling1D, Bidirectional, LSTM, Flatten, MaxPooling1D, Reshape\n",
    "from tensorflow.keras.preprocessing.sequence import pad_sequences\n",
    "from tensorflow.keras.utils import to_categorical\n",
    "from tensorflow.keras.callbacks import EarlyStopping, ModelCheckpoint"
   ]
  },
  {
   "cell_type": "code",
   "execution_count": 5,
   "id": "618763e2",
   "metadata": {},
   "outputs": [
    {
     "name": "stdout",
     "output_type": "stream",
     "text": [
      "pandas version:  1.3.4\n"
     ]
    }
   ],
   "source": [
    "import pandas as pd\n",
    "print(\"pandas version: \", pd.__version__)\n",
    "pd.set_option('display.max_row', 500)\n",
    "pd.set_option('display.max_columns', 100)\n",
    "\n",
    "df = pd.read_csv('../data/title_for_ml_1.csv')"
   ]
  },
  {
   "cell_type": "code",
   "execution_count": 6,
   "id": "4ce7264c",
   "metadata": {},
   "outputs": [
    {
     "data": {
      "text/html": [
       "<div>\n",
       "<style scoped>\n",
       "    .dataframe tbody tr th:only-of-type {\n",
       "        vertical-align: middle;\n",
       "    }\n",
       "\n",
       "    .dataframe tbody tr th {\n",
       "        vertical-align: top;\n",
       "    }\n",
       "\n",
       "    .dataframe thead th {\n",
       "        text-align: right;\n",
       "    }\n",
       "</style>\n",
       "<table border=\"1\" class=\"dataframe\">\n",
       "  <thead>\n",
       "    <tr style=\"text-align: right;\">\n",
       "      <th></th>\n",
       "      <th>TITLE</th>\n",
       "      <th>JK_NAME</th>\n",
       "      <th>TITLE_analyze</th>\n",
       "      <th>JK_NAME_analyze</th>\n",
       "    </tr>\n",
       "  </thead>\n",
       "  <tbody>\n",
       "    <tr>\n",
       "      <th>0</th>\n",
       "      <td>월200만원 a 신한카드 설계사및 신규상품 홍보팀원모집 투잡가능</td>\n",
       "      <td>고객상담·인바운드</td>\n",
       "      <td>월 200 만 원 a 신한 카드 설계 사 및 신규 상품 홍보 팀 원 모집 투잡 가능</td>\n",
       "      <td>고객 상담 인 바운드</td>\n",
       "    </tr>\n",
       "    <tr>\n",
       "      <th>1</th>\n",
       "      <td>월200만원 a 신한카드 설계사및 신규상품 홍보팀원모집 투잡가능</td>\n",
       "      <td>금융·보험영업</td>\n",
       "      <td>월 200 만 원 a 신한 카드 설계 사 및 신규 상품 홍보 팀 원 모집 투잡 가능</td>\n",
       "      <td>금융 보험 영업</td>\n",
       "    </tr>\n",
       "    <tr>\n",
       "      <th>2</th>\n",
       "      <td>월220 준오헤어 강남1호점 데스크 매장관리 직원</td>\n",
       "      <td>반려동물케어</td>\n",
       "      <td>월 220 준오 헤어 강남 1 호 점 데스크 매장 관리 직원</td>\n",
       "      <td>반려 동물 케어</td>\n",
       "    </tr>\n",
       "    <tr>\n",
       "      <th>3</th>\n",
       "      <td>월230만원 일8시간 주6일근무 주방직원 구함</td>\n",
       "      <td>패스트푸드</td>\n",
       "      <td>월 230 만 원 일 8시간 주 6일 근무 주방 직원 구함</td>\n",
       "      <td>패스트 푸드</td>\n",
       "    </tr>\n",
       "    <tr>\n",
       "      <th>4</th>\n",
       "      <td>월235 경력무관 준오헤어 서울대입구역점 패션스트릿매장 카운터 관리자 매장관리 고속승진</td>\n",
       "      <td>반려동물케어</td>\n",
       "      <td>월 235 경력 무관 준오 헤어 서울대 입구 역 점 패션 스트릿 매장 카운터 관리자...</td>\n",
       "      <td>반려 동물 케어</td>\n",
       "    </tr>\n",
       "  </tbody>\n",
       "</table>\n",
       "</div>"
      ],
      "text/plain": [
       "                                              TITLE    JK_NAME  \\\n",
       "0               월200만원 a 신한카드 설계사및 신규상품 홍보팀원모집 투잡가능  고객상담·인바운드   \n",
       "1               월200만원 a 신한카드 설계사및 신규상품 홍보팀원모집 투잡가능    금융·보험영업   \n",
       "2                       월220 준오헤어 강남1호점 데스크 매장관리 직원     반려동물케어   \n",
       "3                         월230만원 일8시간 주6일근무 주방직원 구함      패스트푸드   \n",
       "4  월235 경력무관 준오헤어 서울대입구역점 패션스트릿매장 카운터 관리자 매장관리 고속승진     반려동물케어   \n",
       "\n",
       "                                       TITLE_analyze JK_NAME_analyze  \n",
       "0     월 200 만 원 a 신한 카드 설계 사 및 신규 상품 홍보 팀 원 모집 투잡 가능     고객 상담 인 바운드  \n",
       "1     월 200 만 원 a 신한 카드 설계 사 및 신규 상품 홍보 팀 원 모집 투잡 가능        금융 보험 영업  \n",
       "2                  월 220 준오 헤어 강남 1 호 점 데스크 매장 관리 직원        반려 동물 케어  \n",
       "3                   월 230 만 원 일 8시간 주 6일 근무 주방 직원 구함          패스트 푸드  \n",
       "4  월 235 경력 무관 준오 헤어 서울대 입구 역 점 패션 스트릿 매장 카운터 관리자...        반려 동물 케어  "
      ]
     },
     "execution_count": 6,
     "metadata": {},
     "output_type": "execute_result"
    }
   ],
   "source": [
    "df.head()"
   ]
  },
  {
   "cell_type": "code",
   "execution_count": 7,
   "id": "3b52372b",
   "metadata": {},
   "outputs": [
    {
     "name": "stdout",
     "output_type": "stream",
     "text": [
      "(499999, 4)\n"
     ]
    }
   ],
   "source": [
    "print(df.shape)"
   ]
  },
  {
   "cell_type": "code",
   "execution_count": null,
   "id": "235eea42",
   "metadata": {},
   "outputs": [],
   "source": [
    "import re\n",
    "\n",
    "test = []\n",
    "\n",
    "for i in range(len(df)):\n",
    "  text = str(df.TITLE_analyze[i])\n",
    "  text = re.sub(\"[^0-9a-zA-Z가-힣:& ]\", \" \", text)\n",
    "  text = re.sub(\" +\",\" \", text)\n",
    "  text = re.sub(\"^ \",\"\", text)\n",
    "  test.append(text)\n",
    "\n",
    "df['TEST'] = test"
   ]
  },
  {
   "cell_type": "markdown",
   "id": "28fd05b5",
   "metadata": {},
   "source": [
    "### label 설정\n",
    "* 직종명 텍스트 -> 정수변환\n",
    "* 제목 일정 길이 이하 공고 제외\n",
    "* class별 공고수 10개 이하인 경우 학습 데이터 제외"
   ]
  },
  {
   "cell_type": "code",
   "execution_count": null,
   "id": "f86bd1c3",
   "metadata": {},
   "outputs": [],
   "source": [
    "df = df [['JK_NAME', 'TEST']].sample(frac=1).reset_index(drop=True)\n",
    "df = df[df.TEST.str.len() > 5]\n",
    "df.reset_index(drop=True, inplace=True)\n",
    "\n",
    "df_idx = df.groupby(['JK_NAME'])['JK_NAME'].count().reset_index(name='count')\n",
    "df_idx = df_idx[df_idx['count'] > 10].reset_index(drop=True)\n",
    "df_idx['idx'] = pd.Series(np.arange(0,len(df_idx)))\n",
    "\n",
    "df = df.merge(df_idx[['JK_NAME', 'idx']], on='JK_NAME')\n",
    "df = df.sample(frac=1).reset_index(drop=True)\n",
    "df"
   ]
  },
  {
   "cell_type": "code",
   "execution_count": null,
   "id": "eddd15db",
   "metadata": {},
   "outputs": [],
   "source": []
  },
  {
   "cell_type": "code",
   "execution_count": null,
   "id": "21b90847",
   "metadata": {},
   "outputs": [],
   "source": []
  },
  {
   "cell_type": "code",
   "execution_count": null,
   "id": "07503353",
   "metadata": {},
   "outputs": [],
   "source": []
  },
  {
   "cell_type": "code",
   "execution_count": null,
   "id": "ab419569",
   "metadata": {},
   "outputs": [],
   "source": []
  },
  {
   "cell_type": "code",
   "execution_count": null,
   "id": "c1b3d2e3",
   "metadata": {},
   "outputs": [],
   "source": []
  },
  {
   "cell_type": "code",
   "execution_count": null,
   "id": "187e4dd4",
   "metadata": {},
   "outputs": [],
   "source": []
  },
  {
   "cell_type": "code",
   "execution_count": null,
   "id": "4f82c33e",
   "metadata": {},
   "outputs": [],
   "source": []
  },
  {
   "cell_type": "code",
   "execution_count": null,
   "id": "7726513d",
   "metadata": {},
   "outputs": [],
   "source": []
  },
  {
   "cell_type": "code",
   "execution_count": null,
   "id": "40a9683a",
   "metadata": {},
   "outputs": [],
   "source": []
  },
  {
   "cell_type": "code",
   "execution_count": null,
   "id": "32b52c17",
   "metadata": {},
   "outputs": [],
   "source": []
  }
 ],
 "metadata": {
  "kernelspec": {
   "display_name": "Python 3 (ipykernel)",
   "language": "python",
   "name": "python3"
  },
  "language_info": {
   "codemirror_mode": {
    "name": "ipython",
    "version": 3
   },
   "file_extension": ".py",
   "mimetype": "text/x-python",
   "name": "python",
   "nbconvert_exporter": "python",
   "pygments_lexer": "ipython3",
   "version": "3.9.7"
  }
 },
 "nbformat": 4,
 "nbformat_minor": 5
}
