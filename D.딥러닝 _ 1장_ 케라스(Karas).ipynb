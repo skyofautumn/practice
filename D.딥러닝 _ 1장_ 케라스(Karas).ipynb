{
 "cells": [
  {
   "cell_type": "markdown",
   "id": "4ea2ca08",
   "metadata": {},
   "source": [
    "# 케라스(Karas)"
   ]
  },
  {
   "cell_type": "code",
   "execution_count": 4,
   "id": "40a9a876",
   "metadata": {},
   "outputs": [
    {
     "name": "stdout",
     "output_type": "stream",
     "text": [
      "Target: [ 1  3  5  7  9 11]\n",
      "Predict: [ 0.9996033  2.999715   4.999827   6.999939   9.000051  11.000162 ]\n"
     ]
    }
   ],
   "source": [
    "from tensorflow.keras.models import Sequential\n",
    "from tensorflow.keras.layers import Dense\n",
    "\n",
    "import numpy\n",
    "import tensorflow as tf\n",
    "\n",
    "X = numpy.array([0,1,2,3,4,5])\n",
    "y = X * 2 + 1\n",
    "\n",
    "model = Sequential()\n",
    "model.add(Dense(1,input_shape=(1,)))\n",
    "model.compile('SGD', 'mse')\n",
    "model.fit(X,y,epochs=1000, verbose=0) #verbose보이게 할지 안보이게 할지\n",
    "\n",
    "predict = model.predict(X).flatten()\n",
    "\n",
    "print('Target:', y)\n",
    "print('Predict:',predict)"
   ]
  },
  {
   "cell_type": "markdown",
   "id": "8831c9aa",
   "metadata": {},
   "source": [
    "* 정답이 1인데 내가 예측한 것은 0.9996033, \n",
    "* 정답이 3인데 내가 예측한 것은 2.999715,\n",
    "* 정답이 5인데 내가 예측한 것은 4.999827,\n",
    "..."
   ]
  },
  {
   "cell_type": "code",
   "execution_count": null,
   "id": "25135ae9",
   "metadata": {},
   "outputs": [],
   "source": []
  }
 ],
 "metadata": {
  "kernelspec": {
   "display_name": "Python 3 (ipykernel)",
   "language": "python",
   "name": "python3"
  },
  "language_info": {
   "codemirror_mode": {
    "name": "ipython",
    "version": 3
   },
   "file_extension": ".py",
   "mimetype": "text/x-python",
   "name": "python",
   "nbconvert_exporter": "python",
   "pygments_lexer": "ipython3",
   "version": "3.9.7"
  }
 },
 "nbformat": 4,
 "nbformat_minor": 5
}
