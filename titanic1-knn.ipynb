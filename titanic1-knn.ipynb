{
 "cells": [
  {
   "cell_type": "code",
   "execution_count": null,
   "metadata": {
    "_cell_guid": "b1076dfc-b9ad-4769-8c92-a6c4dae69d19",
    "_uuid": "8f2839f25d086af736a60e9eeb907d3b93b6e0e5",
    "execution": {
     "iopub.execute_input": "2022-02-11T08:54:51.087851Z",
     "iopub.status.busy": "2022-02-11T08:54:51.087524Z",
     "iopub.status.idle": "2022-02-11T08:54:51.09766Z",
     "shell.execute_reply": "2022-02-11T08:54:51.096735Z",
     "shell.execute_reply.started": "2022-02-11T08:54:51.087808Z"
    }
   },
   "outputs": [],
   "source": [
    "# This Python 3 environment comes with many helpful analytics libraries installed\n",
    "# It is defined by the kaggle/python Docker image: https://github.com/kaggle/docker-python\n",
    "# For example, here's several helpful packages to load\n",
    "\n",
    "import numpy as np # linear algebra\n",
    "import pandas as pd # data processing, CSV file I/O (e.g. pd.read_csv)\n",
    "\n",
    "# Input data files are available in the read-only \"../input/\" directory\n",
    "# For example, running this (by clicking run or pressing Shift+Enter) will list all files under the input directory\n",
    "\n",
    "import os\n",
    "for dirname, _, filenames in os.walk('/kaggle/input'):\n",
    "    for filename in filenames:\n",
    "        print(os.path.join(dirname, filename))\n",
    "\n",
    "# You can write up to 20GB to the current directory (/kaggle/working/) that gets preserved as output when you create a version using \"Save & Run All\" \n",
    "# You can also write temporary files to /kaggle/temp/, but they won't be saved outside of the current session"
   ]
  },
  {
   "cell_type": "code",
   "execution_count": null,
   "metadata": {
    "execution": {
     "iopub.execute_input": "2022-02-11T09:01:53.804366Z",
     "iopub.status.busy": "2022-02-11T09:01:53.803941Z",
     "iopub.status.idle": "2022-02-11T09:01:53.812015Z",
     "shell.execute_reply": "2022-02-11T09:01:53.811327Z",
     "shell.execute_reply.started": "2022-02-11T09:01:53.804333Z"
    }
   },
   "outputs": [],
   "source": [
    "import warnings\n",
    "warnings.filterwarnings(action = 'ignore')\n",
    "import matplotlib.pyplot as plt\n",
    "import seaborn as sns\n",
    "%matplotlib inline"
   ]
  },
  {
   "cell_type": "code",
   "execution_count": null,
   "metadata": {
    "execution": {
     "iopub.execute_input": "2022-02-11T09:11:09.278258Z",
     "iopub.status.busy": "2022-02-11T09:11:09.277971Z",
     "iopub.status.idle": "2022-02-11T09:11:09.300741Z",
     "shell.execute_reply": "2022-02-11T09:11:09.300029Z",
     "shell.execute_reply.started": "2022-02-11T09:11:09.278227Z"
    }
   },
   "outputs": [],
   "source": [
    "train_data = pd.read_csv('../input/titanic/train.csv')\n",
    "test_data = pd.read_csv('../input/titanic/test.csv')\n",
    "combine = [train_df, test_df]"
   ]
  },
  {
   "cell_type": "code",
   "execution_count": null,
   "metadata": {
    "execution": {
     "iopub.execute_input": "2022-02-11T09:01:54.329573Z",
     "iopub.status.busy": "2022-02-11T09:01:54.328861Z",
     "iopub.status.idle": "2022-02-11T09:01:54.344751Z",
     "shell.execute_reply": "2022-02-11T09:01:54.343725Z",
     "shell.execute_reply.started": "2022-02-11T09:01:54.329524Z"
    }
   },
   "outputs": [],
   "source": [
    "train_data.info()"
   ]
  },
  {
   "cell_type": "code",
   "execution_count": null,
   "metadata": {
    "execution": {
     "iopub.execute_input": "2022-02-11T09:01:54.578126Z",
     "iopub.status.busy": "2022-02-11T09:01:54.577246Z",
     "iopub.status.idle": "2022-02-11T09:01:54.595614Z",
     "shell.execute_reply": "2022-02-11T09:01:54.59451Z",
     "shell.execute_reply.started": "2022-02-11T09:01:54.578082Z"
    }
   },
   "outputs": [],
   "source": [
    "test_data.info()"
   ]
  },
  {
   "cell_type": "code",
   "execution_count": null,
   "metadata": {
    "execution": {
     "iopub.execute_input": "2022-02-11T09:01:54.824421Z",
     "iopub.status.busy": "2022-02-11T09:01:54.82354Z",
     "iopub.status.idle": "2022-02-11T09:01:54.857614Z",
     "shell.execute_reply": "2022-02-11T09:01:54.857032Z",
     "shell.execute_reply.started": "2022-02-11T09:01:54.824371Z"
    }
   },
   "outputs": [],
   "source": [
    "train_data.describe()"
   ]
  },
  {
   "cell_type": "code",
   "execution_count": null,
   "metadata": {
    "execution": {
     "iopub.execute_input": "2022-02-11T09:01:55.065306Z",
     "iopub.status.busy": "2022-02-11T09:01:55.06501Z",
     "iopub.status.idle": "2022-02-11T09:01:55.081718Z",
     "shell.execute_reply": "2022-02-11T09:01:55.080898Z",
     "shell.execute_reply.started": "2022-02-11T09:01:55.065272Z"
    }
   },
   "outputs": [],
   "source": [
    "train_data.head()"
   ]
  },
  {
   "cell_type": "code",
   "execution_count": null,
   "metadata": {
    "execution": {
     "iopub.execute_input": "2022-02-11T09:01:55.28216Z",
     "iopub.status.busy": "2022-02-11T09:01:55.281199Z",
     "iopub.status.idle": "2022-02-11T09:01:55.476182Z",
     "shell.execute_reply": "2022-02-11T09:01:55.47531Z",
     "shell.execute_reply.started": "2022-02-11T09:01:55.282105Z"
    }
   },
   "outputs": [],
   "source": [
    "f,ax = plt.subplots(1,2,figsize=(12,6))\n",
    "\n",
    "train_data['Survived'].value_counts().plot.pie(explode=[0,0.1], autopct='%1.2f%%', ax=ax[0])\n",
    "ax[0].set_title('Survived')\n",
    "ax[0].set_ylabel('')\n",
    "\n",
    "sns.countplot('Survived', data=train_data, ax=ax[1])\n",
    "ax[1].set_title('Survived')\n",
    "plt.show()"
   ]
  },
  {
   "cell_type": "code",
   "execution_count": null,
   "metadata": {
    "execution": {
     "iopub.execute_input": "2022-02-11T09:01:55.577413Z",
     "iopub.status.busy": "2022-02-11T09:01:55.577137Z",
     "iopub.status.idle": "2022-02-11T09:01:55.802533Z",
     "shell.execute_reply": "2022-02-11T09:01:55.801688Z",
     "shell.execute_reply.started": "2022-02-11T09:01:55.577383Z"
    }
   },
   "outputs": [],
   "source": [
    "train_data['Age'].hist(bins=20, figsize=(18,8), grid=False);"
   ]
  },
  {
   "cell_type": "code",
   "execution_count": null,
   "metadata": {
    "execution": {
     "iopub.execute_input": "2022-02-11T09:01:55.80527Z",
     "iopub.status.busy": "2022-02-11T09:01:55.804228Z",
     "iopub.status.idle": "2022-02-11T09:01:55.82143Z",
     "shell.execute_reply": "2022-02-11T09:01:55.820531Z",
     "shell.execute_reply.started": "2022-02-11T09:01:55.805222Z"
    }
   },
   "outputs": [],
   "source": [
    "train_data.groupby('Pclass').mean() "
   ]
  },
  {
   "cell_type": "code",
   "execution_count": null,
   "metadata": {
    "execution": {
     "iopub.execute_input": "2022-02-11T09:01:56.080236Z",
     "iopub.status.busy": "2022-02-11T09:01:56.079949Z",
     "iopub.status.idle": "2022-02-11T09:01:56.095721Z",
     "shell.execute_reply": "2022-02-11T09:01:56.094872Z",
     "shell.execute_reply.started": "2022-02-11T09:01:56.080206Z"
    }
   },
   "outputs": [],
   "source": [
    "train_data.corr()"
   ]
  },
  {
   "cell_type": "code",
   "execution_count": null,
   "metadata": {
    "execution": {
     "iopub.execute_input": "2022-02-11T09:01:56.461628Z",
     "iopub.status.busy": "2022-02-11T09:01:56.460985Z",
     "iopub.status.idle": "2022-02-11T09:01:56.907473Z",
     "shell.execute_reply": "2022-02-11T09:01:56.906551Z",
     "shell.execute_reply.started": "2022-02-11T09:01:56.461587Z"
    }
   },
   "outputs": [],
   "source": [
    "plt.figure(figsize=(10, 10))\n",
    "sns.heatmap(train_data.corr(), linewidths=0.01, square=True,\n",
    "           annot=True, cmap=plt.cm.viridis, linecolor='white')\n",
    "plt.title('correlation between features')\n",
    "plt.show()"
   ]
  },
  {
   "cell_type": "code",
   "execution_count": null,
   "metadata": {
    "execution": {
     "iopub.execute_input": "2022-02-11T09:01:56.910196Z",
     "iopub.status.busy": "2022-02-11T09:01:56.909423Z",
     "iopub.status.idle": "2022-02-11T09:01:56.936788Z",
     "shell.execute_reply": "2022-02-11T09:01:56.935851Z",
     "shell.execute_reply.started": "2022-02-11T09:01:56.91015Z"
    }
   },
   "outputs": [],
   "source": [
    "train_data['Age_cat'] = pd.cut(train_data['Age'],\n",
    "                            bins = [0, 3, 7, 15, 30, 60, 100],\n",
    "                            include_lowest=True,\n",
    "                            labels=['baby', 'children', 'teenage', 'young', 'adult', 'old'])\n",
    "train_data.head(5)\n",
    "\n",
    "\n",
    "test_data['Age_cat'] = pd.cut(test_data['Age'],\n",
    "                            bins = [0, 3, 7, 15, 30, 60, 100],\n",
    "                            include_lowest=True,\n",
    "                            labels=['baby', 'children', 'teenage', 'young', 'adult', 'old'])\n",
    "test_data.head(5)"
   ]
  },
  {
   "cell_type": "code",
   "execution_count": null,
   "metadata": {
    "execution": {
     "iopub.execute_input": "2022-02-11T09:01:56.939096Z",
     "iopub.status.busy": "2022-02-11T09:01:56.938748Z",
     "iopub.status.idle": "2022-02-11T09:01:56.958494Z",
     "shell.execute_reply": "2022-02-11T09:01:56.957589Z",
     "shell.execute_reply.started": "2022-02-11T09:01:56.939053Z"
    }
   },
   "outputs": [],
   "source": [
    "train_data.groupby('Age_cat').mean()"
   ]
  },
  {
   "cell_type": "code",
   "execution_count": null,
   "metadata": {
    "execution": {
     "iopub.execute_input": "2022-02-11T09:01:57.172412Z",
     "iopub.status.busy": "2022-02-11T09:01:57.172123Z",
     "iopub.status.idle": "2022-02-11T09:01:58.101836Z",
     "shell.execute_reply": "2022-02-11T09:01:58.100903Z",
     "shell.execute_reply.started": "2022-02-11T09:01:57.172382Z"
    }
   },
   "outputs": [],
   "source": [
    "plt.figure(figsize=[14,4])\n",
    "plt.subplot(131) \n",
    "sns.barplot('Pclass', 'Survived', data=train_data)\n",
    "\n",
    "plt.subplot(132)\n",
    "sns.barplot('Age_cat', 'Survived', data=train_data)\n",
    "\n",
    "plt.subplot(133)\n",
    "sns.barplot('Sex', 'Survived', data=train_data)\n",
    "\n",
    "plt.subplots_adjust(top=1, bottom=0.1, left=0.10, right=1, hspace=0.5, wspace=0.5)\n",
    "plt.show()"
   ]
  },
  {
   "cell_type": "code",
   "execution_count": null,
   "metadata": {
    "execution": {
     "iopub.execute_input": "2022-02-11T09:01:58.104227Z",
     "iopub.status.busy": "2022-02-11T09:01:58.103881Z",
     "iopub.status.idle": "2022-02-11T09:01:58.389246Z",
     "shell.execute_reply": "2022-02-11T09:01:58.388334Z",
     "shell.execute_reply.started": "2022-02-11T09:01:58.104173Z"
    }
   },
   "outputs": [],
   "source": [
    "f, ax = plt.subplots(1,2,figsize=(12,6)) \n",
    "sns.countplot('Sex', data=train_data, ax=ax[0])\n",
    "ax[0].set_title('Count of Passengers by Sex')\n",
    "\n",
    "sns.countplot('Sex', hue='Survived', data=train_data, ax=ax[1])#두번째\n",
    "ax[1].set_title('Sex:Survived vs Dead')\n",
    "plt.show()"
   ]
  },
  {
   "cell_type": "code",
   "execution_count": null,
   "metadata": {
    "execution": {
     "iopub.execute_input": "2022-02-11T09:01:58.390515Z",
     "iopub.status.busy": "2022-02-11T09:01:58.390309Z",
     "iopub.status.idle": "2022-02-11T09:01:58.40922Z",
     "shell.execute_reply": "2022-02-11T09:01:58.408252Z",
     "shell.execute_reply.started": "2022-02-11T09:01:58.390489Z"
    }
   },
   "outputs": [],
   "source": [
    "conversion_rare = lambda x:x.split(',')[1].split('.')[0].strip()\n",
    "train_data['Title'] = train_data['Name'].map(conversion_rare)\n",
    "print(train_data.head())\n",
    "\n",
    "titles = train_data['Title'].unique()\n",
    "titles"
   ]
  },
  {
   "cell_type": "code",
   "execution_count": null,
   "metadata": {
    "execution": {
     "iopub.execute_input": "2022-02-11T09:01:58.411574Z",
     "iopub.status.busy": "2022-02-11T09:01:58.41119Z",
     "iopub.status.idle": "2022-02-11T09:01:58.433017Z",
     "shell.execute_reply": "2022-02-11T09:01:58.431943Z",
     "shell.execute_reply.started": "2022-02-11T09:01:58.411528Z"
    }
   },
   "outputs": [],
   "source": [
    "conversion_rare = lambda x:x.split(',')[1].split('.')[0].strip()\n",
    "test_data['Title'] = test_data['Name'].map(conversion_rare)\n",
    "print(test_data.head())\n",
    "\n",
    "titles = test_data['Title'].unique()\n",
    "titles"
   ]
  },
  {
   "cell_type": "code",
   "execution_count": null,
   "metadata": {
    "execution": {
     "iopub.execute_input": "2022-02-11T09:01:58.435041Z",
     "iopub.status.busy": "2022-02-11T09:01:58.434765Z",
     "iopub.status.idle": "2022-02-11T09:01:58.464767Z",
     "shell.execute_reply": "2022-02-11T09:01:58.463863Z",
     "shell.execute_reply.started": "2022-02-11T09:01:58.435008Z"
    }
   },
   "outputs": [],
   "source": [
    "pd.crosstab(train_data['Title'], train_data['Sex']) "
   ]
  },
  {
   "cell_type": "code",
   "execution_count": null,
   "metadata": {
    "execution": {
     "iopub.execute_input": "2022-02-11T09:01:58.607291Z",
     "iopub.status.busy": "2022-02-11T09:01:58.606918Z",
     "iopub.status.idle": "2022-02-11T09:01:58.631642Z",
     "shell.execute_reply": "2022-02-11T09:01:58.63086Z",
     "shell.execute_reply.started": "2022-02-11T09:01:58.607248Z"
    }
   },
   "outputs": [],
   "source": [
    "pd.crosstab(test_data['Title'], test_data['Sex']) "
   ]
  },
  {
   "cell_type": "code",
   "execution_count": null,
   "metadata": {
    "execution": {
     "iopub.execute_input": "2022-02-11T09:01:58.841898Z",
     "iopub.status.busy": "2022-02-11T09:01:58.841578Z",
     "iopub.status.idle": "2022-02-11T09:01:58.864568Z",
     "shell.execute_reply": "2022-02-11T09:01:58.863469Z",
     "shell.execute_reply.started": "2022-02-11T09:01:58.84186Z"
    }
   },
   "outputs": [],
   "source": [
    "train_data['Title'] = train_data['Title'].replace('Mlle', 'Miss')\n",
    "train_data['Title'] = train_data['Title'].replace('Ms', 'Miss')\n",
    "train_data['Title'] = train_data['Title'].replace('Mme', 'Mrs')\n",
    "\n",
    "Rare = ['Lady', 'the Countess', 'Countess', 'Capt', 'Master', \n",
    "        'Col','Don', 'Dr','Major', 'Rev', 'Sir', 'Jonkheer', 'Dona']\n",
    "\n",
    "for each in Rare:\n",
    "    train_data['Title']=train_data['Title'].replace(each,'Rare')\n",
    "    \n",
    "train_data['Title'].unique()"
   ]
  },
  {
   "cell_type": "code",
   "execution_count": null,
   "metadata": {
    "execution": {
     "iopub.execute_input": "2022-02-11T09:02:09.624302Z",
     "iopub.status.busy": "2022-02-11T09:02:09.62349Z",
     "iopub.status.idle": "2022-02-11T09:02:09.641644Z",
     "shell.execute_reply": "2022-02-11T09:02:09.640631Z",
     "shell.execute_reply.started": "2022-02-11T09:02:09.624252Z"
    }
   },
   "outputs": [],
   "source": [
    "test_data['Title'] = test_data['Title'].replace('Mlle', 'Miss')\n",
    "test_data['Title'] = test_data['Title'].replace('Ms', 'Miss')\n",
    "test_data['Title'] = test_data['Title'].replace('Mme', 'Mrs')\n",
    "\n",
    "Rare = ['Lady', 'the Countess', 'Countess', 'Capt', 'Master', \n",
    "        'Col','Don', 'Dr','Major', 'Rev', 'Sir', 'Jonkheer', 'Dona']\n",
    "\n",
    "for each in Rare:\n",
    "    test_data['Title']=test_data['Title'].replace(each,'Rare')\n",
    "    \n",
    "test_data['Title'].unique()"
   ]
  },
  {
   "cell_type": "code",
   "execution_count": null,
   "metadata": {
    "execution": {
     "iopub.execute_input": "2022-02-11T09:02:10.120293Z",
     "iopub.status.busy": "2022-02-11T09:02:10.120014Z",
     "iopub.status.idle": "2022-02-11T09:02:10.12754Z",
     "shell.execute_reply": "2022-02-11T09:02:10.126883Z",
     "shell.execute_reply.started": "2022-02-11T09:02:10.120265Z"
    }
   },
   "outputs": [],
   "source": [
    "tmp = []\n",
    "for each in train_data['Sex']:\n",
    "    if each == 'female':\n",
    "        tmp.append(0)\n",
    "    elif each == 'Male':\n",
    "        tmp.append(1)\n",
    "    else:\n",
    "        tmp.append(np.nan)"
   ]
  },
  {
   "cell_type": "code",
   "execution_count": null,
   "metadata": {
    "execution": {
     "iopub.execute_input": "2022-02-11T09:02:10.560762Z",
     "iopub.status.busy": "2022-02-11T09:02:10.560472Z",
     "iopub.status.idle": "2022-02-11T09:02:10.566997Z",
     "shell.execute_reply": "2022-02-11T09:02:10.566099Z",
     "shell.execute_reply.started": "2022-02-11T09:02:10.560731Z"
    }
   },
   "outputs": [],
   "source": [
    "tmp1 = []\n",
    "for each in test_data['Sex']:\n",
    "    if each == 'female':\n",
    "        tmp1.append(0)\n",
    "    elif each == 'Male':\n",
    "        tmp1.append(1)\n",
    "    else:\n",
    "        tmp1.append(np.nan)"
   ]
  },
  {
   "cell_type": "code",
   "execution_count": null,
   "metadata": {
    "execution": {
     "iopub.execute_input": "2022-02-11T09:02:11.182506Z",
     "iopub.status.busy": "2022-02-11T09:02:11.182217Z",
     "iopub.status.idle": "2022-02-11T09:02:11.202449Z",
     "shell.execute_reply": "2022-02-11T09:02:11.201485Z",
     "shell.execute_reply.started": "2022-02-11T09:02:11.182475Z"
    }
   },
   "outputs": [],
   "source": [
    "train_data['Sex'] = tmp\n",
    "train_data.head()"
   ]
  },
  {
   "cell_type": "code",
   "execution_count": null,
   "metadata": {
    "execution": {
     "iopub.execute_input": "2022-02-11T09:02:11.70497Z",
     "iopub.status.busy": "2022-02-11T09:02:11.704147Z",
     "iopub.status.idle": "2022-02-11T09:02:11.7282Z",
     "shell.execute_reply": "2022-02-11T09:02:11.727294Z",
     "shell.execute_reply.started": "2022-02-11T09:02:11.704928Z"
    }
   },
   "outputs": [],
   "source": [
    "test_data['Sex'] = tmp1\n",
    "test_data.head()"
   ]
  },
  {
   "cell_type": "code",
   "execution_count": null,
   "metadata": {
    "execution": {
     "iopub.execute_input": "2022-02-11T09:02:13.009754Z",
     "iopub.status.busy": "2022-02-11T09:02:13.009306Z",
     "iopub.status.idle": "2022-02-11T09:02:13.031289Z",
     "shell.execute_reply": "2022-02-11T09:02:13.030393Z",
     "shell.execute_reply.started": "2022-02-11T09:02:13.009713Z"
    }
   },
   "outputs": [],
   "source": [
    "train_data = train_data[train_data['Age'].notnull()]\n",
    "train_data = train_data[train_data['SibSp'].notnull()]\n",
    "train_data = train_data[train_data['Parch'].notnull()]\n",
    "train_data = train_data[train_data['Fare'].notnull()]\n",
    "train_data = train_data[train_data['Sex'].notnull()]\n",
    "train_data.info()"
   ]
  },
  {
   "cell_type": "code",
   "execution_count": null,
   "metadata": {
    "execution": {
     "iopub.execute_input": "2022-02-11T09:02:15.450922Z",
     "iopub.status.busy": "2022-02-11T09:02:15.450425Z",
     "iopub.status.idle": "2022-02-11T09:02:15.468625Z",
     "shell.execute_reply": "2022-02-11T09:02:15.467538Z",
     "shell.execute_reply.started": "2022-02-11T09:02:15.450873Z"
    }
   },
   "outputs": [],
   "source": [
    "test_data = test_data[test_data['Age'].notnull()]\n",
    "test_data = test_data[test_data['Fare'].notnull()]\n",
    "test_data = test_data[test_data['Sex'].notnull()]\n",
    "test_data = test_data[test_data['Cabin'].notnull()]\n",
    "test_data.info()"
   ]
  },
  {
   "cell_type": "code",
   "execution_count": null,
   "metadata": {
    "execution": {
     "iopub.execute_input": "2022-02-11T09:03:35.059493Z",
     "iopub.status.busy": "2022-02-11T09:03:35.058877Z",
     "iopub.status.idle": "2022-02-11T09:03:35.074272Z",
     "shell.execute_reply": "2022-02-11T09:03:35.073567Z",
     "shell.execute_reply.started": "2022-02-11T09:03:35.059457Z"
    }
   },
   "outputs": [],
   "source": [
    "train_pre = train_data[['Pclass', 'Sex', 'Age', 'SibSp', 'Parch', 'Fare', 'Survived']]\n",
    "train_pre.head()"
   ]
  },
  {
   "cell_type": "code",
   "execution_count": null,
   "metadata": {
    "execution": {
     "iopub.execute_input": "2022-02-11T09:02:38.660767Z",
     "iopub.status.busy": "2022-02-11T09:02:38.660371Z",
     "iopub.status.idle": "2022-02-11T09:02:38.676973Z",
     "shell.execute_reply": "2022-02-11T09:02:38.675839Z",
     "shell.execute_reply.started": "2022-02-11T09:02:38.660613Z"
    }
   },
   "outputs": [],
   "source": [
    "test_pre = test_data[['Pclass', 'Sex', 'Age', 'SibSp', 'Parch', 'Fare']]\n",
    "test_pre.tail()"
   ]
  },
  {
   "cell_type": "code",
   "execution_count": null,
   "metadata": {
    "execution": {
     "iopub.execute_input": "2022-02-11T09:11:30.705288Z",
     "iopub.status.busy": "2022-02-11T09:11:30.705025Z",
     "iopub.status.idle": "2022-02-11T09:11:30.712962Z",
     "shell.execute_reply": "2022-02-11T09:11:30.712254Z",
     "shell.execute_reply.started": "2022-02-11T09:11:30.70526Z"
    }
   },
   "outputs": [],
   "source": [
    "X_train = train_pre.drop('Survived', axis=1)\n",
    "y_train = train_pre[\"Survived\"]\n",
    "X_test  = test_pre\n",
    "\n",
    "X_train.shape, y_train.shape, X_test.shape"
   ]
  },
  {
   "cell_type": "code",
   "execution_count": null,
   "metadata": {
    "execution": {
     "iopub.execute_input": "2022-02-11T09:11:32.852651Z",
     "iopub.status.busy": "2022-02-11T09:11:32.852075Z",
     "iopub.status.idle": "2022-02-11T09:11:32.885211Z",
     "shell.execute_reply": "2022-02-11T09:11:32.884598Z",
     "shell.execute_reply.started": "2022-02-11T09:11:32.852601Z"
    }
   },
   "outputs": [],
   "source": [
    "from sklearn.neighbors import KNeighborsClassifier\n",
    "knn = KNeighborsClassifier(n_neighbors = 3)\n",
    "knn.fit(X_train, y_train)\n",
    "y_pred = knn.predict(X_test)\n",
    "acc_knn = round(knn.score(X_train, y_train) * 100, 2)\n",
    "acc_knn"
   ]
  },
  {
   "cell_type": "code",
   "execution_count": null,
   "metadata": {
    "execution": {
     "iopub.execute_input": "2022-02-11T09:11:34.021067Z",
     "iopub.status.busy": "2022-02-11T09:11:34.020736Z",
     "iopub.status.idle": "2022-02-11T09:11:34.034822Z",
     "shell.execute_reply": "2022-02-11T09:11:34.033964Z",
     "shell.execute_reply.started": "2022-02-11T09:11:34.021034Z"
    }
   },
   "outputs": [],
   "source": [
    "models = pd.DataFrame({\n",
    "    'Model': ['KNN'],\n",
    "    'Score': [acc_knn]})\n",
    "sorted_model=models.sort_values(by='Score', ascending=False)\n",
    "sorted_model"
   ]
  },
  {
   "cell_type": "code",
   "execution_count": null,
   "metadata": {
    "execution": {
     "iopub.execute_input": "2022-02-11T09:11:35.24025Z",
     "iopub.status.busy": "2022-02-11T09:11:35.239753Z",
     "iopub.status.idle": "2022-02-11T09:11:35.252436Z",
     "shell.execute_reply": "2022-02-11T09:11:35.2515Z",
     "shell.execute_reply.started": "2022-02-11T09:11:35.240201Z"
    }
   },
   "outputs": [],
   "source": [
    "test_pre.info()"
   ]
  },
  {
   "cell_type": "code",
   "execution_count": null,
   "metadata": {
    "execution": {
     "iopub.execute_input": "2022-02-11T09:08:19.220119Z",
     "iopub.status.busy": "2022-02-11T09:08:19.219826Z",
     "iopub.status.idle": "2022-02-11T09:08:19.228407Z",
     "shell.execute_reply": "2022-02-11T09:08:19.227334Z",
     "shell.execute_reply.started": "2022-02-11T09:08:19.220086Z"
    }
   },
   "outputs": [],
   "source": [
    "submission = pd.DataFrame({\n",
    "        \"PassengerId\": test_data[\"PassengerId\"],\n",
    "        \"Survived\": y_pred\n",
    "    })\n",
    "submission.to_csv('submission2.csv', index=False)"
   ]
  },
  {
   "cell_type": "code",
   "execution_count": null,
   "metadata": {},
   "outputs": [],
   "source": []
  }
 ],
 "metadata": {
  "kernelspec": {
   "display_name": "Python 3 (ipykernel)",
   "language": "python",
   "name": "python3"
  },
  "language_info": {
   "codemirror_mode": {
    "name": "ipython",
    "version": 3
   },
   "file_extension": ".py",
   "mimetype": "text/x-python",
   "name": "python",
   "nbconvert_exporter": "python",
   "pygments_lexer": "ipython3",
   "version": "3.9.7"
  }
 },
 "nbformat": 4,
 "nbformat_minor": 4
}
