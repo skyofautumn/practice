{
 "cells": [
  {
   "cell_type": "markdown",
   "id": "64eb31fd",
   "metadata": {},
   "source": [
    "# 18장. 시퀀스 배열로 다루는 순환신경망(RNN)"
   ]
  },
  {
   "cell_type": "code",
   "execution_count": 6,
   "id": "20543961",
   "metadata": {},
   "outputs": [],
   "source": [
    "import numpy\n",
    "import tensorflow as tf\n",
    "import matplotlib.pyplot as plt\n",
    "\n",
    "from tensorflow.keras.datasets import reuters\n",
    "from tensorflow.keras.models import Sequential\n",
    "from tensorflow.keras.layers import Dense, LSTM, Embedding\n",
    "from tensorflow.keras.preprocessing import sequence\n",
    "from keras.utils import np_utils"
   ]
  },
  {
   "cell_type": "code",
   "execution_count": 13,
   "id": "87ac6588",
   "metadata": {},
   "outputs": [
    {
     "name": "stdout",
     "output_type": "stream",
     "text": [
      "46 카테고리\n",
      "8982 학습용 뉴스 기사\n",
      "2246 테스트용 뉴스 기사\n",
      "[1, 2, 2, 8, 43, 10, 447, 5, 25, 207, 270, 5, 2, 111, 16, 369, 186, 90, 67, 7, 89, 5, 19, 102, 6, 19, 124, 15, 90, 67, 84, 22, 482, 26, 7, 48, 4, 49, 8, 864, 39, 209, 154, 6, 151, 6, 83, 11, 15, 22, 155, 11, 15, 7, 48, 9, 2, 2, 504, 6, 258, 6, 272, 11, 15, 22, 134, 44, 11, 15, 16, 8, 197, 2, 90, 67, 52, 29, 209, 30, 32, 132, 6, 109, 15, 17, 12]\n",
      "[[  5   2   7 ... 510  17  12]\n",
      " [652 194   2 ... 760  17  12]\n",
      " [ 13  10 139 ...   8  17  12]\n",
      " ...\n",
      " [  0   0   0 ...  11  17  12]\n",
      " [  0   0   0 ...   8  17  12]\n",
      " [ 47 758  15 ...   2  17  12]]\n",
      "[[0. 0. 0. ... 0. 0. 0.]\n",
      " [0. 0. 0. ... 0. 0. 0.]\n",
      " [0. 1. 0. ... 0. 0. 0.]\n",
      " ...\n",
      " [0. 0. 0. ... 0. 0. 0.]\n",
      " [0. 0. 0. ... 0. 0. 0.]\n",
      " [0. 0. 0. ... 0. 0. 0.]]\n"
     ]
    }
   ],
   "source": [
    "#seed값 설정\n",
    "seed = 0\n",
    "numpy.random.seed(seed)\n",
    "tf.random.set_seed(3)\n",
    "\n",
    "#불러온 데이터를 학습셋, 데이터셋으로 나누기\n",
    "(X_train, Y_train), (X_test, Y_test)=reuters.load_data(num_words=1000,test_split=0.2)\n",
    "#20%를 테스트로 쓰겠습니다.\n",
    "#모든단어 쓰기 힘드니 1-1000에 해당하는 빈도 높은 단어만 쓰겠다(num_words)\n",
    "\n",
    "#데이터확인하기\n",
    "category = numpy.max(Y_train) +1\n",
    "print(category, '카테고리')\n",
    "print(len(X_train), '학습용 뉴스 기사')\n",
    "print(len(X_test), '테스트용 뉴스 기사')\n",
    "print(X_train[0])\n",
    "\n",
    "#데이터 전처리\n",
    "#단어수 100개로 맞춰 나머지는 패딩으로 채움\n",
    "#만일 입력된 기사의 단어수가 100보다 크면 100개째 단어만 선택하고 나머지는 버림\n",
    "#100에서 몾랄때는 모자라는 부분을 0으로 채움\n",
    "X_train = sequence.pad_sequences(X_train, maxlen=100) \n",
    "X_test = sequence.pad_sequences(X_test, maxlen=100)\n",
    "print(X_test)\n",
    "\n",
    "#y데이터 원핫인코딩 처리를 하여 데이터 전처리 과정을 마침(0과1로)\n",
    "# 46개니깐 바꾸는구나\n",
    "Y_train = np_utils.to_categorical(Y_train)\n",
    "Y_test = np_utils.to_categorical(Y_test)\n",
    "print(Y_test)"
   ]
  },
  {
   "cell_type": "code",
   "execution_count": 16,
   "id": "ddacdea6",
   "metadata": {},
   "outputs": [
    {
     "name": "stdout",
     "output_type": "stream",
     "text": [
      "Epoch 1/20\n",
      "90/90 [==============================] - 10s 102ms/step - loss: 2.5897 - accuracy: 0.3515 - val_loss: 2.1629 - val_accuracy: 0.4786\n",
      "Epoch 2/20\n",
      "90/90 [==============================] - 9s 102ms/step - loss: 2.0068 - accuracy: 0.4836 - val_loss: 1.8766 - val_accuracy: 0.5178\n",
      "Epoch 3/20\n",
      "90/90 [==============================] - 10s 116ms/step - loss: 1.8129 - accuracy: 0.5303 - val_loss: 1.7703 - val_accuracy: 0.5454\n",
      "Epoch 4/20\n",
      "90/90 [==============================] - 10s 116ms/step - loss: 1.7088 - accuracy: 0.5541 - val_loss: 1.7217 - val_accuracy: 0.5574\n",
      "Epoch 5/20\n",
      "90/90 [==============================] - 10s 116ms/step - loss: 1.6533 - accuracy: 0.5749 - val_loss: 1.7423 - val_accuracy: 0.5516\n",
      "Epoch 6/20\n",
      "90/90 [==============================] - 11s 119ms/step - loss: 1.5963 - accuracy: 0.5872 - val_loss: 1.6300 - val_accuracy: 0.5837\n",
      "Epoch 7/20\n",
      "90/90 [==============================] - 11s 126ms/step - loss: 1.5141 - accuracy: 0.6052 - val_loss: 1.5886 - val_accuracy: 0.5975\n",
      "Epoch 8/20\n",
      "90/90 [==============================] - 11s 120ms/step - loss: 1.4588 - accuracy: 0.6253 - val_loss: 1.5253 - val_accuracy: 0.6140\n",
      "Epoch 9/20\n",
      "90/90 [==============================] - 10s 116ms/step - loss: 1.3801 - accuracy: 0.6501 - val_loss: 1.4568 - val_accuracy: 0.6420\n",
      "Epoch 10/20\n",
      "90/90 [==============================] - 10s 117ms/step - loss: 1.2639 - accuracy: 0.6845 - val_loss: 1.3680 - val_accuracy: 0.6581\n",
      "Epoch 11/20\n",
      "90/90 [==============================] - 11s 117ms/step - loss: 1.1548 - accuracy: 0.7072 - val_loss: 1.2962 - val_accuracy: 0.6821\n",
      "Epoch 12/20\n",
      "90/90 [==============================] - 11s 118ms/step - loss: 1.0949 - accuracy: 0.7201 - val_loss: 1.2863 - val_accuracy: 0.6781\n",
      "Epoch 13/20\n",
      "90/90 [==============================] - 11s 126ms/step - loss: 1.0367 - accuracy: 0.7345 - val_loss: 1.2270 - val_accuracy: 0.6915\n",
      "Epoch 14/20\n",
      "90/90 [==============================] - 11s 117ms/step - loss: 0.9785 - accuracy: 0.7484 - val_loss: 1.2300 - val_accuracy: 0.6928\n",
      "Epoch 15/20\n",
      "90/90 [==============================] - 13s 143ms/step - loss: 0.9440 - accuracy: 0.7596 - val_loss: 1.2616 - val_accuracy: 0.6866\n",
      "Epoch 16/20\n",
      "90/90 [==============================] - 13s 143ms/step - loss: 0.8982 - accuracy: 0.7695 - val_loss: 1.2252 - val_accuracy: 0.6915\n",
      "Epoch 17/20\n",
      "90/90 [==============================] - 13s 141ms/step - loss: 0.8602 - accuracy: 0.7786 - val_loss: 1.2225 - val_accuracy: 0.6959\n",
      "Epoch 18/20\n",
      "90/90 [==============================] - 12s 134ms/step - loss: 0.8286 - accuracy: 0.7855 - val_loss: 1.2187 - val_accuracy: 0.6923\n",
      "Epoch 19/20\n",
      "90/90 [==============================] - 10s 116ms/step - loss: 0.7831 - accuracy: 0.8000 - val_loss: 1.2403 - val_accuracy: 0.6955\n",
      "Epoch 20/20\n",
      "90/90 [==============================] - 10s 117ms/step - loss: 0.7525 - accuracy: 0.8083 - val_loss: 1.2579 - val_accuracy: 0.7070\n",
      "71/71 [==============================] - 1s 13ms/step - loss: 1.2579 - accuracy: 0.7070\n",
      "\n",
      " Test Accuracy:0.7070\n"
     ]
    }
   ],
   "source": [
    "#모델의 설정\n",
    "model = Sequential()\n",
    "model.add(Embedding(1000,100))#단어사이의 유사도\n",
    "#1000:불러온 단어의 총갯수, 100:기사당 단어수(MAX)\n",
    "model.add(LSTM(100, activation='tanh'))\n",
    "model.add(Dense(46,activation = 'softmax'))\n",
    "\n",
    "#모델의 컴파일\n",
    "model.compile(loss = 'categorical_crossentropy',\n",
    "             optimizer='adam',\n",
    "             metrics=['accuracy'])\n",
    "\n",
    "history = model.fit(X_train, Y_train, batch_size=100, epochs=20,\n",
    "                   validation_data=(X_test, Y_test))\n",
    "\n",
    "print(\"\\n Test Accuracy:%.4f\" % (model.evaluate(X_test, Y_test)[1]))"
   ]
  },
  {
   "cell_type": "code",
   "execution_count": 21,
   "id": "4c215025",
   "metadata": {},
   "outputs": [
    {
     "data": {
      "image/png": "[encoded data removed]",
      "text/plain": [
       "<Figure size 432x288 with 1 Axes>"
      ]
     },
     "metadata": {
      "needs_background": "light"
     },
     "output_type": "display_data"
    }
   ],
   "source": [
    "# 테스트 셋의 오차\n",
    "y_vloss = history.history['val_loss']\n",
    "\n",
    "# 학습셋의 오차\n",
    "y_loss = history.history['loss']\n",
    "\n",
    "#그래프로 표현\n",
    "x_len = numpy.arange(len(y_loss))\n",
    "plt.plot(x_len, y_vloss, marker='.', c='red', label='Testset_loss')\n",
    "plt.plot(x_len, y_loss, marker='.', c='blue', label='Trainset_loss')\n",
    "\n",
    "#그래프에 그리드를 추가하고 레이블을 표시\n",
    "plt.legend(loc='upper right')\n",
    "plt.grid()\n",
    "plt.xlabel('epoch')\n",
    "plt.ylabel('loss')\n",
    "plt.show()"
   ]
  },
  {
   "cell_type": "markdown",
   "id": "f769679c",
   "metadata": {},
   "source": [
    "* trainset은 돌리면 돌릴수록 오차가 줄어드는데, testset은 다시 올라가서 내려갈때쯤 멈춰줘야 할거 같다."
   ]
  },
  {
   "cell_type": "markdown",
   "id": "ca1e9663",
   "metadata": {},
   "source": [
    "## LSTM과 CNN 조합을 이용한 영화리뷰 분류하기"
   ]
  },
  {
   "cell_type": "markdown",
   "id": "f4754902",
   "metadata": {},
   "source": [
    "* 영화와 관련된 정보와 출연진 정보, 개봉 정보, 영화후기, 평점에 이르기 까지 매우 폭넓은 데이터가 저장된 자료임\n",
    "* 데이터셋에서 나타나는 빈도에 따라 번호가 정해지므로 빈도가 높은 데이터를 불러와 학습시킬수 있음\n",
    "* 참조 :https://excelsior-cjh.tistory.com/180\n"
   ]
  },
  {
   "cell_type": "code",
   "execution_count": 22,
   "id": "f9ba1a39",
   "metadata": {},
   "outputs": [
    {
     "name": "stdout",
     "output_type": "stream",
     "text": [
      "Downloading data from https://storage.googleapis.com/tensorflow/tf-keras-datasets/imdb.npz\n",
      "17465344/17464789 [==============================] - 2s 0us/step\n",
      "17473536/17464789 [==============================] - 2s 0us/step\n",
      "Model: \"sequential_2\"\n",
      "_________________________________________________________________\n",
      " Layer (type)                Output Shape              Param #   \n",
      "=================================================================\n",
      " embedding_2 (Embedding)     (None, None, 100)         500000    \n",
      "                                                                 \n",
      " dropout (Dropout)           (None, None, 100)         0         \n",
      "                                                                 \n",
      " conv1d (Conv1D)             (None, None, 64)          32064     \n",
      "                                                                 \n",
      " max_pooling1d (MaxPooling1D  (None, None, 64)         0         \n",
      " )                                                               \n",
      "                                                                 \n",
      " lstm_2 (LSTM)               (None, 55)                26400     \n",
      "                                                                 \n",
      " dense_2 (Dense)             (None, 1)                 56        \n",
      "                                                                 \n",
      " activation (Activation)     (None, 1)                 0         \n",
      "                                                                 \n",
      "=================================================================\n",
      "Total params: 558,520\n",
      "Trainable params: 558,520\n",
      "Non-trainable params: 0\n",
      "_________________________________________________________________\n",
      "Epoch 1/5\n",
      "250/250 [==============================] - 16s 60ms/step - loss: 0.4485 - accuracy: 0.7739 - val_loss: 0.3674 - val_accuracy: 0.8378\n",
      "Epoch 2/5\n",
      "250/250 [==============================] - 16s 64ms/step - loss: 0.2959 - accuracy: 0.8756 - val_loss: 0.3335 - val_accuracy: 0.8557\n",
      "Epoch 3/5\n",
      "250/250 [==============================] - 16s 62ms/step - loss: 0.2535 - accuracy: 0.8944 - val_loss: 0.3248 - val_accuracy: 0.8599\n",
      "Epoch 4/5\n",
      "250/250 [==============================] - 16s 62ms/step - loss: 0.2161 - accuracy: 0.9152 - val_loss: 0.3284 - val_accuracy: 0.8554\n",
      "Epoch 5/5\n",
      "250/250 [==============================] - 14s 55ms/step - loss: 0.1800 - accuracy: 0.9334 - val_loss: 0.3503 - val_accuracy: 0.8547\n",
      "782/782 [==============================] - 5s 6ms/step - loss: 0.3503 - accuracy: 0.8547\n",
      "\n",
      " Test Accuracy: 0.8547\n"
     ]
    },
    {
     "data": {
      "image/png": "[encoded data removed]",
      "text/plain": [
       "<Figure size 432x288 with 1 Axes>"
      ]
     },
     "metadata": {
      "needs_background": "light"
     },
     "output_type": "display_data"
    }
   ],
   "source": [
    "# -*- coding: utf-8 -*-\n",
    "# 코드 내부에 한글을 사용가능 하게 해주는 부분입니다.\n",
    "\n",
    "from keras.preprocessing import sequence\n",
    "from keras.models import Sequential\n",
    "from keras.layers import Dense, Dropout, Activation\n",
    "from keras.layers import Embedding\n",
    "from keras.layers import LSTM\n",
    "from keras.layers import Conv1D, MaxPooling1D\n",
    "from keras.datasets import imdb\n",
    "\n",
    "import numpy\n",
    "import tensorflow as tf\n",
    "import matplotlib.pyplot as plt\n",
    "\n",
    "# seed 값 설정\n",
    "seed = 0\n",
    "numpy.random.seed(seed)\n",
    "tf.random.set_seed(3)\n",
    "\n",
    "# 학습셋, 테스트셋 지정하기\n",
    "(x_train, y_train), (x_test, y_test) = imdb.load_data(num_words=5000)\n",
    "\n",
    "# 데이터 전처리\n",
    "x_train = sequence.pad_sequences(x_train, maxlen=100)\n",
    "x_test = sequence.pad_sequences(x_test, maxlen=100)\n",
    "\n",
    "# 모델의 설정\n",
    "model = Sequential()\n",
    "model.add(Embedding(5000, 100))\n",
    "model.add(Dropout(0.5))\n",
    "model.add(Conv1D(64, 5, padding='valid', activation='relu',strides=1))\n",
    "model.add(MaxPooling1D(pool_size=4))\n",
    "model.add(LSTM(55))\n",
    "model.add(Dense(1))\n",
    "model.add(Activation('sigmoid'))\n",
    "model.summary()\n",
    "\n",
    "# 모델의 컴파일\n",
    "model.compile(loss='binary_crossentropy',\n",
    "              optimizer='adam',\n",
    "              metrics=['accuracy'])\n",
    "\n",
    "# 모델의 실행\n",
    "history = model.fit(x_train, y_train, batch_size=100, epochs=5, validation_data=(x_test, y_test))\n",
    "\n",
    "# 테스트 정확도 출력\n",
    "print(\"\\n Test Accuracy: %.4f\" % (model.evaluate(x_test, y_test)[1]))\n",
    "\n",
    "\n",
    "# 테스트 셋의 오차\n",
    "y_vloss = history.history['val_loss']\n",
    "\n",
    "# 학습셋의 오차\n",
    "y_loss = history.history['loss']\n",
    "\n",
    "# 그래프로 표현\n",
    "x_len = numpy.arange(len(y_loss))\n",
    "plt.plot(x_len, y_vloss, marker='.', c=\"red\", label='Testset_loss')\n",
    "plt.plot(x_len, y_loss, marker='.', c=\"blue\", label='Trainset_loss')\n",
    "\n",
    "# 그래프에 그리드를 주고 레이블을 표시\n",
    "plt.legend(loc='upper right')\n",
    "plt.grid()\n",
    "plt.xlabel('epoch')\n",
    "plt.ylabel('loss')\n",
    "plt.show()\n"
   ]
  },
  {
   "cell_type": "code",
   "execution_count": null,
   "id": "f8d54b9a",
   "metadata": {},
   "outputs": [],
   "source": []
  },
  {
   "cell_type": "code",
   "execution_count": null,
   "id": "1d15649f",
   "metadata": {},
   "outputs": [],
   "source": []
  },
  {
   "cell_type": "code",
   "execution_count": null,
   "id": "65a88861",
   "metadata": {},
   "outputs": [],
   "source": []
  },
  {
   "cell_type": "code",
   "execution_count": null,
   "id": "7ebf925b",
   "metadata": {},
   "outputs": [],
   "source": []
  },
  {
   "cell_type": "code",
   "execution_count": null,
   "id": "4a8709df",
   "metadata": {},
   "outputs": [],
   "source": []
  },
  {
   "cell_type": "code",
   "execution_count": null,
   "id": "b6c831d1",
   "metadata": {},
   "outputs": [],
   "source": []
  },
  {
   "cell_type": "code",
   "execution_count": null,
   "id": "d03a7be8",
   "metadata": {},
   "outputs": [],
   "source": []
  },
  {
   "cell_type": "code",
   "execution_count": null,
   "id": "61e1cd82",
   "metadata": {},
   "outputs": [],
   "source": []
  }
 ],
 "metadata": {
  "kernelspec": {
   "display_name": "Python 3 (ipykernel)",
   "language": "python",
   "name": "python3"
  },
  "language_info": {
   "codemirror_mode": {
    "name": "ipython",
    "version": 3
   },
   "file_extension": ".py",
   "mimetype": "text/x-python",
   "name": "python",
   "nbconvert_exporter": "python",
   "pygments_lexer": "ipython3",
   "version": "3.9.7"
  }
 },
 "nbformat": 4,
 "nbformat_minor": 5
}
