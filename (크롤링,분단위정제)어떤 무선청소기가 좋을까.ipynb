{
 "cells": [
  {
   "cell_type": "markdown",
   "id": "1aa69c41",
   "metadata": {},
   "source": [
    "# 어떤 무선 청소기가 좋을까?"
   ]
  },
  {
   "cell_type": "markdown",
   "id": "46760b05",
   "metadata": {},
   "source": [
    "* 흡입력도 약하고 배터리도 오래 가지 않아 대중화되지는 않는다.\n",
    "* 하지만 모터와 배터리 기술이 향상된 다이슨 무선 청소기가 나오면서 이슈가 됐고\n",
    "* 국내 기업들은 높은 성능의 제품을 내놓으면서 상품의 종류도 다양해졌고\n",
    "* 샤오미 무선 청소기 같은 합리적인 가격대 제품들도 출시되면서 선택의 폭도 넓어졌다.\n"
   ]
  },
  {
   "cell_type": "markdown",
   "id": "c61f53df",
   "metadata": {},
   "source": [
    "#### 제조사별 무선 청소기의 가격과 성능 데이터 수집하고 분석\n",
    "#### 각자의 상황에 맞는 제품군이 무엇인지 분석"
   ]
  },
  {
   "cell_type": "markdown",
   "id": "921e12d4",
   "metadata": {},
   "source": [
    "## 1. 데이터 수집 1_한페이지 크롤링"
   ]
  },
  {
   "cell_type": "markdown",
   "id": "7222a251",
   "metadata": {},
   "source": [
    "### 다나와 검색 페이지 접속"
   ]
  },
  {
   "cell_type": "code",
   "execution_count": 27,
   "id": "80ef72a1",
   "metadata": {},
   "outputs": [
    {
     "name": "stderr",
     "output_type": "stream",
     "text": [
      "C:\\Users\\dlfrl\\AppData\\Local\\Temp/ipykernel_51044/1219073168.py:2: DeprecationWarning: executable_path has been deprecated, please pass in a Service object\n",
      "  driver = webdriver.Chrome('../driver/chromedriver.exe')\n"
     ]
    }
   ],
   "source": [
    "from selenium import webdriver\n",
    "driver = webdriver.Chrome('../driver/chromedriver.exe')\n",
    "url = \"http://search.danawa.com/dsearch.php?query=무선청소기&tab=main\"\n",
    "driver.get(url)"
   ]
  },
  {
   "cell_type": "code",
   "execution_count": 28,
   "id": "bd905e1a",
   "metadata": {},
   "outputs": [],
   "source": [
    "from bs4 import BeautifulSoup\n",
    "html = driver.page_source\n",
    "soup = BeautifulSoup(html, 'html.parser')"
   ]
  },
  {
   "cell_type": "code",
   "execution_count": 11,
   "id": "4bb3e044",
   "metadata": {},
   "outputs": [
    {
     "data": {
      "text/plain": [
       "45"
      ]
     },
     "execution_count": 11,
     "metadata": {},
     "output_type": "execute_result"
    }
   ],
   "source": [
    "prod_items = soup.select('li.prod_item ')\n",
    "len(prod_items)"
   ]
  },
  {
   "cell_type": "markdown",
   "id": "9bd0a4b3",
   "metadata": {},
   "source": [
    "### 40개가 나와야 하는데 더 많이 나와서 상위 태그로 계속 확인해보는 작업\n",
    "* 광고 제품들이 중간중간 들어가있음"
   ]
  },
  {
   "cell_type": "code",
   "execution_count": 14,
   "id": "0e171f40",
   "metadata": {},
   "outputs": [
    {
     "data": {
      "text/plain": [
       "45"
      ]
     },
     "execution_count": 14,
     "metadata": {},
     "output_type": "execute_result"
    }
   ],
   "source": [
    "prod_items = soup.select('ul.product_list > li.prod_item')\n",
    "len(prod_items)"
   ]
  },
  {
   "cell_type": "code",
   "execution_count": 29,
   "id": "87edb1e5",
   "metadata": {},
   "outputs": [
    {
     "data": {
      "text/plain": [
       "44"
      ]
     },
     "execution_count": 29,
     "metadata": {},
     "output_type": "execute_result"
    }
   ],
   "source": [
    "prod_items = soup.select('div.main_prodlist_list > ul.product_list > li.prod_item')\n",
    "len(prod_items)"
   ]
  },
  {
   "cell_type": "markdown",
   "id": "069c0017",
   "metadata": {},
   "source": [
    "### 첫번째 제품 불러오자"
   ]
  },
  {
   "cell_type": "code",
   "execution_count": 30,
   "id": "df8e573c",
   "metadata": {},
   "outputs": [
    {
     "data": {
      "text/plain": [
       "<li class=\"prod_item\" id=\"productItem15170459\">\n",
       "<input id=\"productItem_categoryInfo_15170459\" type=\"hidden\" value=\"생활가전_청소기\"/>\n",
       "<input id=\"min_price_15170459\" type=\"hidden\" value=\"580040\"/>\n",
       "<div class=\"prod_main_info\">\n",
       "<div class=\"thumb_image\">\n",
       "<a class=\"thumb_link click_log_product_standard_img_\" href=\"http://prod.danawa.com/info/?pcode=15170459&amp;keyword=%EB%AC%B4%EC%84%A0%EC%B2%AD%EC%86%8C%EA%B8%B0&amp;cate=102207\" id=\"thumbLink_15170459\" onmousedown=\"_trkEventLog('통합검색_상품블로그_유입');\" target=\"_blank\">\n",
       "<img alt=\"제트 VS20A956A3\" onerror=\"this.onerror=null; this.src='//img.danawa.com/new/noData/img/noImg_160.gif';\" src=\"//img.danawa.com/prod_img/500000/459/170/img/15170459_1.jpg?shrink=130:130&amp;_v=20210906145322\"/>\n",
       "</a>\n",
       "<a class=\"btn_view_zoom\" data-assemblygallerycategory=\"N\" href=\"#\" id=\"imageZoom_15170459\" onclick=\"return false;\">\n",
       "<span class=\"ico i_zoom_vw\"></span>이미지보기\n",
       "\t\t\t\t\t\t</a>\n",
       "<input id=\"hidden_cate_sub_c1\" type=\"hidden\" value=\"72\"/>\n",
       "<input id=\"hidden_cate_sub_c2\" type=\"hidden\" value=\"80\"/>\n",
       "<input id=\"hidden_cate_sub_c3\" type=\"hidden\" value=\"81\"/>\n",
       "<div class=\"img_selector\">\n",
       "<a class=\"sel_item\" href=\"#\" onclick=\"return false;\" title=\"상품 색상\"><span class=\"hide_indent sub_color_w100\" style=\"background-color:#1C4587;\">상품 색상</span></a><a class=\"sel_item\" href=\"#\" onclick=\"return false;\" title=\"상품 색상\"><span class=\"hide_indent sub_color_w100\" style=\"background-color:#FFFFFF;\">상품 색상</span></a><a class=\"sel_item\" href=\"#\" onclick=\"return false;\" title=\"상품 색상\"><span class=\"hide_indent sub_color_w100\" style=\"background-color:#6AA84F;\">상품 색상</span></a> </div> </div>\n",
       "<div class=\"prod_info\">\n",
       "<p class=\"prod_name\">\n",
       "<a class=\"click_log_product_standard_title_\" href=\"http://prod.danawa.com/info/?pcode=15170459&amp;keyword=%EB%AC%B4%EC%84%A0%EC%B2%AD%EC%86%8C%EA%B8%B0&amp;cate=102207\" onmousedown=\"_trkEventLog('통합검색_상품블로그_유입'); doCTR('%EB%AC%B4%EC%84%A0%EC%B2%AD%EC%86%8C%EA%B8%B0','15170459',1);\" target=\"_blank\">삼성전자 비스포크 제트 VS20A956A3</a>\n",
       "</p>\n",
       "<div class=\"prod_intro\">\n",
       "<p class=\"intro_text\">배터리 1개+물걸레, 침구, 펫브러쉬 제외 액세서리 4종 구성 (청소기+청정스테이션 합포장)</p>\n",
       "</div>\n",
       "<dl class=\"prod_spec_set\">\n",
       "<dt class=\"screen_out\">상세 스펙</dt>\n",
       "<dd>\n",
       "<div class=\"spec_list\"><a class=\"view_dic\" href=\"#\" onclick=\"$.termDicViewLink(8501,'view',this,0,72,80); return false;\">핸디/스틱<b>청소기</b></a> / <a class=\"view_dic\" href=\"#\" onclick=\"$.termDicViewLink(7445,'view',this,0,72,80); return false;\">핸디+스틱형</a> / <a class=\"view_dic\" href=\"#\" onclick=\"$.termDicViewLink(14900,'view',this,0,72,80); return false;\">무선형</a> / <a class=\"view_dic\" href=\"#\" onclick=\"$.termDicViewLink(217536,'view',this,0,72,80); return false;\">흡입+걸레겸용</a> / <br/><b>[성능]</b> <a class=\"view_dic\" href=\"#\" onclick=\"$.termDicViewLink(3996,'view',this,0,72,80); return false;\">흡입력</a>: <a class=\"view_dic\" href=\"#\" onclick=\"$.termDicViewLink(3996,'view',this,0,72,80); return false;\">210W</a> / <a class=\"view_dic\" href=\"#\" onclick=\"$.termDicViewLink(4000,'view',this,0,72,80); return false;\">제트싸이클론</a> / <a class=\"view_dic\" href=\"#\" onclick=\"$.termDicViewLink(27442,'view',this,0,72,80); return false;\">디지털인버터모터</a> / <br/><b>[배터리]</b> <a class=\"view_dic\" href=\"#\" onclick=\"$.termDicViewLink(14921,'view',this,0,72,80); return false;\">충전시간</a>: <a class=\"view_dic\" href=\"#\" onclick=\"$.termDicViewLink(14921,'view',this,0,72,80); return false;\">3시간30분</a> / <a class=\"view_dic\" href=\"#\" onclick=\"$.termDicViewLink(8515,'view',this,0,72,80); return false;\">사용시간(개당)</a>: <a class=\"view_dic\" href=\"#\" onclick=\"$.termDicViewLink(8515,'view',this,0,72,80); return false;\">1시간</a> / <a class=\"view_dic\" href=\"#\" onclick=\"$.termDicViewLink(217578,'view',this,0,72,80); return false;\">분리형 (1개)</a> / <a class=\"view_dic\" href=\"#\" onclick=\"$.termDicViewLink(27314,'view',this,0,72,80); return false;\">리튬이온</a> / <br/><b>[필터]</b> <a class=\"view_dic\" href=\"#\" onclick=\"$.termDicViewLink(30024,'view',this,0,72,80); return false;\">5단계여과</a> / <br/><b>[기능]</b> <a class=\"view_dic\" href=\"#\" onclick=\"$.termDicViewLink(216261,'view',this,0,72,80); return false;\">자동물공급</a> / <a class=\"view_dic\" href=\"#\" onclick=\"$.termDicViewLink(30484,'view',this,0,72,80); return false;\">디스플레이표시창</a> / <a class=\"view_dic\" href=\"#\" onclick=\"$.termDicViewLink(27321,'view',this,0,72,80); return false;\">배터리잔량표시</a> / <a class=\"view_dic\" href=\"#\" onclick=\"$.termDicViewLink(219165,'view',this,0,72,80); return false;\">자동먼지비움</a> / <br/><b>[구성]</b> <a class=\"view_dic\" href=\"#\" onclick=\"$.termDicViewLink(18333,'view',this,0,72,80); return false;\">바닥</a> / <a class=\"view_dic\" href=\"#\" onclick=\"$.termDicViewLink(18442,'view',this,0,72,80); return false;\">솔형</a> / <a class=\"view_dic\" href=\"#\" onclick=\"$.termDicViewLink(18436,'view',this,0,72,80); return false;\">틈새</a> / <a class=\"view_dic\" href=\"#\" onclick=\"$.termDicViewLink(27313,'view',this,0,72,80); return false;\">연장툴</a> / <a class=\"view_dic\" href=\"#\" onclick=\"$.termDicViewLink(218109,'view',this,0,72,80); return false;\">청정스테이션</a> / <br/><b>[부가]</b> <a class=\"view_dic\" href=\"#\" onclick=\"$.termDicViewLink(214653,'view',this,0,72,80); return false;\">먼지통용량</a>: <a class=\"view_dic\" href=\"#\" onclick=\"$.termDicViewLink(214653,'view',this,0,72,80); return false;\">0.5L</a> / <a class=\"view_dic\" href=\"#\" onclick=\"$.termDicViewLink(14771,'view',this,0,72,80); return false;\">색상</a>: <a class=\"view_dic\" href=\"#\" onclick=\"$.termDicViewLink(14771,'view',this,0,72,80); return false;\">미스티화이트</a> / <a class=\"view_dic\" href=\"#\" onclick=\"$.termDicViewLink(27312,'view',this,0,72,80); return false;\">무게</a>: <a class=\"view_dic\" href=\"#\" onclick=\"$.termDicViewLink(27312,'view',this,0,72,80); return false;\">2.5kg</a> / 액세서리크래들  / 크기(가로x세로x깊이): 250x930x202mm\t\t\t\t\t\t\t\t</div>\n",
       "</dd>\n",
       "</dl>\n",
       "<div class=\"relation_goods_unit\" id=\"relation_goods_unit_15170459\"><dl class=\"unit_goods_list\"><dt class=\"title_unit\">관련용품▶</dt><dd class=\"unit_lists\"><a class=\"unit_link view_dic\" data-relationcode=\"14407868\" href=\"#\" onclick=\"return false;\">리튬이온배터리</a><span class=\"ucomma\">,</span><a class=\"unit_link view_dic\" data-relationcode=\"14407970\" href=\"#\" onclick=\"return false;\">물걸레브러쉬</a><span class=\"ucomma\">,</span><a class=\"unit_link view_dic\" data-relationcode=\"14415326\" href=\"#\" onclick=\"return false;\">펫브러쉬</a><span class=\"ucomma\">,</span><a class=\"unit_link view_dic\" data-relationcode=\"15103583\" href=\"#\" onclick=\"return false;\">청정스테이션먼지봉투</a></dd></dl></div>\n",
       "<div class=\"prod_rel_content\">\n",
       "</div>\n",
       "<div class=\"prod_sub_info\">\n",
       "<div class=\"prod_sub_meta\">\n",
       "<dl class=\"meta_item mt_date\">\n",
       "<dt>등록월</dt>\n",
       "<dd>2021.09.</dd>\n",
       "</dl>\n",
       "<dl class=\"meta_item mt_comment\">\n",
       "<dt><span class=\"dt_behind\">상품의견</span></dt>\n",
       "<dd>\n",
       "<div class=\"cnt_star\">\n",
       "<div class=\"point_type_list\">\n",
       "<div class=\"mask\" style=\"width:96%\">\n",
       "</div>\n",
       "</div>\n",
       "<div class=\"point_num\">\n",
       "<strong>4.8</strong>점\n",
       "\t\t\t\t\t\t\t\t\t\t\t\t\t\t</div>\n",
       "</div>\n",
       "<div class=\"cnt_opinion\">\n",
       "\t\t\t\t\t\t\t\t\t\t\t\t\t\t(<a class=\"click_log_prod_content_count\" href=\"http://prod.danawa.com/info/?pcode=15170459&amp;keyword=%EB%AC%B4%EC%84%A0%EC%B2%AD%EC%86%8C%EA%B8%B0&amp;cate=102207#bookmark_cm_opinion\" onmousedown=\"_trkEventLog('통합검색_상품블로그_유입');\" target=\"_blank\"><strong>128</strong></a>건)\n",
       "\t\t\t\t\t\t\t\t\t\t\t\t\t</div>\n",
       "</dd>\n",
       "</dl>\n",
       "<dl class=\"meta_item\">\n",
       "<dt class=\"screen_out\">관심상품</dt>\n",
       "<dd>\n",
       "<a class=\"click_log_wishList\" href=\"#\" onclick=\"javascript:$.danawaAddProductToWishList(this, '15170459', 'search_bundle', '', '', '580040');return false;\" onmousedown=\"doCTR('%EB%AC%B4%EC%84%A0%EC%B2%AD%EC%86%8C%EA%B8%B0','15170459',4);\" title=\"관심상품에 담기\">관심상품</a>\n",
       "</dd>\n",
       "<input id=\"wishListBundleVal_15170459\" type=\"hidden\" value=\"미드나잇블루^15170318**미스티화이트^15170459**우디그린^15170501//삼성전자 비스포크 제트 VS20A956A3//15170459\"/>\n",
       "</dl>\n",
       "</div>\n",
       "<dl class=\"prod_category_location\">\n",
       "<dt class=\"screen_out\">상품분류</dt>\n",
       "<dd>\n",
       "<a href=\"http://prod.danawa.com/list/?cate=102207\" onmousedown=\"doCTR('%EB%AC%B4%EC%84%A0%EC%B2%AD%EC%86%8C%EA%B8%B0','15170459',3);\" target=\"_blank\"><span>생활가전</span> &gt; <span>청소기</span></a> <div class=\"more_cate_layer\" style=\"display: none; z-index: 1;\">\n",
       "<ul class=\"list_category_location\">\n",
       "</ul>\n",
       "</div>\n",
       "</dd>\n",
       "</dl>\n",
       "</div>\n",
       "</div>\n",
       "<div class=\"prod_pricelist\" data-cate=\"72|80|81|0\">\n",
       "<ul>\n",
       "<li id=\"productInfoDetail_15170318\" style=\"\">\n",
       "<p class=\"chk_sect\">\n",
       "\t\t\t\t\t\t\t\t\t\t417몰\n",
       "\t\t\t\t\t\t\t\t\t\t<label for=\"prodCompareCheck_15170318\">\n",
       "<input id=\"prodCompareCheck_15170318\" type=\"checkbox\"/><strong>상품비교</strong>\n",
       "</label>\n",
       "<input name=\"compareValue\" type=\"hidden\" value=\"15170318\"/>\n",
       "<input name=\"compareRepValue\" type=\"hidden\" value=\"15170459\"/>\n",
       "</p>\n",
       "<p class=\"price_sect\">\n",
       "<a class=\"click_log_product_standard_price_\" href=\"http://prod.danawa.com/info/?pcode=15170318&amp;keyword=%EB%AC%B4%EC%84%A0%EC%B2%AD%EC%86%8C%EA%B8%B0&amp;cate=102207\" onmousedown=\"doCTR('%EB%AC%B4%EC%84%A0%EC%B2%AD%EC%86%8C%EA%B8%B0','15170318',1);\" target=\"_blank\"><strong>589,760</strong>원</a>\n",
       "<span class=\"more_btn_wrap\">\n",
       "<button class=\"ico i_more\">가격정보 더보기</button>\n",
       "<span class=\"layer_price_more\" id=\"layer_price_more_15170318\"></span>\n",
       "<span class=\"sep_line\"></span>\n",
       "</span>\n",
       "</p>\n",
       "<p class=\"memory_sect\"><span class=\"rank\">2위</span>\t\t\t\t\t\t\t\t\t\t\t\t\t\t\t\t\t\t\t\t미드나잇블루\t\t\t\t\t\t\t\t\t\t\t\t\t\t\t\t\t\t\t\t<a href=\"http://prod.danawa.com/info/?pcode=15170318&amp;keyword=%EB%AC%B4%EC%84%A0%EC%B2%AD%EC%86%8C%EA%B8%B0&amp;cate=102207\" onmousedown=\"doCTR('%EB%AC%B4%EC%84%A0%EC%B2%AD%EC%86%8C%EA%B8%B0','15170318',1);\" target=\"_blank\">\n",
       "</a>\n",
       "</p>\n",
       "</li>\n",
       "<li class=\"rank_one\" id=\"productInfoDetail_15170459\" style=\"\">\n",
       "<p class=\"chk_sect\">\n",
       "\t\t\t\t\t\t\t\t\t\t349몰\n",
       "\t\t\t\t\t\t\t\t\t\t<label for=\"prodCompareCheck_15170459\">\n",
       "<input id=\"prodCompareCheck_15170459\" type=\"checkbox\"/><strong>상품비교</strong>\n",
       "</label>\n",
       "<input name=\"compareValue\" type=\"hidden\" value=\"15170459\"/>\n",
       "<input name=\"compareRepValue\" type=\"hidden\" value=\"15170459\"/>\n",
       "</p>\n",
       "<p class=\"price_sect\">\n",
       "<a class=\"click_log_product_standard_price_\" href=\"http://prod.danawa.com/info/?pcode=15170459&amp;keyword=%EB%AC%B4%EC%84%A0%EC%B2%AD%EC%86%8C%EA%B8%B0&amp;cate=102207\" onmousedown=\"doCTR('%EB%AC%B4%EC%84%A0%EC%B2%AD%EC%86%8C%EA%B8%B0','15170459',1);\" target=\"_blank\"><strong>580,040</strong>원</a>\n",
       "<span class=\"more_btn_wrap\">\n",
       "<button class=\"ico i_more\">가격정보 더보기</button>\n",
       "<span class=\"layer_price_more\" id=\"layer_price_more_15170459\"></span>\n",
       "<span class=\"sep_line\"></span>\n",
       "</span>\n",
       "</p>\n",
       "<p class=\"memory_sect\"><span class=\"rank\">1위</span>\t\t\t\t\t\t\t\t\t\t\t\t\t\t\t\t\t\t\t\t미스티화이트\t\t\t\t\t\t\t\t\t\t\t\t\t\t\t\t\t\t\t\t<a href=\"http://prod.danawa.com/info/?pcode=15170459&amp;keyword=%EB%AC%B4%EC%84%A0%EC%B2%AD%EC%86%8C%EA%B8%B0&amp;cate=102207\" onmousedown=\"doCTR('%EB%AC%B4%EC%84%A0%EC%B2%AD%EC%86%8C%EA%B8%B0','15170459',1);\" target=\"_blank\">\n",
       "</a>\n",
       "</p>\n",
       "</li>\n",
       "<li id=\"productInfoDetail_15170501\" style=\"\">\n",
       "<p class=\"chk_sect\">\n",
       "\t\t\t\t\t\t\t\t\t\t78몰\n",
       "\t\t\t\t\t\t\t\t\t\t<label for=\"prodCompareCheck_15170501\">\n",
       "<input id=\"prodCompareCheck_15170501\" type=\"checkbox\"/><strong>상품비교</strong>\n",
       "</label>\n",
       "<input name=\"compareValue\" type=\"hidden\" value=\"15170501\"/>\n",
       "<input name=\"compareRepValue\" type=\"hidden\" value=\"15170459\"/>\n",
       "</p>\n",
       "<p class=\"price_sect\">\n",
       "<a class=\"click_log_product_standard_price_\" href=\"http://prod.danawa.com/info/?pcode=15170501&amp;keyword=%EB%AC%B4%EC%84%A0%EC%B2%AD%EC%86%8C%EA%B8%B0&amp;cate=102207\" onmousedown=\"doCTR('%EB%AC%B4%EC%84%A0%EC%B2%AD%EC%86%8C%EA%B8%B0','15170501',1);\" target=\"_blank\"><strong>619,400</strong>원</a>\n",
       "<span class=\"more_btn_wrap\">\n",
       "<button class=\"ico i_more\">가격정보 더보기</button>\n",
       "<span class=\"layer_price_more\" id=\"layer_price_more_15170501\"></span>\n",
       "<span class=\"sep_line\"></span>\n",
       "</span>\n",
       "</p>\n",
       "<p class=\"memory_sect\">\t\t\t\t\t\t\t\t\t\t\t\t\t\t\t\t\t\t\t\t우디그린\t\t\t\t\t\t\t\t\t\t\t\t\t\t\t\t\t\t\t\t<a href=\"http://prod.danawa.com/info/?pcode=15170501&amp;keyword=%EB%AC%B4%EC%84%A0%EC%B2%AD%EC%86%8C%EA%B8%B0&amp;cate=102207\" onmousedown=\"doCTR('%EB%AC%B4%EC%84%A0%EC%B2%AD%EC%86%8C%EA%B8%B0','15170501',1);\" target=\"_blank\">\n",
       "</a>\n",
       "</p>\n",
       "</li>\n",
       "</ul>\n",
       "</div>\n",
       "</div>\n",
       "</li>"
      ]
     },
     "execution_count": 30,
     "metadata": {},
     "output_type": "execute_result"
    }
   ],
   "source": [
    "title = prod_items[0]\n",
    "title"
   ]
  },
  {
   "cell_type": "code",
   "execution_count": 31,
   "id": "8b2e22f6",
   "metadata": {
    "scrolled": true
   },
   "outputs": [
    {
     "name": "stdout",
     "output_type": "stream",
     "text": [
      "삼성전자 비스포크 제트 VS20A956A3\n"
     ]
    }
   ],
   "source": [
    "# 상품명\n",
    "title = prod_items[0].select('p.prod_name > a')[0].text.strip() #좌우공백제거\n",
    "print(title)"
   ]
  },
  {
   "cell_type": "code",
   "execution_count": 36,
   "id": "da9e79d3",
   "metadata": {},
   "outputs": [
    {
     "name": "stdout",
     "output_type": "stream",
     "text": [
      "핸디/스틱청소기 / 핸디+스틱형 / 무선형 / 흡입+걸레겸용 / [성능] 흡입력: 210W / 제트싸이클론 / 디지털인버터모터 / [배터리] 충전시간: 3시간30분 / 사용시간(개당): 1시간 / 분리형 (1개) / 리튬이온 / [필터] 5단계여과 / [기능] 자동물공급 / 디스플레이표시창 / 배터리잔량표시 / 자동먼지비움 / [구성] 바닥 / 솔형 / 틈새 / 연장툴 / 청정스테이션 / [부가] 먼지통용량: 0.5L / 색상: 미스티화이트 / 무게: 2.5kg / 액세서리크래들  / 크기(가로x세로x깊이): 250x930x202mm\n"
     ]
    }
   ],
   "source": [
    "#스펙모록\n",
    "spec_list = prod_items[0].select('div.spec_list')[0].text.strip()\n",
    "print(spec_list)"
   ]
  },
  {
   "cell_type": "code",
   "execution_count": 35,
   "id": "d2836e8e",
   "metadata": {},
   "outputs": [
    {
     "name": "stdout",
     "output_type": "stream",
     "text": [
      "580040\n"
     ]
    }
   ],
   "source": [
    "#가격정보\n",
    "price = prod_items[0].select('li.rank_one > p.price_sect > a > strong')[0].text.strip().replace(\",\",\"\")\n",
    "print(price)"
   ]
  },
  {
   "cell_type": "code",
   "execution_count": 38,
   "id": "bf72b67f",
   "metadata": {},
   "outputs": [
    {
     "name": "stdout",
     "output_type": "stream",
     "text": [
      "44\n",
      "[['삼성전자 비스포크 제트 VS20A956A3', '핸디/스틱청소기 / 핸디+스틱형 / 무선형 / 흡입+걸레겸용 / [성능] 흡입력: 210W / 제트싸이클론 / 디지털인버터모터 / [배터리] 충전시간: 3시간30분 / 사용시간(개당): 1시간 / 분리형 (1개) / 리튬이온 / [필터] 5단계여과 / [기능] 자동물공급 / 디스플레이표시창 / 배터리잔량표시 / 자동먼지비움 / [구성] 바닥 / 솔형 / 틈새 / 연장툴 / 청정스테이션 / [부가] 먼지통용량: 0.5L / 색상: 미스티화이트 / 무게: 2.5kg / 액세서리크래들  / 크기(가로x세로x깊이): 250x930x202mm', '580040'], ['삼성전자 비스포크 제트 VS20A956A3', '핸디/스틱청소기 / 핸디+스틱형 / 무선형 / 흡입+걸레겸용 / [성능] 흡입력: 210W / 제트싸이클론 / 디지털인버터모터 / [배터리] 충전시간: 3시간30분 / 사용시간(개당): 1시간 / 분리형 (1개) / 리튬이온 / [필터] 5단계여과 / [기능] 자동물공급 / 디스플레이표시창 / 배터리잔량표시 / 자동먼지비움 / [구성] 바닥 / 솔형 / 틈새 / 연장툴 / 청정스테이션 / [부가] 먼지통용량: 0.5L / 색상: 미스티화이트 / 무게: 2.5kg / 액세서리크래들  / 크기(가로x세로x깊이): 250x930x202mm', '580040'], ['삼성전자 비스포크 제트 VS20A956A3', '핸디/스틱청소기 / 핸디+스틱형 / 무선형 / 흡입+걸레겸용 / [성능] 흡입력: 210W / 제트싸이클론 / 디지털인버터모터 / [배터리] 충전시간: 3시간30분 / 사용시간(개당): 1시간 / 분리형 (1개) / 리튬이온 / [필터] 5단계여과 / [기능] 자동물공급 / 디스플레이표시창 / 배터리잔량표시 / 자동먼지비움 / [구성] 바닥 / 솔형 / 틈새 / 연장툴 / 청정스테이션 / [부가] 먼지통용량: 0.5L / 색상: 미스티화이트 / 무게: 2.5kg / 액세서리크래들  / 크기(가로x세로x깊이): 250x930x202mm', '580040'], ['삼성전자 비스포크 제트 VS20A956A3', '핸디/스틱청소기 / 핸디+스틱형 / 무선형 / 흡입+걸레겸용 / [성능] 흡입력: 210W / 제트싸이클론 / 디지털인버터모터 / [배터리] 충전시간: 3시간30분 / 사용시간(개당): 1시간 / 분리형 (1개) / 리튬이온 / [필터] 5단계여과 / [기능] 자동물공급 / 디스플레이표시창 / 배터리잔량표시 / 자동먼지비움 / [구성] 바닥 / 솔형 / 틈새 / 연장툴 / 청정스테이션 / [부가] 먼지통용량: 0.5L / 색상: 미스티화이트 / 무게: 2.5kg / 액세서리크래들  / 크기(가로x세로x깊이): 250x930x202mm', '580040'], ['삼성전자 비스포크 제트 VS20A956A3', '핸디/스틱청소기 / 핸디+스틱형 / 무선형 / 흡입+걸레겸용 / [성능] 흡입력: 210W / 제트싸이클론 / 디지털인버터모터 / [배터리] 충전시간: 3시간30분 / 사용시간(개당): 1시간 / 분리형 (1개) / 리튬이온 / [필터] 5단계여과 / [기능] 자동물공급 / 디스플레이표시창 / 배터리잔량표시 / 자동먼지비움 / [구성] 바닥 / 솔형 / 틈새 / 연장툴 / 청정스테이션 / [부가] 먼지통용량: 0.5L / 색상: 미스티화이트 / 무게: 2.5kg / 액세서리크래들  / 크기(가로x세로x깊이): 250x930x202mm', '580040'], ['삼성전자 비스포크 제트 VS20A956A3', '핸디/스틱청소기 / 핸디+스틱형 / 무선형 / 흡입+걸레겸용 / [성능] 흡입력: 210W / 제트싸이클론 / 디지털인버터모터 / [배터리] 충전시간: 3시간30분 / 사용시간(개당): 1시간 / 분리형 (1개) / 리튬이온 / [필터] 5단계여과 / [기능] 자동물공급 / 디스플레이표시창 / 배터리잔량표시 / 자동먼지비움 / [구성] 바닥 / 솔형 / 틈새 / 연장툴 / 청정스테이션 / [부가] 먼지통용량: 0.5L / 색상: 미스티화이트 / 무게: 2.5kg / 액세서리크래들  / 크기(가로x세로x깊이): 250x930x202mm', '580040'], ['삼성전자 비스포크 제트 VS20A956A3', '핸디/스틱청소기 / 핸디+스틱형 / 무선형 / 흡입+걸레겸용 / [성능] 흡입력: 210W / 제트싸이클론 / 디지털인버터모터 / [배터리] 충전시간: 3시간30분 / 사용시간(개당): 1시간 / 분리형 (1개) / 리튬이온 / [필터] 5단계여과 / [기능] 자동물공급 / 디스플레이표시창 / 배터리잔량표시 / 자동먼지비움 / [구성] 바닥 / 솔형 / 틈새 / 연장툴 / 청정스테이션 / [부가] 먼지통용량: 0.5L / 색상: 미스티화이트 / 무게: 2.5kg / 액세서리크래들  / 크기(가로x세로x깊이): 250x930x202mm', '580040'], ['삼성전자 비스포크 제트 VS20A956A3', '핸디/스틱청소기 / 핸디+스틱형 / 무선형 / 흡입+걸레겸용 / [성능] 흡입력: 210W / 제트싸이클론 / 디지털인버터모터 / [배터리] 충전시간: 3시간30분 / 사용시간(개당): 1시간 / 분리형 (1개) / 리튬이온 / [필터] 5단계여과 / [기능] 자동물공급 / 디스플레이표시창 / 배터리잔량표시 / 자동먼지비움 / [구성] 바닥 / 솔형 / 틈새 / 연장툴 / 청정스테이션 / [부가] 먼지통용량: 0.5L / 색상: 미스티화이트 / 무게: 2.5kg / 액세서리크래들  / 크기(가로x세로x깊이): 250x930x202mm', '580040'], ['삼성전자 비스포크 제트 VS20A956A3', '핸디/스틱청소기 / 핸디+스틱형 / 무선형 / 흡입+걸레겸용 / [성능] 흡입력: 210W / 제트싸이클론 / 디지털인버터모터 / [배터리] 충전시간: 3시간30분 / 사용시간(개당): 1시간 / 분리형 (1개) / 리튬이온 / [필터] 5단계여과 / [기능] 자동물공급 / 디스플레이표시창 / 배터리잔량표시 / 자동먼지비움 / [구성] 바닥 / 솔형 / 틈새 / 연장툴 / 청정스테이션 / [부가] 먼지통용량: 0.5L / 색상: 미스티화이트 / 무게: 2.5kg / 액세서리크래들  / 크기(가로x세로x깊이): 250x930x202mm', '580040'], ['삼성전자 비스포크 제트 VS20A956A3', '핸디/스틱청소기 / 핸디+스틱형 / 무선형 / 흡입+걸레겸용 / [성능] 흡입력: 210W / 제트싸이클론 / 디지털인버터모터 / [배터리] 충전시간: 3시간30분 / 사용시간(개당): 1시간 / 분리형 (1개) / 리튬이온 / [필터] 5단계여과 / [기능] 자동물공급 / 디스플레이표시창 / 배터리잔량표시 / 자동먼지비움 / [구성] 바닥 / 솔형 / 틈새 / 연장툴 / 청정스테이션 / [부가] 먼지통용량: 0.5L / 색상: 미스티화이트 / 무게: 2.5kg / 액세서리크래들  / 크기(가로x세로x깊이): 250x930x202mm', '580040'], ['삼성전자 비스포크 제트 VS20A956A3', '핸디/스틱청소기 / 핸디+스틱형 / 무선형 / 흡입+걸레겸용 / [성능] 흡입력: 210W / 제트싸이클론 / 디지털인버터모터 / [배터리] 충전시간: 3시간30분 / 사용시간(개당): 1시간 / 분리형 (1개) / 리튬이온 / [필터] 5단계여과 / [기능] 자동물공급 / 디스플레이표시창 / 배터리잔량표시 / 자동먼지비움 / [구성] 바닥 / 솔형 / 틈새 / 연장툴 / 청정스테이션 / [부가] 먼지통용량: 0.5L / 색상: 미스티화이트 / 무게: 2.5kg / 액세서리크래들  / 크기(가로x세로x깊이): 250x930x202mm', '580040'], ['삼성전자 비스포크 제트 VS20A956A3', '핸디/스틱청소기 / 핸디+스틱형 / 무선형 / 흡입+걸레겸용 / [성능] 흡입력: 210W / 제트싸이클론 / 디지털인버터모터 / [배터리] 충전시간: 3시간30분 / 사용시간(개당): 1시간 / 분리형 (1개) / 리튬이온 / [필터] 5단계여과 / [기능] 자동물공급 / 디스플레이표시창 / 배터리잔량표시 / 자동먼지비움 / [구성] 바닥 / 솔형 / 틈새 / 연장툴 / 청정스테이션 / [부가] 먼지통용량: 0.5L / 색상: 미스티화이트 / 무게: 2.5kg / 액세서리크래들  / 크기(가로x세로x깊이): 250x930x202mm', '580040'], ['삼성전자 비스포크 제트 VS20A956A3', '핸디/스틱청소기 / 핸디+스틱형 / 무선형 / 흡입+걸레겸용 / [성능] 흡입력: 210W / 제트싸이클론 / 디지털인버터모터 / [배터리] 충전시간: 3시간30분 / 사용시간(개당): 1시간 / 분리형 (1개) / 리튬이온 / [필터] 5단계여과 / [기능] 자동물공급 / 디스플레이표시창 / 배터리잔량표시 / 자동먼지비움 / [구성] 바닥 / 솔형 / 틈새 / 연장툴 / 청정스테이션 / [부가] 먼지통용량: 0.5L / 색상: 미스티화이트 / 무게: 2.5kg / 액세서리크래들  / 크기(가로x세로x깊이): 250x930x202mm', '580040'], ['삼성전자 비스포크 제트 VS20A956A3', '핸디/스틱청소기 / 핸디+스틱형 / 무선형 / 흡입+걸레겸용 / [성능] 흡입력: 210W / 제트싸이클론 / 디지털인버터모터 / [배터리] 충전시간: 3시간30분 / 사용시간(개당): 1시간 / 분리형 (1개) / 리튬이온 / [필터] 5단계여과 / [기능] 자동물공급 / 디스플레이표시창 / 배터리잔량표시 / 자동먼지비움 / [구성] 바닥 / 솔형 / 틈새 / 연장툴 / 청정스테이션 / [부가] 먼지통용량: 0.5L / 색상: 미스티화이트 / 무게: 2.5kg / 액세서리크래들  / 크기(가로x세로x깊이): 250x930x202mm', '580040'], ['삼성전자 비스포크 제트 VS20A956A3', '핸디/스틱청소기 / 핸디+스틱형 / 무선형 / 흡입+걸레겸용 / [성능] 흡입력: 210W / 제트싸이클론 / 디지털인버터모터 / [배터리] 충전시간: 3시간30분 / 사용시간(개당): 1시간 / 분리형 (1개) / 리튬이온 / [필터] 5단계여과 / [기능] 자동물공급 / 디스플레이표시창 / 배터리잔량표시 / 자동먼지비움 / [구성] 바닥 / 솔형 / 틈새 / 연장툴 / 청정스테이션 / [부가] 먼지통용량: 0.5L / 색상: 미스티화이트 / 무게: 2.5kg / 액세서리크래들  / 크기(가로x세로x깊이): 250x930x202mm', '580040'], ['삼성전자 비스포크 제트 VS20A956A3', '핸디/스틱청소기 / 핸디+스틱형 / 무선형 / 흡입+걸레겸용 / [성능] 흡입력: 210W / 제트싸이클론 / 디지털인버터모터 / [배터리] 충전시간: 3시간30분 / 사용시간(개당): 1시간 / 분리형 (1개) / 리튬이온 / [필터] 5단계여과 / [기능] 자동물공급 / 디스플레이표시창 / 배터리잔량표시 / 자동먼지비움 / [구성] 바닥 / 솔형 / 틈새 / 연장툴 / 청정스테이션 / [부가] 먼지통용량: 0.5L / 색상: 미스티화이트 / 무게: 2.5kg / 액세서리크래들  / 크기(가로x세로x깊이): 250x930x202mm', '580040'], ['삼성전자 비스포크 제트 VS20A956A3', '핸디/스틱청소기 / 핸디+스틱형 / 무선형 / 흡입+걸레겸용 / [성능] 흡입력: 210W / 제트싸이클론 / 디지털인버터모터 / [배터리] 충전시간: 3시간30분 / 사용시간(개당): 1시간 / 분리형 (1개) / 리튬이온 / [필터] 5단계여과 / [기능] 자동물공급 / 디스플레이표시창 / 배터리잔량표시 / 자동먼지비움 / [구성] 바닥 / 솔형 / 틈새 / 연장툴 / 청정스테이션 / [부가] 먼지통용량: 0.5L / 색상: 미스티화이트 / 무게: 2.5kg / 액세서리크래들  / 크기(가로x세로x깊이): 250x930x202mm', '580040'], ['삼성전자 비스포크 제트 VS20A956A3', '핸디/스틱청소기 / 핸디+스틱형 / 무선형 / 흡입+걸레겸용 / [성능] 흡입력: 210W / 제트싸이클론 / 디지털인버터모터 / [배터리] 충전시간: 3시간30분 / 사용시간(개당): 1시간 / 분리형 (1개) / 리튬이온 / [필터] 5단계여과 / [기능] 자동물공급 / 디스플레이표시창 / 배터리잔량표시 / 자동먼지비움 / [구성] 바닥 / 솔형 / 틈새 / 연장툴 / 청정스테이션 / [부가] 먼지통용량: 0.5L / 색상: 미스티화이트 / 무게: 2.5kg / 액세서리크래들  / 크기(가로x세로x깊이): 250x930x202mm', '580040'], ['삼성전자 비스포크 제트 VS20A956A3', '핸디/스틱청소기 / 핸디+스틱형 / 무선형 / 흡입+걸레겸용 / [성능] 흡입력: 210W / 제트싸이클론 / 디지털인버터모터 / [배터리] 충전시간: 3시간30분 / 사용시간(개당): 1시간 / 분리형 (1개) / 리튬이온 / [필터] 5단계여과 / [기능] 자동물공급 / 디스플레이표시창 / 배터리잔량표시 / 자동먼지비움 / [구성] 바닥 / 솔형 / 틈새 / 연장툴 / 청정스테이션 / [부가] 먼지통용량: 0.5L / 색상: 미스티화이트 / 무게: 2.5kg / 액세서리크래들  / 크기(가로x세로x깊이): 250x930x202mm', '580040'], ['삼성전자 비스포크 제트 VS20A956A3', '핸디/스틱청소기 / 핸디+스틱형 / 무선형 / 흡입+걸레겸용 / [성능] 흡입력: 210W / 제트싸이클론 / 디지털인버터모터 / [배터리] 충전시간: 3시간30분 / 사용시간(개당): 1시간 / 분리형 (1개) / 리튬이온 / [필터] 5단계여과 / [기능] 자동물공급 / 디스플레이표시창 / 배터리잔량표시 / 자동먼지비움 / [구성] 바닥 / 솔형 / 틈새 / 연장툴 / 청정스테이션 / [부가] 먼지통용량: 0.5L / 색상: 미스티화이트 / 무게: 2.5kg / 액세서리크래들  / 크기(가로x세로x깊이): 250x930x202mm', '580040'], ['삼성전자 비스포크 제트 VS20A956A3', '핸디/스틱청소기 / 핸디+스틱형 / 무선형 / 흡입+걸레겸용 / [성능] 흡입력: 210W / 제트싸이클론 / 디지털인버터모터 / [배터리] 충전시간: 3시간30분 / 사용시간(개당): 1시간 / 분리형 (1개) / 리튬이온 / [필터] 5단계여과 / [기능] 자동물공급 / 디스플레이표시창 / 배터리잔량표시 / 자동먼지비움 / [구성] 바닥 / 솔형 / 틈새 / 연장툴 / 청정스테이션 / [부가] 먼지통용량: 0.5L / 색상: 미스티화이트 / 무게: 2.5kg / 액세서리크래들  / 크기(가로x세로x깊이): 250x930x202mm', '580040'], ['삼성전자 비스포크 제트 VS20A956A3', '핸디/스틱청소기 / 핸디+스틱형 / 무선형 / 흡입+걸레겸용 / [성능] 흡입력: 210W / 제트싸이클론 / 디지털인버터모터 / [배터리] 충전시간: 3시간30분 / 사용시간(개당): 1시간 / 분리형 (1개) / 리튬이온 / [필터] 5단계여과 / [기능] 자동물공급 / 디스플레이표시창 / 배터리잔량표시 / 자동먼지비움 / [구성] 바닥 / 솔형 / 틈새 / 연장툴 / 청정스테이션 / [부가] 먼지통용량: 0.5L / 색상: 미스티화이트 / 무게: 2.5kg / 액세서리크래들  / 크기(가로x세로x깊이): 250x930x202mm', '580040'], ['삼성전자 비스포크 제트 VS20A956A3', '핸디/스틱청소기 / 핸디+스틱형 / 무선형 / 흡입+걸레겸용 / [성능] 흡입력: 210W / 제트싸이클론 / 디지털인버터모터 / [배터리] 충전시간: 3시간30분 / 사용시간(개당): 1시간 / 분리형 (1개) / 리튬이온 / [필터] 5단계여과 / [기능] 자동물공급 / 디스플레이표시창 / 배터리잔량표시 / 자동먼지비움 / [구성] 바닥 / 솔형 / 틈새 / 연장툴 / 청정스테이션 / [부가] 먼지통용량: 0.5L / 색상: 미스티화이트 / 무게: 2.5kg / 액세서리크래들  / 크기(가로x세로x깊이): 250x930x202mm', '580040'], ['삼성전자 비스포크 제트 VS20A956A3', '핸디/스틱청소기 / 핸디+스틱형 / 무선형 / 흡입+걸레겸용 / [성능] 흡입력: 210W / 제트싸이클론 / 디지털인버터모터 / [배터리] 충전시간: 3시간30분 / 사용시간(개당): 1시간 / 분리형 (1개) / 리튬이온 / [필터] 5단계여과 / [기능] 자동물공급 / 디스플레이표시창 / 배터리잔량표시 / 자동먼지비움 / [구성] 바닥 / 솔형 / 틈새 / 연장툴 / 청정스테이션 / [부가] 먼지통용량: 0.5L / 색상: 미스티화이트 / 무게: 2.5kg / 액세서리크래들  / 크기(가로x세로x깊이): 250x930x202mm', '580040'], ['삼성전자 비스포크 제트 VS20A956A3', '핸디/스틱청소기 / 핸디+스틱형 / 무선형 / 흡입+걸레겸용 / [성능] 흡입력: 210W / 제트싸이클론 / 디지털인버터모터 / [배터리] 충전시간: 3시간30분 / 사용시간(개당): 1시간 / 분리형 (1개) / 리튬이온 / [필터] 5단계여과 / [기능] 자동물공급 / 디스플레이표시창 / 배터리잔량표시 / 자동먼지비움 / [구성] 바닥 / 솔형 / 틈새 / 연장툴 / 청정스테이션 / [부가] 먼지통용량: 0.5L / 색상: 미스티화이트 / 무게: 2.5kg / 액세서리크래들  / 크기(가로x세로x깊이): 250x930x202mm', '580040'], ['삼성전자 비스포크 제트 VS20A956A3', '핸디/스틱청소기 / 핸디+스틱형 / 무선형 / 흡입+걸레겸용 / [성능] 흡입력: 210W / 제트싸이클론 / 디지털인버터모터 / [배터리] 충전시간: 3시간30분 / 사용시간(개당): 1시간 / 분리형 (1개) / 리튬이온 / [필터] 5단계여과 / [기능] 자동물공급 / 디스플레이표시창 / 배터리잔량표시 / 자동먼지비움 / [구성] 바닥 / 솔형 / 틈새 / 연장툴 / 청정스테이션 / [부가] 먼지통용량: 0.5L / 색상: 미스티화이트 / 무게: 2.5kg / 액세서리크래들  / 크기(가로x세로x깊이): 250x930x202mm', '580040'], ['삼성전자 비스포크 제트 VS20A956A3', '핸디/스틱청소기 / 핸디+스틱형 / 무선형 / 흡입+걸레겸용 / [성능] 흡입력: 210W / 제트싸이클론 / 디지털인버터모터 / [배터리] 충전시간: 3시간30분 / 사용시간(개당): 1시간 / 분리형 (1개) / 리튬이온 / [필터] 5단계여과 / [기능] 자동물공급 / 디스플레이표시창 / 배터리잔량표시 / 자동먼지비움 / [구성] 바닥 / 솔형 / 틈새 / 연장툴 / 청정스테이션 / [부가] 먼지통용량: 0.5L / 색상: 미스티화이트 / 무게: 2.5kg / 액세서리크래들  / 크기(가로x세로x깊이): 250x930x202mm', '580040'], ['삼성전자 비스포크 제트 VS20A956A3', '핸디/스틱청소기 / 핸디+스틱형 / 무선형 / 흡입+걸레겸용 / [성능] 흡입력: 210W / 제트싸이클론 / 디지털인버터모터 / [배터리] 충전시간: 3시간30분 / 사용시간(개당): 1시간 / 분리형 (1개) / 리튬이온 / [필터] 5단계여과 / [기능] 자동물공급 / 디스플레이표시창 / 배터리잔량표시 / 자동먼지비움 / [구성] 바닥 / 솔형 / 틈새 / 연장툴 / 청정스테이션 / [부가] 먼지통용량: 0.5L / 색상: 미스티화이트 / 무게: 2.5kg / 액세서리크래들  / 크기(가로x세로x깊이): 250x930x202mm', '580040'], ['삼성전자 비스포크 제트 VS20A956A3', '핸디/스틱청소기 / 핸디+스틱형 / 무선형 / 흡입+걸레겸용 / [성능] 흡입력: 210W / 제트싸이클론 / 디지털인버터모터 / [배터리] 충전시간: 3시간30분 / 사용시간(개당): 1시간 / 분리형 (1개) / 리튬이온 / [필터] 5단계여과 / [기능] 자동물공급 / 디스플레이표시창 / 배터리잔량표시 / 자동먼지비움 / [구성] 바닥 / 솔형 / 틈새 / 연장툴 / 청정스테이션 / [부가] 먼지통용량: 0.5L / 색상: 미스티화이트 / 무게: 2.5kg / 액세서리크래들  / 크기(가로x세로x깊이): 250x930x202mm', '580040'], ['삼성전자 비스포크 제트 VS20A956A3', '핸디/스틱청소기 / 핸디+스틱형 / 무선형 / 흡입+걸레겸용 / [성능] 흡입력: 210W / 제트싸이클론 / 디지털인버터모터 / [배터리] 충전시간: 3시간30분 / 사용시간(개당): 1시간 / 분리형 (1개) / 리튬이온 / [필터] 5단계여과 / [기능] 자동물공급 / 디스플레이표시창 / 배터리잔량표시 / 자동먼지비움 / [구성] 바닥 / 솔형 / 틈새 / 연장툴 / 청정스테이션 / [부가] 먼지통용량: 0.5L / 색상: 미스티화이트 / 무게: 2.5kg / 액세서리크래들  / 크기(가로x세로x깊이): 250x930x202mm', '580040'], ['삼성전자 비스포크 제트 VS20A956A3', '핸디/스틱청소기 / 핸디+스틱형 / 무선형 / 흡입+걸레겸용 / [성능] 흡입력: 210W / 제트싸이클론 / 디지털인버터모터 / [배터리] 충전시간: 3시간30분 / 사용시간(개당): 1시간 / 분리형 (1개) / 리튬이온 / [필터] 5단계여과 / [기능] 자동물공급 / 디스플레이표시창 / 배터리잔량표시 / 자동먼지비움 / [구성] 바닥 / 솔형 / 틈새 / 연장툴 / 청정스테이션 / [부가] 먼지통용량: 0.5L / 색상: 미스티화이트 / 무게: 2.5kg / 액세서리크래들  / 크기(가로x세로x깊이): 250x930x202mm', '580040'], ['삼성전자 비스포크 제트 VS20A956A3', '핸디/스틱청소기 / 핸디+스틱형 / 무선형 / 흡입+걸레겸용 / [성능] 흡입력: 210W / 제트싸이클론 / 디지털인버터모터 / [배터리] 충전시간: 3시간30분 / 사용시간(개당): 1시간 / 분리형 (1개) / 리튬이온 / [필터] 5단계여과 / [기능] 자동물공급 / 디스플레이표시창 / 배터리잔량표시 / 자동먼지비움 / [구성] 바닥 / 솔형 / 틈새 / 연장툴 / 청정스테이션 / [부가] 먼지통용량: 0.5L / 색상: 미스티화이트 / 무게: 2.5kg / 액세서리크래들  / 크기(가로x세로x깊이): 250x930x202mm', '580040'], ['삼성전자 비스포크 제트 VS20A956A3', '핸디/스틱청소기 / 핸디+스틱형 / 무선형 / 흡입+걸레겸용 / [성능] 흡입력: 210W / 제트싸이클론 / 디지털인버터모터 / [배터리] 충전시간: 3시간30분 / 사용시간(개당): 1시간 / 분리형 (1개) / 리튬이온 / [필터] 5단계여과 / [기능] 자동물공급 / 디스플레이표시창 / 배터리잔량표시 / 자동먼지비움 / [구성] 바닥 / 솔형 / 틈새 / 연장툴 / 청정스테이션 / [부가] 먼지통용량: 0.5L / 색상: 미스티화이트 / 무게: 2.5kg / 액세서리크래들  / 크기(가로x세로x깊이): 250x930x202mm', '580040'], ['삼성전자 비스포크 제트 VS20A956A3', '핸디/스틱청소기 / 핸디+스틱형 / 무선형 / 흡입+걸레겸용 / [성능] 흡입력: 210W / 제트싸이클론 / 디지털인버터모터 / [배터리] 충전시간: 3시간30분 / 사용시간(개당): 1시간 / 분리형 (1개) / 리튬이온 / [필터] 5단계여과 / [기능] 자동물공급 / 디스플레이표시창 / 배터리잔량표시 / 자동먼지비움 / [구성] 바닥 / 솔형 / 틈새 / 연장툴 / 청정스테이션 / [부가] 먼지통용량: 0.5L / 색상: 미스티화이트 / 무게: 2.5kg / 액세서리크래들  / 크기(가로x세로x깊이): 250x930x202mm', '580040'], ['삼성전자 비스포크 제트 VS20A956A3', '핸디/스틱청소기 / 핸디+스틱형 / 무선형 / 흡입+걸레겸용 / [성능] 흡입력: 210W / 제트싸이클론 / 디지털인버터모터 / [배터리] 충전시간: 3시간30분 / 사용시간(개당): 1시간 / 분리형 (1개) / 리튬이온 / [필터] 5단계여과 / [기능] 자동물공급 / 디스플레이표시창 / 배터리잔량표시 / 자동먼지비움 / [구성] 바닥 / 솔형 / 틈새 / 연장툴 / 청정스테이션 / [부가] 먼지통용량: 0.5L / 색상: 미스티화이트 / 무게: 2.5kg / 액세서리크래들  / 크기(가로x세로x깊이): 250x930x202mm', '580040'], ['삼성전자 비스포크 제트 VS20A956A3', '핸디/스틱청소기 / 핸디+스틱형 / 무선형 / 흡입+걸레겸용 / [성능] 흡입력: 210W / 제트싸이클론 / 디지털인버터모터 / [배터리] 충전시간: 3시간30분 / 사용시간(개당): 1시간 / 분리형 (1개) / 리튬이온 / [필터] 5단계여과 / [기능] 자동물공급 / 디스플레이표시창 / 배터리잔량표시 / 자동먼지비움 / [구성] 바닥 / 솔형 / 틈새 / 연장툴 / 청정스테이션 / [부가] 먼지통용량: 0.5L / 색상: 미스티화이트 / 무게: 2.5kg / 액세서리크래들  / 크기(가로x세로x깊이): 250x930x202mm', '580040'], ['삼성전자 비스포크 제트 VS20A956A3', '핸디/스틱청소기 / 핸디+스틱형 / 무선형 / 흡입+걸레겸용 / [성능] 흡입력: 210W / 제트싸이클론 / 디지털인버터모터 / [배터리] 충전시간: 3시간30분 / 사용시간(개당): 1시간 / 분리형 (1개) / 리튬이온 / [필터] 5단계여과 / [기능] 자동물공급 / 디스플레이표시창 / 배터리잔량표시 / 자동먼지비움 / [구성] 바닥 / 솔형 / 틈새 / 연장툴 / 청정스테이션 / [부가] 먼지통용량: 0.5L / 색상: 미스티화이트 / 무게: 2.5kg / 액세서리크래들  / 크기(가로x세로x깊이): 250x930x202mm', '580040'], ['삼성전자 비스포크 제트 VS20A956A3', '핸디/스틱청소기 / 핸디+스틱형 / 무선형 / 흡입+걸레겸용 / [성능] 흡입력: 210W / 제트싸이클론 / 디지털인버터모터 / [배터리] 충전시간: 3시간30분 / 사용시간(개당): 1시간 / 분리형 (1개) / 리튬이온 / [필터] 5단계여과 / [기능] 자동물공급 / 디스플레이표시창 / 배터리잔량표시 / 자동먼지비움 / [구성] 바닥 / 솔형 / 틈새 / 연장툴 / 청정스테이션 / [부가] 먼지통용량: 0.5L / 색상: 미스티화이트 / 무게: 2.5kg / 액세서리크래들  / 크기(가로x세로x깊이): 250x930x202mm', '580040'], ['삼성전자 비스포크 제트 VS20A956A3', '핸디/스틱청소기 / 핸디+스틱형 / 무선형 / 흡입+걸레겸용 / [성능] 흡입력: 210W / 제트싸이클론 / 디지털인버터모터 / [배터리] 충전시간: 3시간30분 / 사용시간(개당): 1시간 / 분리형 (1개) / 리튬이온 / [필터] 5단계여과 / [기능] 자동물공급 / 디스플레이표시창 / 배터리잔량표시 / 자동먼지비움 / [구성] 바닥 / 솔형 / 틈새 / 연장툴 / 청정스테이션 / [부가] 먼지통용량: 0.5L / 색상: 미스티화이트 / 무게: 2.5kg / 액세서리크래들  / 크기(가로x세로x깊이): 250x930x202mm', '580040'], ['삼성전자 비스포크 제트 VS20A956A3', '핸디/스틱청소기 / 핸디+스틱형 / 무선형 / 흡입+걸레겸용 / [성능] 흡입력: 210W / 제트싸이클론 / 디지털인버터모터 / [배터리] 충전시간: 3시간30분 / 사용시간(개당): 1시간 / 분리형 (1개) / 리튬이온 / [필터] 5단계여과 / [기능] 자동물공급 / 디스플레이표시창 / 배터리잔량표시 / 자동먼지비움 / [구성] 바닥 / 솔형 / 틈새 / 연장툴 / 청정스테이션 / [부가] 먼지통용량: 0.5L / 색상: 미스티화이트 / 무게: 2.5kg / 액세서리크래들  / 크기(가로x세로x깊이): 250x930x202mm', '580040'], ['삼성전자 비스포크 제트 VS20A956A3', '핸디/스틱청소기 / 핸디+스틱형 / 무선형 / 흡입+걸레겸용 / [성능] 흡입력: 210W / 제트싸이클론 / 디지털인버터모터 / [배터리] 충전시간: 3시간30분 / 사용시간(개당): 1시간 / 분리형 (1개) / 리튬이온 / [필터] 5단계여과 / [기능] 자동물공급 / 디스플레이표시창 / 배터리잔량표시 / 자동먼지비움 / [구성] 바닥 / 솔형 / 틈새 / 연장툴 / 청정스테이션 / [부가] 먼지통용량: 0.5L / 색상: 미스티화이트 / 무게: 2.5kg / 액세서리크래들  / 크기(가로x세로x깊이): 250x930x202mm', '580040'], ['삼성전자 비스포크 제트 VS20A956A3', '핸디/스틱청소기 / 핸디+스틱형 / 무선형 / 흡입+걸레겸용 / [성능] 흡입력: 210W / 제트싸이클론 / 디지털인버터모터 / [배터리] 충전시간: 3시간30분 / 사용시간(개당): 1시간 / 분리형 (1개) / 리튬이온 / [필터] 5단계여과 / [기능] 자동물공급 / 디스플레이표시창 / 배터리잔량표시 / 자동먼지비움 / [구성] 바닥 / 솔형 / 틈새 / 연장툴 / 청정스테이션 / [부가] 먼지통용량: 0.5L / 색상: 미스티화이트 / 무게: 2.5kg / 액세서리크래들  / 크기(가로x세로x깊이): 250x930x202mm', '580040'], ['삼성전자 비스포크 제트 VS20A956A3', '핸디/스틱청소기 / 핸디+스틱형 / 무선형 / 흡입+걸레겸용 / [성능] 흡입력: 210W / 제트싸이클론 / 디지털인버터모터 / [배터리] 충전시간: 3시간30분 / 사용시간(개당): 1시간 / 분리형 (1개) / 리튬이온 / [필터] 5단계여과 / [기능] 자동물공급 / 디스플레이표시창 / 배터리잔량표시 / 자동먼지비움 / [구성] 바닥 / 솔형 / 틈새 / 연장툴 / 청정스테이션 / [부가] 먼지통용량: 0.5L / 색상: 미스티화이트 / 무게: 2.5kg / 액세서리크래들  / 크기(가로x세로x깊이): 250x930x202mm', '580040'], ['삼성전자 비스포크 제트 VS20A956A3', '핸디/스틱청소기 / 핸디+스틱형 / 무선형 / 흡입+걸레겸용 / [성능] 흡입력: 210W / 제트싸이클론 / 디지털인버터모터 / [배터리] 충전시간: 3시간30분 / 사용시간(개당): 1시간 / 분리형 (1개) / 리튬이온 / [필터] 5단계여과 / [기능] 자동물공급 / 디스플레이표시창 / 배터리잔량표시 / 자동먼지비움 / [구성] 바닥 / 솔형 / 틈새 / 연장툴 / 청정스테이션 / [부가] 먼지통용량: 0.5L / 색상: 미스티화이트 / 무게: 2.5kg / 액세서리크래들  / 크기(가로x세로x깊이): 250x930x202mm', '580040']]\n"
     ]
    }
   ],
   "source": [
    "#반복문으로 검색 결과의 상품 추출\n",
    "prod_data=[]\n",
    "for prod_item in prod_items:\n",
    "    try: #상품명 \n",
    "        title = prod_items[0].select('p.prod_name > a')[0].text.strip()\n",
    "    except:\n",
    "        title = ''\n",
    "    try: #스펙정보\n",
    "        spec_list = prod_items[0].select('div.spec_list')[0].text.strip()\n",
    "    except:\n",
    "        spec_list = ''\n",
    "    try : #가격정보\n",
    "        price = prod_items[0].select('li.rank_one > p.price_sect > a > strong')[0].text.strip().replace(\",\",\"\")\n",
    "    except:\n",
    "        price = 0\n",
    "    \n",
    "    prod_data.append([title, spec_list, price])\n",
    "\n",
    "print(len(prod_data))\n",
    "print(prod_data)\n",
    "        "
   ]
  },
  {
   "cell_type": "code",
   "execution_count": 118,
   "id": "27c9b422",
   "metadata": {},
   "outputs": [],
   "source": [
    "# 상품 정보 태그에서 원하는 정보를 추출하는 함수\n",
    "def get_prod_items(prod_items):\n",
    "    prod_data = []\n",
    "    \n",
    "    for prod_item in prod_items:\n",
    "        # 상품명 가져오기\n",
    "        try:\n",
    "            title = prod_item.select('p.prod_name > a')[0].text.strip()\n",
    "        except:\n",
    "            title = ''\n",
    "        # 스펙 목록 가져오기\n",
    "        try: \n",
    "            spec_list = prod_item.select('div.spec_list')[0].text.strip()\n",
    "        except:\n",
    "            spec_list = ''\n",
    "        # 가격 정보 가져오기 \n",
    "        try: \n",
    "            price = int(prod_item.select('li.rank_one > p.price_sect > a > strong')[0].text.strip().replace(\",\",\"\"))\n",
    "        except:\n",
    "            price = 0\n",
    "        prod_data.append([title, spec_list, price])\n",
    "        \n",
    "    return prod_data"
   ]
  },
  {
   "cell_type": "code",
   "execution_count": 40,
   "id": "1ca58d6b",
   "metadata": {},
   "outputs": [
    {
     "name": "stdout",
     "output_type": "stream",
     "text": [
      "44\n"
     ]
    },
    {
     "data": {
      "text/plain": [
       "[['삼성전자 비스포크 제트 VS20A956A3',\n",
       "  '핸디/스틱청소기 / 핸디+스틱형 / 무선형 / 흡입+걸레겸용 / [성능] 흡입력: 210W / 제트싸이클론 / 디지털인버터모터 / [배터리] 충전시간: 3시간30분 / 사용시간(개당): 1시간 / 분리형 (1개) / 리튬이온 / [필터] 5단계여과 / [기능] 자동물공급 / 디스플레이표시창 / 배터리잔량표시 / 자동먼지비움 / [구성] 바닥 / 솔형 / 틈새 / 연장툴 / 청정스테이션 / [부가] 먼지통용량: 0.5L / 색상: 미스티화이트 / 무게: 2.5kg / 액세서리크래들  / 크기(가로x세로x깊이): 250x930x202mm',\n",
       "  '580040'],\n",
       " ['삼성전자 비스포크 제트 VS20A956A3',\n",
       "  '핸디/스틱청소기 / 핸디+스틱형 / 무선형 / 흡입+걸레겸용 / [성능] 흡입력: 210W / 제트싸이클론 / 디지털인버터모터 / [배터리] 충전시간: 3시간30분 / 사용시간(개당): 1시간 / 분리형 (1개) / 리튬이온 / [필터] 5단계여과 / [기능] 자동물공급 / 디스플레이표시창 / 배터리잔량표시 / 자동먼지비움 / [구성] 바닥 / 솔형 / 틈새 / 연장툴 / 청정스테이션 / [부가] 먼지통용량: 0.5L / 색상: 미스티화이트 / 무게: 2.5kg / 액세서리크래들  / 크기(가로x세로x깊이): 250x930x202mm',\n",
       "  '580040'],\n",
       " ['삼성전자 비스포크 제트 VS20A956A3',\n",
       "  '핸디/스틱청소기 / 핸디+스틱형 / 무선형 / 흡입+걸레겸용 / [성능] 흡입력: 210W / 제트싸이클론 / 디지털인버터모터 / [배터리] 충전시간: 3시간30분 / 사용시간(개당): 1시간 / 분리형 (1개) / 리튬이온 / [필터] 5단계여과 / [기능] 자동물공급 / 디스플레이표시창 / 배터리잔량표시 / 자동먼지비움 / [구성] 바닥 / 솔형 / 틈새 / 연장툴 / 청정스테이션 / [부가] 먼지통용량: 0.5L / 색상: 미스티화이트 / 무게: 2.5kg / 액세서리크래들  / 크기(가로x세로x깊이): 250x930x202mm',\n",
       "  '580040'],\n",
       " ['삼성전자 비스포크 제트 VS20A956A3',\n",
       "  '핸디/스틱청소기 / 핸디+스틱형 / 무선형 / 흡입+걸레겸용 / [성능] 흡입력: 210W / 제트싸이클론 / 디지털인버터모터 / [배터리] 충전시간: 3시간30분 / 사용시간(개당): 1시간 / 분리형 (1개) / 리튬이온 / [필터] 5단계여과 / [기능] 자동물공급 / 디스플레이표시창 / 배터리잔량표시 / 자동먼지비움 / [구성] 바닥 / 솔형 / 틈새 / 연장툴 / 청정스테이션 / [부가] 먼지통용량: 0.5L / 색상: 미스티화이트 / 무게: 2.5kg / 액세서리크래들  / 크기(가로x세로x깊이): 250x930x202mm',\n",
       "  '580040'],\n",
       " ['삼성전자 비스포크 제트 VS20A956A3',\n",
       "  '핸디/스틱청소기 / 핸디+스틱형 / 무선형 / 흡입+걸레겸용 / [성능] 흡입력: 210W / 제트싸이클론 / 디지털인버터모터 / [배터리] 충전시간: 3시간30분 / 사용시간(개당): 1시간 / 분리형 (1개) / 리튬이온 / [필터] 5단계여과 / [기능] 자동물공급 / 디스플레이표시창 / 배터리잔량표시 / 자동먼지비움 / [구성] 바닥 / 솔형 / 틈새 / 연장툴 / 청정스테이션 / [부가] 먼지통용량: 0.5L / 색상: 미스티화이트 / 무게: 2.5kg / 액세서리크래들  / 크기(가로x세로x깊이): 250x930x202mm',\n",
       "  '580040'],\n",
       " ['삼성전자 비스포크 제트 VS20A956A3',\n",
       "  '핸디/스틱청소기 / 핸디+스틱형 / 무선형 / 흡입+걸레겸용 / [성능] 흡입력: 210W / 제트싸이클론 / 디지털인버터모터 / [배터리] 충전시간: 3시간30분 / 사용시간(개당): 1시간 / 분리형 (1개) / 리튬이온 / [필터] 5단계여과 / [기능] 자동물공급 / 디스플레이표시창 / 배터리잔량표시 / 자동먼지비움 / [구성] 바닥 / 솔형 / 틈새 / 연장툴 / 청정스테이션 / [부가] 먼지통용량: 0.5L / 색상: 미스티화이트 / 무게: 2.5kg / 액세서리크래들  / 크기(가로x세로x깊이): 250x930x202mm',\n",
       "  '580040'],\n",
       " ['삼성전자 비스포크 제트 VS20A956A3',\n",
       "  '핸디/스틱청소기 / 핸디+스틱형 / 무선형 / 흡입+걸레겸용 / [성능] 흡입력: 210W / 제트싸이클론 / 디지털인버터모터 / [배터리] 충전시간: 3시간30분 / 사용시간(개당): 1시간 / 분리형 (1개) / 리튬이온 / [필터] 5단계여과 / [기능] 자동물공급 / 디스플레이표시창 / 배터리잔량표시 / 자동먼지비움 / [구성] 바닥 / 솔형 / 틈새 / 연장툴 / 청정스테이션 / [부가] 먼지통용량: 0.5L / 색상: 미스티화이트 / 무게: 2.5kg / 액세서리크래들  / 크기(가로x세로x깊이): 250x930x202mm',\n",
       "  '580040'],\n",
       " ['삼성전자 비스포크 제트 VS20A956A3',\n",
       "  '핸디/스틱청소기 / 핸디+스틱형 / 무선형 / 흡입+걸레겸용 / [성능] 흡입력: 210W / 제트싸이클론 / 디지털인버터모터 / [배터리] 충전시간: 3시간30분 / 사용시간(개당): 1시간 / 분리형 (1개) / 리튬이온 / [필터] 5단계여과 / [기능] 자동물공급 / 디스플레이표시창 / 배터리잔량표시 / 자동먼지비움 / [구성] 바닥 / 솔형 / 틈새 / 연장툴 / 청정스테이션 / [부가] 먼지통용량: 0.5L / 색상: 미스티화이트 / 무게: 2.5kg / 액세서리크래들  / 크기(가로x세로x깊이): 250x930x202mm',\n",
       "  '580040'],\n",
       " ['삼성전자 비스포크 제트 VS20A956A3',\n",
       "  '핸디/스틱청소기 / 핸디+스틱형 / 무선형 / 흡입+걸레겸용 / [성능] 흡입력: 210W / 제트싸이클론 / 디지털인버터모터 / [배터리] 충전시간: 3시간30분 / 사용시간(개당): 1시간 / 분리형 (1개) / 리튬이온 / [필터] 5단계여과 / [기능] 자동물공급 / 디스플레이표시창 / 배터리잔량표시 / 자동먼지비움 / [구성] 바닥 / 솔형 / 틈새 / 연장툴 / 청정스테이션 / [부가] 먼지통용량: 0.5L / 색상: 미스티화이트 / 무게: 2.5kg / 액세서리크래들  / 크기(가로x세로x깊이): 250x930x202mm',\n",
       "  '580040'],\n",
       " ['삼성전자 비스포크 제트 VS20A956A3',\n",
       "  '핸디/스틱청소기 / 핸디+스틱형 / 무선형 / 흡입+걸레겸용 / [성능] 흡입력: 210W / 제트싸이클론 / 디지털인버터모터 / [배터리] 충전시간: 3시간30분 / 사용시간(개당): 1시간 / 분리형 (1개) / 리튬이온 / [필터] 5단계여과 / [기능] 자동물공급 / 디스플레이표시창 / 배터리잔량표시 / 자동먼지비움 / [구성] 바닥 / 솔형 / 틈새 / 연장툴 / 청정스테이션 / [부가] 먼지통용량: 0.5L / 색상: 미스티화이트 / 무게: 2.5kg / 액세서리크래들  / 크기(가로x세로x깊이): 250x930x202mm',\n",
       "  '580040'],\n",
       " ['삼성전자 비스포크 제트 VS20A956A3',\n",
       "  '핸디/스틱청소기 / 핸디+스틱형 / 무선형 / 흡입+걸레겸용 / [성능] 흡입력: 210W / 제트싸이클론 / 디지털인버터모터 / [배터리] 충전시간: 3시간30분 / 사용시간(개당): 1시간 / 분리형 (1개) / 리튬이온 / [필터] 5단계여과 / [기능] 자동물공급 / 디스플레이표시창 / 배터리잔량표시 / 자동먼지비움 / [구성] 바닥 / 솔형 / 틈새 / 연장툴 / 청정스테이션 / [부가] 먼지통용량: 0.5L / 색상: 미스티화이트 / 무게: 2.5kg / 액세서리크래들  / 크기(가로x세로x깊이): 250x930x202mm',\n",
       "  '580040'],\n",
       " ['삼성전자 비스포크 제트 VS20A956A3',\n",
       "  '핸디/스틱청소기 / 핸디+스틱형 / 무선형 / 흡입+걸레겸용 / [성능] 흡입력: 210W / 제트싸이클론 / 디지털인버터모터 / [배터리] 충전시간: 3시간30분 / 사용시간(개당): 1시간 / 분리형 (1개) / 리튬이온 / [필터] 5단계여과 / [기능] 자동물공급 / 디스플레이표시창 / 배터리잔량표시 / 자동먼지비움 / [구성] 바닥 / 솔형 / 틈새 / 연장툴 / 청정스테이션 / [부가] 먼지통용량: 0.5L / 색상: 미스티화이트 / 무게: 2.5kg / 액세서리크래들  / 크기(가로x세로x깊이): 250x930x202mm',\n",
       "  '580040'],\n",
       " ['삼성전자 비스포크 제트 VS20A956A3',\n",
       "  '핸디/스틱청소기 / 핸디+스틱형 / 무선형 / 흡입+걸레겸용 / [성능] 흡입력: 210W / 제트싸이클론 / 디지털인버터모터 / [배터리] 충전시간: 3시간30분 / 사용시간(개당): 1시간 / 분리형 (1개) / 리튬이온 / [필터] 5단계여과 / [기능] 자동물공급 / 디스플레이표시창 / 배터리잔량표시 / 자동먼지비움 / [구성] 바닥 / 솔형 / 틈새 / 연장툴 / 청정스테이션 / [부가] 먼지통용량: 0.5L / 색상: 미스티화이트 / 무게: 2.5kg / 액세서리크래들  / 크기(가로x세로x깊이): 250x930x202mm',\n",
       "  '580040'],\n",
       " ['삼성전자 비스포크 제트 VS20A956A3',\n",
       "  '핸디/스틱청소기 / 핸디+스틱형 / 무선형 / 흡입+걸레겸용 / [성능] 흡입력: 210W / 제트싸이클론 / 디지털인버터모터 / [배터리] 충전시간: 3시간30분 / 사용시간(개당): 1시간 / 분리형 (1개) / 리튬이온 / [필터] 5단계여과 / [기능] 자동물공급 / 디스플레이표시창 / 배터리잔량표시 / 자동먼지비움 / [구성] 바닥 / 솔형 / 틈새 / 연장툴 / 청정스테이션 / [부가] 먼지통용량: 0.5L / 색상: 미스티화이트 / 무게: 2.5kg / 액세서리크래들  / 크기(가로x세로x깊이): 250x930x202mm',\n",
       "  '580040'],\n",
       " ['삼성전자 비스포크 제트 VS20A956A3',\n",
       "  '핸디/스틱청소기 / 핸디+스틱형 / 무선형 / 흡입+걸레겸용 / [성능] 흡입력: 210W / 제트싸이클론 / 디지털인버터모터 / [배터리] 충전시간: 3시간30분 / 사용시간(개당): 1시간 / 분리형 (1개) / 리튬이온 / [필터] 5단계여과 / [기능] 자동물공급 / 디스플레이표시창 / 배터리잔량표시 / 자동먼지비움 / [구성] 바닥 / 솔형 / 틈새 / 연장툴 / 청정스테이션 / [부가] 먼지통용량: 0.5L / 색상: 미스티화이트 / 무게: 2.5kg / 액세서리크래들  / 크기(가로x세로x깊이): 250x930x202mm',\n",
       "  '580040'],\n",
       " ['삼성전자 비스포크 제트 VS20A956A3',\n",
       "  '핸디/스틱청소기 / 핸디+스틱형 / 무선형 / 흡입+걸레겸용 / [성능] 흡입력: 210W / 제트싸이클론 / 디지털인버터모터 / [배터리] 충전시간: 3시간30분 / 사용시간(개당): 1시간 / 분리형 (1개) / 리튬이온 / [필터] 5단계여과 / [기능] 자동물공급 / 디스플레이표시창 / 배터리잔량표시 / 자동먼지비움 / [구성] 바닥 / 솔형 / 틈새 / 연장툴 / 청정스테이션 / [부가] 먼지통용량: 0.5L / 색상: 미스티화이트 / 무게: 2.5kg / 액세서리크래들  / 크기(가로x세로x깊이): 250x930x202mm',\n",
       "  '580040'],\n",
       " ['삼성전자 비스포크 제트 VS20A956A3',\n",
       "  '핸디/스틱청소기 / 핸디+스틱형 / 무선형 / 흡입+걸레겸용 / [성능] 흡입력: 210W / 제트싸이클론 / 디지털인버터모터 / [배터리] 충전시간: 3시간30분 / 사용시간(개당): 1시간 / 분리형 (1개) / 리튬이온 / [필터] 5단계여과 / [기능] 자동물공급 / 디스플레이표시창 / 배터리잔량표시 / 자동먼지비움 / [구성] 바닥 / 솔형 / 틈새 / 연장툴 / 청정스테이션 / [부가] 먼지통용량: 0.5L / 색상: 미스티화이트 / 무게: 2.5kg / 액세서리크래들  / 크기(가로x세로x깊이): 250x930x202mm',\n",
       "  '580040'],\n",
       " ['삼성전자 비스포크 제트 VS20A956A3',\n",
       "  '핸디/스틱청소기 / 핸디+스틱형 / 무선형 / 흡입+걸레겸용 / [성능] 흡입력: 210W / 제트싸이클론 / 디지털인버터모터 / [배터리] 충전시간: 3시간30분 / 사용시간(개당): 1시간 / 분리형 (1개) / 리튬이온 / [필터] 5단계여과 / [기능] 자동물공급 / 디스플레이표시창 / 배터리잔량표시 / 자동먼지비움 / [구성] 바닥 / 솔형 / 틈새 / 연장툴 / 청정스테이션 / [부가] 먼지통용량: 0.5L / 색상: 미스티화이트 / 무게: 2.5kg / 액세서리크래들  / 크기(가로x세로x깊이): 250x930x202mm',\n",
       "  '580040'],\n",
       " ['삼성전자 비스포크 제트 VS20A956A3',\n",
       "  '핸디/스틱청소기 / 핸디+스틱형 / 무선형 / 흡입+걸레겸용 / [성능] 흡입력: 210W / 제트싸이클론 / 디지털인버터모터 / [배터리] 충전시간: 3시간30분 / 사용시간(개당): 1시간 / 분리형 (1개) / 리튬이온 / [필터] 5단계여과 / [기능] 자동물공급 / 디스플레이표시창 / 배터리잔량표시 / 자동먼지비움 / [구성] 바닥 / 솔형 / 틈새 / 연장툴 / 청정스테이션 / [부가] 먼지통용량: 0.5L / 색상: 미스티화이트 / 무게: 2.5kg / 액세서리크래들  / 크기(가로x세로x깊이): 250x930x202mm',\n",
       "  '580040'],\n",
       " ['삼성전자 비스포크 제트 VS20A956A3',\n",
       "  '핸디/스틱청소기 / 핸디+스틱형 / 무선형 / 흡입+걸레겸용 / [성능] 흡입력: 210W / 제트싸이클론 / 디지털인버터모터 / [배터리] 충전시간: 3시간30분 / 사용시간(개당): 1시간 / 분리형 (1개) / 리튬이온 / [필터] 5단계여과 / [기능] 자동물공급 / 디스플레이표시창 / 배터리잔량표시 / 자동먼지비움 / [구성] 바닥 / 솔형 / 틈새 / 연장툴 / 청정스테이션 / [부가] 먼지통용량: 0.5L / 색상: 미스티화이트 / 무게: 2.5kg / 액세서리크래들  / 크기(가로x세로x깊이): 250x930x202mm',\n",
       "  '580040'],\n",
       " ['삼성전자 비스포크 제트 VS20A956A3',\n",
       "  '핸디/스틱청소기 / 핸디+스틱형 / 무선형 / 흡입+걸레겸용 / [성능] 흡입력: 210W / 제트싸이클론 / 디지털인버터모터 / [배터리] 충전시간: 3시간30분 / 사용시간(개당): 1시간 / 분리형 (1개) / 리튬이온 / [필터] 5단계여과 / [기능] 자동물공급 / 디스플레이표시창 / 배터리잔량표시 / 자동먼지비움 / [구성] 바닥 / 솔형 / 틈새 / 연장툴 / 청정스테이션 / [부가] 먼지통용량: 0.5L / 색상: 미스티화이트 / 무게: 2.5kg / 액세서리크래들  / 크기(가로x세로x깊이): 250x930x202mm',\n",
       "  '580040'],\n",
       " ['삼성전자 비스포크 제트 VS20A956A3',\n",
       "  '핸디/스틱청소기 / 핸디+스틱형 / 무선형 / 흡입+걸레겸용 / [성능] 흡입력: 210W / 제트싸이클론 / 디지털인버터모터 / [배터리] 충전시간: 3시간30분 / 사용시간(개당): 1시간 / 분리형 (1개) / 리튬이온 / [필터] 5단계여과 / [기능] 자동물공급 / 디스플레이표시창 / 배터리잔량표시 / 자동먼지비움 / [구성] 바닥 / 솔형 / 틈새 / 연장툴 / 청정스테이션 / [부가] 먼지통용량: 0.5L / 색상: 미스티화이트 / 무게: 2.5kg / 액세서리크래들  / 크기(가로x세로x깊이): 250x930x202mm',\n",
       "  '580040'],\n",
       " ['삼성전자 비스포크 제트 VS20A956A3',\n",
       "  '핸디/스틱청소기 / 핸디+스틱형 / 무선형 / 흡입+걸레겸용 / [성능] 흡입력: 210W / 제트싸이클론 / 디지털인버터모터 / [배터리] 충전시간: 3시간30분 / 사용시간(개당): 1시간 / 분리형 (1개) / 리튬이온 / [필터] 5단계여과 / [기능] 자동물공급 / 디스플레이표시창 / 배터리잔량표시 / 자동먼지비움 / [구성] 바닥 / 솔형 / 틈새 / 연장툴 / 청정스테이션 / [부가] 먼지통용량: 0.5L / 색상: 미스티화이트 / 무게: 2.5kg / 액세서리크래들  / 크기(가로x세로x깊이): 250x930x202mm',\n",
       "  '580040'],\n",
       " ['삼성전자 비스포크 제트 VS20A956A3',\n",
       "  '핸디/스틱청소기 / 핸디+스틱형 / 무선형 / 흡입+걸레겸용 / [성능] 흡입력: 210W / 제트싸이클론 / 디지털인버터모터 / [배터리] 충전시간: 3시간30분 / 사용시간(개당): 1시간 / 분리형 (1개) / 리튬이온 / [필터] 5단계여과 / [기능] 자동물공급 / 디스플레이표시창 / 배터리잔량표시 / 자동먼지비움 / [구성] 바닥 / 솔형 / 틈새 / 연장툴 / 청정스테이션 / [부가] 먼지통용량: 0.5L / 색상: 미스티화이트 / 무게: 2.5kg / 액세서리크래들  / 크기(가로x세로x깊이): 250x930x202mm',\n",
       "  '580040'],\n",
       " ['삼성전자 비스포크 제트 VS20A956A3',\n",
       "  '핸디/스틱청소기 / 핸디+스틱형 / 무선형 / 흡입+걸레겸용 / [성능] 흡입력: 210W / 제트싸이클론 / 디지털인버터모터 / [배터리] 충전시간: 3시간30분 / 사용시간(개당): 1시간 / 분리형 (1개) / 리튬이온 / [필터] 5단계여과 / [기능] 자동물공급 / 디스플레이표시창 / 배터리잔량표시 / 자동먼지비움 / [구성] 바닥 / 솔형 / 틈새 / 연장툴 / 청정스테이션 / [부가] 먼지통용량: 0.5L / 색상: 미스티화이트 / 무게: 2.5kg / 액세서리크래들  / 크기(가로x세로x깊이): 250x930x202mm',\n",
       "  '580040'],\n",
       " ['삼성전자 비스포크 제트 VS20A956A3',\n",
       "  '핸디/스틱청소기 / 핸디+스틱형 / 무선형 / 흡입+걸레겸용 / [성능] 흡입력: 210W / 제트싸이클론 / 디지털인버터모터 / [배터리] 충전시간: 3시간30분 / 사용시간(개당): 1시간 / 분리형 (1개) / 리튬이온 / [필터] 5단계여과 / [기능] 자동물공급 / 디스플레이표시창 / 배터리잔량표시 / 자동먼지비움 / [구성] 바닥 / 솔형 / 틈새 / 연장툴 / 청정스테이션 / [부가] 먼지통용량: 0.5L / 색상: 미스티화이트 / 무게: 2.5kg / 액세서리크래들  / 크기(가로x세로x깊이): 250x930x202mm',\n",
       "  '580040'],\n",
       " ['삼성전자 비스포크 제트 VS20A956A3',\n",
       "  '핸디/스틱청소기 / 핸디+스틱형 / 무선형 / 흡입+걸레겸용 / [성능] 흡입력: 210W / 제트싸이클론 / 디지털인버터모터 / [배터리] 충전시간: 3시간30분 / 사용시간(개당): 1시간 / 분리형 (1개) / 리튬이온 / [필터] 5단계여과 / [기능] 자동물공급 / 디스플레이표시창 / 배터리잔량표시 / 자동먼지비움 / [구성] 바닥 / 솔형 / 틈새 / 연장툴 / 청정스테이션 / [부가] 먼지통용량: 0.5L / 색상: 미스티화이트 / 무게: 2.5kg / 액세서리크래들  / 크기(가로x세로x깊이): 250x930x202mm',\n",
       "  '580040'],\n",
       " ['삼성전자 비스포크 제트 VS20A956A3',\n",
       "  '핸디/스틱청소기 / 핸디+스틱형 / 무선형 / 흡입+걸레겸용 / [성능] 흡입력: 210W / 제트싸이클론 / 디지털인버터모터 / [배터리] 충전시간: 3시간30분 / 사용시간(개당): 1시간 / 분리형 (1개) / 리튬이온 / [필터] 5단계여과 / [기능] 자동물공급 / 디스플레이표시창 / 배터리잔량표시 / 자동먼지비움 / [구성] 바닥 / 솔형 / 틈새 / 연장툴 / 청정스테이션 / [부가] 먼지통용량: 0.5L / 색상: 미스티화이트 / 무게: 2.5kg / 액세서리크래들  / 크기(가로x세로x깊이): 250x930x202mm',\n",
       "  '580040'],\n",
       " ['삼성전자 비스포크 제트 VS20A956A3',\n",
       "  '핸디/스틱청소기 / 핸디+스틱형 / 무선형 / 흡입+걸레겸용 / [성능] 흡입력: 210W / 제트싸이클론 / 디지털인버터모터 / [배터리] 충전시간: 3시간30분 / 사용시간(개당): 1시간 / 분리형 (1개) / 리튬이온 / [필터] 5단계여과 / [기능] 자동물공급 / 디스플레이표시창 / 배터리잔량표시 / 자동먼지비움 / [구성] 바닥 / 솔형 / 틈새 / 연장툴 / 청정스테이션 / [부가] 먼지통용량: 0.5L / 색상: 미스티화이트 / 무게: 2.5kg / 액세서리크래들  / 크기(가로x세로x깊이): 250x930x202mm',\n",
       "  '580040'],\n",
       " ['삼성전자 비스포크 제트 VS20A956A3',\n",
       "  '핸디/스틱청소기 / 핸디+스틱형 / 무선형 / 흡입+걸레겸용 / [성능] 흡입력: 210W / 제트싸이클론 / 디지털인버터모터 / [배터리] 충전시간: 3시간30분 / 사용시간(개당): 1시간 / 분리형 (1개) / 리튬이온 / [필터] 5단계여과 / [기능] 자동물공급 / 디스플레이표시창 / 배터리잔량표시 / 자동먼지비움 / [구성] 바닥 / 솔형 / 틈새 / 연장툴 / 청정스테이션 / [부가] 먼지통용량: 0.5L / 색상: 미스티화이트 / 무게: 2.5kg / 액세서리크래들  / 크기(가로x세로x깊이): 250x930x202mm',\n",
       "  '580040'],\n",
       " ['삼성전자 비스포크 제트 VS20A956A3',\n",
       "  '핸디/스틱청소기 / 핸디+스틱형 / 무선형 / 흡입+걸레겸용 / [성능] 흡입력: 210W / 제트싸이클론 / 디지털인버터모터 / [배터리] 충전시간: 3시간30분 / 사용시간(개당): 1시간 / 분리형 (1개) / 리튬이온 / [필터] 5단계여과 / [기능] 자동물공급 / 디스플레이표시창 / 배터리잔량표시 / 자동먼지비움 / [구성] 바닥 / 솔형 / 틈새 / 연장툴 / 청정스테이션 / [부가] 먼지통용량: 0.5L / 색상: 미스티화이트 / 무게: 2.5kg / 액세서리크래들  / 크기(가로x세로x깊이): 250x930x202mm',\n",
       "  '580040'],\n",
       " ['삼성전자 비스포크 제트 VS20A956A3',\n",
       "  '핸디/스틱청소기 / 핸디+스틱형 / 무선형 / 흡입+걸레겸용 / [성능] 흡입력: 210W / 제트싸이클론 / 디지털인버터모터 / [배터리] 충전시간: 3시간30분 / 사용시간(개당): 1시간 / 분리형 (1개) / 리튬이온 / [필터] 5단계여과 / [기능] 자동물공급 / 디스플레이표시창 / 배터리잔량표시 / 자동먼지비움 / [구성] 바닥 / 솔형 / 틈새 / 연장툴 / 청정스테이션 / [부가] 먼지통용량: 0.5L / 색상: 미스티화이트 / 무게: 2.5kg / 액세서리크래들  / 크기(가로x세로x깊이): 250x930x202mm',\n",
       "  '580040'],\n",
       " ['삼성전자 비스포크 제트 VS20A956A3',\n",
       "  '핸디/스틱청소기 / 핸디+스틱형 / 무선형 / 흡입+걸레겸용 / [성능] 흡입력: 210W / 제트싸이클론 / 디지털인버터모터 / [배터리] 충전시간: 3시간30분 / 사용시간(개당): 1시간 / 분리형 (1개) / 리튬이온 / [필터] 5단계여과 / [기능] 자동물공급 / 디스플레이표시창 / 배터리잔량표시 / 자동먼지비움 / [구성] 바닥 / 솔형 / 틈새 / 연장툴 / 청정스테이션 / [부가] 먼지통용량: 0.5L / 색상: 미스티화이트 / 무게: 2.5kg / 액세서리크래들  / 크기(가로x세로x깊이): 250x930x202mm',\n",
       "  '580040'],\n",
       " ['삼성전자 비스포크 제트 VS20A956A3',\n",
       "  '핸디/스틱청소기 / 핸디+스틱형 / 무선형 / 흡입+걸레겸용 / [성능] 흡입력: 210W / 제트싸이클론 / 디지털인버터모터 / [배터리] 충전시간: 3시간30분 / 사용시간(개당): 1시간 / 분리형 (1개) / 리튬이온 / [필터] 5단계여과 / [기능] 자동물공급 / 디스플레이표시창 / 배터리잔량표시 / 자동먼지비움 / [구성] 바닥 / 솔형 / 틈새 / 연장툴 / 청정스테이션 / [부가] 먼지통용량: 0.5L / 색상: 미스티화이트 / 무게: 2.5kg / 액세서리크래들  / 크기(가로x세로x깊이): 250x930x202mm',\n",
       "  '580040'],\n",
       " ['삼성전자 비스포크 제트 VS20A956A3',\n",
       "  '핸디/스틱청소기 / 핸디+스틱형 / 무선형 / 흡입+걸레겸용 / [성능] 흡입력: 210W / 제트싸이클론 / 디지털인버터모터 / [배터리] 충전시간: 3시간30분 / 사용시간(개당): 1시간 / 분리형 (1개) / 리튬이온 / [필터] 5단계여과 / [기능] 자동물공급 / 디스플레이표시창 / 배터리잔량표시 / 자동먼지비움 / [구성] 바닥 / 솔형 / 틈새 / 연장툴 / 청정스테이션 / [부가] 먼지통용량: 0.5L / 색상: 미스티화이트 / 무게: 2.5kg / 액세서리크래들  / 크기(가로x세로x깊이): 250x930x202mm',\n",
       "  '580040'],\n",
       " ['삼성전자 비스포크 제트 VS20A956A3',\n",
       "  '핸디/스틱청소기 / 핸디+스틱형 / 무선형 / 흡입+걸레겸용 / [성능] 흡입력: 210W / 제트싸이클론 / 디지털인버터모터 / [배터리] 충전시간: 3시간30분 / 사용시간(개당): 1시간 / 분리형 (1개) / 리튬이온 / [필터] 5단계여과 / [기능] 자동물공급 / 디스플레이표시창 / 배터리잔량표시 / 자동먼지비움 / [구성] 바닥 / 솔형 / 틈새 / 연장툴 / 청정스테이션 / [부가] 먼지통용량: 0.5L / 색상: 미스티화이트 / 무게: 2.5kg / 액세서리크래들  / 크기(가로x세로x깊이): 250x930x202mm',\n",
       "  '580040'],\n",
       " ['삼성전자 비스포크 제트 VS20A956A3',\n",
       "  '핸디/스틱청소기 / 핸디+스틱형 / 무선형 / 흡입+걸레겸용 / [성능] 흡입력: 210W / 제트싸이클론 / 디지털인버터모터 / [배터리] 충전시간: 3시간30분 / 사용시간(개당): 1시간 / 분리형 (1개) / 리튬이온 / [필터] 5단계여과 / [기능] 자동물공급 / 디스플레이표시창 / 배터리잔량표시 / 자동먼지비움 / [구성] 바닥 / 솔형 / 틈새 / 연장툴 / 청정스테이션 / [부가] 먼지통용량: 0.5L / 색상: 미스티화이트 / 무게: 2.5kg / 액세서리크래들  / 크기(가로x세로x깊이): 250x930x202mm',\n",
       "  '580040'],\n",
       " ['삼성전자 비스포크 제트 VS20A956A3',\n",
       "  '핸디/스틱청소기 / 핸디+스틱형 / 무선형 / 흡입+걸레겸용 / [성능] 흡입력: 210W / 제트싸이클론 / 디지털인버터모터 / [배터리] 충전시간: 3시간30분 / 사용시간(개당): 1시간 / 분리형 (1개) / 리튬이온 / [필터] 5단계여과 / [기능] 자동물공급 / 디스플레이표시창 / 배터리잔량표시 / 자동먼지비움 / [구성] 바닥 / 솔형 / 틈새 / 연장툴 / 청정스테이션 / [부가] 먼지통용량: 0.5L / 색상: 미스티화이트 / 무게: 2.5kg / 액세서리크래들  / 크기(가로x세로x깊이): 250x930x202mm',\n",
       "  '580040'],\n",
       " ['삼성전자 비스포크 제트 VS20A956A3',\n",
       "  '핸디/스틱청소기 / 핸디+스틱형 / 무선형 / 흡입+걸레겸용 / [성능] 흡입력: 210W / 제트싸이클론 / 디지털인버터모터 / [배터리] 충전시간: 3시간30분 / 사용시간(개당): 1시간 / 분리형 (1개) / 리튬이온 / [필터] 5단계여과 / [기능] 자동물공급 / 디스플레이표시창 / 배터리잔량표시 / 자동먼지비움 / [구성] 바닥 / 솔형 / 틈새 / 연장툴 / 청정스테이션 / [부가] 먼지통용량: 0.5L / 색상: 미스티화이트 / 무게: 2.5kg / 액세서리크래들  / 크기(가로x세로x깊이): 250x930x202mm',\n",
       "  '580040'],\n",
       " ['삼성전자 비스포크 제트 VS20A956A3',\n",
       "  '핸디/스틱청소기 / 핸디+스틱형 / 무선형 / 흡입+걸레겸용 / [성능] 흡입력: 210W / 제트싸이클론 / 디지털인버터모터 / [배터리] 충전시간: 3시간30분 / 사용시간(개당): 1시간 / 분리형 (1개) / 리튬이온 / [필터] 5단계여과 / [기능] 자동물공급 / 디스플레이표시창 / 배터리잔량표시 / 자동먼지비움 / [구성] 바닥 / 솔형 / 틈새 / 연장툴 / 청정스테이션 / [부가] 먼지통용량: 0.5L / 색상: 미스티화이트 / 무게: 2.5kg / 액세서리크래들  / 크기(가로x세로x깊이): 250x930x202mm',\n",
       "  '580040'],\n",
       " ['삼성전자 비스포크 제트 VS20A956A3',\n",
       "  '핸디/스틱청소기 / 핸디+스틱형 / 무선형 / 흡입+걸레겸용 / [성능] 흡입력: 210W / 제트싸이클론 / 디지털인버터모터 / [배터리] 충전시간: 3시간30분 / 사용시간(개당): 1시간 / 분리형 (1개) / 리튬이온 / [필터] 5단계여과 / [기능] 자동물공급 / 디스플레이표시창 / 배터리잔량표시 / 자동먼지비움 / [구성] 바닥 / 솔형 / 틈새 / 연장툴 / 청정스테이션 / [부가] 먼지통용량: 0.5L / 색상: 미스티화이트 / 무게: 2.5kg / 액세서리크래들  / 크기(가로x세로x깊이): 250x930x202mm',\n",
       "  '580040'],\n",
       " ['삼성전자 비스포크 제트 VS20A956A3',\n",
       "  '핸디/스틱청소기 / 핸디+스틱형 / 무선형 / 흡입+걸레겸용 / [성능] 흡입력: 210W / 제트싸이클론 / 디지털인버터모터 / [배터리] 충전시간: 3시간30분 / 사용시간(개당): 1시간 / 분리형 (1개) / 리튬이온 / [필터] 5단계여과 / [기능] 자동물공급 / 디스플레이표시창 / 배터리잔량표시 / 자동먼지비움 / [구성] 바닥 / 솔형 / 틈새 / 연장툴 / 청정스테이션 / [부가] 먼지통용량: 0.5L / 색상: 미스티화이트 / 무게: 2.5kg / 액세서리크래들  / 크기(가로x세로x깊이): 250x930x202mm',\n",
       "  '580040'],\n",
       " ['삼성전자 비스포크 제트 VS20A956A3',\n",
       "  '핸디/스틱청소기 / 핸디+스틱형 / 무선형 / 흡입+걸레겸용 / [성능] 흡입력: 210W / 제트싸이클론 / 디지털인버터모터 / [배터리] 충전시간: 3시간30분 / 사용시간(개당): 1시간 / 분리형 (1개) / 리튬이온 / [필터] 5단계여과 / [기능] 자동물공급 / 디스플레이표시창 / 배터리잔량표시 / 자동먼지비움 / [구성] 바닥 / 솔형 / 틈새 / 연장툴 / 청정스테이션 / [부가] 먼지통용량: 0.5L / 색상: 미스티화이트 / 무게: 2.5kg / 액세서리크래들  / 크기(가로x세로x깊이): 250x930x202mm',\n",
       "  '580040'],\n",
       " ['삼성전자 비스포크 제트 VS20A956A3',\n",
       "  '핸디/스틱청소기 / 핸디+스틱형 / 무선형 / 흡입+걸레겸용 / [성능] 흡입력: 210W / 제트싸이클론 / 디지털인버터모터 / [배터리] 충전시간: 3시간30분 / 사용시간(개당): 1시간 / 분리형 (1개) / 리튬이온 / [필터] 5단계여과 / [기능] 자동물공급 / 디스플레이표시창 / 배터리잔량표시 / 자동먼지비움 / [구성] 바닥 / 솔형 / 틈새 / 연장툴 / 청정스테이션 / [부가] 먼지통용량: 0.5L / 색상: 미스티화이트 / 무게: 2.5kg / 액세서리크래들  / 크기(가로x세로x깊이): 250x930x202mm',\n",
       "  '580040']]"
      ]
     },
     "execution_count": 40,
     "metadata": {},
     "output_type": "execute_result"
    }
   ],
   "source": [
    "#함수 테스트\n",
    "prod_items = soup.select('div.main_prodlist_list > ul.product_list > li.prod_item')\n",
    "prod_data = get_prod_items(prod_items)\n",
    "print(len(prod_data))\n",
    "prod_data"
   ]
  },
  {
   "cell_type": "markdown",
   "id": "13bd6fa9",
   "metadata": {},
   "source": [
    "## 2. 데이터 수집 2_여러페이지"
   ]
  },
  {
   "cell_type": "code",
   "execution_count": 119,
   "id": "b74d2ec7",
   "metadata": {},
   "outputs": [
    {
     "name": "stdout",
     "output_type": "stream",
     "text": [
      "http://search.danawa.com/dsearch.php?query=무선청소기&volumeType=allvs&page=4&limit=40&sort=saveDESC&list=list&boost=true&addDelivery=N&tab=goods&tab=goods\n"
     ]
    }
   ],
   "source": [
    "# 다나와 검색 URL을 만들어주는 함수 \n",
    "def get_search_page_url(keyword, page):\n",
    "    return 'http://search.danawa.com/dsearch.php?query={}&volumeType=allvs&page={}&limit=40&sort=saveDESC&list=list&boost=true&addDelivery=N&tab=goods&tab=goods'.format(keyword, page)\n",
    "\n",
    "keyword = '무선청소기'\n",
    "page = 4\n",
    "url = get_search_page_url(keyword, page)\n",
    "print(url)\n"
   ]
  },
  {
   "cell_type": "markdown",
   "id": "5856bfb8",
   "metadata": {},
   "source": [
    "### 여러 페이지에 걸친 상품 정보 수집"
   ]
  },
  {
   "cell_type": "code",
   "execution_count": 120,
   "id": "a2f99bf6",
   "metadata": {},
   "outputs": [
    {
     "name": "stderr",
     "output_type": "stream",
     "text": [
      "C:\\Users\\dlfrl\\AppData\\Local\\Temp/ipykernel_51044/3660632929.py:7: DeprecationWarning: executable_path has been deprecated, please pass in a Service object\n",
      "  driver = webdriver.Chrome('../driver/chromedriver.exe')\n",
      "C:\\Users\\dlfrl\\AppData\\Local\\Temp/ipykernel_51044/3660632929.py:14: TqdmDeprecationWarning: This function will be removed in tqdm==5.0.0\n",
      "Please use `tqdm.notebook.tqdm` instead of `tqdm.tqdm_notebook`\n",
      "  for page in tqdm_notebook(range(1, total_page + 1)):\n"
     ]
    },
    {
     "data": {
      "application/vnd.jupyter.widget-view+json": {
       "model_id": "026080655b7c4758969b8bf7a1be0a78",
       "version_major": 2,
       "version_minor": 0
      },
      "text/plain": [
       "  0%|          | 0/10 [00:00<?, ?it/s]"
      ]
     },
     "metadata": {},
     "output_type": "display_data"
    }
   ],
   "source": [
    "# 실전 다나와 크롤링\n",
    "from selenium import webdriver\n",
    "import time\n",
    "from bs4 import BeautifulSoup\n",
    "from tqdm import tqdm_notebook\n",
    "\n",
    "driver = webdriver.Chrome('../driver/chromedriver.exe')\n",
    "driver.implicitly_wait(3)\n",
    "\n",
    "keyword = '무선청소기'\n",
    "total_page = 10\n",
    "prod_data_total = []\n",
    "\n",
    "for page in tqdm_notebook(range(1, total_page + 1)):\n",
    "    url = get_search_page_url(keyword, page)\n",
    "    driver.get(url)\n",
    "    time.sleep(5)\n",
    "    \n",
    "    html = driver.page_source\n",
    "    soup = BeautifulSoup(html, 'html.parser')\n",
    "    \n",
    "    # 상품 정보 추출\n",
    "    #soup.select('조건') : #기호 뒤에 id 값을 넣거나 .뒤에 class명을 넣음\n",
    "    prod_items = soup.select('div#productListArea > div.main_prodlist > ul.product_list > li.prod_item')\n",
    "    prod_item_list = get_prod_items(prod_items)\n",
    "    \n",
    "    # 추출 데이터 저장\n",
    "    prod_data_total = prod_data_total + prod_item_list"
   ]
  },
  {
   "cell_type": "markdown",
   "id": "f8d107f4",
   "metadata": {},
   "source": [
    "### 수집데이터 저장"
   ]
  },
  {
   "cell_type": "code",
   "execution_count": 117,
   "id": "7ccb007e",
   "metadata": {},
   "outputs": [],
   "source": [
    "#데이터 저장\n",
    "import pandas as pd\n",
    "data = pd.DataFrame(prod_data_total)\n",
    "data.columns = ['상품명', '스펙 목록', '가격']\n",
    "data.to_excel('../data/11_danawa_crawling_result.xlsx', index = False)"
   ]
  },
  {
   "cell_type": "markdown",
   "id": "3b090de3",
   "metadata": {},
   "source": [
    "## 크롤링 데이터 전처리"
   ]
  },
  {
   "cell_type": "markdown",
   "id": "fcceee3c",
   "metadata": {},
   "source": [
    "### 다나와 크롤링 데이터 불러오기"
   ]
  },
  {
   "cell_type": "code",
   "execution_count": 57,
   "id": "79d3301e",
   "metadata": {},
   "outputs": [
    {
     "name": "stdout",
     "output_type": "stream",
     "text": [
      "<class 'pandas.core.frame.DataFrame'>\n",
      "RangeIndex: 300 entries, 0 to 299\n",
      "Data columns (total 3 columns):\n",
      " #   Column  Non-Null Count  Dtype \n",
      "---  ------  --------------  ----- \n",
      " 0   상품명     300 non-null    object\n",
      " 1   스펙 목록   300 non-null    object\n",
      " 2   가격      300 non-null    int64 \n",
      "dtypes: int64(1), object(2)\n",
      "memory usage: 7.2+ KB\n"
     ]
    },
    {
     "data": {
      "text/html": [
       "<div>\n",
       "<style scoped>\n",
       "    .dataframe tbody tr th:only-of-type {\n",
       "        vertical-align: middle;\n",
       "    }\n",
       "\n",
       "    .dataframe tbody tr th {\n",
       "        vertical-align: top;\n",
       "    }\n",
       "\n",
       "    .dataframe thead th {\n",
       "        text-align: right;\n",
       "    }\n",
       "</style>\n",
       "<table border=\"1\" class=\"dataframe\">\n",
       "  <thead>\n",
       "    <tr style=\"text-align: right;\">\n",
       "      <th></th>\n",
       "      <th>상품명</th>\n",
       "      <th>스펙 목록</th>\n",
       "      <th>가격</th>\n",
       "    </tr>\n",
       "  </thead>\n",
       "  <tbody>\n",
       "    <tr>\n",
       "      <th>0</th>\n",
       "      <td>샤오미 드리미 V10</td>\n",
       "      <td>핸디/스틱청소기 / 핸디+스틱형 / 무선형 / 전압: 25.2V / 헤파필터 / H...</td>\n",
       "      <td>173900</td>\n",
       "    </tr>\n",
       "    <tr>\n",
       "      <th>1</th>\n",
       "      <td>원더스리빙 다이나킹 Z9</td>\n",
       "      <td>핸디/스틱청소기 / 핸디+스틱형 / 무선형 / 전압: 28.8V / 헤파필터 / 듀...</td>\n",
       "      <td>299000</td>\n",
       "    </tr>\n",
       "    <tr>\n",
       "      <th>2</th>\n",
       "      <td>LG전자 코드제로 A9 A978</td>\n",
       "      <td>핸디/스틱청소기 / 핸디+스틱형 / 무선형 / 헤파필터 / 2중터보싸이클론 / 5단...</td>\n",
       "      <td>1005340</td>\n",
       "    </tr>\n",
       "    <tr>\n",
       "      <th>3</th>\n",
       "      <td>샤오미 SHUNZAO 차량용 무선청소기 2세대 Z1 PRO (해외구매)</td>\n",
       "      <td>차량용청소기 / 무선 / 흡입력: 12,000Pa / 최대출력: 120W / 2중필...</td>\n",
       "      <td>48570</td>\n",
       "    </tr>\n",
       "    <tr>\n",
       "      <th>4</th>\n",
       "      <td>델로라 V11 파워 300W</td>\n",
       "      <td>핸디/스틱청소기 / 핸디+스틱형 / 무선형 / 전압: 29.6V / 헤파필터 / 싸...</td>\n",
       "      <td>141000</td>\n",
       "    </tr>\n",
       "  </tbody>\n",
       "</table>\n",
       "</div>"
      ],
      "text/plain": [
       "                                       상품명  \\\n",
       "0                              샤오미 드리미 V10   \n",
       "1                            원더스리빙 다이나킹 Z9   \n",
       "2                        LG전자 코드제로 A9 A978   \n",
       "3  샤오미 SHUNZAO 차량용 무선청소기 2세대 Z1 PRO (해외구매)   \n",
       "4                          델로라 V11 파워 300W   \n",
       "\n",
       "                                               스펙 목록       가격  \n",
       "0  핸디/스틱청소기 / 핸디+스틱형 / 무선형 / 전압: 25.2V / 헤파필터 / H...   173900  \n",
       "1  핸디/스틱청소기 / 핸디+스틱형 / 무선형 / 전압: 28.8V / 헤파필터 / 듀...   299000  \n",
       "2  핸디/스틱청소기 / 핸디+스틱형 / 무선형 / 헤파필터 / 2중터보싸이클론 / 5단...  1005340  \n",
       "3  차량용청소기 / 무선 / 흡입력: 12,000Pa / 최대출력: 120W / 2중필...    48570  \n",
       "4  핸디/스틱청소기 / 핸디+스틱형 / 무선형 / 전압: 29.6V / 헤파필터 / 싸...   141000  "
      ]
     },
     "execution_count": 57,
     "metadata": {},
     "output_type": "execute_result"
    }
   ],
   "source": [
    "import pandas as pd\n",
    "\n",
    "data = pd.read_excel('../data/1_danawa_crawling_result.xlsx')\n",
    "data.info()\n",
    "data.head()"
   ]
  },
  {
   "cell_type": "markdown",
   "id": "2dcf7f9b",
   "metadata": {},
   "source": [
    "### 회사명, 모델명 정리"
   ]
  },
  {
   "cell_type": "code",
   "execution_count": 104,
   "id": "2ae30cf0",
   "metadata": {},
   "outputs": [],
   "source": [
    "company_list = []\n",
    "product_list = []\n",
    "for title in data['상품명']:\n",
    "    title_info = title.split(' ', 1) #첫 번째 공백에 대해서만 구분\n",
    "    company_name = title_info[0]\n",
    "    product_name = title_info[1]\n",
    "    company_list.append(company_name)\n",
    "    product_list.append(product_name)"
   ]
  },
  {
   "cell_type": "code",
   "execution_count": 60,
   "id": "268492e6",
   "metadata": {},
   "outputs": [
    {
     "name": "stdout",
     "output_type": "stream",
     "text": [
      "300\n"
     ]
    }
   ],
   "source": [
    "print(len(data))"
   ]
  },
  {
   "cell_type": "code",
   "execution_count": 61,
   "id": "b245c8e3",
   "metadata": {},
   "outputs": [
    {
     "name": "stdout",
     "output_type": "stream",
     "text": [
      "300\n"
     ]
    }
   ],
   "source": [
    "print(len(company_list))"
   ]
  },
  {
   "cell_type": "code",
   "execution_count": 62,
   "id": "9e4a0a3d",
   "metadata": {},
   "outputs": [
    {
     "name": "stdout",
     "output_type": "stream",
     "text": [
      "300\n"
     ]
    }
   ],
   "source": [
    "print(len(product_list))"
   ]
  },
  {
   "cell_type": "code",
   "execution_count": 64,
   "id": "055bfb45",
   "metadata": {},
   "outputs": [
    {
     "name": "stdout",
     "output_type": "stream",
     "text": [
      "['샤오미', '원더스리빙', 'LG전자', '샤오미', '델로라']\n"
     ]
    }
   ],
   "source": [
    "print(company_list[:5])"
   ]
  },
  {
   "cell_type": "code",
   "execution_count": 68,
   "id": "65754f63",
   "metadata": {},
   "outputs": [
    {
     "name": "stdout",
     "output_type": "stream",
     "text": [
      "['드리미 V10', '다이나킹 Z9', '코드제로 A9 A978', 'SHUNZAO 차량용 무선청소기 2세대 Z1 PRO (해외구매)', 'V11 파워 300W']\n"
     ]
    }
   ],
   "source": [
    "print(product_list[:5])"
   ]
  },
  {
   "cell_type": "markdown",
   "id": "30691b53",
   "metadata": {},
   "source": [
    "### 스펙목록에서 카테고리, 사용시간, 흡입력을 추출해서 정리"
   ]
  },
  {
   "cell_type": "code",
   "execution_count": 69,
   "id": "84c7b66e",
   "metadata": {},
   "outputs": [
    {
     "data": {
      "text/plain": [
       "'핸디/스틱청소기 / 핸디+스틱형 / 무선형 / 전압: 25.2V / 헤파필터 / H12급 / 5단계여과 / 흡입력: 140AW / 흡입력: 22000Pa / 먼지통용량: 0.5L / 충전시간: 3시간30분 / 사용시간: 1시간 / 용량: 2500mAh / 브러쉬: 바닥, 솔형, 틈새, 침구, 연장관 / 거치대 / 무게: 1.5kg / 색상:화이트 / 소비전력: 450W'"
      ]
     },
     "execution_count": 69,
     "metadata": {},
     "output_type": "execute_result"
    }
   ],
   "source": [
    "data['스펙 목록'][0]"
   ]
  },
  {
   "cell_type": "code",
   "execution_count": 70,
   "id": "2aacbb15",
   "metadata": {},
   "outputs": [
    {
     "data": {
      "text/plain": [
       "['핸디/스틱청소기',\n",
       " '핸디+스틱형',\n",
       " '무선형',\n",
       " '전압: 25.2V',\n",
       " '헤파필터',\n",
       " 'H12급',\n",
       " '5단계여과',\n",
       " '흡입력: 140AW',\n",
       " '흡입력: 22000Pa',\n",
       " '먼지통용량: 0.5L',\n",
       " '충전시간: 3시간30분',\n",
       " '사용시간: 1시간',\n",
       " '용량: 2500mAh',\n",
       " '브러쉬: 바닥, 솔형, 틈새, 침구, 연장관',\n",
       " '거치대',\n",
       " '무게: 1.5kg',\n",
       " '색상:화이트',\n",
       " '소비전력: 450W']"
      ]
     },
     "execution_count": 70,
     "metadata": {},
     "output_type": "execute_result"
    }
   ],
   "source": [
    "# 첫번째 제품의 스펙목록 분리, 앞뒤 공백이 있는 / 로 구분\n",
    "spec_list = data['스펙 목록'][0].split(' / ')\n",
    "spec_list"
   ]
  },
  {
   "cell_type": "code",
   "execution_count": 71,
   "id": "ff745f63",
   "metadata": {},
   "outputs": [
    {
     "data": {
      "text/plain": [
       "'핸디/스틱청소기'"
      ]
     },
     "execution_count": 71,
     "metadata": {},
     "output_type": "execute_result"
    }
   ],
   "source": [
    "# 카테고리 정보 추출\n",
    "category = spec_list[0]\n",
    "category"
   ]
  },
  {
   "cell_type": "code",
   "execution_count": 72,
   "id": "3641e22a",
   "metadata": {},
   "outputs": [
    {
     "name": "stdout",
     "output_type": "stream",
     "text": [
      "사용시간: 1시간\n",
      "흡입력: 22000Pa\n"
     ]
    }
   ],
   "source": [
    "# 사용시간, 흡입력이 포함된 원소 추출\n",
    "for spec in spec_list:\n",
    "    if '사용시간' in spec:\n",
    "        use_time_spec = spec\n",
    "    elif '흡입력' in spec:\n",
    "        suction_spec = spec\n",
    "print(use_time_spec)\n",
    "print(suction_spec)"
   ]
  },
  {
   "cell_type": "code",
   "execution_count": 73,
   "id": "c159ae34",
   "metadata": {},
   "outputs": [
    {
     "name": "stdout",
     "output_type": "stream",
     "text": [
      "1시간\n",
      "22000Pa\n"
     ]
    }
   ],
   "source": [
    "# 정량적인 수치 추출 (다른제품과 비교하기위해 숫자만 추출)\n",
    "use_time_value = use_time_spec.split(' ')[1].strip()\n",
    "suction_value = suction_spec.split(' ')[1].strip()\n",
    "print(use_time_value)\n",
    "print(suction_value)"
   ]
  },
  {
   "cell_type": "code",
   "execution_count": 105,
   "id": "130732c2",
   "metadata": {},
   "outputs": [],
   "source": [
    "# 카테고리, 사용시간, 흡입력 추출 \n",
    "category_list = []\n",
    "use_time_list = []\n",
    "suction_list = [] \n",
    "for spec_data in data['스펙 목록']:\n",
    "    # ' / ' 기준으로 스펙 분리하기 \n",
    "    spec_list = spec_data.split(' / ')\n",
    "   \n",
    "    # 카테고리 추출하기\n",
    "    category = spec_list[0] \n",
    "    category_list.append(category)\n",
    "    \n",
    "    # 사용시간, 흡입력 추출 \n",
    "    ## 사용시간, 흡입력 정보가 없는 제품을 위해 변수를 생성 \n",
    "    use_time_value = None \n",
    "    suction_value = None \n",
    "    \n",
    "    ## spec_list의 각 원소에서 사용시간, 흡입력 수치 추출\n",
    "    for spec in spec_list:\n",
    "        if '사용시간' in spec: \n",
    "            use_time_value = spec.split(' ')[1].strip()             \n",
    "        if '흡입력' in spec:\n",
    "            suction_value = spec.split(' ')[1].strip() \n",
    "    use_time_list.append(use_time_value)\n",
    "    suction_list.append(suction_value)"
   ]
  },
  {
   "cell_type": "code",
   "execution_count": 106,
   "id": "06d431bd",
   "metadata": {},
   "outputs": [
    {
     "name": "stdout",
     "output_type": "stream",
     "text": [
      "카테고리 300 ['핸디/스틱청소기', '핸디/스틱청소기', '핸디/스틱청소기', '차량용청소기', '핸디/스틱청소기']\n",
      "사용시간 300 ['1시간', '1시간5분', '80분', '30분', '1시간10분']\n",
      "흡입력 300 ['22000Pa', '22000Pa', '140W', '12,000Pa', '22000Pa']\n"
     ]
    }
   ],
   "source": [
    "# 카테고리, 사용시간, 흡입력에 대한 전처리 결과 확인\n",
    "print('카테고리', len(category_list), category_list[0:5])\n",
    "print('사용시간', len(use_time_list), use_time_list[0:5])\n",
    "print('흡입력', len(suction_list), suction_list[0:5])"
   ]
  },
  {
   "cell_type": "markdown",
   "id": "72195766",
   "metadata": {},
   "source": [
    "### 무선 청소기 사용시간 단위 통일시키기"
   ]
  },
  {
   "cell_type": "code",
   "execution_count": 107,
   "id": "e75f4a8b",
   "metadata": {},
   "outputs": [],
   "source": [
    "# 사용시간을 분 단위로 조정하는 함수\n",
    "def convert_time_minute(time):\n",
    "    try:\n",
    "        if '시간' in time:\n",
    "            hour = time.split('시간')[0]\n",
    "            if '분' in time:\n",
    "                minute = time.split('시간')[-1].split('분')[0] #3시간30분==> 30\n",
    "            else:\n",
    "                minute = 0\n",
    "        else: \n",
    "            hour = 0\n",
    "            minute = time.split('분')[0]\n",
    "        return int(hour)*60 + int(minute)\n",
    "    except:\n",
    "        return None  "
   ]
  },
  {
   "cell_type": "code",
   "execution_count": 98,
   "id": "f2805a67",
   "metadata": {},
   "outputs": [
    {
     "name": "stdout",
     "output_type": "stream",
     "text": [
      "40분 = 40\n",
      "4분 = 4\n",
      "1시간 = 60\n",
      "3시간30분 = 210\n",
      "4시간 = 240\n"
     ]
    }
   ],
   "source": [
    "#사용시간 분단위로 조정하는 함수 테스트\n",
    "times = ['40분', '4분', '1시간', '3시간30분', '4시간']\n",
    "for time in times:\n",
    "    time_value = convert_time_minute(time)\n",
    "    print(time, '=', time_value)"
   ]
  },
  {
   "cell_type": "code",
   "execution_count": 99,
   "id": "6ed95d52",
   "metadata": {},
   "outputs": [
    {
     "data": {
      "text/plain": [
       "['1시간', '1시간5분', '80분', '30분', '1시간10분', '60분', '17분', '120분', '60분', '42분']"
      ]
     },
     "execution_count": 99,
     "metadata": {},
     "output_type": "execute_result"
    }
   ],
   "source": [
    "use_time_list[:10]"
   ]
  },
  {
   "cell_type": "code",
   "execution_count": 108,
   "id": "2dee470b",
   "metadata": {},
   "outputs": [
    {
     "name": "stdout",
     "output_type": "stream",
     "text": [
      "300\n",
      "[60, 65, 80, 30, 70, 60, 17, 120, 60, 42]\n"
     ]
    }
   ],
   "source": [
    "# 모델별 사용시간을 분 단위로 통일하기\n",
    "new_use_time_list = []\n",
    "for time in use_time_list:\n",
    "    value = convert_time_minute(time)\n",
    "    new_use_time_list.append(value)\n",
    "    \n",
    "print(len(new_use_time_list))\n",
    "print(new_use_time_list[0:10])"
   ]
  },
  {
   "cell_type": "markdown",
   "id": "6f41b116",
   "metadata": {},
   "source": [
    "### 무선 청소기 흡입력 단위 통일시키기\n",
    "* 모터의 소비전력 전력 W(Watt)\n",
    "* 진공청소기의 전력량 AW(airWatt)\n",
    "* 흡입력 단위 Pa(Pascal)\n",
    "* 대략(1W = 1AW = 100PA)"
   ]
  },
  {
   "cell_type": "code",
   "execution_count": 109,
   "id": "dc87ed75",
   "metadata": {},
   "outputs": [],
   "source": [
    "# 흡입력 단위를 통일시키는 함수\n",
    "def get_suction(value):\n",
    "    try:\n",
    "        value = value.upper()\n",
    "        if \"AW\" in value or \"W\" in value: #AW, W가 있으면 \n",
    "            result = value.replace(\"A\", \"\").replace(\"W\",\"\") #흡입력에 A와 W글자 삭제\n",
    "            result = int(result.replace(\",\",\"\")) #,삭제뒤 숫자형으로 변환\n",
    "        elif \"PA\" in value: #PA 가 있으면 \n",
    "            result = value.replace(\"PA\",\"\") #PA 삭제\n",
    "            result = int(result.replace(\",\",\"\"))/100 # ,삭제 후 정수로 전환하고 100으로 나눔(1PA=0.01AW)\n",
    "        else:\n",
    "            result = None\n",
    "        return result\n",
    "    except:\n",
    "        return None"
   ]
  },
  {
   "cell_type": "code",
   "execution_count": 110,
   "id": "b1bf2f30",
   "metadata": {},
   "outputs": [
    {
     "name": "stdout",
     "output_type": "stream",
     "text": [
      "300\n",
      "[220.0, 220.0, 140, 120.0, 220.0, 200.0, 120.0, 200, 220, None]\n"
     ]
    }
   ],
   "source": [
    "# 흡입력 단위 통일시키기\n",
    "new_suction_list = []\n",
    "for power in suction_list:\n",
    "    value = get_suction (power)\n",
    "    new_suction_list.append(value)\n",
    "\n",
    "print(len(new_suction_list))\n",
    "print(new_suction_list[0:10])"
   ]
  },
  {
   "cell_type": "markdown",
   "id": "7b44a95e",
   "metadata": {},
   "source": [
    "### 다나와 전처리 결과를 엑셀로 저장"
   ]
  },
  {
   "cell_type": "code",
   "execution_count": 111,
   "id": "ee0f278b",
   "metadata": {},
   "outputs": [
    {
     "data": {
      "text/html": [
       "<div>\n",
       "<style scoped>\n",
       "    .dataframe tbody tr th:only-of-type {\n",
       "        vertical-align: middle;\n",
       "    }\n",
       "\n",
       "    .dataframe tbody tr th {\n",
       "        vertical-align: top;\n",
       "    }\n",
       "\n",
       "    .dataframe thead th {\n",
       "        text-align: right;\n",
       "    }\n",
       "</style>\n",
       "<table border=\"1\" class=\"dataframe\">\n",
       "  <thead>\n",
       "    <tr style=\"text-align: right;\">\n",
       "      <th></th>\n",
       "      <th>카테고리</th>\n",
       "      <th>회사명</th>\n",
       "      <th>제품</th>\n",
       "      <th>가격</th>\n",
       "      <th>사용시간</th>\n",
       "      <th>흡입력</th>\n",
       "    </tr>\n",
       "  </thead>\n",
       "  <tbody>\n",
       "    <tr>\n",
       "      <th>0</th>\n",
       "      <td>핸디/스틱청소기</td>\n",
       "      <td>샤오미</td>\n",
       "      <td>드리미 V10</td>\n",
       "      <td>173900</td>\n",
       "      <td>60.0</td>\n",
       "      <td>220.0</td>\n",
       "    </tr>\n",
       "    <tr>\n",
       "      <th>1</th>\n",
       "      <td>핸디/스틱청소기</td>\n",
       "      <td>원더스리빙</td>\n",
       "      <td>다이나킹 Z9</td>\n",
       "      <td>299000</td>\n",
       "      <td>65.0</td>\n",
       "      <td>220.0</td>\n",
       "    </tr>\n",
       "    <tr>\n",
       "      <th>2</th>\n",
       "      <td>핸디/스틱청소기</td>\n",
       "      <td>LG전자</td>\n",
       "      <td>코드제로 A9 A978</td>\n",
       "      <td>1005340</td>\n",
       "      <td>80.0</td>\n",
       "      <td>140.0</td>\n",
       "    </tr>\n",
       "    <tr>\n",
       "      <th>3</th>\n",
       "      <td>차량용청소기</td>\n",
       "      <td>샤오미</td>\n",
       "      <td>SHUNZAO 차량용 무선청소기 2세대 Z1 PRO (해외구매)</td>\n",
       "      <td>48570</td>\n",
       "      <td>30.0</td>\n",
       "      <td>120.0</td>\n",
       "    </tr>\n",
       "    <tr>\n",
       "      <th>4</th>\n",
       "      <td>핸디/스틱청소기</td>\n",
       "      <td>델로라</td>\n",
       "      <td>V11 파워 300W</td>\n",
       "      <td>141000</td>\n",
       "      <td>70.0</td>\n",
       "      <td>220.0</td>\n",
       "    </tr>\n",
       "  </tbody>\n",
       "</table>\n",
       "</div>"
      ],
      "text/plain": [
       "       카테고리    회사명                                   제품       가격  사용시간    흡입력\n",
       "0  핸디/스틱청소기    샤오미                              드리미 V10   173900  60.0  220.0\n",
       "1  핸디/스틱청소기  원더스리빙                              다이나킹 Z9   299000  65.0  220.0\n",
       "2  핸디/스틱청소기   LG전자                         코드제로 A9 A978  1005340  80.0  140.0\n",
       "3    차량용청소기    샤오미  SHUNZAO 차량용 무선청소기 2세대 Z1 PRO (해외구매)    48570  30.0  120.0\n",
       "4  핸디/스틱청소기    델로라                          V11 파워 300W   141000  70.0  220.0"
      ]
     },
     "execution_count": 111,
     "metadata": {},
     "output_type": "execute_result"
    }
   ],
   "source": [
    "pd_data = pd.DataFrame()\n",
    "pd_data['카테고리'] = category_list\n",
    "pd_data['회사명'] = company_list\n",
    "pd_data['제품'] = product_list\n",
    "pd_data['가격'] = data['가격']\n",
    "pd_data['사용시간'] = new_use_time_list\n",
    "pd_data['흡입력'] = new_suction_list\n",
    "pd_data.head()"
   ]
  },
  {
   "cell_type": "code",
   "execution_count": 112,
   "id": "f8f02e8a",
   "metadata": {},
   "outputs": [
    {
     "data": {
      "text/plain": [
       "핸디/스틱청소기    241\n",
       "물걸레청소기       39\n",
       "차량용청소기       13\n",
       "침구청소기         5\n",
       "업소용청소기        1\n",
       "진공청소기         1\n",
       "Name: 카테고리, dtype: int64"
      ]
     },
     "execution_count": 112,
     "metadata": {},
     "output_type": "execute_result"
    }
   ],
   "source": [
    "pd_data['카테고리'].value_counts()"
   ]
  },
  {
   "cell_type": "code",
   "execution_count": 113,
   "id": "7650825b",
   "metadata": {},
   "outputs": [
    {
     "data": {
      "text/plain": [
       "241"
      ]
     },
     "execution_count": 113,
     "metadata": {},
     "output_type": "execute_result"
    }
   ],
   "source": [
    "pd_data_final = pd_data[pd_data['카테고리'].isin(['핸디/스틱청소기'])]\n",
    "len(pd_data_final)"
   ]
  },
  {
   "cell_type": "code",
   "execution_count": 115,
   "id": "ee7432f4",
   "metadata": {},
   "outputs": [],
   "source": [
    "pd_data_final.to_excel('../data/22_danawa_data_final.xlsx', index = False)"
   ]
  },
  {
   "cell_type": "markdown",
   "id": "d746794d",
   "metadata": {},
   "source": [
    "## 무선 청소기 모델별 비교 분석"
   ]
  },
  {
   "cell_type": "markdown",
   "id": "12c97c78",
   "metadata": {},
   "source": [
    "### 데이터 살펴보기\n",
    "* 다나와 검색 결과의 기본 정렬은 인기순\n",
    "* 가격, 사요시간, 흡입력 등의 특징에 따른 인기 제품 간 비교 분석 진행"
   ]
  },
  {
   "cell_type": "code",
   "execution_count": 1,
   "id": "23abce4e",
   "metadata": {},
   "outputs": [
    {
     "data": {
      "text/html": [
       "<div>\n",
       "<style scoped>\n",
       "    .dataframe tbody tr th:only-of-type {\n",
       "        vertical-align: middle;\n",
       "    }\n",
       "\n",
       "    .dataframe tbody tr th {\n",
       "        vertical-align: top;\n",
       "    }\n",
       "\n",
       "    .dataframe thead th {\n",
       "        text-align: right;\n",
       "    }\n",
       "</style>\n",
       "<table border=\"1\" class=\"dataframe\">\n",
       "  <thead>\n",
       "    <tr style=\"text-align: right;\">\n",
       "      <th></th>\n",
       "      <th>카테고리</th>\n",
       "      <th>회사명</th>\n",
       "      <th>제품</th>\n",
       "      <th>가격</th>\n",
       "      <th>사용시간</th>\n",
       "      <th>흡입력</th>\n",
       "    </tr>\n",
       "  </thead>\n",
       "  <tbody>\n",
       "    <tr>\n",
       "      <th>0</th>\n",
       "      <td>핸디/스틱청소기</td>\n",
       "      <td>샤오미</td>\n",
       "      <td>드리미 V10</td>\n",
       "      <td>173900</td>\n",
       "      <td>60.0</td>\n",
       "      <td>220.0</td>\n",
       "    </tr>\n",
       "    <tr>\n",
       "      <th>1</th>\n",
       "      <td>핸디/스틱청소기</td>\n",
       "      <td>원더스리빙</td>\n",
       "      <td>다이나킹 Z9</td>\n",
       "      <td>299000</td>\n",
       "      <td>65.0</td>\n",
       "      <td>220.0</td>\n",
       "    </tr>\n",
       "    <tr>\n",
       "      <th>2</th>\n",
       "      <td>핸디/스틱청소기</td>\n",
       "      <td>LG전자</td>\n",
       "      <td>코드제로 A9 A978</td>\n",
       "      <td>1005340</td>\n",
       "      <td>80.0</td>\n",
       "      <td>140.0</td>\n",
       "    </tr>\n",
       "    <tr>\n",
       "      <th>3</th>\n",
       "      <td>핸디/스틱청소기</td>\n",
       "      <td>델로라</td>\n",
       "      <td>V11 파워 300W</td>\n",
       "      <td>141000</td>\n",
       "      <td>70.0</td>\n",
       "      <td>220.0</td>\n",
       "    </tr>\n",
       "    <tr>\n",
       "      <th>4</th>\n",
       "      <td>핸디/스틱청소기</td>\n",
       "      <td>샤오미</td>\n",
       "      <td>드리미 V9</td>\n",
       "      <td>138800</td>\n",
       "      <td>60.0</td>\n",
       "      <td>200.0</td>\n",
       "    </tr>\n",
       "  </tbody>\n",
       "</table>\n",
       "</div>"
      ],
      "text/plain": [
       "       카테고리    회사명            제품       가격  사용시간    흡입력\n",
       "0  핸디/스틱청소기    샤오미       드리미 V10   173900  60.0  220.0\n",
       "1  핸디/스틱청소기  원더스리빙       다이나킹 Z9   299000  65.0  220.0\n",
       "2  핸디/스틱청소기   LG전자  코드제로 A9 A978  1005340  80.0  140.0\n",
       "3  핸디/스틱청소기    델로라   V11 파워 300W   141000  70.0  220.0\n",
       "4  핸디/스틱청소기    샤오미        드리미 V9   138800  60.0  200.0"
      ]
     },
     "execution_count": 1,
     "metadata": {},
     "output_type": "execute_result"
    }
   ],
   "source": [
    "import pandas as pd\n",
    "danawa_data = pd.read_excel('../data/2_danawa_data_final.xlsx')\n",
    "danawa_data.head()"
   ]
  },
  {
   "cell_type": "code",
   "execution_count": 5,
   "id": "c1e171e0",
   "metadata": {},
   "outputs": [
    {
     "data": {
      "text/html": [
       "<div>\n",
       "<style scoped>\n",
       "    .dataframe tbody tr th:only-of-type {\n",
       "        vertical-align: middle;\n",
       "    }\n",
       "\n",
       "    .dataframe tbody tr th {\n",
       "        vertical-align: top;\n",
       "    }\n",
       "\n",
       "    .dataframe thead th {\n",
       "        text-align: right;\n",
       "    }\n",
       "</style>\n",
       "<table border=\"1\" class=\"dataframe\">\n",
       "  <thead>\n",
       "    <tr style=\"text-align: right;\">\n",
       "      <th></th>\n",
       "      <th>카테고리</th>\n",
       "      <th>회사명</th>\n",
       "      <th>제품</th>\n",
       "      <th>가격</th>\n",
       "      <th>사용시간</th>\n",
       "      <th>흡입력</th>\n",
       "    </tr>\n",
       "  </thead>\n",
       "  <tbody>\n",
       "    <tr>\n",
       "      <th>13</th>\n",
       "      <td>핸디/스틱청소기</td>\n",
       "      <td>DIBEA</td>\n",
       "      <td>F20 맥스</td>\n",
       "      <td>222990</td>\n",
       "      <td>50.0</td>\n",
       "      <td>250.0</td>\n",
       "    </tr>\n",
       "    <tr>\n",
       "      <th>127</th>\n",
       "      <td>핸디/스틱청소기</td>\n",
       "      <td>DIBEA</td>\n",
       "      <td>X30</td>\n",
       "      <td>259000</td>\n",
       "      <td>50.0</td>\n",
       "      <td>250.0</td>\n",
       "    </tr>\n",
       "    <tr>\n",
       "      <th>165</th>\n",
       "      <td>핸디/스틱청소기</td>\n",
       "      <td>DIBEA</td>\n",
       "      <td>TSX-25000A</td>\n",
       "      <td>244470</td>\n",
       "      <td>45.0</td>\n",
       "      <td>250.0</td>\n",
       "    </tr>\n",
       "    <tr>\n",
       "      <th>143</th>\n",
       "      <td>핸디/스틱청소기</td>\n",
       "      <td>DIBEA</td>\n",
       "      <td>F20 울트라 맥스</td>\n",
       "      <td>236550</td>\n",
       "      <td>60.0</td>\n",
       "      <td>250.0</td>\n",
       "    </tr>\n",
       "    <tr>\n",
       "      <th>152</th>\n",
       "      <td>핸디/스틱청소기</td>\n",
       "      <td>아이룸</td>\n",
       "      <td>RS1</td>\n",
       "      <td>178000</td>\n",
       "      <td>40.0</td>\n",
       "      <td>250.0</td>\n",
       "    </tr>\n",
       "  </tbody>\n",
       "</table>\n",
       "</div>"
      ],
      "text/plain": [
       "         카테고리    회사명          제품      가격  사용시간    흡입력\n",
       "13   핸디/스틱청소기  DIBEA      F20 맥스  222990  50.0  250.0\n",
       "127  핸디/스틱청소기  DIBEA         X30  259000  50.0  250.0\n",
       "165  핸디/스틱청소기  DIBEA  TSX-25000A  244470  45.0  250.0\n",
       "143  핸디/스틱청소기  DIBEA  F20 울트라 맥스  236550  60.0  250.0\n",
       "152  핸디/스틱청소기    아이룸         RS1  178000  40.0  250.0"
      ]
     },
     "execution_count": 5,
     "metadata": {},
     "output_type": "execute_result"
    }
   ],
   "source": [
    "#흡입력 기준 정렬\n",
    "top_list = danawa_data.sort_values(['흡입력'], ascending = False)\n",
    "top_list.head()"
   ]
  },
  {
   "cell_type": "code",
   "execution_count": 6,
   "id": "934a0473",
   "metadata": {},
   "outputs": [
    {
     "data": {
      "text/html": [
       "<div>\n",
       "<style scoped>\n",
       "    .dataframe tbody tr th:only-of-type {\n",
       "        vertical-align: middle;\n",
       "    }\n",
       "\n",
       "    .dataframe tbody tr th {\n",
       "        vertical-align: top;\n",
       "    }\n",
       "\n",
       "    .dataframe thead th {\n",
       "        text-align: right;\n",
       "    }\n",
       "</style>\n",
       "<table border=\"1\" class=\"dataframe\">\n",
       "  <thead>\n",
       "    <tr style=\"text-align: right;\">\n",
       "      <th></th>\n",
       "      <th>카테고리</th>\n",
       "      <th>회사명</th>\n",
       "      <th>제품</th>\n",
       "      <th>가격</th>\n",
       "      <th>사용시간</th>\n",
       "      <th>흡입력</th>\n",
       "    </tr>\n",
       "  </thead>\n",
       "  <tbody>\n",
       "    <tr>\n",
       "      <th>111</th>\n",
       "      <td>핸디/스틱청소기</td>\n",
       "      <td>삼성전자</td>\n",
       "      <td>제트 VS20R9074S2</td>\n",
       "      <td>845990</td>\n",
       "      <td>120.0</td>\n",
       "      <td>200.0</td>\n",
       "    </tr>\n",
       "    <tr>\n",
       "      <th>5</th>\n",
       "      <td>핸디/스틱청소기</td>\n",
       "      <td>삼성전자</td>\n",
       "      <td>제트 VS20R9078S2</td>\n",
       "      <td>877880</td>\n",
       "      <td>120.0</td>\n",
       "      <td>200.0</td>\n",
       "    </tr>\n",
       "    <tr>\n",
       "      <th>153</th>\n",
       "      <td>핸디/스틱청소기</td>\n",
       "      <td>샤오미</td>\n",
       "      <td>이지에 YE-01</td>\n",
       "      <td>24740</td>\n",
       "      <td>120.0</td>\n",
       "      <td>NaN</td>\n",
       "    </tr>\n",
       "    <tr>\n",
       "      <th>16</th>\n",
       "      <td>핸디/스틱청소기</td>\n",
       "      <td>삼성전자</td>\n",
       "      <td>제트 VS20R9078S3</td>\n",
       "      <td>918120</td>\n",
       "      <td>120.0</td>\n",
       "      <td>200.0</td>\n",
       "    </tr>\n",
       "    <tr>\n",
       "      <th>76</th>\n",
       "      <td>핸디/스틱청소기</td>\n",
       "      <td>삼성전자</td>\n",
       "      <td>제트 VS20R9074S3</td>\n",
       "      <td>870910</td>\n",
       "      <td>120.0</td>\n",
       "      <td>200.0</td>\n",
       "    </tr>\n",
       "  </tbody>\n",
       "</table>\n",
       "</div>"
      ],
      "text/plain": [
       "         카테고리   회사명              제품      가격   사용시간    흡입력\n",
       "111  핸디/스틱청소기  삼성전자  제트 VS20R9074S2  845990  120.0  200.0\n",
       "5    핸디/스틱청소기  삼성전자  제트 VS20R9078S2  877880  120.0  200.0\n",
       "153  핸디/스틱청소기   샤오미       이지에 YE-01   24740  120.0    NaN\n",
       "16   핸디/스틱청소기  삼성전자  제트 VS20R9078S3  918120  120.0  200.0\n",
       "76   핸디/스틱청소기  삼성전자  제트 VS20R9074S3  870910  120.0  200.0"
      ]
     },
     "execution_count": 6,
     "metadata": {},
     "output_type": "execute_result"
    }
   ],
   "source": [
    "#사용시간 기준 정렬\n",
    "top_list = danawa_data.sort_values(['사용시간'], ascending = False)\n",
    "top_list.head()"
   ]
  },
  {
   "cell_type": "code",
   "execution_count": 7,
   "id": "eff82083",
   "metadata": {},
   "outputs": [
    {
     "data": {
      "text/html": [
       "<div>\n",
       "<style scoped>\n",
       "    .dataframe tbody tr th:only-of-type {\n",
       "        vertical-align: middle;\n",
       "    }\n",
       "\n",
       "    .dataframe tbody tr th {\n",
       "        vertical-align: top;\n",
       "    }\n",
       "\n",
       "    .dataframe thead th {\n",
       "        text-align: right;\n",
       "    }\n",
       "</style>\n",
       "<table border=\"1\" class=\"dataframe\">\n",
       "  <thead>\n",
       "    <tr style=\"text-align: right;\">\n",
       "      <th></th>\n",
       "      <th>카테고리</th>\n",
       "      <th>회사명</th>\n",
       "      <th>제품</th>\n",
       "      <th>가격</th>\n",
       "      <th>사용시간</th>\n",
       "      <th>흡입력</th>\n",
       "    </tr>\n",
       "  </thead>\n",
       "  <tbody>\n",
       "    <tr>\n",
       "      <th>5</th>\n",
       "      <td>핸디/스틱청소기</td>\n",
       "      <td>삼성전자</td>\n",
       "      <td>제트 VS20R9078S2</td>\n",
       "      <td>877880</td>\n",
       "      <td>120.0</td>\n",
       "      <td>200.0</td>\n",
       "    </tr>\n",
       "    <tr>\n",
       "      <th>16</th>\n",
       "      <td>핸디/스틱청소기</td>\n",
       "      <td>삼성전자</td>\n",
       "      <td>제트 VS20R9078S3</td>\n",
       "      <td>918120</td>\n",
       "      <td>120.0</td>\n",
       "      <td>200.0</td>\n",
       "    </tr>\n",
       "    <tr>\n",
       "      <th>76</th>\n",
       "      <td>핸디/스틱청소기</td>\n",
       "      <td>삼성전자</td>\n",
       "      <td>제트 VS20R9074S3</td>\n",
       "      <td>870910</td>\n",
       "      <td>120.0</td>\n",
       "      <td>200.0</td>\n",
       "    </tr>\n",
       "    <tr>\n",
       "      <th>109</th>\n",
       "      <td>핸디/스틱청소기</td>\n",
       "      <td>삼성전자</td>\n",
       "      <td>제트 VS20R9077Q3</td>\n",
       "      <td>931100</td>\n",
       "      <td>120.0</td>\n",
       "      <td>200.0</td>\n",
       "    </tr>\n",
       "    <tr>\n",
       "      <th>111</th>\n",
       "      <td>핸디/스틱청소기</td>\n",
       "      <td>삼성전자</td>\n",
       "      <td>제트 VS20R9074S2</td>\n",
       "      <td>845990</td>\n",
       "      <td>120.0</td>\n",
       "      <td>200.0</td>\n",
       "    </tr>\n",
       "  </tbody>\n",
       "</table>\n",
       "</div>"
      ],
      "text/plain": [
       "         카테고리   회사명              제품      가격   사용시간    흡입력\n",
       "5    핸디/스틱청소기  삼성전자  제트 VS20R9078S2  877880  120.0  200.0\n",
       "16   핸디/스틱청소기  삼성전자  제트 VS20R9078S3  918120  120.0  200.0\n",
       "76   핸디/스틱청소기  삼성전자  제트 VS20R9074S3  870910  120.0  200.0\n",
       "109  핸디/스틱청소기  삼성전자  제트 VS20R9077Q3  931100  120.0  200.0\n",
       "111  핸디/스틱청소기  삼성전자  제트 VS20R9074S2  845990  120.0  200.0"
      ]
     },
     "execution_count": 7,
     "metadata": {},
     "output_type": "execute_result"
    }
   ],
   "source": [
    "#사용시간,흡입력 기준 정렬-첫번째 칼럼 우선 정렬 후 그 다음 칼럼 기준 정렬\n",
    "top_list = danawa_data.sort_values(['사용시간','흡입력'], ascending = False)\n",
    "top_list.head()"
   ]
  },
  {
   "cell_type": "markdown",
   "id": "03b7abe8",
   "metadata": {},
   "source": [
    "### 가성비 좋은 제품\n",
    "* 가격 대비 성능이 우수한 제품을 의미"
   ]
  },
  {
   "cell_type": "code",
   "execution_count": 10,
   "id": "ae4a736c",
   "metadata": {},
   "outputs": [
    {
     "name": "stdout",
     "output_type": "stream",
     "text": [
      "가격 평균값 296844.79253112036\n",
      "흡입력 평균값 151.8294573643411\n",
      "사용시간 평균값 43.38990825688074\n"
     ]
    }
   ],
   "source": [
    "price_mean_value = danawa_data['가격'].mean()\n",
    "suction_mean_value = danawa_data['흡입력'].mean()\n",
    "use_time_mean_value = danawa_data['사용시간'].mean()\n",
    "print('가격 평균값', price_mean_value)\n",
    "print('흡입력 평균값', suction_mean_value)\n",
    "print('사용시간 평균값',use_time_mean_value)"
   ]
  },
  {
   "cell_type": "code",
   "execution_count": 11,
   "id": "05fbd028",
   "metadata": {},
   "outputs": [
    {
     "data": {
      "text/html": [
       "<div>\n",
       "<style scoped>\n",
       "    .dataframe tbody tr th:only-of-type {\n",
       "        vertical-align: middle;\n",
       "    }\n",
       "\n",
       "    .dataframe tbody tr th {\n",
       "        vertical-align: top;\n",
       "    }\n",
       "\n",
       "    .dataframe thead th {\n",
       "        text-align: right;\n",
       "    }\n",
       "</style>\n",
       "<table border=\"1\" class=\"dataframe\">\n",
       "  <thead>\n",
       "    <tr style=\"text-align: right;\">\n",
       "      <th></th>\n",
       "      <th>카테고리</th>\n",
       "      <th>회사명</th>\n",
       "      <th>제품</th>\n",
       "      <th>가격</th>\n",
       "      <th>사용시간</th>\n",
       "      <th>흡입력</th>\n",
       "    </tr>\n",
       "  </thead>\n",
       "  <tbody>\n",
       "    <tr>\n",
       "      <th>0</th>\n",
       "      <td>핸디/스틱청소기</td>\n",
       "      <td>샤오미</td>\n",
       "      <td>드리미 V10</td>\n",
       "      <td>173900</td>\n",
       "      <td>60.0</td>\n",
       "      <td>220.0</td>\n",
       "    </tr>\n",
       "    <tr>\n",
       "      <th>3</th>\n",
       "      <td>핸디/스틱청소기</td>\n",
       "      <td>델로라</td>\n",
       "      <td>V11 파워 300W</td>\n",
       "      <td>141000</td>\n",
       "      <td>70.0</td>\n",
       "      <td>220.0</td>\n",
       "    </tr>\n",
       "    <tr>\n",
       "      <th>4</th>\n",
       "      <td>핸디/스틱청소기</td>\n",
       "      <td>샤오미</td>\n",
       "      <td>드리미 V9</td>\n",
       "      <td>138800</td>\n",
       "      <td>60.0</td>\n",
       "      <td>200.0</td>\n",
       "    </tr>\n",
       "    <tr>\n",
       "      <th>13</th>\n",
       "      <td>핸디/스틱청소기</td>\n",
       "      <td>DIBEA</td>\n",
       "      <td>F20 맥스</td>\n",
       "      <td>222990</td>\n",
       "      <td>50.0</td>\n",
       "      <td>250.0</td>\n",
       "    </tr>\n",
       "    <tr>\n",
       "      <th>18</th>\n",
       "      <td>핸디/스틱청소기</td>\n",
       "      <td>DIBEA</td>\n",
       "      <td>M500 퀀텀</td>\n",
       "      <td>248640</td>\n",
       "      <td>50.0</td>\n",
       "      <td>250.0</td>\n",
       "    </tr>\n",
       "    <tr>\n",
       "      <th>42</th>\n",
       "      <td>핸디/스틱청소기</td>\n",
       "      <td>DIBEA</td>\n",
       "      <td>F20 프로</td>\n",
       "      <td>161970</td>\n",
       "      <td>50.0</td>\n",
       "      <td>220.0</td>\n",
       "    </tr>\n",
       "    <tr>\n",
       "      <th>73</th>\n",
       "      <td>핸디/스틱청소기</td>\n",
       "      <td>JDL</td>\n",
       "      <td>tech 타이푼 DV-889DC-X</td>\n",
       "      <td>137160</td>\n",
       "      <td>50.0</td>\n",
       "      <td>200.0</td>\n",
       "    </tr>\n",
       "    <tr>\n",
       "      <th>121</th>\n",
       "      <td>핸디/스틱청소기</td>\n",
       "      <td>샤오미</td>\n",
       "      <td>드리미 V9P</td>\n",
       "      <td>216720</td>\n",
       "      <td>60.0</td>\n",
       "      <td>200.0</td>\n",
       "    </tr>\n",
       "    <tr>\n",
       "      <th>124</th>\n",
       "      <td>핸디/스틱청소기</td>\n",
       "      <td>캐치웰</td>\n",
       "      <td>코드엑스</td>\n",
       "      <td>219000</td>\n",
       "      <td>60.0</td>\n",
       "      <td>220.0</td>\n",
       "    </tr>\n",
       "    <tr>\n",
       "      <th>127</th>\n",
       "      <td>핸디/스틱청소기</td>\n",
       "      <td>DIBEA</td>\n",
       "      <td>X30</td>\n",
       "      <td>259000</td>\n",
       "      <td>50.0</td>\n",
       "      <td>250.0</td>\n",
       "    </tr>\n",
       "    <tr>\n",
       "      <th>134</th>\n",
       "      <td>핸디/스틱청소기</td>\n",
       "      <td>샤오미</td>\n",
       "      <td>미지아 1C SCWXCQ02ZHM</td>\n",
       "      <td>148990</td>\n",
       "      <td>60.0</td>\n",
       "      <td>200.0</td>\n",
       "    </tr>\n",
       "    <tr>\n",
       "      <th>140</th>\n",
       "      <td>핸디/스틱청소기</td>\n",
       "      <td>아낙</td>\n",
       "      <td>ANA-1930</td>\n",
       "      <td>179000</td>\n",
       "      <td>60.0</td>\n",
       "      <td>210.0</td>\n",
       "    </tr>\n",
       "    <tr>\n",
       "      <th>143</th>\n",
       "      <td>핸디/스틱청소기</td>\n",
       "      <td>DIBEA</td>\n",
       "      <td>F20 울트라 맥스</td>\n",
       "      <td>236550</td>\n",
       "      <td>60.0</td>\n",
       "      <td>250.0</td>\n",
       "    </tr>\n",
       "    <tr>\n",
       "      <th>156</th>\n",
       "      <td>핸디/스틱청소기</td>\n",
       "      <td>DIBEA</td>\n",
       "      <td>F20</td>\n",
       "      <td>173220</td>\n",
       "      <td>50.0</td>\n",
       "      <td>220.0</td>\n",
       "    </tr>\n",
       "    <tr>\n",
       "      <th>165</th>\n",
       "      <td>핸디/스틱청소기</td>\n",
       "      <td>DIBEA</td>\n",
       "      <td>TSX-25000A</td>\n",
       "      <td>244470</td>\n",
       "      <td>45.0</td>\n",
       "      <td>250.0</td>\n",
       "    </tr>\n",
       "    <tr>\n",
       "      <th>169</th>\n",
       "      <td>핸디/스틱청소기</td>\n",
       "      <td>캐치웰</td>\n",
       "      <td>CX11</td>\n",
       "      <td>168990</td>\n",
       "      <td>60.0</td>\n",
       "      <td>200.0</td>\n",
       "    </tr>\n",
       "    <tr>\n",
       "      <th>198</th>\n",
       "      <td>핸디/스틱청소기</td>\n",
       "      <td>DIBEA</td>\n",
       "      <td>RQ40</td>\n",
       "      <td>257100</td>\n",
       "      <td>60.0</td>\n",
       "      <td>250.0</td>\n",
       "    </tr>\n",
       "    <tr>\n",
       "      <th>205</th>\n",
       "      <td>핸디/스틱청소기</td>\n",
       "      <td>원더스리빙</td>\n",
       "      <td>다이나킹 Z7</td>\n",
       "      <td>154230</td>\n",
       "      <td>45.0</td>\n",
       "      <td>200.0</td>\n",
       "    </tr>\n",
       "  </tbody>\n",
       "</table>\n",
       "</div>"
      ],
      "text/plain": [
       "         카테고리    회사명                   제품      가격  사용시간    흡입력\n",
       "0    핸디/스틱청소기    샤오미              드리미 V10  173900  60.0  220.0\n",
       "3    핸디/스틱청소기    델로라          V11 파워 300W  141000  70.0  220.0\n",
       "4    핸디/스틱청소기    샤오미               드리미 V9  138800  60.0  200.0\n",
       "13   핸디/스틱청소기  DIBEA               F20 맥스  222990  50.0  250.0\n",
       "18   핸디/스틱청소기  DIBEA              M500 퀀텀  248640  50.0  250.0\n",
       "42   핸디/스틱청소기  DIBEA               F20 프로  161970  50.0  220.0\n",
       "73   핸디/스틱청소기    JDL  tech 타이푼 DV-889DC-X  137160  50.0  200.0\n",
       "121  핸디/스틱청소기    샤오미              드리미 V9P  216720  60.0  200.0\n",
       "124  핸디/스틱청소기    캐치웰                 코드엑스  219000  60.0  220.0\n",
       "127  핸디/스틱청소기  DIBEA                  X30  259000  50.0  250.0\n",
       "134  핸디/스틱청소기    샤오미   미지아 1C SCWXCQ02ZHM  148990  60.0  200.0\n",
       "140  핸디/스틱청소기     아낙             ANA-1930  179000  60.0  210.0\n",
       "143  핸디/스틱청소기  DIBEA           F20 울트라 맥스  236550  60.0  250.0\n",
       "156  핸디/스틱청소기  DIBEA                  F20  173220  50.0  220.0\n",
       "165  핸디/스틱청소기  DIBEA           TSX-25000A  244470  45.0  250.0\n",
       "169  핸디/스틱청소기    캐치웰                 CX11  168990  60.0  200.0\n",
       "198  핸디/스틱청소기  DIBEA                 RQ40  257100  60.0  250.0\n",
       "205  핸디/스틱청소기  원더스리빙              다이나킹 Z7  154230  45.0  200.0"
      ]
     },
     "execution_count": 11,
     "metadata": {},
     "output_type": "execute_result"
    }
   ],
   "source": [
    "# 가성비 좋은 제품 탐색\n",
    "condition_data = danawa_data[\n",
    "    (danawa_data['가격'] <= price_mean_value)&\n",
    "    (danawa_data['흡입력'] >= suction_mean_value) &\n",
    "    (danawa_data['사용시간'] >= use_time_mean_value)]\n",
    "condition_data"
   ]
  },
  {
   "cell_type": "markdown",
   "id": "dd65ef7c",
   "metadata": {},
   "source": [
    "### 데이터 시각화"
   ]
  },
  {
   "cell_type": "code",
   "execution_count": 13,
   "id": "c427826a",
   "metadata": {},
   "outputs": [],
   "source": [
    "from matplotlib import font_manager, rc\n",
    "import matplotlib.pyplot as plt\n",
    "import seaborn as sns\n",
    "import platform\n",
    "\n",
    "f_path = \"c:/Windows/Fonts/malgun.ttf\" # 한글처리 위해서\n",
    "font_name = font_manager.FontProperties(fname=f_path).get_name()\n",
    "rc('font', family=font_name)\n",
    "\n",
    "%matplotlib inline"
   ]
  },
  {
   "cell_type": "code",
   "execution_count": 12,
   "id": "61b69674",
   "metadata": {},
   "outputs": [
    {
     "data": {
      "text/plain": [
       "123"
      ]
     },
     "execution_count": 12,
     "metadata": {},
     "output_type": "execute_result"
    }
   ],
   "source": [
    "#가격 사용시간, 흡입력 값이 없는 것은 삭제 dropna 함수를 사용, 행삭제 : axis=0\n",
    "chart_data = danawa_data.dropna(axis=0)\n",
    "len(chart_data)"
   ]
  },
  {
   "cell_type": "code",
   "execution_count": 14,
   "id": "72e1ace3",
   "metadata": {},
   "outputs": [],
   "source": [
    "suction_max_value = chart_data['흡입력'].max()\n",
    "suction_mean_value = chart_data['흡입력'].mean()\n",
    "use_time_max_value = chart_data['사용시간'].max()\n",
    "use_time_mean_value = chart_data['사용시간'].mean()"
   ]
  },
  {
   "cell_type": "code",
   "execution_count": 17,
   "id": "871b14a4",
   "metadata": {},
   "outputs": [
    {
     "data": {
      "image/png": "[encoded data removed]",
      "text/plain": [
       "<Figure size 1440x720 with 1 Axes>"
      ]
     },
     "metadata": {
      "needs_background": "light"
     },
     "output_type": "display_data"
    }
   ],
   "source": [
    "plt.figure(figsize=(20,10))\n",
    "plt.title('무선 핸디/스틱청소기 차트')\n",
    "sns.scatterplot(x = '흡입력', y = '사용시간', size = '가격', hue = chart_data['회사명'],\n",
    "               data = chart_data, sizes = (10, 1000), legend = False)\n",
    "plt.plot([0, suction_max_value],\n",
    "        [use_time_mean_value, use_time_mean_value],\n",
    "        'r--',\n",
    "        lw = 1)\n",
    "plt.plot([suction_mean_value, suction_mean_value],\n",
    "         [0, use_time_max_value],\n",
    "        'r--',\n",
    "        lw = 1)\n",
    "plt.show()"
   ]
  },
  {
   "cell_type": "markdown",
   "id": "4441d68e",
   "metadata": {},
   "source": [
    "### 인기 제품의 데이터 시각화"
   ]
  },
  {
   "cell_type": "code",
   "execution_count": 20,
   "id": "a0bc5e33",
   "metadata": {},
   "outputs": [
    {
     "data": {
      "text/plain": [
       "20"
      ]
     },
     "execution_count": 20,
     "metadata": {},
     "output_type": "execute_result"
    }
   ],
   "source": [
    "chart_data_selected = chart_data[:20]\n",
    "len(chart_data_selected)"
   ]
  },
  {
   "cell_type": "code",
   "execution_count": 21,
   "id": "b4aa0a5c",
   "metadata": {},
   "outputs": [],
   "source": [
    "# 흡입력 사용시간의 최댓값, 최솟값 구하기\n",
    "suction_max_value = chart_data_selected['흡입력'].max()\n",
    "suction_mean_value = chart_data_selected['흡입력'].mean()\n",
    "use_time_max_vlaue = chart_data_selected['사용시간'].max()\n",
    "use_time_mean_value = chart_data_selected['사용시간'].mean()"
   ]
  },
  {
   "cell_type": "code",
   "execution_count": 29,
   "id": "9a26a543",
   "metadata": {},
   "outputs": [
    {
     "data": {
      "image/png": "[encoded data removed]",
      "text/plain": [
       "<Figure size 1440x720 with 1 Axes>"
      ]
     },
     "metadata": {
      "needs_background": "light"
     },
     "output_type": "display_data"
    }
   ],
   "source": [
    "plt.figure(figsize=(20,10))\n",
    "plt.title('무선 핸디/스틱청소기 TOP20')\n",
    "sns.scatterplot(x = '흡입력', y = '사용시간', size = '가격',\n",
    "               hue = chart_data_selected['회사명'],\n",
    "               data = chart_data_selected, sizes = (100,2000))\n",
    "plt.plot([60, suction_max_value],\n",
    "        [use_time_mean_value, use_time_mean_value],\n",
    "        'r--',\n",
    "        lw = 1)\n",
    "plt.plot([suction_mean_value, suction_mean_value],\n",
    "         [20, use_time_max_value],\n",
    "        'r--',\n",
    "        lw = 1)\n",
    "\n",
    "for index, row in chart_data_selected.iterrows():\n",
    "    x = row['흡입력']\n",
    "    y = row['사용시간']\n",
    "    s = row['제품']. split(' ')[0]\n",
    "    plt.text(x,y,s, size=9)\n",
    "plt.show()"
   ]
  },
  {
   "cell_type": "markdown",
   "id": "1c036863",
   "metadata": {},
   "source": [
    "* 삼성전자 제품은 흡입력과 사용시간 모두 우수\n",
    "* DIBEA 제품은 경쟁 제품 보다 가격은 저렴하지만 흡입력은 매우 우수하게 나옴\n",
    "* 다이슨 제품은 삼성 제품과 가격대 비슷하지만 흡입력이나 사용시간 측면에서는 삼성제품보다 떨어진 것으로 보임"
   ]
  },
  {
   "cell_type": "code",
   "execution_count": null,
   "id": "5b89db37",
   "metadata": {},
   "outputs": [],
   "source": []
  },
  {
   "cell_type": "code",
   "execution_count": null,
   "id": "174d9735",
   "metadata": {},
   "outputs": [],
   "source": []
  },
  {
   "cell_type": "code",
   "execution_count": null,
   "id": "0ea9b332",
   "metadata": {},
   "outputs": [],
   "source": []
  },
  {
   "cell_type": "code",
   "execution_count": null,
   "id": "92189994",
   "metadata": {},
   "outputs": [],
   "source": []
  },
  {
   "cell_type": "code",
   "execution_count": null,
   "id": "ac8bc541",
   "metadata": {},
   "outputs": [],
   "source": []
  },
  {
   "cell_type": "code",
   "execution_count": null,
   "id": "d3bd933e",
   "metadata": {},
   "outputs": [],
   "source": []
  }
 ],
 "metadata": {
  "kernelspec": {
   "display_name": "Python 3 (ipykernel)",
   "language": "python",
   "name": "python3"
  },
  "language_info": {
   "codemirror_mode": {
    "name": "ipython",
    "version": 3
   },
   "file_extension": ".py",
   "mimetype": "text/x-python",
   "name": "python",
   "nbconvert_exporter": "python",
   "pygments_lexer": "ipython3",
   "version": "3.9.7"
  }
 },
 "nbformat": 4,
 "nbformat_minor": 5
}
